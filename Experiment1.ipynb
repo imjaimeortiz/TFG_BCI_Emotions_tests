{
 "metadata": {
  "language_info": {
   "codemirror_mode": {
    "name": "ipython",
    "version": 3
   },
   "file_extension": ".py",
   "mimetype": "text/x-python",
   "name": "python",
   "nbconvert_exporter": "python",
   "pygments_lexer": "ipython3",
   "version": "3.9.0"
  },
  "orig_nbformat": 4,
  "kernelspec": {
   "name": "python3",
   "display_name": "Python 3.9.0 64-bit"
  },
  "interpreter": {
   "hash": "63fd5069d213b44bf678585dea6b12cceca9941eaf7f819626cde1f2670de90d"
  }
 },
 "nbformat": 4,
 "nbformat_minor": 2,
 "cells": [
  {
   "cell_type": "code",
   "execution_count": 1,
   "metadata": {},
   "outputs": [],
   "source": [
    "import pandas as pd\n",
    "import numpy as np\n",
    "import matplotlib.pyplot as plt\n",
    "import os\n",
    "import pickle\n",
    "from sklearn.model_selection import train_test_split\n",
    "from sklearn.ensemble import RandomForestClassifier\n",
    "from sklearn.metrics import accuracy_score\n",
    "from sklearn import svm\n",
    "from sklearn.svm import LinearSVC\n",
    "from sklearn.neighbors import KNeighborsClassifier\n"
   ]
  },
  {
   "cell_type": "code",
   "execution_count": 2,
   "metadata": {},
   "outputs": [],
   "source": [
    "col_names = ['Subject',\n",
    "             'Experiment ID',\n",
    "             'Feature extraction',\n",
    "             'Band selection',\n",
    "             'Channel selection',\n",
    "             'Classification algorithm',\n",
    "             'Accuracy']"
   ]
  },
  {
   "source": [
    "1 subject.\n",
    "No feature extraction."
   ],
   "cell_type": "markdown",
   "metadata": {}
  },
  {
   "cell_type": "code",
   "execution_count": 4,
   "metadata": {},
   "outputs": [],
   "source": [
    "dictRaw = pd.read_pickle('d\\\\s02.dat') \n",
    "labels = dictRaw.get('labels')\n",
    "data = dictRaw.get('data')\n",
    "        \n",
    "dfLabels = pd.DataFrame(data=labels, columns=[\"valence\", \"arousal\", \"dominance\", \"liking\"])\n",
    "\n",
    "a,b,c = data.shape\n",
    "E = data.reshape(40, 322560)\n",
    "allData = pd.DataFrame(E).transpose()\n",
    "rows = list()\n",
    "for _,row in dfLabels.iterrows():\n",
    "    rows += [row]*8064\n",
    "aux = pd.DataFrame(rows).reset_index(drop=True)\n",
    "data = allData.merge(aux, left_index=True, right_index=True)\n",
    "\n",
    "data.columns = ['FP1','AF3','F7','F3','FC1','FC5','T7','C3','CP1','CP5','P7','P3','Pz','PO3','O1','Oz','O2','PO4','P4','P8','CP6','CP2','C4','T8','FC6','FC2','F4','F8','AF4','Fp2','Fz','Cz','hEOG','vEOG','zEMG','tEMG','GSR','Respiration','PLethy','Temperature','valence', 'arousal', 'dominance', 'liking']\n",
    "\n",
    "data.drop(['hEOG','vEOG','zEMG','tEMG','GSR','Respiration','PLethy','Temperature', 'arousal', 'dominance', 'liking'],axis = 'columns', inplace=True)\n",
    "#data.drop(['arousal', 'dominance', 'liking'], axis=1)\n",
    "\n",
    "data['valence'] = np.where(data['valence'] <5, 'sad', 'happy')\n",
    "\n",
    "copia = data.copy()\n",
    "\n",
    "y = copia[['valence']]\n",
    "\n",
    "x = copia.drop(columns=['valence'])\n",
    "\n",
    "xTrain, xTest, yTrain, yTest = train_test_split(x,y, test_size = 0.2, random_state = 1)\n",
    "        "
   ]
  },
  {
   "source": [
    "# Random Forest"
   ],
   "cell_type": "markdown",
   "metadata": {}
  },
  {
   "cell_type": "code",
   "execution_count": 6,
   "metadata": {},
   "outputs": [
    {
     "output_type": "stream",
     "name": "stderr",
     "text": [
      "<ipython-input-6-a0276de5f258>:4: DataConversionWarning: A column-vector y was passed when a 1d array was expected. Please change the shape of y to (n_samples,), for example using ravel().\n",
      "  clf.fit(xTrain, yTrain)\n",
      "[Parallel(n_jobs=5)]: Using backend ThreadingBackend with 5 concurrent workers.\n",
      "[Parallel(n_jobs=5)]: Done  40 tasks      | elapsed:    5.2s\n",
      "[Parallel(n_jobs=5)]: Done 100 out of 100 | elapsed:   13.1s finished\n",
      "[Parallel(n_jobs=5)]: Using backend ThreadingBackend with 5 concurrent workers.\n",
      "[Parallel(n_jobs=5)]: Done  40 tasks      | elapsed:    0.0s\n",
      "[Parallel(n_jobs=5)]: Done 100 out of 100 | elapsed:    0.1s finished\n"
     ]
    },
    {
     "output_type": "execute_result",
     "data": {
      "text/plain": [
       "0.7393973214285714"
      ]
     },
     "metadata": {},
     "execution_count": 6
    }
   ],
   "source": [
    "def clas_RF(xTrain, yTrain, xTest, yTest):\n",
    "    clf = RandomForestClassifier(max_depth=2, random_state=0, verbose=1, n_jobs=5)\n",
    "    clf.fit(xTrain, yTrain)\n",
    "    predict = clf.predict(xTest)\n",
    "\n",
    "\n",
    "    rf_acc = accuracy_score(yTest, predict)\n",
    "    return rf_acc"
   ]
  },
  {
   "source": [
    "# SVM"
   ],
   "cell_type": "markdown",
   "metadata": {}
  },
  {
   "cell_type": "code",
   "execution_count": 7,
   "metadata": {},
   "outputs": [],
   "source": [
    "def clas_SVM(xTrain, yTrain, xTest, yTest):\n",
    "    svm_clf = svm.LinearSVC()\n",
    "    svm_clf.fit(xTrain, np.ravel(yTrain))\n",
    "    svm_predict = svm_clf.predict(xTest)\n",
    "    svm_acc = accuracy_score(yTest, svm_predict)\n",
    "    return svm_acc"
   ]
  },
  {
   "source": [
    "# kNN"
   ],
   "cell_type": "markdown",
   "metadata": {}
  },
  {
   "cell_type": "code",
   "execution_count": 27,
   "metadata": {},
   "outputs": [
    {
     "output_type": "execute_result",
     "data": {
      "text/plain": [
       "0.7883029513888888"
      ]
     },
     "metadata": {},
     "execution_count": 27
    }
   ],
   "source": [
    "def clas_kNN(xTrain, yTrain, xTest, yTest):\n",
    "\n",
    "     n_neighbors = 7\n",
    "\n",
    "     knn = KNeighborsClassifier(n_neighbors)\n",
    "     knn.fit(xTrain, np.ravel(yTrain))\n",
    "     knn_predict = knn.predict(xTest)\n",
    "     knn_acc = accuracy_score(yTest, knn_predict)\n",
    "     return knn_acc"
   ]
  },
  {
   "cell_type": "code",
   "execution_count": 28,
   "metadata": {},
   "outputs": [
    {
     "output_type": "execute_result",
     "data": {
      "text/plain": [
       "(['2', 1, '-', '-', '-', 'Random Forest', 0.7393973214285714],\n",
       " [1, 1, '-', '-', '-', 'SVM', 0.5614769345238095],\n",
       " [1, 1, '-', '-', '-', 'kNN', 0.7883029513888888])"
      ]
     },
     "metadata": {},
     "execution_count": 28
    }
   ],
   "source": [
    "def write_csv():\n",
    "    data_CSV = [subject_id, 1, \"-\", \"-\", \"-\", \"Random Forest\", rf_acc], [subject_id, 1, \"-\", \"-\", \"-\", \"SVM\", svm_acc], [subject_id, 1, \"-\", \"-\", \"-\", \"kNN\", knn_acc]\n",
    "    all_data += data_CSV\n",
    "\n",
    "    csv_df = pd.DataFrame(all_data, columns=col_names)\n",
    "\n",
    "    csv_df.to_csv(\"results.csv\", index=False)"
   ]
  }
 ]
}