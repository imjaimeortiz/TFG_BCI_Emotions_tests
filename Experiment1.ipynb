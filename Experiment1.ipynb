{
 "metadata": {
  "language_info": {
   "codemirror_mode": {
    "name": "ipython",
    "version": 3
   },
   "file_extension": ".py",
   "mimetype": "text/x-python",
   "name": "python",
   "nbconvert_exporter": "python",
   "pygments_lexer": "ipython3",
   "version": "3.9.0"
  },
  "orig_nbformat": 4,
  "kernelspec": {
   "name": "python3",
   "display_name": "Python 3.9.0 64-bit"
  },
  "interpreter": {
   "hash": "63fd5069d213b44bf678585dea6b12cceca9941eaf7f819626cde1f2670de90d"
  }
 },
 "nbformat": 4,
 "nbformat_minor": 2,
 "cells": [
  {
   "cell_type": "code",
   "execution_count": 1,
   "source": [
    "import pandas as pd\r\n",
    "import numpy as np\r\n",
    "import matplotlib.pyplot as plt\r\n",
    "import os\r\n",
    "import pickle\r\n",
    "from sklearn.model_selection import train_test_split\r\n",
    "from sklearn.ensemble import RandomForestClassifier\r\n",
    "from sklearn.metrics import accuracy_score\r\n",
    "from sklearn import svm\r\n",
    "from sklearn.svm import LinearSVC\r\n",
    "from sklearn.neighbors import KNeighborsClassifier\r\n",
    "from random import randint\r\n"
   ],
   "outputs": [],
   "metadata": {}
  },
  {
   "cell_type": "markdown",
   "source": [
    "1 subject.\n",
    "No feature extraction."
   ],
   "metadata": {}
  },
  {
   "cell_type": "code",
   "execution_count": 2,
   "source": [
    "    f = \"s01.dat\"\r\n",
    "    subject_id = 1\r\n",
    "    with open(os.path.join('data_preprocessed_python\\\\',f), 'rb') as pickle_file:\r\n",
    "        dictRaw = pd.read_pickle(pickle_file) \r\n",
    "        labels = dictRaw.get('labels')\r\n",
    "        data = dictRaw.get('data')\r\n",
    "                \r\n",
    "        dfLabels = pd.DataFrame(data=labels, columns=[\"valence\", \"arousal\", \"dominance\", \"liking\"])\r\n",
    "\r\n",
    "        a,b,c = data.shape\r\n",
    "        E = data.reshape(40, 322560)\r\n",
    "        allData = pd.DataFrame(E).transpose()\r\n",
    "        rows = list()\r\n",
    "        for _,row in dfLabels.iterrows():\r\n",
    "            rows += [row]*8064\r\n",
    "        aux = pd.DataFrame(rows).reset_index(drop=True)\r\n",
    "        data = allData.merge(aux, left_index=True, right_index=True)\r\n",
    "\r\n",
    "        data.columns = ['FP1','AF3','F7','F3','FC1','FC5','T7','C3','CP1','CP5','P7','P3','Pz','PO3','O1','Oz','O2','PO4','P4','P8','CP6','CP2','C4','T8','FC6','FC2','F4','F8','AF4','Fp2','Fz','Cz','hEOG','vEOG','zEMG','tEMG','GSR','Respiration','PLethy','Temperature','valence', 'arousal', 'dominance', 'liking']\r\n",
    "\r\n",
    "        data.drop(['hEOG','vEOG','zEMG','tEMG','GSR','Respiration','PLethy','Temperature', 'arousal', 'dominance', 'liking'],axis = 'columns', inplace=True)\r\n",
    "        #data.drop(['arousal', 'dominance', 'liking'], axis=1)\r\n",
    "\r\n",
    "        data['valence'] = np.where(data['valence'] <5, 'sad', 'happy')\r\n",
    "\r\n",
    "        copia = data.copy()\r\n",
    "\r\n",
    "        y = copia[['valence']]\r\n",
    "\r\n",
    "        x = copia.drop(columns=['valence'])\r\n",
    "\r\n",
    "        xTrain, xTest, yTrain, yTest = train_test_split(x,y, test_size = 0.2, random_state = 1)                "
   ],
   "outputs": [],
   "metadata": {}
  },
  {
   "cell_type": "markdown",
   "source": [
    "# Random Forest"
   ],
   "metadata": {}
  },
  {
   "cell_type": "code",
   "execution_count": 3,
   "source": [
    "clf = RandomForestClassifier(random_state=0, verbose=1, n_jobs=5)\r\n",
    "clf.fit(xTrain, yTrain)\r\n",
    "predict = clf.predict(xTest)\r\n",
    "rf_acc = accuracy_score(yTest, predict)"
   ],
   "outputs": [
    {
     "output_type": "stream",
     "name": "stderr",
     "text": [
      "<ipython-input-3-6aad1f4955eb>:2: DataConversionWarning: A column-vector y was passed when a 1d array was expected. Please change the shape of y to (n_samples,), for example using ravel().\n",
      "  clf.fit(xTrain, yTrain)\n",
      "[Parallel(n_jobs=5)]: Using backend ThreadingBackend with 5 concurrent workers.\n",
      "[Parallel(n_jobs=5)]: Done  40 tasks      | elapsed:   35.7s\n",
      "[Parallel(n_jobs=5)]: Done 100 out of 100 | elapsed:  1.7min finished\n",
      "[Parallel(n_jobs=5)]: Using backend ThreadingBackend with 5 concurrent workers.\n",
      "[Parallel(n_jobs=5)]: Done  40 tasks      | elapsed:    0.3s\n",
      "[Parallel(n_jobs=5)]: Done 100 out of 100 | elapsed:    0.8s finished\n"
     ]
    }
   ],
   "metadata": {}
  },
  {
   "cell_type": "markdown",
   "source": [
    "# SVM"
   ],
   "metadata": {}
  },
  {
   "cell_type": "code",
   "execution_count": 4,
   "source": [
    "svm_clf = svm.LinearSVC()\r\n",
    "svm_clf.fit(xTrain, np.ravel(yTrain))\r\n",
    "svm_predict = svm_clf.predict(xTest)\r\n",
    "svm_acc = accuracy_score(yTest, svm_predict)"
   ],
   "outputs": [
    {
     "output_type": "stream",
     "name": "stderr",
     "text": [
      "C:\\Python39\\lib\\site-packages\\sklearn\\svm\\_base.py:985: ConvergenceWarning: Liblinear failed to converge, increase the number of iterations.\n",
      "  warnings.warn(\"Liblinear failed to converge, increase \"\n"
     ]
    }
   ],
   "metadata": {}
  },
  {
   "cell_type": "markdown",
   "source": [
    "# kNN"
   ],
   "metadata": {}
  },
  {
   "cell_type": "code",
   "execution_count": 5,
   "source": [
    "     n_neighbors = 7\r\n",
    "\r\n",
    "     knn = KNeighborsClassifier(n_neighbors)\r\n",
    "     knn.fit(xTrain, np.ravel(yTrain))\r\n",
    "     knn_predict = knn.predict(xTest)\r\n",
    "     knn_acc = accuracy_score(yTest, knn_predict)"
   ],
   "outputs": [],
   "metadata": {}
  },
  {
   "cell_type": "code",
   "execution_count": 6,
   "source": [
    "from sklearn.metrics import precision_score\r\n",
    "\r\n",
    "rf_prec_happy = precision_score(yTest, predict, pos_label=\"happy\")\r\n",
    "rf_prec_sad = precision_score(yTest, predict, pos_label=\"sad\")\r\n",
    "svm_prec_happy = precision_score(yTest, svm_predict, pos_label=\"happy\")\r\n",
    "svm_prec_sad = precision_score(yTest, svm_predict, pos_label=\"sad\")\r\n",
    "knn_prec_happy = precision_score(yTest, knn_predict, pos_label=\"happy\")\r\n",
    "knn_prec_sad = precision_score(yTest, knn_predict, pos_label=\"sad\")\r\n",
    "\r\n",
    "from sklearn.metrics import recall_score\r\n",
    "\r\n",
    "rf_rec_happy = recall_score(yTest, predict, pos_label=\"happy\")\r\n",
    "rf_rec_sad = recall_score(yTest, predict, pos_label=\"sad\")\r\n",
    "svm_rec_happy = recall_score(yTest, svm_predict, pos_label=\"happy\")\r\n",
    "svm_rec_sad = recall_score(yTest, svm_predict, pos_label=\"sad\")\r\n",
    "knn_rec_happy = recall_score(yTest, knn_predict, pos_label=\"happy\")\r\n",
    "knn_rec_sad = recall_score(yTest, knn_predict, pos_label=\"sad\")\r\n",
    "\r\n",
    "from sklearn.metrics import f1_score\r\n",
    "\r\n",
    "rf_f1_happy = f1_score(yTest, predict, pos_label=\"happy\")\r\n",
    "rf_f1_sad = f1_score(yTest, predict, pos_label=\"sad\")\r\n",
    "svm_f1_happy = f1_score(yTest, svm_predict, pos_label=\"happy\")\r\n",
    "svm_f1_sad  = f1_score(yTest, svm_predict, pos_label=\"sad\")\r\n",
    "knn_f1_happy = f1_score(yTest, knn_predict, pos_label=\"happy\")\r\n",
    "knn_f1_sad = f1_score(yTest, knn_predict, pos_label=\"sad\")"
   ],
   "outputs": [],
   "metadata": {}
  },
  {
   "cell_type": "code",
   "execution_count": 7,
   "source": [
    "col_names = ['Subject',\r\n",
    "             'Experiment ID',\r\n",
    "             'Feature extraction',\r\n",
    "             'Band selection',\r\n",
    "             'Channel selection',\r\n",
    "             'Classification algorithm',\r\n",
    "             'Accuracy',\r\n",
    "             'Happy precision',\r\n",
    "             'Sad precision',\r\n",
    "             'Happy recall',\r\n",
    "             'Sad recall',\r\n",
    "             'Happy f1-score',\r\n",
    "             'Sad f1-score']\r\n",
    "\r\n",
    "data_CSV = [subject_id, 1, \"-\", \"-\", \"-\", \"Random Forest\", rf_acc, rf_prec_happy, rf_prec_sad, rf_rec_happy, rf_rec_sad, rf_f1_happy, rf_f1_sad], [subject_id, 1, \"-\", \"-\", \"-\", \"SVM\", svm_acc, svm_prec_happy, svm_prec_sad, svm_rec_happy, svm_rec_sad, svm_f1_happy, svm_f1_sad], [subject_id, 1, \"-\", \"-\", \"-\", \"kNN\", knn_acc, knn_prec_happy, knn_prec_sad, knn_rec_happy, knn_rec_sad, knn_f1_happy, knn_f1_sad]\r\n",
    "all_data = data_CSV\r\n",
    "\r\n",
    "csv_df = pd.DataFrame(all_data, columns=col_names)\r\n",
    "\r\n",
    "csv_df.to_csv(\"experiment1_1.csv\", mode=\"a\", header=False, index=False)"
   ],
   "outputs": [],
   "metadata": {}
  }
 ]
}