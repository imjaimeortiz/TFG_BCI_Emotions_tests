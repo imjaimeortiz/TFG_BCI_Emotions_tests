{
 "metadata": {
  "language_info": {
   "codemirror_mode": {
    "name": "ipython",
    "version": 3
   },
   "file_extension": ".py",
   "mimetype": "text/x-python",
   "name": "python",
   "nbconvert_exporter": "python",
   "pygments_lexer": "ipython3",
   "version": "3.9.0"
  },
  "orig_nbformat": 2,
  "kernelspec": {
   "name": "python3",
   "display_name": "Python 3.9.0 64-bit"
  },
  "metadata": {
   "interpreter": {
    "hash": "63fd5069d213b44bf678585dea6b12cceca9941eaf7f819626cde1f2670de90d"
   }
  },
  "interpreter": {
   "hash": "63fd5069d213b44bf678585dea6b12cceca9941eaf7f819626cde1f2670de90d"
  }
 },
 "nbformat": 4,
 "nbformat_minor": 2,
 "cells": [
  {
   "cell_type": "code",
   "execution_count": 1,
   "metadata": {},
   "outputs": [
    {
     "output_type": "stream",
     "name": "stdout",
     "text": [
      "COMENZADO A LAS :\n"
     ]
    },
    {
     "output_type": "execute_result",
     "data": {
      "text/plain": [
       "datetime.time(14, 7, 24, 521212)"
      ]
     },
     "metadata": {},
     "execution_count": 1
    }
   ],
   "source": [
    "from datetime import datetime\n",
    "print(\"COMENZADO A LAS :\")\n",
    "datetime.now().time()"
   ]
  },
  {
   "cell_type": "code",
   "execution_count": 3,
   "metadata": {},
   "outputs": [],
   "source": [
    "import pandas as pd\n",
    "import numpy as np\n",
    "import matplotlib.pyplot as plt\n",
    "import os\n",
    "import pickle\n",
    "\n",
    "files = os.listdir('data_preprocessed_python\\\\')\n",
    "\n",
    "list_of_dfs = []\n",
    "for file in files:\n",
    "    with open(os.path.join('data_preprocessed_python\\\\',file), 'rb') as pickle_file:\n",
    "        dictRaw = pd.read_pickle(pickle_file) \n",
    "        labels = dictRaw.get('labels')\n",
    "        data = dictRaw.get('data')\n",
    "        \n",
    "        dfLabels = pd.DataFrame(data=labels, columns=[\"valence\", \"arousal\", \"dominance\", \"liking\"])\n",
    "\n",
    "        a,b,c = data.shape\n",
    "        E = data.reshape(40, 322560)\n",
    "        allData = pd.DataFrame(E).transpose()\n",
    "        rows = list()\n",
    "        for _,row in dfLabels.iterrows():\n",
    "            rows += [row]*8064\n",
    "        aux = pd.DataFrame(rows).reset_index(drop=True)\n",
    "        allData = allData.merge(aux, left_index=True, right_index=True)\n",
    "        \n",
    "        list_of_dfs.append(allData)\n",
    "big_df = pd.concat(list_of_dfs, ignore_index=True)#ignore_index to reset index of big_df\n"
   ]
  },
  {
   "cell_type": "code",
   "execution_count": 2,
   "metadata": {},
   "outputs": [
    {
     "output_type": "execute_result",
     "data": {
      "text/plain": [
       "                FP1         AF3          F7          F3         FC1  \\\n",
       "0          0.948232   10.260175    1.013050   -7.658428   -1.811108   \n",
       "1          1.653335   12.795443   -1.067832   -3.267558   -4.783876   \n",
       "2          3.013726   10.426192    3.908249    0.701542   -0.522649   \n",
       "3          1.495061    8.229207    6.094405    2.959722    1.299854   \n",
       "4         -1.264836    3.751782    4.145906    3.459897   -0.916779   \n",
       "...             ...         ...         ...         ...         ...   \n",
       "10321915 -32.686626 -118.432236  107.674687   71.185171  -81.400159   \n",
       "10321916  -0.499185 -151.650924   62.237271  110.122599 -118.743840   \n",
       "10321917 -64.780317 -113.557245   87.924724  107.091355  -64.368940   \n",
       "10321918  -5.030427 -136.619702   80.080988   98.872620 -113.806349   \n",
       "10321919 -27.936635 -122.838477   72.581002  108.841352 -100.681373   \n",
       "\n",
       "                 FC5          T7         C3         CP1         CP5  ...  \\\n",
       "0          11.011411    3.026008  -2.380048    3.978952   -9.657708  ...   \n",
       "1           7.402976    2.676232  -3.614201   -1.434440   -0.906298  ...   \n",
       "2           1.120469    2.046996  -4.286566   -6.174767    9.408599  ...   \n",
       "3          -0.832024    2.192056  -5.170547   -6.571542   14.101073  ...   \n",
       "4          -0.784404   -4.694002  -5.332026   -7.793136   16.284187  ...   \n",
       "...              ...         ...        ...         ...         ...  ...   \n",
       "10321915  -31.566511  128.195564 -93.473053  151.210251  -68.675085  ...   \n",
       "10321916   69.402053   75.226912 -70.535596  183.491442  -53.675112  ...   \n",
       "10321917  166.745623  103.226860 -97.848045  177.491453 -102.675022  ...   \n",
       "10321918  203.276805   96.226873 -93.723053  184.335190  -56.362607  ...   \n",
       "10321919  156.558142   67.164427 -85.973067  195.460169  -97.143782  ...   \n",
       "\n",
       "                 T8         FC6        FC2          F4          F8        AF4  \\\n",
       "0          1.134884    1.435263   1.388486    4.239575    4.888393   0.596471   \n",
       "1          1.824904   -1.665933  -1.577337    4.557239    6.007259  -1.881391   \n",
       "2         -4.090714    1.008985  -6.161669    0.636801    2.921478  -4.484906   \n",
       "3         -2.502785    0.562838  -4.305524   -2.965047   -0.679860  -4.483488   \n",
       "4          6.397443   -3.709545  -0.162134    3.248115   -1.103246  -2.547386   \n",
       "...             ...         ...        ...         ...         ...        ...   \n",
       "10321915 -33.819192  229.757144  28.856880  -85.715499 -205.343696 -77.855162   \n",
       "10321916 -16.694224  233.225887  25.325637  -39.621834 -223.718662 -38.542735   \n",
       "10321917   1.618242  240.132125  14.575657  -47.309320 -222.187415 -45.323972   \n",
       "10321918  18.180712  204.538440 -11.705545   46.628006 -220.749918 -69.448928   \n",
       "10321919  -0.694253  335.444449  26.356885  202.471468 -234.874892 -24.324011   \n",
       "\n",
       "                Fp2         Fz          Cz  valence  \n",
       "0          0.589618  -2.276449   -0.109300    happy  \n",
       "1         -4.831903  -1.739787   -6.518661    happy  \n",
       "2         -8.186728   0.555901  -11.727187    happy  \n",
       "3         -7.905437  -1.168129   -9.051847    happy  \n",
       "4         -4.419073  -1.319219   -4.072682    happy  \n",
       "...             ...        ...         ...      ...  \n",
       "10321915   3.823642  39.977058 -161.983832    happy  \n",
       "10321916  38.761077  27.164582 -181.327546    happy  \n",
       "10321917  21.011110  74.945744 -162.327581    happy  \n",
       "10321918  20.104862  19.914595 -171.140065    happy  \n",
       "10321919  35.448584  52.914534 -175.921306    happy  \n",
       "\n",
       "[10321920 rows x 33 columns]"
      ],
      "text/html": "<div>\n<style scoped>\n    .dataframe tbody tr th:only-of-type {\n        vertical-align: middle;\n    }\n\n    .dataframe tbody tr th {\n        vertical-align: top;\n    }\n\n    .dataframe thead th {\n        text-align: right;\n    }\n</style>\n<table border=\"1\" class=\"dataframe\">\n  <thead>\n    <tr style=\"text-align: right;\">\n      <th></th>\n      <th>FP1</th>\n      <th>AF3</th>\n      <th>F7</th>\n      <th>F3</th>\n      <th>FC1</th>\n      <th>FC5</th>\n      <th>T7</th>\n      <th>C3</th>\n      <th>CP1</th>\n      <th>CP5</th>\n      <th>...</th>\n      <th>T8</th>\n      <th>FC6</th>\n      <th>FC2</th>\n      <th>F4</th>\n      <th>F8</th>\n      <th>AF4</th>\n      <th>Fp2</th>\n      <th>Fz</th>\n      <th>Cz</th>\n      <th>valence</th>\n    </tr>\n  </thead>\n  <tbody>\n    <tr>\n      <th>0</th>\n      <td>0.948232</td>\n      <td>10.260175</td>\n      <td>1.013050</td>\n      <td>-7.658428</td>\n      <td>-1.811108</td>\n      <td>11.011411</td>\n      <td>3.026008</td>\n      <td>-2.380048</td>\n      <td>3.978952</td>\n      <td>-9.657708</td>\n      <td>...</td>\n      <td>1.134884</td>\n      <td>1.435263</td>\n      <td>1.388486</td>\n      <td>4.239575</td>\n      <td>4.888393</td>\n      <td>0.596471</td>\n      <td>0.589618</td>\n      <td>-2.276449</td>\n      <td>-0.109300</td>\n      <td>happy</td>\n    </tr>\n    <tr>\n      <th>1</th>\n      <td>1.653335</td>\n      <td>12.795443</td>\n      <td>-1.067832</td>\n      <td>-3.267558</td>\n      <td>-4.783876</td>\n      <td>7.402976</td>\n      <td>2.676232</td>\n      <td>-3.614201</td>\n      <td>-1.434440</td>\n      <td>-0.906298</td>\n      <td>...</td>\n      <td>1.824904</td>\n      <td>-1.665933</td>\n      <td>-1.577337</td>\n      <td>4.557239</td>\n      <td>6.007259</td>\n      <td>-1.881391</td>\n      <td>-4.831903</td>\n      <td>-1.739787</td>\n      <td>-6.518661</td>\n      <td>happy</td>\n    </tr>\n    <tr>\n      <th>2</th>\n      <td>3.013726</td>\n      <td>10.426192</td>\n      <td>3.908249</td>\n      <td>0.701542</td>\n      <td>-0.522649</td>\n      <td>1.120469</td>\n      <td>2.046996</td>\n      <td>-4.286566</td>\n      <td>-6.174767</td>\n      <td>9.408599</td>\n      <td>...</td>\n      <td>-4.090714</td>\n      <td>1.008985</td>\n      <td>-6.161669</td>\n      <td>0.636801</td>\n      <td>2.921478</td>\n      <td>-4.484906</td>\n      <td>-8.186728</td>\n      <td>0.555901</td>\n      <td>-11.727187</td>\n      <td>happy</td>\n    </tr>\n    <tr>\n      <th>3</th>\n      <td>1.495061</td>\n      <td>8.229207</td>\n      <td>6.094405</td>\n      <td>2.959722</td>\n      <td>1.299854</td>\n      <td>-0.832024</td>\n      <td>2.192056</td>\n      <td>-5.170547</td>\n      <td>-6.571542</td>\n      <td>14.101073</td>\n      <td>...</td>\n      <td>-2.502785</td>\n      <td>0.562838</td>\n      <td>-4.305524</td>\n      <td>-2.965047</td>\n      <td>-0.679860</td>\n      <td>-4.483488</td>\n      <td>-7.905437</td>\n      <td>-1.168129</td>\n      <td>-9.051847</td>\n      <td>happy</td>\n    </tr>\n    <tr>\n      <th>4</th>\n      <td>-1.264836</td>\n      <td>3.751782</td>\n      <td>4.145906</td>\n      <td>3.459897</td>\n      <td>-0.916779</td>\n      <td>-0.784404</td>\n      <td>-4.694002</td>\n      <td>-5.332026</td>\n      <td>-7.793136</td>\n      <td>16.284187</td>\n      <td>...</td>\n      <td>6.397443</td>\n      <td>-3.709545</td>\n      <td>-0.162134</td>\n      <td>3.248115</td>\n      <td>-1.103246</td>\n      <td>-2.547386</td>\n      <td>-4.419073</td>\n      <td>-1.319219</td>\n      <td>-4.072682</td>\n      <td>happy</td>\n    </tr>\n    <tr>\n      <th>...</th>\n      <td>...</td>\n      <td>...</td>\n      <td>...</td>\n      <td>...</td>\n      <td>...</td>\n      <td>...</td>\n      <td>...</td>\n      <td>...</td>\n      <td>...</td>\n      <td>...</td>\n      <td>...</td>\n      <td>...</td>\n      <td>...</td>\n      <td>...</td>\n      <td>...</td>\n      <td>...</td>\n      <td>...</td>\n      <td>...</td>\n      <td>...</td>\n      <td>...</td>\n      <td>...</td>\n    </tr>\n    <tr>\n      <th>10321915</th>\n      <td>-32.686626</td>\n      <td>-118.432236</td>\n      <td>107.674687</td>\n      <td>71.185171</td>\n      <td>-81.400159</td>\n      <td>-31.566511</td>\n      <td>128.195564</td>\n      <td>-93.473053</td>\n      <td>151.210251</td>\n      <td>-68.675085</td>\n      <td>...</td>\n      <td>-33.819192</td>\n      <td>229.757144</td>\n      <td>28.856880</td>\n      <td>-85.715499</td>\n      <td>-205.343696</td>\n      <td>-77.855162</td>\n      <td>3.823642</td>\n      <td>39.977058</td>\n      <td>-161.983832</td>\n      <td>happy</td>\n    </tr>\n    <tr>\n      <th>10321916</th>\n      <td>-0.499185</td>\n      <td>-151.650924</td>\n      <td>62.237271</td>\n      <td>110.122599</td>\n      <td>-118.743840</td>\n      <td>69.402053</td>\n      <td>75.226912</td>\n      <td>-70.535596</td>\n      <td>183.491442</td>\n      <td>-53.675112</td>\n      <td>...</td>\n      <td>-16.694224</td>\n      <td>233.225887</td>\n      <td>25.325637</td>\n      <td>-39.621834</td>\n      <td>-223.718662</td>\n      <td>-38.542735</td>\n      <td>38.761077</td>\n      <td>27.164582</td>\n      <td>-181.327546</td>\n      <td>happy</td>\n    </tr>\n    <tr>\n      <th>10321917</th>\n      <td>-64.780317</td>\n      <td>-113.557245</td>\n      <td>87.924724</td>\n      <td>107.091355</td>\n      <td>-64.368940</td>\n      <td>166.745623</td>\n      <td>103.226860</td>\n      <td>-97.848045</td>\n      <td>177.491453</td>\n      <td>-102.675022</td>\n      <td>...</td>\n      <td>1.618242</td>\n      <td>240.132125</td>\n      <td>14.575657</td>\n      <td>-47.309320</td>\n      <td>-222.187415</td>\n      <td>-45.323972</td>\n      <td>21.011110</td>\n      <td>74.945744</td>\n      <td>-162.327581</td>\n      <td>happy</td>\n    </tr>\n    <tr>\n      <th>10321918</th>\n      <td>-5.030427</td>\n      <td>-136.619702</td>\n      <td>80.080988</td>\n      <td>98.872620</td>\n      <td>-113.806349</td>\n      <td>203.276805</td>\n      <td>96.226873</td>\n      <td>-93.723053</td>\n      <td>184.335190</td>\n      <td>-56.362607</td>\n      <td>...</td>\n      <td>18.180712</td>\n      <td>204.538440</td>\n      <td>-11.705545</td>\n      <td>46.628006</td>\n      <td>-220.749918</td>\n      <td>-69.448928</td>\n      <td>20.104862</td>\n      <td>19.914595</td>\n      <td>-171.140065</td>\n      <td>happy</td>\n    </tr>\n    <tr>\n      <th>10321919</th>\n      <td>-27.936635</td>\n      <td>-122.838477</td>\n      <td>72.581002</td>\n      <td>108.841352</td>\n      <td>-100.681373</td>\n      <td>156.558142</td>\n      <td>67.164427</td>\n      <td>-85.973067</td>\n      <td>195.460169</td>\n      <td>-97.143782</td>\n      <td>...</td>\n      <td>-0.694253</td>\n      <td>335.444449</td>\n      <td>26.356885</td>\n      <td>202.471468</td>\n      <td>-234.874892</td>\n      <td>-24.324011</td>\n      <td>35.448584</td>\n      <td>52.914534</td>\n      <td>-175.921306</td>\n      <td>happy</td>\n    </tr>\n  </tbody>\n</table>\n<p>10321920 rows × 33 columns</p>\n</div>"
     },
     "metadata": {},
     "execution_count": 2
    }
   ],
   "source": [
    "data = big_df.drop(['arousal', 'dominance', 'liking'], axis=1)\n",
    "data['valence'] = np.where(data['valence'] <5, 'sad', 'happy')\n",
    "\n",
    "data.columns = ['FP1','AF3','F7','F3','FC1','FC5','T7','C3','CP1','CP5','P7','P3','Pz','PO3','O1','Oz','O2','PO4','P4','P8','CP6','CP2','C4','T8','FC6','FC2','F4','F8','AF4','Fp2','Fz','Cz','hEOG','vEOG','zEMG','tEMG','GSR','Respiration','PLethy','Temperature','valence']\n",
    "\n",
    "data.drop(['hEOG','vEOG','zEMG','tEMG','GSR','Respiration','PLethy','Temperature'],axis = 'columns', inplace=True)\n",
    "\n",
    "data\n"
   ]
  },
  {
   "cell_type": "code",
   "execution_count": 3,
   "metadata": {},
   "outputs": [],
   "source": [
    "from sklearn.model_selection import train_test_split\n",
    "\n",
    "copia = data.copy()\n",
    "\n",
    "y = copia[['valence']]\n",
    "\n",
    "x = copia.drop(columns=['valence'])\n",
    "\n",
    "xTrain, xTest, yTrain, yTest = train_test_split(x,y, test_size = 0.2, random_state = 1)"
   ]
  },
  {
   "source": [
    "# Random Forest"
   ],
   "cell_type": "markdown",
   "metadata": {}
  },
  {
   "source": [
    "from sklearn.ensemble import RandomForestClassifier\n",
    "\n",
    "clf = RandomForestClassifier(max_depth=2, random_state=0, verbose=1, n_jobs=5)\n",
    "clf.fit(xTrain, yTrain)"
   ],
   "cell_type": "code",
   "metadata": {},
   "execution_count": 4,
   "outputs": [
    {
     "output_type": "stream",
     "name": "stderr",
     "text": [
      "<ipython-input-4-353746cc4ea1>:4: DataConversionWarning: A column-vector y was passed when a 1d array was expected. Please change the shape of y to (n_samples,), for example using ravel().\n",
      "  clf.fit(xTrain, yTrain)\n",
      "[Parallel(n_jobs=5)]: Using backend ThreadingBackend with 5 concurrent workers.\n",
      "[Parallel(n_jobs=5)]: Done  40 tasks      | elapsed:  3.2min\n",
      "[Parallel(n_jobs=5)]: Done 100 out of 100 | elapsed:  7.9min finished\n"
     ]
    },
    {
     "output_type": "execute_result",
     "data": {
      "text/plain": [
       "RandomForestClassifier(max_depth=2, n_jobs=5, random_state=0, verbose=1)"
      ]
     },
     "metadata": {},
     "execution_count": 4
    }
   ]
  },
  {
   "cell_type": "code",
   "execution_count": 5,
   "metadata": {},
   "outputs": [
    {
     "output_type": "stream",
     "name": "stderr",
     "text": [
      "[Parallel(n_jobs=5)]: Using backend ThreadingBackend with 5 concurrent workers.\n",
      "[Parallel(n_jobs=5)]: Done  40 tasks      | elapsed:    1.6s\n",
      "[Parallel(n_jobs=5)]: Done 100 out of 100 | elapsed:    4.2s finished\n"
     ]
    },
    {
     "output_type": "execute_result",
     "data": {
      "text/plain": [
       "0.650055900452629"
      ]
     },
     "metadata": {},
     "execution_count": 5
    }
   ],
   "source": [
    "predict = clf.predict(xTest)\n",
    "\n",
    "from sklearn.metrics import accuracy_score\n",
    "\n",
    "accuracy_score(yTest, predict)"
   ]
  },
  {
   "source": [
    "# SVM"
   ],
   "cell_type": "markdown",
   "metadata": {}
  },
  {
   "cell_type": "code",
   "execution_count": null,
   "metadata": {},
   "outputs": [],
   "source": [
    "printf(\"SVM EMPEZADO A LAS :\")\n",
    "datetime.now().time()"
   ]
  },
  {
   "cell_type": "code",
   "execution_count": 6,
   "metadata": {},
   "outputs": [],
   "source": [
    "from sklearn import svm\n",
    "from sklearn.svm import LinearSVC\n",
    "\n",
    "svm_clf = svm.LinearSVC()\n",
    "svm_clf.fit(xTrain, np.ravel(yTrain))\n",
    "svm_predict = svm_clf.predict(xTest)\n",
    "accuracy_score(yTest, svm_predict)"
   ]
  },
  {
   "cell_type": "code",
   "execution_count": null,
   "metadata": {},
   "outputs": [],
   "source": [
    "printf(\"SVM terminado a las A LAS :\")\n",
    "datetime.now().time()"
   ]
  },
  {
   "source": [
    "# kNN"
   ],
   "cell_type": "markdown",
   "metadata": {}
  },
  {
   "cell_type": "code",
   "execution_count": null,
   "metadata": {},
   "outputs": [],
   "source": [
    "from sklearn.neighbors import KNeighborsClassifier\n",
    "\n",
    "n_neighbors = 7\n",
    "\n",
    "knn = KNeighborsClassifier(n_neighbors)\n",
    "knn.fit(xTrain, np.ravel(yTrain))\n",
    "print('Accuracy of K-NN classifier on training set: {:.2f}'\n",
    "     .format(knn.score(xTrain, yTrain)))\n",
    "print('Accuracy of K-NN classifier on test set: {:.2f}'\n",
    "     .format(knn.score(xTest, yTest)))"
   ]
  }
 ]
}