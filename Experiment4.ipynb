{
 "metadata": {
  "language_info": {
   "codemirror_mode": {
    "name": "ipython",
    "version": 3
   },
   "file_extension": ".py",
   "mimetype": "text/x-python",
   "name": "python",
   "nbconvert_exporter": "python",
   "pygments_lexer": "ipython3",
   "version": "3.9.0"
  },
  "orig_nbformat": 4,
  "kernelspec": {
   "name": "python3",
   "display_name": "Python 3.9.0 64-bit"
  },
  "interpreter": {
   "hash": "63fd5069d213b44bf678585dea6b12cceca9941eaf7f819626cde1f2670de90d"
  }
 },
 "nbformat": 4,
 "nbformat_minor": 2,
 "cells": [
  {
   "source": [
    "1 subject. Feature extraction. Classification joining all frequency bands."
   ],
   "cell_type": "markdown",
   "metadata": {}
  },
  {
   "cell_type": "code",
   "execution_count": 254,
   "metadata": {},
   "outputs": [],
   "source": [
    "import pandas as pd\n",
    "import numpy as np\n",
    "import matplotlib.pyplot as plt\n",
    "import scipy\n",
    "from scipy import signal\n",
    "from sklearn.model_selection import train_test_split\n",
    "from sklearn.ensemble import RandomForestClassifier\n",
    "from sklearn.metrics import accuracy_score    \n",
    "from sklearn import svm\n",
    "from sklearn.svm import LinearSVC\n",
    "\n",
    "\n",
    "#def select_file(file):\n",
    "    #Lectura mediante pandas\n",
    "f = \"data_preprocessed_python\\\\s01.dat\"\n",
    "subject_id = 1\n",
    "dictRaw = pd.read_pickle(f)\n",
    "\n",
    "labels = dictRaw.get('labels')\n",
    "\n",
    "dfLabels = pd.DataFrame(data=labels, columns=[\"valence\", \"arousal\", \"dominance\", \"liking\"])\n",
    "\n",
    "data = dictRaw.get('data')\n",
    "\n",
    "df_videos = {}\n",
    "    #Recorrido de cada una de las columnas de la tabla 3d, y guardado en una una lista de dataframes para cada uno de los videos.\n",
    "for i in range(40):\n",
    "    df_videos[i] = pd.DataFrame(data[i])\n",
    "    df_videos[i] = df_videos[i].transpose()\n",
    "    df_videos[i].columns = ['FP1','AF3','F7','F3','FC1','FC5','T7','C3','CP1','CP5','P7','P3','Pz','PO3','O1','Oz','O2','PO4','P4','P8','CP6','CP2','C4','T8','FC6','FC2','F4','F8','AF4','Fp2','Fz','Cz','hEOG','vEOG','zEMG','tEMG','GSR','Respiration','PLethy','Temperature']\n",
    "    df_videos[i].drop(['hEOG','vEOG','zEMG','tEMG','GSR','Respiration','PLethy','Temperature'],axis = 'columns', inplace=True)"
   ]
  },
  {
   "cell_type": "code",
   "execution_count": 255,
   "metadata": {},
   "outputs": [],
   "source": [
    "    # Frecuencia de muestreo\n",
    "    fs = 128\n",
    "    # Window\n",
    "    window = \"hann\"\n",
    "    # Length of each segment\n",
    "    # nperseg = 256 por defecto\n",
    "    # noverlap\n",
    "    # Por defecto a None, if None : noverlap = nperseg / 2\n",
    "    # [...]\n",
    "\n",
    "    # Definicion de bandas\n",
    "    eeg_bands = {'Delta': (1, 4),\n",
    "                'Theta': (4, 8),\n",
    "                'Alpha': (8, 14),\n",
    "                'Beta': (14, 30),\n",
    "                'Gamma': (30, 50)}"
   ]
  },
  {
   "cell_type": "code",
   "execution_count": 256,
   "metadata": {},
   "outputs": [],
   "source": [
    "# FOURIER\n",
    "# SE COGE EL PRIMER VÍDEOS, Df_VIDEOS[0]\n",
    "def do_stft(video, channel):\n",
    "    # Array \n",
    "    x = df_videos[video][channel]\n",
    "\n",
    "    # Array of the sample frequency, Array of the segment times, STFT of x\n",
    "    f, t , Zxx = scipy.signal.stft(x, fs, window)\n",
    "\n",
    "    return Zxx\n"
   ]
  },
  {
   "cell_type": "code",
   "execution_count": 257,
   "metadata": {},
   "outputs": [],
   "source": [
    "#SEPARACION EN LAS DISTINTAS BANDAS DE FRECUENCIA\n",
    "\n",
    "def make_bands(Zxx):\n",
    "    #Obtener valores reales de STFT, solo positivos.\n",
    "    values = np.absolute(Zxx)\n",
    "\n",
    "    # Get frequencies for amplitudes in Hz\n",
    "    fft_freq = np.fft.rfftfreq(len(data), 1.0/fs)\n",
    "\n",
    "    # Obtención de cada una de las bandas de frecuencia\n",
    "    eeg_band_fft = dict()\n",
    "    for band in eeg_bands:  \n",
    "        freq_ix = np.where((fft_freq >= eeg_bands[band][0]) & (fft_freq <= eeg_bands[band][1]))[0]\n",
    "        eeg_band_fft[band] = values[freq_ix]\n",
    "\n",
    "    return eeg_band_fft\n"
   ]
  },
  {
   "cell_type": "code",
   "execution_count": 258,
   "metadata": {},
   "outputs": [],
   "source": [
    "# Ahora hay que hacer las medias sobre cada banda de frecuencia. La media entre cada una de las posiciones de los bloques. Hacer la media entre todas las posiciones 0, 1, 2... 63 de cada uno de los bloques\n",
    "def channel_freq(eeg_band_fft):\n",
    "        \n",
    "        freq = np.zeros((5, 64))        # 5 bandas, 64 posiciones de los datos\n",
    "\n",
    "        # Se va a recorrer {Delta, Theta, Alpha, Beta, Gamma}\n",
    "        for band in eeg_bands:\n",
    "\n",
    "                # Para cada una de las 64 posiciones del array\n",
    "                for j in range (0, 64):\n",
    "                        \n",
    "                        val = []\n",
    "                        # Se va a recorrer cada uno de los arrays que hay en cada una de las bandas\n",
    "                        for i in range (0, len(eeg_band_fft[band])):\n",
    "                                val.append(eeg_band_fft[band][i][j])\n",
    "                                # Ejemplo : eeg_band_fft['Delta'][0][0*0 + 0]\n",
    "                        if (band == \"Delta\"):\n",
    "                                freq[0][j] = np.mean(val)\n",
    "                        elif (band == \"Theta\"):\n",
    "                                freq[1][j] = np.mean(val)\n",
    "                        elif (band == \"Alpha\"):\n",
    "                                freq[2][j] = np.mean(val)\n",
    "                        elif (band == \"Beta\"):\n",
    "                                freq[3][j] = np.mean(val)\n",
    "                        elif (band == \"Gamma\"):\n",
    "                                freq[4][j] = np.mean(val)\n",
    "        return(freq)     # En freq tenemos las frecuencias medias de cada una de las bandas\n",
    "\n",
    "# Recordamos : Estamos tratando los datos relativos al video 0, un canal concreto de un sujeto concreto"
   ]
  },
  {
   "cell_type": "code",
   "execution_count": 259,
   "metadata": {},
   "outputs": [],
   "source": [
    "#df_file_videos = select_file('d\\\\s01.dat')\n",
    "# Obtener la división por bandas de frecuencia de cada uno de los canales del video 0\n",
    "for video in range(0, 40):\n",
    "    delta_bands = []\n",
    "    theta_bands = []\n",
    "    beta_bands = []\n",
    "    alpha_bands = []\n",
    "    gamma_bands = []\n",
    "\n",
    "    for channel in ['FP1','AF3','F7','F3','FC1','FC5','T7','C3','CP1','CP5','P7','P3','Pz','PO3','O1','Oz','O2','PO4','P4','P8','CP6','CP2','C4','T8','FC6','FC2','F4','F8','AF4','Fp2','Fz','Cz']:\n",
    "        Zxx = do_stft(video, channel)\n",
    "        eeg_band_fft = make_bands(Zxx)\n",
    "        freq = channel_freq(eeg_band_fft)\n",
    "\n",
    "        delta_bands.append(freq[0])\n",
    "        theta_bands.append(freq[1])\n",
    "        alpha_bands.append(freq[2])\n",
    "        beta_bands.append(freq[3])\n",
    "        gamma_bands.append(freq[4])\n",
    "    # En freq tenemos la media de todas las bandas de frecuencia de cada uno de los canales del vídeo 0"
   ]
  },
  {
   "cell_type": "code",
   "execution_count": 260,
   "metadata": {},
   "outputs": [],
   "source": [
    "# Banda delta\n",
    "df = pd.DataFrame(delta_bands)\n",
    "delta_df = df.transpose()\n",
    "delta_df.columns = ['D-FP1','D-AF3','D-F7','D-F3','D-FC1','D-FC5','D-T7','D-C3','D-CP1','D-CP5','D-P7','D-P3','D-Pz','D-PO3','D-O1','D-Oz','D-O2','D-PO4','D-P4','D-P8','D-CP6','D-CP2','D-C4','D-T8','D-FC6','D-FC2','D-F4','D-F8','D-AF4','D-Fp2','D-Fz','D-Cz']\n",
    "delta_df\n",
    "\n",
    "rows = list()\n",
    "for _,row in delta_df.iterrows():\n",
    "    rows += [row]*40\n",
    "aux_delta = pd.DataFrame(rows).reset_index(drop=True)"
   ]
  },
  {
   "cell_type": "code",
   "execution_count": 261,
   "metadata": {},
   "outputs": [],
   "source": [
    "# Banda theta\n",
    "df = pd.DataFrame(theta_bands)\n",
    "theta_df = df.transpose()\n",
    "theta_df.columns =  ['T-FP1','T-AF3','T-F7','T-F3','T-FC1','T-FC5','T-T7','T-C3','T-CP1','T-CP5','T-P7','T-P3','T-Pz','T-PO3','T-O1','T-Oz','T-O2','T-PO4','T-P4','T-P8','T-CP6','T-CP2','T-C4','T-T8','T-FC6','T-FC2','T-F4','T-F8','T-AF4','T-Fp2','T-Fz','T-Cz']\n",
    "theta_df\n",
    "\n",
    "rows = list()\n",
    "for _,row in theta_df.iterrows():\n",
    "    rows += [row]*40\n",
    "aux_theta = pd.DataFrame(rows).reset_index(drop=True)"
   ]
  },
  {
   "cell_type": "code",
   "execution_count": 262,
   "metadata": {},
   "outputs": [],
   "source": [
    "#Bnada alpha\n",
    "df = pd.DataFrame(alpha_bands)\n",
    "alpha_df = df.transpose()\n",
    "alpha_df.columns = ['A-FP1','A-AF3','A-F7','A-F3','A-FC1','A-FC5','A-T7','A-C3','A-CP1','A-CP5','A-P7','A-P3','A-Pz','A-PO3','A-O1','A-Oz','A-O2','A-PO4','A-P4','A-P8','A-CP6','A-CP2','A-C4','A-T8','A-FC6','A-FC2','A-F4','A-F8','A-AF4','A-Fp2','A-Fz','A-Cz']\n",
    "alpha_df\n",
    "\n",
    "rows = list()\n",
    "for _,row in alpha_df.iterrows():\n",
    "    rows += [row]*40\n",
    "aux_alpha = pd.DataFrame(rows).reset_index(drop=True)"
   ]
  },
  {
   "cell_type": "code",
   "execution_count": 263,
   "metadata": {},
   "outputs": [],
   "source": [
    "# Banda beta\n",
    "df = pd.DataFrame(beta_bands)\n",
    "beta_df = df.transpose()\n",
    "beta_df.columns = ['B-FP1','B-AF3','B-F7','B-F3','B-FC1','B-FC5','B-T7','B-C3','B-CP1','B-CP5','B-P7','B-P3','B-Pz','B-PO3','B-O1','B-Oz','B-O2','B-PO4','B-P4','B-P8','B-CP6','B-CP2','B-C4','B-T8','B-FC6','B-FC2','B-F4','B-F8','B-AF4','B-Fp2','B-Fz','B-Cz']\n",
    "beta_df\n",
    "\n",
    "rows = list()\n",
    "for _,row in beta_df.iterrows():\n",
    "    rows += [row]*40\n",
    "aux_beta = pd.DataFrame(rows).reset_index(drop=True)"
   ]
  },
  {
   "cell_type": "code",
   "execution_count": 264,
   "metadata": {},
   "outputs": [],
   "source": [
    "# Banda gamma\n",
    "df = pd.DataFrame(gamma_bands)\n",
    "gamma_df = df.transpose()\n",
    "gamma_df.columns = ['G-FP1','G-AF3','G-F7','G-F3','G-FC1','G-FC5','G-T7','G-C3','G-CP1','G-CP5','G-P7','G-P3','G-Pz','G-PO3','G-O1','G-Oz','G-O2','G-PO4','G-P4','G-P8','G-CP6','G-CP2','G-C4','G-T8','G-FC6','G-FC2','G-F4','G-F8','G-AF4','G-Fp2','G-Fz','G-Cz']\n",
    "gamma_df\n",
    "\n",
    "rows = list()\n",
    "for _,row in gamma_df.iterrows():\n",
    "    rows += [row]*40\n",
    "aux_gamma = pd.DataFrame(rows).reset_index(drop=True)"
   ]
  },
  {
   "cell_type": "code",
   "execution_count": 265,
   "metadata": {},
   "outputs": [],
   "source": [
    "df_labels = pd.DataFrame(data=labels, columns=[\"valence\", \"arousal\", \"dominance\", \"liking\"])\n",
    "rows = list()\n",
    "for _,row in dfLabels.iterrows():\n",
    "    rows += [row]*64\n",
    "aux_labels = pd.DataFrame(rows).reset_index(drop=True)"
   ]
  },
  {
   "cell_type": "code",
   "execution_count": 266,
   "metadata": {},
   "outputs": [],
   "source": [
    "data_delta = aux_delta.merge(aux_labels, left_index=True, right_index=True)\n",
    "data_theta = aux_theta.merge(aux_labels, left_index=True, right_index=True)\n",
    "data_alpha = aux_alpha.merge(aux_labels, left_index=True, right_index=True)\n",
    "data_beta = aux_beta.merge(aux_labels, left_index=True, right_index=True)\n",
    "data_gamma = aux_gamma.merge(aux_labels, left_index=True, right_index=True)"
   ]
  },
  {
   "source": [
    "# Todas las bandas una al lado de otra"
   ],
   "cell_type": "markdown",
   "metadata": {}
  },
  {
   "cell_type": "code",
   "execution_count": 267,
   "metadata": {},
   "outputs": [],
   "source": [
    "frames = [aux_delta, aux_theta, aux_alpha, aux_beta, aux_gamma]\n",
    "aux_all_bands = pd.concat(frames, axis=1)\n",
    "all_bands_channels = ['D-FP1','D-AF3','D-F7','D-F3','D-FC1','D-FC5','D-T7','D-C3','D-CP1','D-CP5','D-P7','D-P3','D-Pz','D-PO3','D-O1','D-Oz','D-O2','D-PO4','D-P4','D-P8','D-CP6','D-CP2','D-C4','D-T8','D-FC6','D-FC2','D-F4','D-F8','D-AF4','D-Fp2','D-Fz','D-Cz', 'T-FP1','T-AF3','T-F7','T-F3','T-FC1','T-FC5','T-T7','T-C3','T-CP1','T-CP5','T-P7','T-P3','T-Pz','T-PO3','T-O1','T-Oz','T-O2','T-PO4','T-P4','T-P8','T-CP6','T-CP2','T-C4','T-T8','T-FC6','T-FC2','T-F4','T-F8','T-AF4','T-Fp2','T-Fz','T-Cz', 'A-FP1','A-AF3','A-F7','A-F3','A-FC1','A-FC5','A-T7','A-C3','A-CP1','A-CP5','A-P7','A-P3','A-Pz','A-PO3','A-O1','A-Oz','A-O2','A-PO4','A-P4','A-P8','A-CP6','A-CP2','A-C4','A-T8','A-FC6','A-FC2','A-F4','A-F8','A-AF4','A-Fp2','A-Fz','A-Cz', 'B-FP1','B-AF3','B-F7','B-F3','B-FC1','B-FC5','B-T7','B-C3','B-CP1','B-CP5','B-P7','B-P3','B-Pz','B-PO3','B-O1','B-Oz','B-O2','B-PO4','B-P4','B-P8','B-CP6','B-CP2','B-C4','B-T8','B-FC6','B-FC2','B-F4','B-F8','B-AF4','B-Fp2','B-Fz','B-Cz', 'G-FP1','G-AF3','G-F7','G-F3','G-FC1','G-FC5','G-T7','G-C3','G-CP1','G-CP5','G-P7','G-P3','G-Pz','G-PO3','G-O1','G-Oz','G-O2','G-PO4','G-P4','G-P8','G-CP6','G-CP2','G-C4','G-T8','G-FC6','G-FC2','G-F4','G-F8','G-AF4','G-Fp2','G-Fz','G-Cz']"
   ]
  },
  {
   "cell_type": "code",
   "execution_count": 268,
   "metadata": {},
   "outputs": [],
   "source": [
    "all_bands_df = aux_all_bands.merge(aux_labels, left_index=True, right_index=True)"
   ]
  },
  {
   "source": [
    "# Channel selection"
   ],
   "cell_type": "markdown",
   "metadata": {}
  },
  {
   "source": [
    "Literature : https://sci-hub.do/https://link.springer.com/article/10.1007/s40708-017-0069-3"
   ],
   "cell_type": "markdown",
   "metadata": {}
  },
  {
   "cell_type": "code",
   "execution_count": 269,
   "metadata": {},
   "outputs": [],
   "source": [
    "literature_selection = pd.DataFrame(data=all_bands_df, columns=['D-P3', 'T-P3', 'A-P3', 'B-P3', 'G-P3', 'D-FC2','T-FC2','A-FC2','B-FC2','G-FC2', 'D-AF3','T-AF3','A-AF3','B-AF3','G-AF3', 'D-O1','T-O1','A-O1','B-O1','G-O1', 'D-FP1','T-FP1','A-FP1','B-FP1','G-FP1', 'valence'])"
   ]
  },
  {
   "cell_type": "code",
   "execution_count": 270,
   "metadata": {},
   "outputs": [
    {
     "output_type": "stream",
     "name": "stderr",
     "text": [
      "[Parallel(n_jobs=5)]: Using backend ThreadingBackend with 5 concurrent workers.\n[Parallel(n_jobs=5)]: Done  40 tasks      | elapsed:    0.0s\n[Parallel(n_jobs=5)]: Done 100 out of 100 | elapsed:    0.0s finished\n[Parallel(n_jobs=5)]: Using backend ThreadingBackend with 5 concurrent workers.\n[Parallel(n_jobs=5)]: Done  40 tasks      | elapsed:    0.0s\n[Parallel(n_jobs=5)]: Done 100 out of 100 | elapsed:    0.0s finished\n"
     ]
    }
   ],
   "source": [
    "data = literature_selection.copy()\n",
    "data['valence'] = np.where(data['valence'] >5, 'happy', 'sad')\n",
    "\n",
    "copia = data.copy()\n",
    "\n",
    "y = copia[['valence']]\n",
    "\n",
    "x = copia.drop(columns=['valence'])\n",
    "\n",
    "xTrain, xTest, yTrain, yTest = train_test_split(x,y, test_size = 0.2, random_state = 1)\n",
    "\n",
    "\n",
    "clf = RandomForestClassifier(max_depth=2, random_state=0, verbose=1, n_jobs=5)\n",
    "clf.fit(xTrain, np.ravel(yTrain))\n",
    "predict = clf.predict(xTest)\n",
    "\n",
    "svm_clf = svm.LinearSVC()\n",
    "svm_clf.fit(xTrain, np.ravel(yTrain))\n",
    "svm_predict = svm_clf.predict(xTest)\n",
    "\n",
    "rf_acc = accuracy_score(yTest, predict)\n",
    "svm_acc = accuracy_score(yTest, svm_predict)"
   ]
  },
  {
   "source": [
    "Own"
   ],
   "cell_type": "markdown",
   "metadata": {}
  },
  {
   "cell_type": "code",
   "execution_count": 271,
   "metadata": {},
   "outputs": [],
   "source": [
    "data = all_bands_df.copy()\n",
    "data = data.drop(['arousal', 'dominance', 'liking'], axis=1)\n",
    "data['valence'] = np.where(data['valence'] >5, 'happy', 'sad')\n",
    "\n",
    "copia = data.copy()\n",
    "\n",
    "y = copia[['valence']]\n",
    "\n",
    "x = copia.drop(columns=['valence'])\n",
    "\n",
    "xTrain, xTest, yTrain, yTest = train_test_split(x,y, test_size = 0.2, random_state = 1)"
   ]
  },
  {
   "cell_type": "code",
   "execution_count": 272,
   "metadata": {},
   "outputs": [
    {
     "output_type": "stream",
     "name": "stderr",
     "text": [
      "[Parallel(n_jobs=5)]: Using backend ThreadingBackend with 5 concurrent workers.\n[Parallel(n_jobs=5)]: Done  40 tasks      | elapsed:    0.0s\n[Parallel(n_jobs=5)]: Done 100 out of 100 | elapsed:    0.0s finished\n"
     ]
    }
   ],
   "source": [
    "clf = RandomForestClassifier(max_depth=2, random_state=0, verbose=1, n_jobs=5)\n",
    "clf.fit(xTrain, np.ravel(yTrain))\n",
    "\n",
    "series_importance = pd.Series(abs(clf.feature_importances_), index=all_bands_channels).nlargest(25)\n",
    "df_importances = series_importance.to_frame()\n",
    "res = df_importances.index\n",
    "\n",
    "own_selection = pd.DataFrame(data=all_bands_df, columns=res)"
   ]
  },
  {
   "cell_type": "code",
   "execution_count": 273,
   "metadata": {},
   "outputs": [
    {
     "output_type": "stream",
     "name": "stderr",
     "text": [
      "C:\\Python39\\lib\\site-packages\\sklearn\\svm\\_base.py:985: ConvergenceWarning: Liblinear failed to converge, increase the number of iterations.\n  warnings.warn(\"Liblinear failed to converge, increase \"\n"
     ]
    }
   ],
   "source": [
    "svm_clf = svm.LinearSVC()\n",
    "svm_clf.fit(xTrain, np.ravel(yTrain))\n",
    "\n",
    "svm_series_importance = pd.Series(abs(svm_clf.coef_[0]), index=all_bands_channels).nlargest(25)\n",
    "df_svm_importances = svm_series_importance.to_frame()\n",
    "svm_res = df_svm_importances.index\n",
    "\n",
    "svm_own_selection = pd.DataFrame(data=all_bands_df, columns=svm_res)"
   ]
  },
  {
   "cell_type": "code",
   "execution_count": 274,
   "metadata": {},
   "outputs": [
    {
     "output_type": "stream",
     "name": "stderr",
     "text": [
      "[Parallel(n_jobs=5)]: Using backend ThreadingBackend with 5 concurrent workers.\n",
      "[Parallel(n_jobs=5)]: Done  40 tasks      | elapsed:    0.0s\n",
      "[Parallel(n_jobs=5)]: Done 100 out of 100 | elapsed:    0.0s finished\n",
      "[Parallel(n_jobs=5)]: Using backend ThreadingBackend with 5 concurrent workers.\n",
      "[Parallel(n_jobs=5)]: Done  40 tasks      | elapsed:    0.0s\n",
      "[Parallel(n_jobs=5)]: Done 100 out of 100 | elapsed:    0.0s finished\n"
     ]
    }
   ],
   "source": [
    "data = own_selection.merge(aux_labels, left_index=True, right_index=True)\n",
    "\n",
    "data = data.drop(['arousal', 'dominance', 'liking'], axis=1)\n",
    "data['valence'] = np.where(data['valence'] >5, 'happy', 'sad')\n",
    "\n",
    "copia = data.copy()\n",
    "\n",
    "y = copia[['valence']]\n",
    "\n",
    "x = copia.drop(columns=['valence'])\n",
    "\n",
    "xTrain, xTest, yTrain, yTest = train_test_split(x,y, test_size = 0.2, random_state = 1)\n",
    "\n",
    "clf = RandomForestClassifier(max_depth=2, random_state=0, verbose=1, n_jobs=5)\n",
    "clf.fit(xTrain, np.ravel(yTrain))\n",
    "predict = clf.predict(xTest)\n",
    "\n",
    "rf_acc2 = accuracy_score(yTest, predict)"
   ]
  },
  {
   "cell_type": "code",
   "execution_count": 275,
   "metadata": {},
   "outputs": [],
   "source": [
    "data = svm_own_selection.merge(aux_labels, left_index=True, right_index=True)\n",
    "data = data.drop(['arousal', 'dominance', 'liking'], axis=1)\n",
    "data['valence'] = np.where(data['valence'] >5, 'happy', 'sad')\n",
    "\n",
    "copia = data.copy()\n",
    "\n",
    "y = copia[['valence']]\n",
    "\n",
    "x = copia.drop(columns=['valence'])\n",
    "\n",
    "xTrain, xTest, yTrain, yTest = train_test_split(x,y, test_size = 0.2, random_state = 1)\n",
    "    \n",
    "svm_clf = svm.LinearSVC()\n",
    "svm_clf.fit(xTrain, np.ravel(yTrain))\n",
    "svm_predict = svm_clf.predict(xTest)\n",
    "\n",
    "svm_acc2 = accuracy_score(yTest, svm_predict)"
   ]
  },
  {
   "cell_type": "code",
   "execution_count": 276,
   "metadata": {},
   "outputs": [],
   "source": [
    "col_names = ['Subject',\n",
    "             'Experiment ID',\n",
    "             'Feature extraction',\n",
    "             'Band selection',\n",
    "             'Channel selection',\n",
    "             'Classification algorithm',\n",
    "             'Accuracy']\n",
    "\n",
    "data_CSV = [subject_id, 4, \"STFT\", \"All bands\", \"Literature\", \"Random Forest\", rf_acc], [subject_id, 4, \"STFT\", \"All bands\", \"Literature\", \"SVM\", svm_acc], [subject_id, 4, \"STFT\", \"All bands\", \"Own\", \"Random Forest\", rf_acc2], [subject_id, 4, \"STFT\", \"All bands\", \"Own\", \"SVM\", svm_acc2]\n",
    "all_data = data_CSV\n",
    "\n",
    "csv_df = pd.DataFrame(all_data, columns=col_names)\n",
    "\n",
    "csv_df.to_csv(\"experiment4.csv\", mode=\"a\", header=col_names, index=False)"
   ]
  }
 ]
}