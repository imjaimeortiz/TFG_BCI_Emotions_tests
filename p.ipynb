{
 "metadata": {
  "language_info": {
   "codemirror_mode": {
    "name": "ipython",
    "version": 3
   },
   "file_extension": ".py",
   "mimetype": "text/x-python",
   "name": "python",
   "nbconvert_exporter": "python",
   "pygments_lexer": "ipython3",
   "version": "3.9.0"
  },
  "orig_nbformat": 2,
  "kernelspec": {
   "name": "python390jvsc74a57bd063fd5069d213b44bf678585dea6b12cceca9941eaf7f819626cde1f2670de90d",
   "display_name": "Python 3.9.0 64-bit"
  },
  "metadata": {
   "interpreter": {
    "hash": "63fd5069d213b44bf678585dea6b12cceca9941eaf7f819626cde1f2670de90d"
   }
  }
 },
 "nbformat": 4,
 "nbformat_minor": 2,
 "cells": [
  {
   "source": [
    "# DATA INFORMATION\n",
    "# Sabemos por el análisis SAM que los valores de arousal, valence, dominance y liking estarán en el rango [1-9]"
   ],
   "cell_type": "markdown",
   "metadata": {}
  },
  {
   "cell_type": "code",
   "execution_count": 40,
   "metadata": {},
   "outputs": [
    {
     "output_type": "execute_result",
     "data": {
      "text/plain": [
       "                FP1         AF3          F7          F3         FC1  \\\n",
       "0          0.948232   10.260175    1.013050   -7.658428   -1.811108   \n",
       "1          1.653335   12.795443   -1.067832   -3.267558   -4.783876   \n",
       "2          3.013726   10.426192    3.908249    0.701542   -0.522649   \n",
       "3          1.495061    8.229207    6.094405    2.959722    1.299854   \n",
       "4         -1.264836    3.751782    4.145906    3.459897   -0.916779   \n",
       "...             ...         ...         ...         ...         ...   \n",
       "10321915 -32.686626 -118.432236  107.674687   71.185171  -81.400159   \n",
       "10321916  -0.499185 -151.650924   62.237271  110.122599 -118.743840   \n",
       "10321917 -64.780317 -113.557245   87.924724  107.091355  -64.368940   \n",
       "10321918  -5.030427 -136.619702   80.080988   98.872620 -113.806349   \n",
       "10321919 -27.936635 -122.838477   72.581002  108.841352 -100.681373   \n",
       "\n",
       "                 FC5          T7         C3         CP1         CP5  ...  \\\n",
       "0          11.011411    3.026008  -2.380048    3.978952   -9.657708  ...   \n",
       "1           7.402976    2.676232  -3.614201   -1.434440   -0.906298  ...   \n",
       "2           1.120469    2.046996  -4.286566   -6.174767    9.408599  ...   \n",
       "3          -0.832024    2.192056  -5.170547   -6.571542   14.101073  ...   \n",
       "4          -0.784404   -4.694002  -5.332026   -7.793136   16.284187  ...   \n",
       "...              ...         ...        ...         ...         ...  ...   \n",
       "10321915  -31.566511  128.195564 -93.473053  151.210251  -68.675085  ...   \n",
       "10321916   69.402053   75.226912 -70.535596  183.491442  -53.675112  ...   \n",
       "10321917  166.745623  103.226860 -97.848045  177.491453 -102.675022  ...   \n",
       "10321918  203.276805   96.226873 -93.723053  184.335190  -56.362607  ...   \n",
       "10321919  156.558142   67.164427 -85.973067  195.460169  -97.143782  ...   \n",
       "\n",
       "                  F4          F8        AF4        Fp2         Fz          Cz  \\\n",
       "0           4.239575    4.888393   0.596471   0.589618  -2.276449   -0.109300   \n",
       "1           4.557239    6.007259  -1.881391  -4.831903  -1.739787   -6.518661   \n",
       "2           0.636801    2.921478  -4.484906  -8.186728   0.555901  -11.727187   \n",
       "3          -2.965047   -0.679860  -4.483488  -7.905437  -1.168129   -9.051847   \n",
       "4           3.248115   -1.103246  -2.547386  -4.419073  -1.319219   -4.072682   \n",
       "...              ...         ...        ...        ...        ...         ...   \n",
       "10321915  -85.715499 -205.343696 -77.855162   3.823642  39.977058 -161.983832   \n",
       "10321916  -39.621834 -223.718662 -38.542735  38.761077  27.164582 -181.327546   \n",
       "10321917  -47.309320 -222.187415 -45.323972  21.011110  74.945744 -162.327581   \n",
       "10321918   46.628006 -220.749918 -69.448928  20.104862  19.914595 -171.140065   \n",
       "10321919  202.471468 -234.874892 -24.324011  35.448584  52.914534 -175.921306   \n",
       "\n",
       "          valence  arousal  dominance  liking  \n",
       "0            7.71     7.60        6.9    7.83  \n",
       "1            7.71     7.60        6.9    7.83  \n",
       "2            7.71     7.60        6.9    7.83  \n",
       "3            7.71     7.60        6.9    7.83  \n",
       "4            7.71     7.60        6.9    7.83  \n",
       "...           ...      ...        ...     ...  \n",
       "10321915     7.15     4.03        9.0    1.88  \n",
       "10321916     7.15     4.03        9.0    1.88  \n",
       "10321917     7.15     4.03        9.0    1.88  \n",
       "10321918     7.15     4.03        9.0    1.88  \n",
       "10321919     7.15     4.03        9.0    1.88  \n",
       "\n",
       "[10321920 rows x 36 columns]"
      ],
      "text/html": "<div>\n<style scoped>\n    .dataframe tbody tr th:only-of-type {\n        vertical-align: middle;\n    }\n\n    .dataframe tbody tr th {\n        vertical-align: top;\n    }\n\n    .dataframe thead th {\n        text-align: right;\n    }\n</style>\n<table border=\"1\" class=\"dataframe\">\n  <thead>\n    <tr style=\"text-align: right;\">\n      <th></th>\n      <th>FP1</th>\n      <th>AF3</th>\n      <th>F7</th>\n      <th>F3</th>\n      <th>FC1</th>\n      <th>FC5</th>\n      <th>T7</th>\n      <th>C3</th>\n      <th>CP1</th>\n      <th>CP5</th>\n      <th>...</th>\n      <th>F4</th>\n      <th>F8</th>\n      <th>AF4</th>\n      <th>Fp2</th>\n      <th>Fz</th>\n      <th>Cz</th>\n      <th>valence</th>\n      <th>arousal</th>\n      <th>dominance</th>\n      <th>liking</th>\n    </tr>\n  </thead>\n  <tbody>\n    <tr>\n      <th>0</th>\n      <td>0.948232</td>\n      <td>10.260175</td>\n      <td>1.013050</td>\n      <td>-7.658428</td>\n      <td>-1.811108</td>\n      <td>11.011411</td>\n      <td>3.026008</td>\n      <td>-2.380048</td>\n      <td>3.978952</td>\n      <td>-9.657708</td>\n      <td>...</td>\n      <td>4.239575</td>\n      <td>4.888393</td>\n      <td>0.596471</td>\n      <td>0.589618</td>\n      <td>-2.276449</td>\n      <td>-0.109300</td>\n      <td>7.71</td>\n      <td>7.60</td>\n      <td>6.9</td>\n      <td>7.83</td>\n    </tr>\n    <tr>\n      <th>1</th>\n      <td>1.653335</td>\n      <td>12.795443</td>\n      <td>-1.067832</td>\n      <td>-3.267558</td>\n      <td>-4.783876</td>\n      <td>7.402976</td>\n      <td>2.676232</td>\n      <td>-3.614201</td>\n      <td>-1.434440</td>\n      <td>-0.906298</td>\n      <td>...</td>\n      <td>4.557239</td>\n      <td>6.007259</td>\n      <td>-1.881391</td>\n      <td>-4.831903</td>\n      <td>-1.739787</td>\n      <td>-6.518661</td>\n      <td>7.71</td>\n      <td>7.60</td>\n      <td>6.9</td>\n      <td>7.83</td>\n    </tr>\n    <tr>\n      <th>2</th>\n      <td>3.013726</td>\n      <td>10.426192</td>\n      <td>3.908249</td>\n      <td>0.701542</td>\n      <td>-0.522649</td>\n      <td>1.120469</td>\n      <td>2.046996</td>\n      <td>-4.286566</td>\n      <td>-6.174767</td>\n      <td>9.408599</td>\n      <td>...</td>\n      <td>0.636801</td>\n      <td>2.921478</td>\n      <td>-4.484906</td>\n      <td>-8.186728</td>\n      <td>0.555901</td>\n      <td>-11.727187</td>\n      <td>7.71</td>\n      <td>7.60</td>\n      <td>6.9</td>\n      <td>7.83</td>\n    </tr>\n    <tr>\n      <th>3</th>\n      <td>1.495061</td>\n      <td>8.229207</td>\n      <td>6.094405</td>\n      <td>2.959722</td>\n      <td>1.299854</td>\n      <td>-0.832024</td>\n      <td>2.192056</td>\n      <td>-5.170547</td>\n      <td>-6.571542</td>\n      <td>14.101073</td>\n      <td>...</td>\n      <td>-2.965047</td>\n      <td>-0.679860</td>\n      <td>-4.483488</td>\n      <td>-7.905437</td>\n      <td>-1.168129</td>\n      <td>-9.051847</td>\n      <td>7.71</td>\n      <td>7.60</td>\n      <td>6.9</td>\n      <td>7.83</td>\n    </tr>\n    <tr>\n      <th>4</th>\n      <td>-1.264836</td>\n      <td>3.751782</td>\n      <td>4.145906</td>\n      <td>3.459897</td>\n      <td>-0.916779</td>\n      <td>-0.784404</td>\n      <td>-4.694002</td>\n      <td>-5.332026</td>\n      <td>-7.793136</td>\n      <td>16.284187</td>\n      <td>...</td>\n      <td>3.248115</td>\n      <td>-1.103246</td>\n      <td>-2.547386</td>\n      <td>-4.419073</td>\n      <td>-1.319219</td>\n      <td>-4.072682</td>\n      <td>7.71</td>\n      <td>7.60</td>\n      <td>6.9</td>\n      <td>7.83</td>\n    </tr>\n    <tr>\n      <th>...</th>\n      <td>...</td>\n      <td>...</td>\n      <td>...</td>\n      <td>...</td>\n      <td>...</td>\n      <td>...</td>\n      <td>...</td>\n      <td>...</td>\n      <td>...</td>\n      <td>...</td>\n      <td>...</td>\n      <td>...</td>\n      <td>...</td>\n      <td>...</td>\n      <td>...</td>\n      <td>...</td>\n      <td>...</td>\n      <td>...</td>\n      <td>...</td>\n      <td>...</td>\n      <td>...</td>\n    </tr>\n    <tr>\n      <th>10321915</th>\n      <td>-32.686626</td>\n      <td>-118.432236</td>\n      <td>107.674687</td>\n      <td>71.185171</td>\n      <td>-81.400159</td>\n      <td>-31.566511</td>\n      <td>128.195564</td>\n      <td>-93.473053</td>\n      <td>151.210251</td>\n      <td>-68.675085</td>\n      <td>...</td>\n      <td>-85.715499</td>\n      <td>-205.343696</td>\n      <td>-77.855162</td>\n      <td>3.823642</td>\n      <td>39.977058</td>\n      <td>-161.983832</td>\n      <td>7.15</td>\n      <td>4.03</td>\n      <td>9.0</td>\n      <td>1.88</td>\n    </tr>\n    <tr>\n      <th>10321916</th>\n      <td>-0.499185</td>\n      <td>-151.650924</td>\n      <td>62.237271</td>\n      <td>110.122599</td>\n      <td>-118.743840</td>\n      <td>69.402053</td>\n      <td>75.226912</td>\n      <td>-70.535596</td>\n      <td>183.491442</td>\n      <td>-53.675112</td>\n      <td>...</td>\n      <td>-39.621834</td>\n      <td>-223.718662</td>\n      <td>-38.542735</td>\n      <td>38.761077</td>\n      <td>27.164582</td>\n      <td>-181.327546</td>\n      <td>7.15</td>\n      <td>4.03</td>\n      <td>9.0</td>\n      <td>1.88</td>\n    </tr>\n    <tr>\n      <th>10321917</th>\n      <td>-64.780317</td>\n      <td>-113.557245</td>\n      <td>87.924724</td>\n      <td>107.091355</td>\n      <td>-64.368940</td>\n      <td>166.745623</td>\n      <td>103.226860</td>\n      <td>-97.848045</td>\n      <td>177.491453</td>\n      <td>-102.675022</td>\n      <td>...</td>\n      <td>-47.309320</td>\n      <td>-222.187415</td>\n      <td>-45.323972</td>\n      <td>21.011110</td>\n      <td>74.945744</td>\n      <td>-162.327581</td>\n      <td>7.15</td>\n      <td>4.03</td>\n      <td>9.0</td>\n      <td>1.88</td>\n    </tr>\n    <tr>\n      <th>10321918</th>\n      <td>-5.030427</td>\n      <td>-136.619702</td>\n      <td>80.080988</td>\n      <td>98.872620</td>\n      <td>-113.806349</td>\n      <td>203.276805</td>\n      <td>96.226873</td>\n      <td>-93.723053</td>\n      <td>184.335190</td>\n      <td>-56.362607</td>\n      <td>...</td>\n      <td>46.628006</td>\n      <td>-220.749918</td>\n      <td>-69.448928</td>\n      <td>20.104862</td>\n      <td>19.914595</td>\n      <td>-171.140065</td>\n      <td>7.15</td>\n      <td>4.03</td>\n      <td>9.0</td>\n      <td>1.88</td>\n    </tr>\n    <tr>\n      <th>10321919</th>\n      <td>-27.936635</td>\n      <td>-122.838477</td>\n      <td>72.581002</td>\n      <td>108.841352</td>\n      <td>-100.681373</td>\n      <td>156.558142</td>\n      <td>67.164427</td>\n      <td>-85.973067</td>\n      <td>195.460169</td>\n      <td>-97.143782</td>\n      <td>...</td>\n      <td>202.471468</td>\n      <td>-234.874892</td>\n      <td>-24.324011</td>\n      <td>35.448584</td>\n      <td>52.914534</td>\n      <td>-175.921306</td>\n      <td>7.15</td>\n      <td>4.03</td>\n      <td>9.0</td>\n      <td>1.88</td>\n    </tr>\n  </tbody>\n</table>\n<p>10321920 rows × 36 columns</p>\n</div>"
     },
     "metadata": {},
     "execution_count": 40
    }
   ],
   "source": [
    "import pandas as pd\n",
    "import numpy as np\n",
    "import matplotlib.pyplot as plt\n",
    "import os\n",
    "import pickle\n",
    "\n",
    "files = os.listdir('data_preprocessed_python\\\\')\n",
    "\n",
    "list_of_dfs = []\n",
    "for file in files:\n",
    "    with open(os.path.join('data_preprocessed_python\\\\',file), 'rb') as pickle_file:\n",
    "        dictRaw = pd.read_pickle(pickle_file) \n",
    "        labels = dictRaw.get('labels')\n",
    "        data = dictRaw.get('data')\n",
    "        \n",
    "        dfLabels = pd.DataFrame(data=labels, columns=[\"valence\", \"arousal\", \"dominance\", \"liking\"])\n",
    "\n",
    "        a,b,c = data.shape\n",
    "        E = data.reshape(40, 322560)\n",
    "        allData = pd.DataFrame(E).transpose()\n",
    "        rows = list()\n",
    "        for _,row in dfLabels.iterrows():\n",
    "            rows += [row]*8064\n",
    "        aux = pd.DataFrame(rows).reset_index(drop=True)\n",
    "        allData = allData.merge(aux, left_index=True, right_index=True)\n",
    "        \n",
    "        list_of_dfs.append(allData)\n",
    "data = pd.concat(list_of_dfs, ignore_index=True)\n",
    "\n",
    "data.columns = ['FP1','AF3','F7','F3','FC1','FC5','T7','C3','CP1','CP5','P7','P3','Pz','PO3','O1','Oz','O2','PO4','P4','P8','CP6','CP2','C4','T8','FC6','FC2','F4','F8','AF4','Fp2','Fz','Cz','hEOG','vEOG','zEMG','tEMG','GSR','Respiration','PLethy','Temperature','valence', 'arousal', 'dominance', 'liking']\n",
    "\n",
    "data.drop(['hEOG','vEOG','zEMG','tEMG','GSR','Respiration','PLethy','Temperature'],axis = 'columns', inplace=True)\n",
    "\n",
    "data\n",
    "# En data tenemos la información de todos los sujetos"
   ]
  },
  {
   "source": [
    "# Estudio de los datos del dataframe"
   ],
   "cell_type": "markdown",
   "metadata": {}
  },
  {
   "cell_type": "code",
   "execution_count": 46,
   "metadata": {},
   "outputs": [
    {
     "output_type": "stream",
     "name": "stdout",
     "text": [
      "[29.705425896776287, 109.0042431096876, 213.90502321814446, 106.59107113083525, -68.41339729267945, 113.5954314789927, 609.6143701666228, 273.3502849263363, -6.8617475306337345, 124.08413071115996, 77.1165088285053, 200.77020217757627, 108.40680924155784, 347.24635530315834, 164.13414449207323, 37.800683614270895, 328.70055694584386, 18.111486067064376, 173.84630010947225, 155.48838473730035, 151.26956138402284, 190.01091013147058, 57.88945221754422, 178.5556439012668, 275.38654075675527, -0.7935174388899515, 316.5135063489869, 378.05883155489363, 71.00859108733127, 21.156810585264477, 186.77706456552235, 395.04674328067546, 5.2543125, 5.156710937500006, 5.382749999999998, 5.518132812499993]\n",
      "\n",
      "\n",
      "\n",
      "[66926.61540424766, 413644.43637794885, 217348.2960868862, 320598.17126978515, 149890.41013859166, 223730.3841748091, 1059702.9986999228, 404147.7813014055, 277623.4423492416, 248407.8212027445, 146926.96366272238, 239518.17859320948, 87463.464824747, 505994.3335450294, 371974.82863911893, 138402.5986831938, 610393.8975171586, 126686.91754461662, 228066.44273200328, 359746.11264940817, 398460.7883171709, 156402.89857404795, 59110.356342271436, 273839.76597625576, 473844.39876741543, 181742.63702289085, 264554.44386925944, 355782.3456793446, 242856.58948758733, 97328.00618775748, 408123.4768305314, 565933.2015077211, 9.0, 9.0, 9.0, 9.0]\n",
      "\n",
      "\n",
      "\n",
      "[-189257.25157602155, -227685.19169202587, -213027.70612802263, -215989.26305706846, -256674.55550081865, -147155.380119205, -162130.17982869834, -164844.4401131738, -504082.6589315729, -123413.97830331163, -708660.4896780138, -248290.4442324501, -357863.9968552599, -148752.28751216037, -234884.58253252064, -365682.8805813922, -131471.38107645768, -338129.0281293227, -455479.00816673064, -58016.11928241141, -310156.44141970726, -189534.1337641559, -528324.1942916827, -367113.3972275299, -88993.5254053392, -396140.6982028901, -165559.83958004974, -84999.41887454595, -324277.23337872257, -441984.03767649527, -110509.36658239504, -125906.6834791496, 1.0, 1.0, 1.0, 1.0]\n"
     ]
    }
   ],
   "source": [
    "mean_values = []\n",
    "for col in data:\n",
    "    mean_values.append(data[col].mean())\n",
    "#df_mean = pd.DataFrame(data=mean_values, columns=['FP1','AF3','F7','F3','FC1','FC5','T7','C3','CP1','CP5','P7','P3','Pz','PO3','O1','Oz','O2','PO4','P4','P8','CP6','CP2','C4','T8','FC6','FC2','F4','F8','AF4','Fp2','Fz','Cz','valence', 'arousal', 'dominance', 'liking'])\n",
    "#print(df_mean)\n",
    "print(mean_values)\n",
    "print(\"\\n\\n\")\n",
    "max_values = []\n",
    "for col in data:\n",
    "    max_values.append(data[col].max())\n",
    "print(max_values)\n",
    "print(\"\\n\\n\")\n",
    "min_values = []\n",
    "for col in data:\n",
    "    min_values.append(data[col].min())\n",
    "print(min_values)"
   ]
  },
  {
   "cell_type": "code",
   "execution_count": 25,
   "metadata": {},
   "outputs": [
    {
     "output_type": "display_data",
     "data": {
      "text/plain": "<Figure size 432x288 with 1 Axes>",
      "image/svg+xml": "<?xml version=\"1.0\" encoding=\"utf-8\" standalone=\"no\"?>\r\n<!DOCTYPE svg PUBLIC \"-//W3C//DTD SVG 1.1//EN\"\r\n  \"http://www.w3.org/Graphics/SVG/1.1/DTD/svg11.dtd\">\r\n<svg height=\"248.518125pt\" version=\"1.1\" viewBox=\"0 0 383.667188 248.518125\" width=\"383.667188pt\" xmlns=\"http://www.w3.org/2000/svg\" xmlns:xlink=\"http://www.w3.org/1999/xlink\">\r\n <metadata>\r\n  <rdf:RDF xmlns:cc=\"http://creativecommons.org/ns#\" xmlns:dc=\"http://purl.org/dc/elements/1.1/\" xmlns:rdf=\"http://www.w3.org/1999/02/22-rdf-syntax-ns#\">\r\n   <cc:Work>\r\n    <dc:type rdf:resource=\"http://purl.org/dc/dcmitype/StillImage\"/>\r\n    <dc:date>2021-05-20T16:54:25.678878</dc:date>\r\n    <dc:format>image/svg+xml</dc:format>\r\n    <dc:creator>\r\n     <cc:Agent>\r\n      <dc:title>Matplotlib v3.4.1, https://matplotlib.org/</dc:title>\r\n     </cc:Agent>\r\n    </dc:creator>\r\n   </cc:Work>\r\n  </rdf:RDF>\r\n </metadata>\r\n <defs>\r\n  <style type=\"text/css\">*{stroke-linecap:butt;stroke-linejoin:round;}</style>\r\n </defs>\r\n <g id=\"figure_1\">\r\n  <g id=\"patch_1\">\r\n   <path d=\"M 0 248.518125 \r\nL 383.667188 248.518125 \r\nL 383.667188 0 \r\nL 0 0 \r\nz\r\n\" style=\"fill:none;\"/>\r\n  </g>\r\n  <g id=\"axes_1\">\r\n   <g id=\"patch_2\">\r\n    <path d=\"M 41.667188 224.64 \r\nL 376.467188 224.64 \r\nL 376.467188 7.2 \r\nL 41.667188 7.2 \r\nz\r\n\" style=\"fill:#ffffff;\"/>\r\n   </g>\r\n   <g id=\"matplotlib.axis_1\">\r\n    <g id=\"xtick_1\">\r\n     <g id=\"line2d_1\">\r\n      <defs>\r\n       <path d=\"M 0 0 \r\nL 0 3.5 \r\n\" id=\"m9008b24413\" style=\"stroke:#000000;stroke-width:0.8;\"/>\r\n      </defs>\r\n      <g>\r\n       <use style=\"stroke:#000000;stroke-width:0.8;\" x=\"56.885369\" xlink:href=\"#m9008b24413\" y=\"224.64\"/>\r\n      </g>\r\n     </g>\r\n     <g id=\"text_1\">\r\n      <!-- 0 -->\r\n      <g transform=\"translate(53.704119 239.238437)scale(0.1 -0.1)\">\r\n       <defs>\r\n        <path d=\"M 2034 4250 \r\nQ 1547 4250 1301 3770 \r\nQ 1056 3291 1056 2328 \r\nQ 1056 1369 1301 889 \r\nQ 1547 409 2034 409 \r\nQ 2525 409 2770 889 \r\nQ 3016 1369 3016 2328 \r\nQ 3016 3291 2770 3770 \r\nQ 2525 4250 2034 4250 \r\nz\r\nM 2034 4750 \r\nQ 2819 4750 3233 4129 \r\nQ 3647 3509 3647 2328 \r\nQ 3647 1150 3233 529 \r\nQ 2819 -91 2034 -91 \r\nQ 1250 -91 836 529 \r\nQ 422 1150 422 2328 \r\nQ 422 3509 836 4129 \r\nQ 1250 4750 2034 4750 \r\nz\r\n\" id=\"DejaVuSans-30\" transform=\"scale(0.015625)\"/>\r\n       </defs>\r\n       <use xlink:href=\"#DejaVuSans-30\"/>\r\n      </g>\r\n     </g>\r\n    </g>\r\n    <g id=\"xtick_2\">\r\n     <g id=\"line2d_2\">\r\n      <g>\r\n       <use style=\"stroke:#000000;stroke-width:0.8;\" x=\"100.365889\" xlink:href=\"#m9008b24413\" y=\"224.64\"/>\r\n      </g>\r\n     </g>\r\n     <g id=\"text_2\">\r\n      <!-- 5 -->\r\n      <g transform=\"translate(97.184639 239.238437)scale(0.1 -0.1)\">\r\n       <defs>\r\n        <path d=\"M 691 4666 \r\nL 3169 4666 \r\nL 3169 4134 \r\nL 1269 4134 \r\nL 1269 2991 \r\nQ 1406 3038 1543 3061 \r\nQ 1681 3084 1819 3084 \r\nQ 2600 3084 3056 2656 \r\nQ 3513 2228 3513 1497 \r\nQ 3513 744 3044 326 \r\nQ 2575 -91 1722 -91 \r\nQ 1428 -91 1123 -41 \r\nQ 819 9 494 109 \r\nL 494 744 \r\nQ 775 591 1075 516 \r\nQ 1375 441 1709 441 \r\nQ 2250 441 2565 725 \r\nQ 2881 1009 2881 1497 \r\nQ 2881 1984 2565 2268 \r\nQ 2250 2553 1709 2553 \r\nQ 1456 2553 1204 2497 \r\nQ 953 2441 691 2322 \r\nL 691 4666 \r\nz\r\n\" id=\"DejaVuSans-35\" transform=\"scale(0.015625)\"/>\r\n       </defs>\r\n       <use xlink:href=\"#DejaVuSans-35\"/>\r\n      </g>\r\n     </g>\r\n    </g>\r\n    <g id=\"xtick_3\">\r\n     <g id=\"line2d_3\">\r\n      <g>\r\n       <use style=\"stroke:#000000;stroke-width:0.8;\" x=\"143.846408\" xlink:href=\"#m9008b24413\" y=\"224.64\"/>\r\n      </g>\r\n     </g>\r\n     <g id=\"text_3\">\r\n      <!-- 10 -->\r\n      <g transform=\"translate(137.483908 239.238437)scale(0.1 -0.1)\">\r\n       <defs>\r\n        <path d=\"M 794 531 \r\nL 1825 531 \r\nL 1825 4091 \r\nL 703 3866 \r\nL 703 4441 \r\nL 1819 4666 \r\nL 2450 4666 \r\nL 2450 531 \r\nL 3481 531 \r\nL 3481 0 \r\nL 794 0 \r\nL 794 531 \r\nz\r\n\" id=\"DejaVuSans-31\" transform=\"scale(0.015625)\"/>\r\n       </defs>\r\n       <use xlink:href=\"#DejaVuSans-31\"/>\r\n       <use x=\"63.623047\" xlink:href=\"#DejaVuSans-30\"/>\r\n      </g>\r\n     </g>\r\n    </g>\r\n    <g id=\"xtick_4\">\r\n     <g id=\"line2d_4\">\r\n      <g>\r\n       <use style=\"stroke:#000000;stroke-width:0.8;\" x=\"187.326928\" xlink:href=\"#m9008b24413\" y=\"224.64\"/>\r\n      </g>\r\n     </g>\r\n     <g id=\"text_4\">\r\n      <!-- 15 -->\r\n      <g transform=\"translate(180.964428 239.238437)scale(0.1 -0.1)\">\r\n       <use xlink:href=\"#DejaVuSans-31\"/>\r\n       <use x=\"63.623047\" xlink:href=\"#DejaVuSans-35\"/>\r\n      </g>\r\n     </g>\r\n    </g>\r\n    <g id=\"xtick_5\">\r\n     <g id=\"line2d_5\">\r\n      <g>\r\n       <use style=\"stroke:#000000;stroke-width:0.8;\" x=\"230.807447\" xlink:href=\"#m9008b24413\" y=\"224.64\"/>\r\n      </g>\r\n     </g>\r\n     <g id=\"text_5\">\r\n      <!-- 20 -->\r\n      <g transform=\"translate(224.444947 239.238437)scale(0.1 -0.1)\">\r\n       <defs>\r\n        <path d=\"M 1228 531 \r\nL 3431 531 \r\nL 3431 0 \r\nL 469 0 \r\nL 469 531 \r\nQ 828 903 1448 1529 \r\nQ 2069 2156 2228 2338 \r\nQ 2531 2678 2651 2914 \r\nQ 2772 3150 2772 3378 \r\nQ 2772 3750 2511 3984 \r\nQ 2250 4219 1831 4219 \r\nQ 1534 4219 1204 4116 \r\nQ 875 4013 500 3803 \r\nL 500 4441 \r\nQ 881 4594 1212 4672 \r\nQ 1544 4750 1819 4750 \r\nQ 2544 4750 2975 4387 \r\nQ 3406 4025 3406 3419 \r\nQ 3406 3131 3298 2873 \r\nQ 3191 2616 2906 2266 \r\nQ 2828 2175 2409 1742 \r\nQ 1991 1309 1228 531 \r\nz\r\n\" id=\"DejaVuSans-32\" transform=\"scale(0.015625)\"/>\r\n       </defs>\r\n       <use xlink:href=\"#DejaVuSans-32\"/>\r\n       <use x=\"63.623047\" xlink:href=\"#DejaVuSans-30\"/>\r\n      </g>\r\n     </g>\r\n    </g>\r\n    <g id=\"xtick_6\">\r\n     <g id=\"line2d_6\">\r\n      <g>\r\n       <use style=\"stroke:#000000;stroke-width:0.8;\" x=\"274.287967\" xlink:href=\"#m9008b24413\" y=\"224.64\"/>\r\n      </g>\r\n     </g>\r\n     <g id=\"text_6\">\r\n      <!-- 25 -->\r\n      <g transform=\"translate(267.925467 239.238437)scale(0.1 -0.1)\">\r\n       <use xlink:href=\"#DejaVuSans-32\"/>\r\n       <use x=\"63.623047\" xlink:href=\"#DejaVuSans-35\"/>\r\n      </g>\r\n     </g>\r\n    </g>\r\n    <g id=\"xtick_7\">\r\n     <g id=\"line2d_7\">\r\n      <g>\r\n       <use style=\"stroke:#000000;stroke-width:0.8;\" x=\"317.768486\" xlink:href=\"#m9008b24413\" y=\"224.64\"/>\r\n      </g>\r\n     </g>\r\n     <g id=\"text_7\">\r\n      <!-- 30 -->\r\n      <g transform=\"translate(311.405986 239.238437)scale(0.1 -0.1)\">\r\n       <defs>\r\n        <path d=\"M 2597 2516 \r\nQ 3050 2419 3304 2112 \r\nQ 3559 1806 3559 1356 \r\nQ 3559 666 3084 287 \r\nQ 2609 -91 1734 -91 \r\nQ 1441 -91 1130 -33 \r\nQ 819 25 488 141 \r\nL 488 750 \r\nQ 750 597 1062 519 \r\nQ 1375 441 1716 441 \r\nQ 2309 441 2620 675 \r\nQ 2931 909 2931 1356 \r\nQ 2931 1769 2642 2001 \r\nQ 2353 2234 1838 2234 \r\nL 1294 2234 \r\nL 1294 2753 \r\nL 1863 2753 \r\nQ 2328 2753 2575 2939 \r\nQ 2822 3125 2822 3475 \r\nQ 2822 3834 2567 4026 \r\nQ 2313 4219 1838 4219 \r\nQ 1578 4219 1281 4162 \r\nQ 984 4106 628 3988 \r\nL 628 4550 \r\nQ 988 4650 1302 4700 \r\nQ 1616 4750 1894 4750 \r\nQ 2613 4750 3031 4423 \r\nQ 3450 4097 3450 3541 \r\nQ 3450 3153 3228 2886 \r\nQ 3006 2619 2597 2516 \r\nz\r\n\" id=\"DejaVuSans-33\" transform=\"scale(0.015625)\"/>\r\n       </defs>\r\n       <use xlink:href=\"#DejaVuSans-33\"/>\r\n       <use x=\"63.623047\" xlink:href=\"#DejaVuSans-30\"/>\r\n      </g>\r\n     </g>\r\n    </g>\r\n    <g id=\"xtick_8\">\r\n     <g id=\"line2d_8\">\r\n      <g>\r\n       <use style=\"stroke:#000000;stroke-width:0.8;\" x=\"361.249006\" xlink:href=\"#m9008b24413\" y=\"224.64\"/>\r\n      </g>\r\n     </g>\r\n     <g id=\"text_8\">\r\n      <!-- 35 -->\r\n      <g transform=\"translate(354.886506 239.238437)scale(0.1 -0.1)\">\r\n       <use xlink:href=\"#DejaVuSans-33\"/>\r\n       <use x=\"63.623047\" xlink:href=\"#DejaVuSans-35\"/>\r\n      </g>\r\n     </g>\r\n    </g>\r\n   </g>\r\n   <g id=\"matplotlib.axis_2\">\r\n    <g id=\"ytick_1\">\r\n     <g id=\"line2d_9\">\r\n      <defs>\r\n       <path d=\"M 0 0 \r\nL -3.5 0 \r\n\" id=\"m0beeeca769\" style=\"stroke:#000000;stroke-width:0.8;\"/>\r\n      </defs>\r\n      <g>\r\n       <use style=\"stroke:#000000;stroke-width:0.8;\" x=\"41.667188\" xlink:href=\"#m0beeeca769\" y=\"223.965146\"/>\r\n      </g>\r\n     </g>\r\n     <g id=\"text_9\">\r\n      <!-- −100 -->\r\n      <g transform=\"translate(7.2 227.764364)scale(0.1 -0.1)\">\r\n       <defs>\r\n        <path d=\"M 678 2272 \r\nL 4684 2272 \r\nL 4684 1741 \r\nL 678 1741 \r\nL 678 2272 \r\nz\r\n\" id=\"DejaVuSans-2212\" transform=\"scale(0.015625)\"/>\r\n       </defs>\r\n       <use xlink:href=\"#DejaVuSans-2212\"/>\r\n       <use x=\"83.789062\" xlink:href=\"#DejaVuSans-31\"/>\r\n       <use x=\"147.412109\" xlink:href=\"#DejaVuSans-30\"/>\r\n       <use x=\"211.035156\" xlink:href=\"#DejaVuSans-30\"/>\r\n      </g>\r\n     </g>\r\n    </g>\r\n    <g id=\"ytick_2\">\r\n     <g id=\"line2d_10\">\r\n      <g>\r\n       <use style=\"stroke:#000000;stroke-width:0.8;\" x=\"41.667188\" xlink:href=\"#m0beeeca769\" y=\"194.81107\"/>\r\n      </g>\r\n     </g>\r\n     <g id=\"text_10\">\r\n      <!-- 0 -->\r\n      <g transform=\"translate(28.304688 198.610289)scale(0.1 -0.1)\">\r\n       <use xlink:href=\"#DejaVuSans-30\"/>\r\n      </g>\r\n     </g>\r\n    </g>\r\n    <g id=\"ytick_3\">\r\n     <g id=\"line2d_11\">\r\n      <g>\r\n       <use style=\"stroke:#000000;stroke-width:0.8;\" x=\"41.667188\" xlink:href=\"#m0beeeca769\" y=\"165.656995\"/>\r\n      </g>\r\n     </g>\r\n     <g id=\"text_11\">\r\n      <!-- 100 -->\r\n      <g transform=\"translate(15.579688 169.456213)scale(0.1 -0.1)\">\r\n       <use xlink:href=\"#DejaVuSans-31\"/>\r\n       <use x=\"63.623047\" xlink:href=\"#DejaVuSans-30\"/>\r\n       <use x=\"127.246094\" xlink:href=\"#DejaVuSans-30\"/>\r\n      </g>\r\n     </g>\r\n    </g>\r\n    <g id=\"ytick_4\">\r\n     <g id=\"line2d_12\">\r\n      <g>\r\n       <use style=\"stroke:#000000;stroke-width:0.8;\" x=\"41.667188\" xlink:href=\"#m0beeeca769\" y=\"136.502919\"/>\r\n      </g>\r\n     </g>\r\n     <g id=\"text_12\">\r\n      <!-- 200 -->\r\n      <g transform=\"translate(15.579688 140.302138)scale(0.1 -0.1)\">\r\n       <use xlink:href=\"#DejaVuSans-32\"/>\r\n       <use x=\"63.623047\" xlink:href=\"#DejaVuSans-30\"/>\r\n       <use x=\"127.246094\" xlink:href=\"#DejaVuSans-30\"/>\r\n      </g>\r\n     </g>\r\n    </g>\r\n    <g id=\"ytick_5\">\r\n     <g id=\"line2d_13\">\r\n      <g>\r\n       <use style=\"stroke:#000000;stroke-width:0.8;\" x=\"41.667188\" xlink:href=\"#m0beeeca769\" y=\"107.348844\"/>\r\n      </g>\r\n     </g>\r\n     <g id=\"text_13\">\r\n      <!-- 300 -->\r\n      <g transform=\"translate(15.579688 111.148062)scale(0.1 -0.1)\">\r\n       <use xlink:href=\"#DejaVuSans-33\"/>\r\n       <use x=\"63.623047\" xlink:href=\"#DejaVuSans-30\"/>\r\n       <use x=\"127.246094\" xlink:href=\"#DejaVuSans-30\"/>\r\n      </g>\r\n     </g>\r\n    </g>\r\n    <g id=\"ytick_6\">\r\n     <g id=\"line2d_14\">\r\n      <g>\r\n       <use style=\"stroke:#000000;stroke-width:0.8;\" x=\"41.667188\" xlink:href=\"#m0beeeca769\" y=\"78.194768\"/>\r\n      </g>\r\n     </g>\r\n     <g id=\"text_14\">\r\n      <!-- 400 -->\r\n      <g transform=\"translate(15.579688 81.993987)scale(0.1 -0.1)\">\r\n       <defs>\r\n        <path d=\"M 2419 4116 \r\nL 825 1625 \r\nL 2419 1625 \r\nL 2419 4116 \r\nz\r\nM 2253 4666 \r\nL 3047 4666 \r\nL 3047 1625 \r\nL 3713 1625 \r\nL 3713 1100 \r\nL 3047 1100 \r\nL 3047 0 \r\nL 2419 0 \r\nL 2419 1100 \r\nL 313 1100 \r\nL 313 1709 \r\nL 2253 4666 \r\nz\r\n\" id=\"DejaVuSans-34\" transform=\"scale(0.015625)\"/>\r\n       </defs>\r\n       <use xlink:href=\"#DejaVuSans-34\"/>\r\n       <use x=\"63.623047\" xlink:href=\"#DejaVuSans-30\"/>\r\n       <use x=\"127.246094\" xlink:href=\"#DejaVuSans-30\"/>\r\n      </g>\r\n     </g>\r\n    </g>\r\n    <g id=\"ytick_7\">\r\n     <g id=\"line2d_15\">\r\n      <g>\r\n       <use style=\"stroke:#000000;stroke-width:0.8;\" x=\"41.667188\" xlink:href=\"#m0beeeca769\" y=\"49.040693\"/>\r\n      </g>\r\n     </g>\r\n     <g id=\"text_15\">\r\n      <!-- 500 -->\r\n      <g transform=\"translate(15.579688 52.839911)scale(0.1 -0.1)\">\r\n       <use xlink:href=\"#DejaVuSans-35\"/>\r\n       <use x=\"63.623047\" xlink:href=\"#DejaVuSans-30\"/>\r\n       <use x=\"127.246094\" xlink:href=\"#DejaVuSans-30\"/>\r\n      </g>\r\n     </g>\r\n    </g>\r\n    <g id=\"ytick_8\">\r\n     <g id=\"line2d_16\">\r\n      <g>\r\n       <use style=\"stroke:#000000;stroke-width:0.8;\" x=\"41.667188\" xlink:href=\"#m0beeeca769\" y=\"19.886617\"/>\r\n      </g>\r\n     </g>\r\n     <g id=\"text_16\">\r\n      <!-- 600 -->\r\n      <g transform=\"translate(15.579688 23.685836)scale(0.1 -0.1)\">\r\n       <defs>\r\n        <path d=\"M 2113 2584 \r\nQ 1688 2584 1439 2293 \r\nQ 1191 2003 1191 1497 \r\nQ 1191 994 1439 701 \r\nQ 1688 409 2113 409 \r\nQ 2538 409 2786 701 \r\nQ 3034 994 3034 1497 \r\nQ 3034 2003 2786 2293 \r\nQ 2538 2584 2113 2584 \r\nz\r\nM 3366 4563 \r\nL 3366 3988 \r\nQ 3128 4100 2886 4159 \r\nQ 2644 4219 2406 4219 \r\nQ 1781 4219 1451 3797 \r\nQ 1122 3375 1075 2522 \r\nQ 1259 2794 1537 2939 \r\nQ 1816 3084 2150 3084 \r\nQ 2853 3084 3261 2657 \r\nQ 3669 2231 3669 1497 \r\nQ 3669 778 3244 343 \r\nQ 2819 -91 2113 -91 \r\nQ 1303 -91 875 529 \r\nQ 447 1150 447 2328 \r\nQ 447 3434 972 4092 \r\nQ 1497 4750 2381 4750 \r\nQ 2619 4750 2861 4703 \r\nQ 3103 4656 3366 4563 \r\nz\r\n\" id=\"DejaVuSans-36\" transform=\"scale(0.015625)\"/>\r\n       </defs>\r\n       <use xlink:href=\"#DejaVuSans-36\"/>\r\n       <use x=\"63.623047\" xlink:href=\"#DejaVuSans-30\"/>\r\n       <use x=\"127.246094\" xlink:href=\"#DejaVuSans-30\"/>\r\n      </g>\r\n     </g>\r\n    </g>\r\n   </g>\r\n   <g id=\"line2d_17\">\r\n    <path clip-path=\"url(#p0d130ac1b6)\" d=\"M 56.885369 186.150728 \r\nL 65.581473 163.031891 \r\nL 74.277577 132.449038 \r\nL 82.973681 163.735429 \r\nL 91.669785 214.756364 \r\nL 100.365889 161.693372 \r\nL 109.061993 17.083636 \r\nL 117.758097 115.118322 \r\nL 126.4542 196.811549 \r\nL 135.150304 158.635489 \r\nL 143.846408 172.328465 \r\nL 152.542512 136.278374 \r\nL 161.238616 163.206067 \r\nL 169.93472 93.574606 \r\nL 178.630824 146.959278 \r\nL 187.326928 183.79063 \r\nL 196.023032 98.981462 \r\nL 204.719136 189.530834 \r\nL 213.415239 144.127789 \r\nL 222.111343 149.479869 \r\nL 230.807447 150.709828 \r\nL 239.503551 139.415146 \r\nL 248.199655 177.933936 \r\nL 256.895759 142.754823 \r\nL 265.591863 114.52467 \r\nL 274.287967 195.042413 \r\nL 282.984071 102.534484 \r\nL 291.680175 84.591513 \r\nL 300.376278 174.109172 \r\nL 309.072382 188.642998 \r\nL 317.768486 140.357944 \r\nL 326.46459 79.638844 \r\nL 335.160694 193.279224 \r\nL 343.856798 193.307679 \r\nL 352.552902 193.241779 \r\nL 361.249006 193.20231 \r\n\" style=\"fill:none;stroke:#1f77b4;stroke-linecap:square;stroke-width:1.5;\"/>\r\n   </g>\r\n   <g id=\"patch_3\">\r\n    <path d=\"M 41.667188 224.64 \r\nL 41.667188 7.2 \r\n\" style=\"fill:none;stroke:#000000;stroke-linecap:square;stroke-linejoin:miter;stroke-width:0.8;\"/>\r\n   </g>\r\n   <g id=\"patch_4\">\r\n    <path d=\"M 376.467188 224.64 \r\nL 376.467188 7.2 \r\n\" style=\"fill:none;stroke:#000000;stroke-linecap:square;stroke-linejoin:miter;stroke-width:0.8;\"/>\r\n   </g>\r\n   <g id=\"patch_5\">\r\n    <path d=\"M 41.667188 224.64 \r\nL 376.467188 224.64 \r\n\" style=\"fill:none;stroke:#000000;stroke-linecap:square;stroke-linejoin:miter;stroke-width:0.8;\"/>\r\n   </g>\r\n   <g id=\"patch_6\">\r\n    <path d=\"M 41.667188 7.2 \r\nL 376.467188 7.2 \r\n\" style=\"fill:none;stroke:#000000;stroke-linecap:square;stroke-linejoin:miter;stroke-width:0.8;\"/>\r\n   </g>\r\n  </g>\r\n </g>\r\n <defs>\r\n  <clipPath id=\"p0d130ac1b6\">\r\n   <rect height=\"217.44\" width=\"334.8\" x=\"41.667188\" y=\"7.2\"/>\r\n  </clipPath>\r\n </defs>\r\n</svg>\r\n",
      "image/png": "[encoded data removed]"
     },
     "metadata": {
      "needs_background": "light"
     }
    }
   ],
   "source": [
    "import matplotlib.pyplot as plt\n",
    "plt.plot(mean_values)\n",
    "plt.show()"
   ]
  },
  {
   "cell_type": "code",
   "execution_count": 21,
   "metadata": {},
   "outputs": [
    {
     "output_type": "display_data",
     "data": {
      "text/plain": "<Figure size 432x288 with 1 Axes>",
      "image/svg+xml": "<?xml version=\"1.0\" encoding=\"utf-8\" standalone=\"no\"?>\r\n<!DOCTYPE svg PUBLIC \"-//W3C//DTD SVG 1.1//EN\"\r\n  \"http://www.w3.org/Graphics/SVG/1.1/DTD/svg11.dtd\">\r\n<svg height=\"259.116562pt\" version=\"1.1\" viewBox=\"0 0 372.103125 259.116562\" width=\"372.103125pt\" xmlns=\"http://www.w3.org/2000/svg\" xmlns:xlink=\"http://www.w3.org/1999/xlink\">\r\n <metadata>\r\n  <rdf:RDF xmlns:cc=\"http://creativecommons.org/ns#\" xmlns:dc=\"http://purl.org/dc/elements/1.1/\" xmlns:rdf=\"http://www.w3.org/1999/02/22-rdf-syntax-ns#\">\r\n   <cc:Work>\r\n    <dc:type rdf:resource=\"http://purl.org/dc/dcmitype/StillImage\"/>\r\n    <dc:date>2021-05-20T16:53:55.028137</dc:date>\r\n    <dc:format>image/svg+xml</dc:format>\r\n    <dc:creator>\r\n     <cc:Agent>\r\n      <dc:title>Matplotlib v3.4.1, https://matplotlib.org/</dc:title>\r\n     </cc:Agent>\r\n    </dc:creator>\r\n   </cc:Work>\r\n  </rdf:RDF>\r\n </metadata>\r\n <defs>\r\n  <style type=\"text/css\">*{stroke-linecap:butt;stroke-linejoin:round;}</style>\r\n </defs>\r\n <g id=\"figure_1\">\r\n  <g id=\"patch_1\">\r\n   <path d=\"M 0 259.116562 \r\nL 372.103125 259.116562 \r\nL 372.103125 0 \r\nL 0 0 \r\nz\r\n\" style=\"fill:none;\"/>\r\n  </g>\r\n  <g id=\"axes_1\">\r\n   <g id=\"patch_2\">\r\n    <path d=\"M 30.103125 235.238437 \r\nL 364.903125 235.238437 \r\nL 364.903125 17.798437 \r\nL 30.103125 17.798437 \r\nz\r\n\" style=\"fill:#ffffff;\"/>\r\n   </g>\r\n   <g id=\"matplotlib.axis_1\">\r\n    <g id=\"xtick_1\">\r\n     <g id=\"line2d_1\">\r\n      <defs>\r\n       <path d=\"M 0 0 \r\nL 0 3.5 \r\n\" id=\"m05491b6564\" style=\"stroke:#000000;stroke-width:0.8;\"/>\r\n      </defs>\r\n      <g>\r\n       <use style=\"stroke:#000000;stroke-width:0.8;\" x=\"45.321307\" xlink:href=\"#m05491b6564\" y=\"235.238437\"/>\r\n      </g>\r\n     </g>\r\n     <g id=\"text_1\">\r\n      <!-- 0 -->\r\n      <g transform=\"translate(42.140057 249.836875)scale(0.1 -0.1)\">\r\n       <defs>\r\n        <path d=\"M 2034 4250 \r\nQ 1547 4250 1301 3770 \r\nQ 1056 3291 1056 2328 \r\nQ 1056 1369 1301 889 \r\nQ 1547 409 2034 409 \r\nQ 2525 409 2770 889 \r\nQ 3016 1369 3016 2328 \r\nQ 3016 3291 2770 3770 \r\nQ 2525 4250 2034 4250 \r\nz\r\nM 2034 4750 \r\nQ 2819 4750 3233 4129 \r\nQ 3647 3509 3647 2328 \r\nQ 3647 1150 3233 529 \r\nQ 2819 -91 2034 -91 \r\nQ 1250 -91 836 529 \r\nQ 422 1150 422 2328 \r\nQ 422 3509 836 4129 \r\nQ 1250 4750 2034 4750 \r\nz\r\n\" id=\"DejaVuSans-30\" transform=\"scale(0.015625)\"/>\r\n       </defs>\r\n       <use xlink:href=\"#DejaVuSans-30\"/>\r\n      </g>\r\n     </g>\r\n    </g>\r\n    <g id=\"xtick_2\">\r\n     <g id=\"line2d_2\">\r\n      <g>\r\n       <use style=\"stroke:#000000;stroke-width:0.8;\" x=\"88.801826\" xlink:href=\"#m05491b6564\" y=\"235.238437\"/>\r\n      </g>\r\n     </g>\r\n     <g id=\"text_2\">\r\n      <!-- 5 -->\r\n      <g transform=\"translate(85.620576 249.836875)scale(0.1 -0.1)\">\r\n       <defs>\r\n        <path d=\"M 691 4666 \r\nL 3169 4666 \r\nL 3169 4134 \r\nL 1269 4134 \r\nL 1269 2991 \r\nQ 1406 3038 1543 3061 \r\nQ 1681 3084 1819 3084 \r\nQ 2600 3084 3056 2656 \r\nQ 3513 2228 3513 1497 \r\nQ 3513 744 3044 326 \r\nQ 2575 -91 1722 -91 \r\nQ 1428 -91 1123 -41 \r\nQ 819 9 494 109 \r\nL 494 744 \r\nQ 775 591 1075 516 \r\nQ 1375 441 1709 441 \r\nQ 2250 441 2565 725 \r\nQ 2881 1009 2881 1497 \r\nQ 2881 1984 2565 2268 \r\nQ 2250 2553 1709 2553 \r\nQ 1456 2553 1204 2497 \r\nQ 953 2441 691 2322 \r\nL 691 4666 \r\nz\r\n\" id=\"DejaVuSans-35\" transform=\"scale(0.015625)\"/>\r\n       </defs>\r\n       <use xlink:href=\"#DejaVuSans-35\"/>\r\n      </g>\r\n     </g>\r\n    </g>\r\n    <g id=\"xtick_3\">\r\n     <g id=\"line2d_3\">\r\n      <g>\r\n       <use style=\"stroke:#000000;stroke-width:0.8;\" x=\"132.282346\" xlink:href=\"#m05491b6564\" y=\"235.238437\"/>\r\n      </g>\r\n     </g>\r\n     <g id=\"text_3\">\r\n      <!-- 10 -->\r\n      <g transform=\"translate(125.919846 249.836875)scale(0.1 -0.1)\">\r\n       <defs>\r\n        <path d=\"M 794 531 \r\nL 1825 531 \r\nL 1825 4091 \r\nL 703 3866 \r\nL 703 4441 \r\nL 1819 4666 \r\nL 2450 4666 \r\nL 2450 531 \r\nL 3481 531 \r\nL 3481 0 \r\nL 794 0 \r\nL 794 531 \r\nz\r\n\" id=\"DejaVuSans-31\" transform=\"scale(0.015625)\"/>\r\n       </defs>\r\n       <use xlink:href=\"#DejaVuSans-31\"/>\r\n       <use x=\"63.623047\" xlink:href=\"#DejaVuSans-30\"/>\r\n      </g>\r\n     </g>\r\n    </g>\r\n    <g id=\"xtick_4\">\r\n     <g id=\"line2d_4\">\r\n      <g>\r\n       <use style=\"stroke:#000000;stroke-width:0.8;\" x=\"175.762865\" xlink:href=\"#m05491b6564\" y=\"235.238437\"/>\r\n      </g>\r\n     </g>\r\n     <g id=\"text_4\">\r\n      <!-- 15 -->\r\n      <g transform=\"translate(169.400365 249.836875)scale(0.1 -0.1)\">\r\n       <use xlink:href=\"#DejaVuSans-31\"/>\r\n       <use x=\"63.623047\" xlink:href=\"#DejaVuSans-35\"/>\r\n      </g>\r\n     </g>\r\n    </g>\r\n    <g id=\"xtick_5\">\r\n     <g id=\"line2d_5\">\r\n      <g>\r\n       <use style=\"stroke:#000000;stroke-width:0.8;\" x=\"219.243385\" xlink:href=\"#m05491b6564\" y=\"235.238437\"/>\r\n      </g>\r\n     </g>\r\n     <g id=\"text_5\">\r\n      <!-- 20 -->\r\n      <g transform=\"translate(212.880885 249.836875)scale(0.1 -0.1)\">\r\n       <defs>\r\n        <path d=\"M 1228 531 \r\nL 3431 531 \r\nL 3431 0 \r\nL 469 0 \r\nL 469 531 \r\nQ 828 903 1448 1529 \r\nQ 2069 2156 2228 2338 \r\nQ 2531 2678 2651 2914 \r\nQ 2772 3150 2772 3378 \r\nQ 2772 3750 2511 3984 \r\nQ 2250 4219 1831 4219 \r\nQ 1534 4219 1204 4116 \r\nQ 875 4013 500 3803 \r\nL 500 4441 \r\nQ 881 4594 1212 4672 \r\nQ 1544 4750 1819 4750 \r\nQ 2544 4750 2975 4387 \r\nQ 3406 4025 3406 3419 \r\nQ 3406 3131 3298 2873 \r\nQ 3191 2616 2906 2266 \r\nQ 2828 2175 2409 1742 \r\nQ 1991 1309 1228 531 \r\nz\r\n\" id=\"DejaVuSans-32\" transform=\"scale(0.015625)\"/>\r\n       </defs>\r\n       <use xlink:href=\"#DejaVuSans-32\"/>\r\n       <use x=\"63.623047\" xlink:href=\"#DejaVuSans-30\"/>\r\n      </g>\r\n     </g>\r\n    </g>\r\n    <g id=\"xtick_6\">\r\n     <g id=\"line2d_6\">\r\n      <g>\r\n       <use style=\"stroke:#000000;stroke-width:0.8;\" x=\"262.723904\" xlink:href=\"#m05491b6564\" y=\"235.238437\"/>\r\n      </g>\r\n     </g>\r\n     <g id=\"text_6\">\r\n      <!-- 25 -->\r\n      <g transform=\"translate(256.361404 249.836875)scale(0.1 -0.1)\">\r\n       <use xlink:href=\"#DejaVuSans-32\"/>\r\n       <use x=\"63.623047\" xlink:href=\"#DejaVuSans-35\"/>\r\n      </g>\r\n     </g>\r\n    </g>\r\n    <g id=\"xtick_7\">\r\n     <g id=\"line2d_7\">\r\n      <g>\r\n       <use style=\"stroke:#000000;stroke-width:0.8;\" x=\"306.204424\" xlink:href=\"#m05491b6564\" y=\"235.238437\"/>\r\n      </g>\r\n     </g>\r\n     <g id=\"text_7\">\r\n      <!-- 30 -->\r\n      <g transform=\"translate(299.841924 249.836875)scale(0.1 -0.1)\">\r\n       <defs>\r\n        <path d=\"M 2597 2516 \r\nQ 3050 2419 3304 2112 \r\nQ 3559 1806 3559 1356 \r\nQ 3559 666 3084 287 \r\nQ 2609 -91 1734 -91 \r\nQ 1441 -91 1130 -33 \r\nQ 819 25 488 141 \r\nL 488 750 \r\nQ 750 597 1062 519 \r\nQ 1375 441 1716 441 \r\nQ 2309 441 2620 675 \r\nQ 2931 909 2931 1356 \r\nQ 2931 1769 2642 2001 \r\nQ 2353 2234 1838 2234 \r\nL 1294 2234 \r\nL 1294 2753 \r\nL 1863 2753 \r\nQ 2328 2753 2575 2939 \r\nQ 2822 3125 2822 3475 \r\nQ 2822 3834 2567 4026 \r\nQ 2313 4219 1838 4219 \r\nQ 1578 4219 1281 4162 \r\nQ 984 4106 628 3988 \r\nL 628 4550 \r\nQ 988 4650 1302 4700 \r\nQ 1616 4750 1894 4750 \r\nQ 2613 4750 3031 4423 \r\nQ 3450 4097 3450 3541 \r\nQ 3450 3153 3228 2886 \r\nQ 3006 2619 2597 2516 \r\nz\r\n\" id=\"DejaVuSans-33\" transform=\"scale(0.015625)\"/>\r\n       </defs>\r\n       <use xlink:href=\"#DejaVuSans-33\"/>\r\n       <use x=\"63.623047\" xlink:href=\"#DejaVuSans-30\"/>\r\n      </g>\r\n     </g>\r\n    </g>\r\n    <g id=\"xtick_8\">\r\n     <g id=\"line2d_8\">\r\n      <g>\r\n       <use style=\"stroke:#000000;stroke-width:0.8;\" x=\"349.684943\" xlink:href=\"#m05491b6564\" y=\"235.238437\"/>\r\n      </g>\r\n     </g>\r\n     <g id=\"text_8\">\r\n      <!-- 35 -->\r\n      <g transform=\"translate(343.322443 249.836875)scale(0.1 -0.1)\">\r\n       <use xlink:href=\"#DejaVuSans-33\"/>\r\n       <use x=\"63.623047\" xlink:href=\"#DejaVuSans-35\"/>\r\n      </g>\r\n     </g>\r\n    </g>\r\n   </g>\r\n   <g id=\"matplotlib.axis_2\">\r\n    <g id=\"ytick_1\">\r\n     <g id=\"line2d_9\">\r\n      <defs>\r\n       <path d=\"M 0 0 \r\nL -3.5 0 \r\n\" id=\"md4cf666143\" style=\"stroke:#000000;stroke-width:0.8;\"/>\r\n      </defs>\r\n      <g>\r\n       <use style=\"stroke:#000000;stroke-width:0.8;\" x=\"30.103125\" xlink:href=\"#md4cf666143\" y=\"225.35648\"/>\r\n      </g>\r\n     </g>\r\n     <g id=\"text_9\">\r\n      <!-- 0.0 -->\r\n      <g transform=\"translate(7.2 229.155699)scale(0.1 -0.1)\">\r\n       <defs>\r\n        <path d=\"M 684 794 \r\nL 1344 794 \r\nL 1344 0 \r\nL 684 0 \r\nL 684 794 \r\nz\r\n\" id=\"DejaVuSans-2e\" transform=\"scale(0.015625)\"/>\r\n       </defs>\r\n       <use xlink:href=\"#DejaVuSans-30\"/>\r\n       <use x=\"63.623047\" xlink:href=\"#DejaVuSans-2e\"/>\r\n       <use x=\"95.410156\" xlink:href=\"#DejaVuSans-30\"/>\r\n      </g>\r\n     </g>\r\n    </g>\r\n    <g id=\"ytick_2\">\r\n     <g id=\"line2d_10\">\r\n      <g>\r\n       <use style=\"stroke:#000000;stroke-width:0.8;\" x=\"30.103125\" xlink:href=\"#md4cf666143\" y=\"188.048969\"/>\r\n      </g>\r\n     </g>\r\n     <g id=\"text_10\">\r\n      <!-- 0.2 -->\r\n      <g transform=\"translate(7.2 191.848188)scale(0.1 -0.1)\">\r\n       <use xlink:href=\"#DejaVuSans-30\"/>\r\n       <use x=\"63.623047\" xlink:href=\"#DejaVuSans-2e\"/>\r\n       <use x=\"95.410156\" xlink:href=\"#DejaVuSans-32\"/>\r\n      </g>\r\n     </g>\r\n    </g>\r\n    <g id=\"ytick_3\">\r\n     <g id=\"line2d_11\">\r\n      <g>\r\n       <use style=\"stroke:#000000;stroke-width:0.8;\" x=\"30.103125\" xlink:href=\"#md4cf666143\" y=\"150.741458\"/>\r\n      </g>\r\n     </g>\r\n     <g id=\"text_11\">\r\n      <!-- 0.4 -->\r\n      <g transform=\"translate(7.2 154.540677)scale(0.1 -0.1)\">\r\n       <defs>\r\n        <path d=\"M 2419 4116 \r\nL 825 1625 \r\nL 2419 1625 \r\nL 2419 4116 \r\nz\r\nM 2253 4666 \r\nL 3047 4666 \r\nL 3047 1625 \r\nL 3713 1625 \r\nL 3713 1100 \r\nL 3047 1100 \r\nL 3047 0 \r\nL 2419 0 \r\nL 2419 1100 \r\nL 313 1100 \r\nL 313 1709 \r\nL 2253 4666 \r\nz\r\n\" id=\"DejaVuSans-34\" transform=\"scale(0.015625)\"/>\r\n       </defs>\r\n       <use xlink:href=\"#DejaVuSans-30\"/>\r\n       <use x=\"63.623047\" xlink:href=\"#DejaVuSans-2e\"/>\r\n       <use x=\"95.410156\" xlink:href=\"#DejaVuSans-34\"/>\r\n      </g>\r\n     </g>\r\n    </g>\r\n    <g id=\"ytick_4\">\r\n     <g id=\"line2d_12\">\r\n      <g>\r\n       <use style=\"stroke:#000000;stroke-width:0.8;\" x=\"30.103125\" xlink:href=\"#md4cf666143\" y=\"113.433947\"/>\r\n      </g>\r\n     </g>\r\n     <g id=\"text_12\">\r\n      <!-- 0.6 -->\r\n      <g transform=\"translate(7.2 117.233166)scale(0.1 -0.1)\">\r\n       <defs>\r\n        <path d=\"M 2113 2584 \r\nQ 1688 2584 1439 2293 \r\nQ 1191 2003 1191 1497 \r\nQ 1191 994 1439 701 \r\nQ 1688 409 2113 409 \r\nQ 2538 409 2786 701 \r\nQ 3034 994 3034 1497 \r\nQ 3034 2003 2786 2293 \r\nQ 2538 2584 2113 2584 \r\nz\r\nM 3366 4563 \r\nL 3366 3988 \r\nQ 3128 4100 2886 4159 \r\nQ 2644 4219 2406 4219 \r\nQ 1781 4219 1451 3797 \r\nQ 1122 3375 1075 2522 \r\nQ 1259 2794 1537 2939 \r\nQ 1816 3084 2150 3084 \r\nQ 2853 3084 3261 2657 \r\nQ 3669 2231 3669 1497 \r\nQ 3669 778 3244 343 \r\nQ 2819 -91 2113 -91 \r\nQ 1303 -91 875 529 \r\nQ 447 1150 447 2328 \r\nQ 447 3434 972 4092 \r\nQ 1497 4750 2381 4750 \r\nQ 2619 4750 2861 4703 \r\nQ 3103 4656 3366 4563 \r\nz\r\n\" id=\"DejaVuSans-36\" transform=\"scale(0.015625)\"/>\r\n       </defs>\r\n       <use xlink:href=\"#DejaVuSans-30\"/>\r\n       <use x=\"63.623047\" xlink:href=\"#DejaVuSans-2e\"/>\r\n       <use x=\"95.410156\" xlink:href=\"#DejaVuSans-36\"/>\r\n      </g>\r\n     </g>\r\n    </g>\r\n    <g id=\"ytick_5\">\r\n     <g id=\"line2d_13\">\r\n      <g>\r\n       <use style=\"stroke:#000000;stroke-width:0.8;\" x=\"30.103125\" xlink:href=\"#md4cf666143\" y=\"76.126436\"/>\r\n      </g>\r\n     </g>\r\n     <g id=\"text_13\">\r\n      <!-- 0.8 -->\r\n      <g transform=\"translate(7.2 79.925655)scale(0.1 -0.1)\">\r\n       <defs>\r\n        <path d=\"M 2034 2216 \r\nQ 1584 2216 1326 1975 \r\nQ 1069 1734 1069 1313 \r\nQ 1069 891 1326 650 \r\nQ 1584 409 2034 409 \r\nQ 2484 409 2743 651 \r\nQ 3003 894 3003 1313 \r\nQ 3003 1734 2745 1975 \r\nQ 2488 2216 2034 2216 \r\nz\r\nM 1403 2484 \r\nQ 997 2584 770 2862 \r\nQ 544 3141 544 3541 \r\nQ 544 4100 942 4425 \r\nQ 1341 4750 2034 4750 \r\nQ 2731 4750 3128 4425 \r\nQ 3525 4100 3525 3541 \r\nQ 3525 3141 3298 2862 \r\nQ 3072 2584 2669 2484 \r\nQ 3125 2378 3379 2068 \r\nQ 3634 1759 3634 1313 \r\nQ 3634 634 3220 271 \r\nQ 2806 -91 2034 -91 \r\nQ 1263 -91 848 271 \r\nQ 434 634 434 1313 \r\nQ 434 1759 690 2068 \r\nQ 947 2378 1403 2484 \r\nz\r\nM 1172 3481 \r\nQ 1172 3119 1398 2916 \r\nQ 1625 2713 2034 2713 \r\nQ 2441 2713 2670 2916 \r\nQ 2900 3119 2900 3481 \r\nQ 2900 3844 2670 4047 \r\nQ 2441 4250 2034 4250 \r\nQ 1625 4250 1398 4047 \r\nQ 1172 3844 1172 3481 \r\nz\r\n\" id=\"DejaVuSans-38\" transform=\"scale(0.015625)\"/>\r\n       </defs>\r\n       <use xlink:href=\"#DejaVuSans-30\"/>\r\n       <use x=\"63.623047\" xlink:href=\"#DejaVuSans-2e\"/>\r\n       <use x=\"95.410156\" xlink:href=\"#DejaVuSans-38\"/>\r\n      </g>\r\n     </g>\r\n    </g>\r\n    <g id=\"ytick_6\">\r\n     <g id=\"line2d_14\">\r\n      <g>\r\n       <use style=\"stroke:#000000;stroke-width:0.8;\" x=\"30.103125\" xlink:href=\"#md4cf666143\" y=\"38.818925\"/>\r\n      </g>\r\n     </g>\r\n     <g id=\"text_14\">\r\n      <!-- 1.0 -->\r\n      <g transform=\"translate(7.2 42.618144)scale(0.1 -0.1)\">\r\n       <use xlink:href=\"#DejaVuSans-31\"/>\r\n       <use x=\"63.623047\" xlink:href=\"#DejaVuSans-2e\"/>\r\n       <use x=\"95.410156\" xlink:href=\"#DejaVuSans-30\"/>\r\n      </g>\r\n     </g>\r\n    </g>\r\n    <g id=\"text_15\">\r\n     <!-- 1e6 -->\r\n     <g transform=\"translate(30.103125 14.798437)scale(0.1 -0.1)\">\r\n      <defs>\r\n       <path d=\"M 3597 1894 \r\nL 3597 1613 \r\nL 953 1613 \r\nQ 991 1019 1311 708 \r\nQ 1631 397 2203 397 \r\nQ 2534 397 2845 478 \r\nQ 3156 559 3463 722 \r\nL 3463 178 \r\nQ 3153 47 2828 -22 \r\nQ 2503 -91 2169 -91 \r\nQ 1331 -91 842 396 \r\nQ 353 884 353 1716 \r\nQ 353 2575 817 3079 \r\nQ 1281 3584 2069 3584 \r\nQ 2775 3584 3186 3129 \r\nQ 3597 2675 3597 1894 \r\nz\r\nM 3022 2063 \r\nQ 3016 2534 2758 2815 \r\nQ 2500 3097 2075 3097 \r\nQ 1594 3097 1305 2825 \r\nQ 1016 2553 972 2059 \r\nL 3022 2063 \r\nz\r\n\" id=\"DejaVuSans-65\" transform=\"scale(0.015625)\"/>\r\n      </defs>\r\n      <use xlink:href=\"#DejaVuSans-31\"/>\r\n      <use x=\"63.623047\" xlink:href=\"#DejaVuSans-65\"/>\r\n      <use x=\"125.146484\" xlink:href=\"#DejaVuSans-36\"/>\r\n     </g>\r\n    </g>\r\n   </g>\r\n   <g id=\"line2d_15\">\r\n    <path clip-path=\"url(#pbe4486e6c9)\" d=\"M 45.321307 212.872153 \r\nL 54.017411 148.196258 \r\nL 62.713515 184.81286 \r\nL 71.409619 165.552881 \r\nL 80.105722 197.396289 \r\nL 88.801826 183.622361 \r\nL 97.49793 27.682074 \r\nL 106.194034 149.967741 \r\nL 114.890138 173.569282 \r\nL 123.586242 179.019092 \r\nL 132.282346 197.949083 \r\nL 140.97845 180.677345 \r\nL 149.674554 209.041259 \r\nL 158.370657 130.969534 \r\nL 167.066761 155.969205 \r\nL 175.762865 199.539198 \r\nL 184.458969 111.495095 \r\nL 193.155073 201.724612 \r\nL 201.851177 182.813523 \r\nL 210.547281 158.25032 \r\nL 219.243385 151.028579 \r\nL 227.939489 196.181466 \r\nL 236.635593 214.330179 \r\nL 245.331696 174.27508 \r\nL 254.0278 136.966705 \r\nL 262.723904 191.454653 \r\nL 271.420008 176.007141 \r\nL 280.116112 158.989711 \r\nL 288.812216 180.054606 \r\nL 297.50832 207.201152 \r\nL 306.204424 149.226125 \r\nL 314.900528 119.788684 \r\nL 323.596631 225.354801 \r\nL 332.292735 225.354801 \r\nL 340.988839 225.354801 \r\nL 349.684943 225.354801 \r\n\" style=\"fill:none;stroke:#1f77b4;stroke-linecap:square;stroke-width:1.5;\"/>\r\n   </g>\r\n   <g id=\"patch_3\">\r\n    <path d=\"M 30.103125 235.238438 \r\nL 30.103125 17.798438 \r\n\" style=\"fill:none;stroke:#000000;stroke-linecap:square;stroke-linejoin:miter;stroke-width:0.8;\"/>\r\n   </g>\r\n   <g id=\"patch_4\">\r\n    <path d=\"M 364.903125 235.238438 \r\nL 364.903125 17.798438 \r\n\" style=\"fill:none;stroke:#000000;stroke-linecap:square;stroke-linejoin:miter;stroke-width:0.8;\"/>\r\n   </g>\r\n   <g id=\"patch_5\">\r\n    <path d=\"M 30.103125 235.238437 \r\nL 364.903125 235.238437 \r\n\" style=\"fill:none;stroke:#000000;stroke-linecap:square;stroke-linejoin:miter;stroke-width:0.8;\"/>\r\n   </g>\r\n   <g id=\"patch_6\">\r\n    <path d=\"M 30.103125 17.798437 \r\nL 364.903125 17.798437 \r\n\" style=\"fill:none;stroke:#000000;stroke-linecap:square;stroke-linejoin:miter;stroke-width:0.8;\"/>\r\n   </g>\r\n  </g>\r\n </g>\r\n <defs>\r\n  <clipPath id=\"pbe4486e6c9\">\r\n   <rect height=\"217.44\" width=\"334.8\" x=\"30.103125\" y=\"17.798437\"/>\r\n  </clipPath>\r\n </defs>\r\n</svg>\r\n",
      "image/png": "[encoded data removed]"
     },
     "metadata": {
      "needs_background": "light"
     }
    }
   ],
   "source": [
    "plt.plot(max_values)\n",
    "plt.show()"
   ]
  },
  {
   "cell_type": "code",
   "execution_count": 23,
   "metadata": {},
   "outputs": [
    {
     "output_type": "display_data",
     "data": {
      "text/plain": "<Figure size 432x288 with 1 Axes>",
      "image/svg+xml": "<?xml version=\"1.0\" encoding=\"utf-8\" standalone=\"no\"?>\r\n<!DOCTYPE svg PUBLIC \"-//W3C//DTD SVG 1.1//EN\"\r\n  \"http://www.w3.org/Graphics/SVG/1.1/DTD/svg11.dtd\">\r\n<svg height=\"248.518125pt\" version=\"1.1\" viewBox=\"0 0 402.754687 248.518125\" width=\"402.754687pt\" xmlns=\"http://www.w3.org/2000/svg\" xmlns:xlink=\"http://www.w3.org/1999/xlink\">\r\n <metadata>\r\n  <rdf:RDF xmlns:cc=\"http://creativecommons.org/ns#\" xmlns:dc=\"http://purl.org/dc/elements/1.1/\" xmlns:rdf=\"http://www.w3.org/1999/02/22-rdf-syntax-ns#\">\r\n   <cc:Work>\r\n    <dc:type rdf:resource=\"http://purl.org/dc/dcmitype/StillImage\"/>\r\n    <dc:date>2021-05-20T16:54:02.111890</dc:date>\r\n    <dc:format>image/svg+xml</dc:format>\r\n    <dc:creator>\r\n     <cc:Agent>\r\n      <dc:title>Matplotlib v3.4.1, https://matplotlib.org/</dc:title>\r\n     </cc:Agent>\r\n    </dc:creator>\r\n   </cc:Work>\r\n  </rdf:RDF>\r\n </metadata>\r\n <defs>\r\n  <style type=\"text/css\">*{stroke-linecap:butt;stroke-linejoin:round;}</style>\r\n </defs>\r\n <g id=\"figure_1\">\r\n  <g id=\"patch_1\">\r\n   <path d=\"M 0 248.518125 \r\nL 402.754687 248.518125 \r\nL 402.754687 0 \r\nL 0 0 \r\nz\r\n\" style=\"fill:none;\"/>\r\n  </g>\r\n  <g id=\"axes_1\">\r\n   <g id=\"patch_2\">\r\n    <path d=\"M 60.754688 224.64 \r\nL 395.554688 224.64 \r\nL 395.554688 7.2 \r\nL 60.754688 7.2 \r\nz\r\n\" style=\"fill:#ffffff;\"/>\r\n   </g>\r\n   <g id=\"matplotlib.axis_1\">\r\n    <g id=\"xtick_1\">\r\n     <g id=\"line2d_1\">\r\n      <defs>\r\n       <path d=\"M 0 0 \r\nL 0 3.5 \r\n\" id=\"m14a181c395\" style=\"stroke:#000000;stroke-width:0.8;\"/>\r\n      </defs>\r\n      <g>\r\n       <use style=\"stroke:#000000;stroke-width:0.8;\" x=\"75.972869\" xlink:href=\"#m14a181c395\" y=\"224.64\"/>\r\n      </g>\r\n     </g>\r\n     <g id=\"text_1\">\r\n      <!-- 0 -->\r\n      <g transform=\"translate(72.791619 239.238437)scale(0.1 -0.1)\">\r\n       <defs>\r\n        <path d=\"M 2034 4250 \r\nQ 1547 4250 1301 3770 \r\nQ 1056 3291 1056 2328 \r\nQ 1056 1369 1301 889 \r\nQ 1547 409 2034 409 \r\nQ 2525 409 2770 889 \r\nQ 3016 1369 3016 2328 \r\nQ 3016 3291 2770 3770 \r\nQ 2525 4250 2034 4250 \r\nz\r\nM 2034 4750 \r\nQ 2819 4750 3233 4129 \r\nQ 3647 3509 3647 2328 \r\nQ 3647 1150 3233 529 \r\nQ 2819 -91 2034 -91 \r\nQ 1250 -91 836 529 \r\nQ 422 1150 422 2328 \r\nQ 422 3509 836 4129 \r\nQ 1250 4750 2034 4750 \r\nz\r\n\" id=\"DejaVuSans-30\" transform=\"scale(0.015625)\"/>\r\n       </defs>\r\n       <use xlink:href=\"#DejaVuSans-30\"/>\r\n      </g>\r\n     </g>\r\n    </g>\r\n    <g id=\"xtick_2\">\r\n     <g id=\"line2d_2\">\r\n      <g>\r\n       <use style=\"stroke:#000000;stroke-width:0.8;\" x=\"119.453389\" xlink:href=\"#m14a181c395\" y=\"224.64\"/>\r\n      </g>\r\n     </g>\r\n     <g id=\"text_2\">\r\n      <!-- 5 -->\r\n      <g transform=\"translate(116.272139 239.238437)scale(0.1 -0.1)\">\r\n       <defs>\r\n        <path d=\"M 691 4666 \r\nL 3169 4666 \r\nL 3169 4134 \r\nL 1269 4134 \r\nL 1269 2991 \r\nQ 1406 3038 1543 3061 \r\nQ 1681 3084 1819 3084 \r\nQ 2600 3084 3056 2656 \r\nQ 3513 2228 3513 1497 \r\nQ 3513 744 3044 326 \r\nQ 2575 -91 1722 -91 \r\nQ 1428 -91 1123 -41 \r\nQ 819 9 494 109 \r\nL 494 744 \r\nQ 775 591 1075 516 \r\nQ 1375 441 1709 441 \r\nQ 2250 441 2565 725 \r\nQ 2881 1009 2881 1497 \r\nQ 2881 1984 2565 2268 \r\nQ 2250 2553 1709 2553 \r\nQ 1456 2553 1204 2497 \r\nQ 953 2441 691 2322 \r\nL 691 4666 \r\nz\r\n\" id=\"DejaVuSans-35\" transform=\"scale(0.015625)\"/>\r\n       </defs>\r\n       <use xlink:href=\"#DejaVuSans-35\"/>\r\n      </g>\r\n     </g>\r\n    </g>\r\n    <g id=\"xtick_3\">\r\n     <g id=\"line2d_3\">\r\n      <g>\r\n       <use style=\"stroke:#000000;stroke-width:0.8;\" x=\"162.933908\" xlink:href=\"#m14a181c395\" y=\"224.64\"/>\r\n      </g>\r\n     </g>\r\n     <g id=\"text_3\">\r\n      <!-- 10 -->\r\n      <g transform=\"translate(156.571408 239.238437)scale(0.1 -0.1)\">\r\n       <defs>\r\n        <path d=\"M 794 531 \r\nL 1825 531 \r\nL 1825 4091 \r\nL 703 3866 \r\nL 703 4441 \r\nL 1819 4666 \r\nL 2450 4666 \r\nL 2450 531 \r\nL 3481 531 \r\nL 3481 0 \r\nL 794 0 \r\nL 794 531 \r\nz\r\n\" id=\"DejaVuSans-31\" transform=\"scale(0.015625)\"/>\r\n       </defs>\r\n       <use xlink:href=\"#DejaVuSans-31\"/>\r\n       <use x=\"63.623047\" xlink:href=\"#DejaVuSans-30\"/>\r\n      </g>\r\n     </g>\r\n    </g>\r\n    <g id=\"xtick_4\">\r\n     <g id=\"line2d_4\">\r\n      <g>\r\n       <use style=\"stroke:#000000;stroke-width:0.8;\" x=\"206.414428\" xlink:href=\"#m14a181c395\" y=\"224.64\"/>\r\n      </g>\r\n     </g>\r\n     <g id=\"text_4\">\r\n      <!-- 15 -->\r\n      <g transform=\"translate(200.051928 239.238437)scale(0.1 -0.1)\">\r\n       <use xlink:href=\"#DejaVuSans-31\"/>\r\n       <use x=\"63.623047\" xlink:href=\"#DejaVuSans-35\"/>\r\n      </g>\r\n     </g>\r\n    </g>\r\n    <g id=\"xtick_5\">\r\n     <g id=\"line2d_5\">\r\n      <g>\r\n       <use style=\"stroke:#000000;stroke-width:0.8;\" x=\"249.894947\" xlink:href=\"#m14a181c395\" y=\"224.64\"/>\r\n      </g>\r\n     </g>\r\n     <g id=\"text_5\">\r\n      <!-- 20 -->\r\n      <g transform=\"translate(243.532447 239.238437)scale(0.1 -0.1)\">\r\n       <defs>\r\n        <path d=\"M 1228 531 \r\nL 3431 531 \r\nL 3431 0 \r\nL 469 0 \r\nL 469 531 \r\nQ 828 903 1448 1529 \r\nQ 2069 2156 2228 2338 \r\nQ 2531 2678 2651 2914 \r\nQ 2772 3150 2772 3378 \r\nQ 2772 3750 2511 3984 \r\nQ 2250 4219 1831 4219 \r\nQ 1534 4219 1204 4116 \r\nQ 875 4013 500 3803 \r\nL 500 4441 \r\nQ 881 4594 1212 4672 \r\nQ 1544 4750 1819 4750 \r\nQ 2544 4750 2975 4387 \r\nQ 3406 4025 3406 3419 \r\nQ 3406 3131 3298 2873 \r\nQ 3191 2616 2906 2266 \r\nQ 2828 2175 2409 1742 \r\nQ 1991 1309 1228 531 \r\nz\r\n\" id=\"DejaVuSans-32\" transform=\"scale(0.015625)\"/>\r\n       </defs>\r\n       <use xlink:href=\"#DejaVuSans-32\"/>\r\n       <use x=\"63.623047\" xlink:href=\"#DejaVuSans-30\"/>\r\n      </g>\r\n     </g>\r\n    </g>\r\n    <g id=\"xtick_6\">\r\n     <g id=\"line2d_6\">\r\n      <g>\r\n       <use style=\"stroke:#000000;stroke-width:0.8;\" x=\"293.375467\" xlink:href=\"#m14a181c395\" y=\"224.64\"/>\r\n      </g>\r\n     </g>\r\n     <g id=\"text_6\">\r\n      <!-- 25 -->\r\n      <g transform=\"translate(287.012967 239.238437)scale(0.1 -0.1)\">\r\n       <use xlink:href=\"#DejaVuSans-32\"/>\r\n       <use x=\"63.623047\" xlink:href=\"#DejaVuSans-35\"/>\r\n      </g>\r\n     </g>\r\n    </g>\r\n    <g id=\"xtick_7\">\r\n     <g id=\"line2d_7\">\r\n      <g>\r\n       <use style=\"stroke:#000000;stroke-width:0.8;\" x=\"336.855986\" xlink:href=\"#m14a181c395\" y=\"224.64\"/>\r\n      </g>\r\n     </g>\r\n     <g id=\"text_7\">\r\n      <!-- 30 -->\r\n      <g transform=\"translate(330.493486 239.238437)scale(0.1 -0.1)\">\r\n       <defs>\r\n        <path d=\"M 2597 2516 \r\nQ 3050 2419 3304 2112 \r\nQ 3559 1806 3559 1356 \r\nQ 3559 666 3084 287 \r\nQ 2609 -91 1734 -91 \r\nQ 1441 -91 1130 -33 \r\nQ 819 25 488 141 \r\nL 488 750 \r\nQ 750 597 1062 519 \r\nQ 1375 441 1716 441 \r\nQ 2309 441 2620 675 \r\nQ 2931 909 2931 1356 \r\nQ 2931 1769 2642 2001 \r\nQ 2353 2234 1838 2234 \r\nL 1294 2234 \r\nL 1294 2753 \r\nL 1863 2753 \r\nQ 2328 2753 2575 2939 \r\nQ 2822 3125 2822 3475 \r\nQ 2822 3834 2567 4026 \r\nQ 2313 4219 1838 4219 \r\nQ 1578 4219 1281 4162 \r\nQ 984 4106 628 3988 \r\nL 628 4550 \r\nQ 988 4650 1302 4700 \r\nQ 1616 4750 1894 4750 \r\nQ 2613 4750 3031 4423 \r\nQ 3450 4097 3450 3541 \r\nQ 3450 3153 3228 2886 \r\nQ 3006 2619 2597 2516 \r\nz\r\n\" id=\"DejaVuSans-33\" transform=\"scale(0.015625)\"/>\r\n       </defs>\r\n       <use xlink:href=\"#DejaVuSans-33\"/>\r\n       <use x=\"63.623047\" xlink:href=\"#DejaVuSans-30\"/>\r\n      </g>\r\n     </g>\r\n    </g>\r\n    <g id=\"xtick_8\">\r\n     <g id=\"line2d_8\">\r\n      <g>\r\n       <use style=\"stroke:#000000;stroke-width:0.8;\" x=\"380.336506\" xlink:href=\"#m14a181c395\" y=\"224.64\"/>\r\n      </g>\r\n     </g>\r\n     <g id=\"text_8\">\r\n      <!-- 35 -->\r\n      <g transform=\"translate(373.974006 239.238437)scale(0.1 -0.1)\">\r\n       <use xlink:href=\"#DejaVuSans-33\"/>\r\n       <use x=\"63.623047\" xlink:href=\"#DejaVuSans-35\"/>\r\n      </g>\r\n     </g>\r\n    </g>\r\n   </g>\r\n   <g id=\"matplotlib.axis_2\">\r\n    <g id=\"ytick_1\">\r\n     <g id=\"line2d_9\">\r\n      <defs>\r\n       <path d=\"M 0 0 \r\nL -3.5 0 \r\n\" id=\"m669cd1ce7f\" style=\"stroke:#000000;stroke-width:0.8;\"/>\r\n      </defs>\r\n      <g>\r\n       <use style=\"stroke:#000000;stroke-width:0.8;\" x=\"60.754688\" xlink:href=\"#m669cd1ce7f\" y=\"212.340623\"/>\r\n      </g>\r\n     </g>\r\n     <g id=\"text_9\">\r\n      <!-- −700000 -->\r\n      <g transform=\"translate(7.2 216.139841)scale(0.1 -0.1)\">\r\n       <defs>\r\n        <path d=\"M 678 2272 \r\nL 4684 2272 \r\nL 4684 1741 \r\nL 678 1741 \r\nL 678 2272 \r\nz\r\n\" id=\"DejaVuSans-2212\" transform=\"scale(0.015625)\"/>\r\n        <path d=\"M 525 4666 \r\nL 3525 4666 \r\nL 3525 4397 \r\nL 1831 0 \r\nL 1172 0 \r\nL 2766 4134 \r\nL 525 4134 \r\nL 525 4666 \r\nz\r\n\" id=\"DejaVuSans-37\" transform=\"scale(0.015625)\"/>\r\n       </defs>\r\n       <use xlink:href=\"#DejaVuSans-2212\"/>\r\n       <use x=\"83.789062\" xlink:href=\"#DejaVuSans-37\"/>\r\n       <use x=\"147.412109\" xlink:href=\"#DejaVuSans-30\"/>\r\n       <use x=\"211.035156\" xlink:href=\"#DejaVuSans-30\"/>\r\n       <use x=\"274.658203\" xlink:href=\"#DejaVuSans-30\"/>\r\n       <use x=\"338.28125\" xlink:href=\"#DejaVuSans-30\"/>\r\n       <use x=\"401.904297\" xlink:href=\"#DejaVuSans-30\"/>\r\n      </g>\r\n     </g>\r\n    </g>\r\n    <g id=\"ytick_2\">\r\n     <g id=\"line2d_10\">\r\n      <g>\r\n       <use style=\"stroke:#000000;stroke-width:0.8;\" x=\"60.754688\" xlink:href=\"#m669cd1ce7f\" y=\"184.446807\"/>\r\n      </g>\r\n     </g>\r\n     <g id=\"text_10\">\r\n      <!-- −600000 -->\r\n      <g transform=\"translate(7.2 188.246026)scale(0.1 -0.1)\">\r\n       <defs>\r\n        <path d=\"M 2113 2584 \r\nQ 1688 2584 1439 2293 \r\nQ 1191 2003 1191 1497 \r\nQ 1191 994 1439 701 \r\nQ 1688 409 2113 409 \r\nQ 2538 409 2786 701 \r\nQ 3034 994 3034 1497 \r\nQ 3034 2003 2786 2293 \r\nQ 2538 2584 2113 2584 \r\nz\r\nM 3366 4563 \r\nL 3366 3988 \r\nQ 3128 4100 2886 4159 \r\nQ 2644 4219 2406 4219 \r\nQ 1781 4219 1451 3797 \r\nQ 1122 3375 1075 2522 \r\nQ 1259 2794 1537 2939 \r\nQ 1816 3084 2150 3084 \r\nQ 2853 3084 3261 2657 \r\nQ 3669 2231 3669 1497 \r\nQ 3669 778 3244 343 \r\nQ 2819 -91 2113 -91 \r\nQ 1303 -91 875 529 \r\nQ 447 1150 447 2328 \r\nQ 447 3434 972 4092 \r\nQ 1497 4750 2381 4750 \r\nQ 2619 4750 2861 4703 \r\nQ 3103 4656 3366 4563 \r\nz\r\n\" id=\"DejaVuSans-36\" transform=\"scale(0.015625)\"/>\r\n       </defs>\r\n       <use xlink:href=\"#DejaVuSans-2212\"/>\r\n       <use x=\"83.789062\" xlink:href=\"#DejaVuSans-36\"/>\r\n       <use x=\"147.412109\" xlink:href=\"#DejaVuSans-30\"/>\r\n       <use x=\"211.035156\" xlink:href=\"#DejaVuSans-30\"/>\r\n       <use x=\"274.658203\" xlink:href=\"#DejaVuSans-30\"/>\r\n       <use x=\"338.28125\" xlink:href=\"#DejaVuSans-30\"/>\r\n       <use x=\"401.904297\" xlink:href=\"#DejaVuSans-30\"/>\r\n      </g>\r\n     </g>\r\n    </g>\r\n    <g id=\"ytick_3\">\r\n     <g id=\"line2d_11\">\r\n      <g>\r\n       <use style=\"stroke:#000000;stroke-width:0.8;\" x=\"60.754688\" xlink:href=\"#m669cd1ce7f\" y=\"156.552992\"/>\r\n      </g>\r\n     </g>\r\n     <g id=\"text_11\">\r\n      <!-- −500000 -->\r\n      <g transform=\"translate(7.2 160.352211)scale(0.1 -0.1)\">\r\n       <use xlink:href=\"#DejaVuSans-2212\"/>\r\n       <use x=\"83.789062\" xlink:href=\"#DejaVuSans-35\"/>\r\n       <use x=\"147.412109\" xlink:href=\"#DejaVuSans-30\"/>\r\n       <use x=\"211.035156\" xlink:href=\"#DejaVuSans-30\"/>\r\n       <use x=\"274.658203\" xlink:href=\"#DejaVuSans-30\"/>\r\n       <use x=\"338.28125\" xlink:href=\"#DejaVuSans-30\"/>\r\n       <use x=\"401.904297\" xlink:href=\"#DejaVuSans-30\"/>\r\n      </g>\r\n     </g>\r\n    </g>\r\n    <g id=\"ytick_4\">\r\n     <g id=\"line2d_12\">\r\n      <g>\r\n       <use style=\"stroke:#000000;stroke-width:0.8;\" x=\"60.754688\" xlink:href=\"#m669cd1ce7f\" y=\"128.659177\"/>\r\n      </g>\r\n     </g>\r\n     <g id=\"text_12\">\r\n      <!-- −400000 -->\r\n      <g transform=\"translate(7.2 132.458395)scale(0.1 -0.1)\">\r\n       <defs>\r\n        <path d=\"M 2419 4116 \r\nL 825 1625 \r\nL 2419 1625 \r\nL 2419 4116 \r\nz\r\nM 2253 4666 \r\nL 3047 4666 \r\nL 3047 1625 \r\nL 3713 1625 \r\nL 3713 1100 \r\nL 3047 1100 \r\nL 3047 0 \r\nL 2419 0 \r\nL 2419 1100 \r\nL 313 1100 \r\nL 313 1709 \r\nL 2253 4666 \r\nz\r\n\" id=\"DejaVuSans-34\" transform=\"scale(0.015625)\"/>\r\n       </defs>\r\n       <use xlink:href=\"#DejaVuSans-2212\"/>\r\n       <use x=\"83.789062\" xlink:href=\"#DejaVuSans-34\"/>\r\n       <use x=\"147.412109\" xlink:href=\"#DejaVuSans-30\"/>\r\n       <use x=\"211.035156\" xlink:href=\"#DejaVuSans-30\"/>\r\n       <use x=\"274.658203\" xlink:href=\"#DejaVuSans-30\"/>\r\n       <use x=\"338.28125\" xlink:href=\"#DejaVuSans-30\"/>\r\n       <use x=\"401.904297\" xlink:href=\"#DejaVuSans-30\"/>\r\n      </g>\r\n     </g>\r\n    </g>\r\n    <g id=\"ytick_5\">\r\n     <g id=\"line2d_13\">\r\n      <g>\r\n       <use style=\"stroke:#000000;stroke-width:0.8;\" x=\"60.754688\" xlink:href=\"#m669cd1ce7f\" y=\"100.765361\"/>\r\n      </g>\r\n     </g>\r\n     <g id=\"text_13\">\r\n      <!-- −300000 -->\r\n      <g transform=\"translate(7.2 104.56458)scale(0.1 -0.1)\">\r\n       <use xlink:href=\"#DejaVuSans-2212\"/>\r\n       <use x=\"83.789062\" xlink:href=\"#DejaVuSans-33\"/>\r\n       <use x=\"147.412109\" xlink:href=\"#DejaVuSans-30\"/>\r\n       <use x=\"211.035156\" xlink:href=\"#DejaVuSans-30\"/>\r\n       <use x=\"274.658203\" xlink:href=\"#DejaVuSans-30\"/>\r\n       <use x=\"338.28125\" xlink:href=\"#DejaVuSans-30\"/>\r\n       <use x=\"401.904297\" xlink:href=\"#DejaVuSans-30\"/>\r\n      </g>\r\n     </g>\r\n    </g>\r\n    <g id=\"ytick_6\">\r\n     <g id=\"line2d_14\">\r\n      <g>\r\n       <use style=\"stroke:#000000;stroke-width:0.8;\" x=\"60.754688\" xlink:href=\"#m669cd1ce7f\" y=\"72.871546\"/>\r\n      </g>\r\n     </g>\r\n     <g id=\"text_14\">\r\n      <!-- −200000 -->\r\n      <g transform=\"translate(7.2 76.670765)scale(0.1 -0.1)\">\r\n       <use xlink:href=\"#DejaVuSans-2212\"/>\r\n       <use x=\"83.789062\" xlink:href=\"#DejaVuSans-32\"/>\r\n       <use x=\"147.412109\" xlink:href=\"#DejaVuSans-30\"/>\r\n       <use x=\"211.035156\" xlink:href=\"#DejaVuSans-30\"/>\r\n       <use x=\"274.658203\" xlink:href=\"#DejaVuSans-30\"/>\r\n       <use x=\"338.28125\" xlink:href=\"#DejaVuSans-30\"/>\r\n       <use x=\"401.904297\" xlink:href=\"#DejaVuSans-30\"/>\r\n      </g>\r\n     </g>\r\n    </g>\r\n    <g id=\"ytick_7\">\r\n     <g id=\"line2d_15\">\r\n      <g>\r\n       <use style=\"stroke:#000000;stroke-width:0.8;\" x=\"60.754688\" xlink:href=\"#m669cd1ce7f\" y=\"44.977731\"/>\r\n      </g>\r\n     </g>\r\n     <g id=\"text_15\">\r\n      <!-- −100000 -->\r\n      <g transform=\"translate(7.2 48.776949)scale(0.1 -0.1)\">\r\n       <use xlink:href=\"#DejaVuSans-2212\"/>\r\n       <use x=\"83.789062\" xlink:href=\"#DejaVuSans-31\"/>\r\n       <use x=\"147.412109\" xlink:href=\"#DejaVuSans-30\"/>\r\n       <use x=\"211.035156\" xlink:href=\"#DejaVuSans-30\"/>\r\n       <use x=\"274.658203\" xlink:href=\"#DejaVuSans-30\"/>\r\n       <use x=\"338.28125\" xlink:href=\"#DejaVuSans-30\"/>\r\n       <use x=\"401.904297\" xlink:href=\"#DejaVuSans-30\"/>\r\n      </g>\r\n     </g>\r\n    </g>\r\n    <g id=\"ytick_8\">\r\n     <g id=\"line2d_16\">\r\n      <g>\r\n       <use style=\"stroke:#000000;stroke-width:0.8;\" x=\"60.754688\" xlink:href=\"#m669cd1ce7f\" y=\"17.083915\"/>\r\n      </g>\r\n     </g>\r\n     <g id=\"text_16\">\r\n      <!-- 0 -->\r\n      <g transform=\"translate(47.392188 20.883134)scale(0.1 -0.1)\">\r\n       <use xlink:href=\"#DejaVuSans-30\"/>\r\n      </g>\r\n     </g>\r\n    </g>\r\n   </g>\r\n   <g id=\"line2d_17\">\r\n    <path clip-path=\"url(#p602d4623e6)\" d=\"M 75.972869 69.874984 \r\nL 84.668973 80.594002 \r\nL 93.365077 76.50547 \r\nL 102.061181 77.331561 \r\nL 110.757285 88.680242 \r\nL 119.453389 58.131165 \r\nL 128.149493 62.308208 \r\nL 136.845597 63.065319 \r\nL 145.5417 157.691801 \r\nL 154.237804 51.508783 \r\nL 162.933908 214.756364 \r\nL 171.630012 86.341593 \r\nL 180.326116 116.905838 \r\nL 189.02222 58.576604 \r\nL 197.718324 82.602187 \r\nL 206.414428 119.086823 \r\nL 215.110532 53.7563 \r\nL 223.806636 111.401002 \r\nL 232.502739 144.134389 \r\nL 241.198843 33.266824 \r\nL 249.894947 103.59838 \r\nL 258.591051 69.952217 \r\nL 267.287155 164.45369 \r\nL 275.983259 119.485848 \r\nL 284.679363 41.907605 \r\nL 293.375467 127.58267 \r\nL 302.071571 63.264871 \r\nL 310.767675 40.793496 \r\nL 319.463778 107.537208 \r\nL 328.159882 140.370127 \r\nL 336.855986 47.909194 \r\nL 345.55209 52.204093 \r\nL 354.248194 17.083636 \r\nL 362.944298 17.083636 \r\nL 371.640402 17.083636 \r\nL 380.336506 17.083636 \r\n\" style=\"fill:none;stroke:#1f77b4;stroke-linecap:square;stroke-width:1.5;\"/>\r\n   </g>\r\n   <g id=\"patch_3\">\r\n    <path d=\"M 60.754688 224.64 \r\nL 60.754688 7.2 \r\n\" style=\"fill:none;stroke:#000000;stroke-linecap:square;stroke-linejoin:miter;stroke-width:0.8;\"/>\r\n   </g>\r\n   <g id=\"patch_4\">\r\n    <path d=\"M 395.554688 224.64 \r\nL 395.554688 7.2 \r\n\" style=\"fill:none;stroke:#000000;stroke-linecap:square;stroke-linejoin:miter;stroke-width:0.8;\"/>\r\n   </g>\r\n   <g id=\"patch_5\">\r\n    <path d=\"M 60.754688 224.64 \r\nL 395.554688 224.64 \r\n\" style=\"fill:none;stroke:#000000;stroke-linecap:square;stroke-linejoin:miter;stroke-width:0.8;\"/>\r\n   </g>\r\n   <g id=\"patch_6\">\r\n    <path d=\"M 60.754688 7.2 \r\nL 395.554688 7.2 \r\n\" style=\"fill:none;stroke:#000000;stroke-linecap:square;stroke-linejoin:miter;stroke-width:0.8;\"/>\r\n   </g>\r\n  </g>\r\n </g>\r\n <defs>\r\n  <clipPath id=\"p602d4623e6\">\r\n   <rect height=\"217.44\" width=\"334.8\" x=\"60.754688\" y=\"7.2\"/>\r\n  </clipPath>\r\n </defs>\r\n</svg>\r\n",
      "image/png": "[encoded data removed]"
     },
     "metadata": {
      "needs_background": "light"
     }
    }
   ],
   "source": [
    "plt.plot(min_values)\n",
    "plt.show()"
   ]
  },
  {
   "source": [
    "# PRUEBAS CON SÓLO 1 SUJETO"
   ],
   "cell_type": "markdown",
   "metadata": {}
  },
  {
   "cell_type": "code",
   "execution_count": 3,
   "metadata": {},
   "outputs": [
    {
     "output_type": "execute_result",
     "data": {
      "text/plain": [
       "             FP1        AF3        F7        F3       FC1        FC5  \\\n",
       "0       0.948232  10.260175  1.013050 -7.658428 -1.811108  11.011411   \n",
       "1       1.653335  12.795443 -1.067832 -3.267558 -4.783876   7.402976   \n",
       "2       3.013726  10.426192  3.908249  0.701542 -0.522649   1.120469   \n",
       "3       1.495061   8.229207  6.094405  2.959722  1.299854  -0.832024   \n",
       "4      -1.264836   3.751782  4.145906  3.459897 -0.916779  -0.784404   \n",
       "...          ...        ...       ...       ...       ...        ...   \n",
       "322555 -0.097608  -0.062015 -0.151092  0.013060 -0.046585  -0.060403   \n",
       "322556 -0.097608  -0.062015 -0.151092  0.013060 -0.046585  -0.060403   \n",
       "322557 -0.097608  -0.062015 -0.151092  0.013060 -0.046585  -0.060403   \n",
       "322558 -0.097608  -0.062015 -0.151092  0.013060 -0.046585  -0.060403   \n",
       "322559 -0.097608  -0.062015 -0.151092  0.013060 -0.046585  -0.060403   \n",
       "\n",
       "              T7        C3       CP1        CP5  ...       zEMG      tEMG  \\\n",
       "0       3.026008 -2.380048  3.978952  -9.657708  ... -16.301457 -0.706001   \n",
       "1       2.676232 -3.614201 -1.434440  -0.906298  ...  -4.812761 -5.921890   \n",
       "2       2.046996 -4.286566 -6.174767   9.408599  ...   6.188724 -5.339078   \n",
       "3       2.192056 -5.170547 -6.571542  14.101073  ...  10.774304 -2.384648   \n",
       "4      -4.694002 -5.332026 -7.793136  16.284187  ...  14.252287 -4.426890   \n",
       "...          ...       ...       ...        ...  ...        ...       ...   \n",
       "322555  0.149920  0.000826  0.214036  -0.050429  ...   0.027177  0.028145   \n",
       "322556  0.149920  0.000826  0.215036  -0.050429  ...   0.028177  0.028145   \n",
       "322557  0.149920  0.000826  0.215036  -0.050429  ...   0.028177  0.028145   \n",
       "322558  0.149920  0.000826  0.214036  -0.050429  ...   0.028177  0.028145   \n",
       "322559  0.149920  0.000826  0.215036  -0.050429  ...   0.028177  0.028145   \n",
       "\n",
       "             GSR  Respiration     PLethy  Temperature  valence  arousal  \\\n",
       "0      -1.398098   -11.394413   2.531878     3.083006     7.71     7.60   \n",
       "1       2.184835   -13.450227   0.158111     0.627215     7.71     7.60   \n",
       "2       0.680208    -9.662999  -4.674497    -3.402560     7.71     7.60   \n",
       "3      -3.005392    -1.804665 -11.282898    -5.091942     7.71     7.60   \n",
       "4      -7.057571     6.404798 -11.679159    -5.858427     7.71     7.60   \n",
       "...          ...          ...        ...          ...      ...      ...   \n",
       "322555  0.059504     0.046749  -0.010698     0.186422     5.10     7.12   \n",
       "322556  0.059504     0.046749  -0.010698     0.186422     5.10     7.12   \n",
       "322557  0.059504     0.046749  -0.010698     0.186422     5.10     7.12   \n",
       "322558  0.059504     0.046749  -0.010698     0.186422     5.10     7.12   \n",
       "322559  0.059504     0.046749  -0.010698     0.186422     5.10     7.12   \n",
       "\n",
       "        dominance  liking  \n",
       "0            6.90    7.83  \n",
       "1            6.90    7.83  \n",
       "2            6.90    7.83  \n",
       "3            6.90    7.83  \n",
       "4            6.90    7.83  \n",
       "...           ...     ...  \n",
       "322555       6.17    5.97  \n",
       "322556       6.17    5.97  \n",
       "322557       6.17    5.97  \n",
       "322558       6.17    5.97  \n",
       "322559       6.17    5.97  \n",
       "\n",
       "[322560 rows x 44 columns]"
      ],
      "text/html": "<div>\n<style scoped>\n    .dataframe tbody tr th:only-of-type {\n        vertical-align: middle;\n    }\n\n    .dataframe tbody tr th {\n        vertical-align: top;\n    }\n\n    .dataframe thead th {\n        text-align: right;\n    }\n</style>\n<table border=\"1\" class=\"dataframe\">\n  <thead>\n    <tr style=\"text-align: right;\">\n      <th></th>\n      <th>FP1</th>\n      <th>AF3</th>\n      <th>F7</th>\n      <th>F3</th>\n      <th>FC1</th>\n      <th>FC5</th>\n      <th>T7</th>\n      <th>C3</th>\n      <th>CP1</th>\n      <th>CP5</th>\n      <th>...</th>\n      <th>zEMG</th>\n      <th>tEMG</th>\n      <th>GSR</th>\n      <th>Respiration</th>\n      <th>PLethy</th>\n      <th>Temperature</th>\n      <th>valence</th>\n      <th>arousal</th>\n      <th>dominance</th>\n      <th>liking</th>\n    </tr>\n  </thead>\n  <tbody>\n    <tr>\n      <th>0</th>\n      <td>0.948232</td>\n      <td>10.260175</td>\n      <td>1.013050</td>\n      <td>-7.658428</td>\n      <td>-1.811108</td>\n      <td>11.011411</td>\n      <td>3.026008</td>\n      <td>-2.380048</td>\n      <td>3.978952</td>\n      <td>-9.657708</td>\n      <td>...</td>\n      <td>-16.301457</td>\n      <td>-0.706001</td>\n      <td>-1.398098</td>\n      <td>-11.394413</td>\n      <td>2.531878</td>\n      <td>3.083006</td>\n      <td>7.71</td>\n      <td>7.60</td>\n      <td>6.90</td>\n      <td>7.83</td>\n    </tr>\n    <tr>\n      <th>1</th>\n      <td>1.653335</td>\n      <td>12.795443</td>\n      <td>-1.067832</td>\n      <td>-3.267558</td>\n      <td>-4.783876</td>\n      <td>7.402976</td>\n      <td>2.676232</td>\n      <td>-3.614201</td>\n      <td>-1.434440</td>\n      <td>-0.906298</td>\n      <td>...</td>\n      <td>-4.812761</td>\n      <td>-5.921890</td>\n      <td>2.184835</td>\n      <td>-13.450227</td>\n      <td>0.158111</td>\n      <td>0.627215</td>\n      <td>7.71</td>\n      <td>7.60</td>\n      <td>6.90</td>\n      <td>7.83</td>\n    </tr>\n    <tr>\n      <th>2</th>\n      <td>3.013726</td>\n      <td>10.426192</td>\n      <td>3.908249</td>\n      <td>0.701542</td>\n      <td>-0.522649</td>\n      <td>1.120469</td>\n      <td>2.046996</td>\n      <td>-4.286566</td>\n      <td>-6.174767</td>\n      <td>9.408599</td>\n      <td>...</td>\n      <td>6.188724</td>\n      <td>-5.339078</td>\n      <td>0.680208</td>\n      <td>-9.662999</td>\n      <td>-4.674497</td>\n      <td>-3.402560</td>\n      <td>7.71</td>\n      <td>7.60</td>\n      <td>6.90</td>\n      <td>7.83</td>\n    </tr>\n    <tr>\n      <th>3</th>\n      <td>1.495061</td>\n      <td>8.229207</td>\n      <td>6.094405</td>\n      <td>2.959722</td>\n      <td>1.299854</td>\n      <td>-0.832024</td>\n      <td>2.192056</td>\n      <td>-5.170547</td>\n      <td>-6.571542</td>\n      <td>14.101073</td>\n      <td>...</td>\n      <td>10.774304</td>\n      <td>-2.384648</td>\n      <td>-3.005392</td>\n      <td>-1.804665</td>\n      <td>-11.282898</td>\n      <td>-5.091942</td>\n      <td>7.71</td>\n      <td>7.60</td>\n      <td>6.90</td>\n      <td>7.83</td>\n    </tr>\n    <tr>\n      <th>4</th>\n      <td>-1.264836</td>\n      <td>3.751782</td>\n      <td>4.145906</td>\n      <td>3.459897</td>\n      <td>-0.916779</td>\n      <td>-0.784404</td>\n      <td>-4.694002</td>\n      <td>-5.332026</td>\n      <td>-7.793136</td>\n      <td>16.284187</td>\n      <td>...</td>\n      <td>14.252287</td>\n      <td>-4.426890</td>\n      <td>-7.057571</td>\n      <td>6.404798</td>\n      <td>-11.679159</td>\n      <td>-5.858427</td>\n      <td>7.71</td>\n      <td>7.60</td>\n      <td>6.90</td>\n      <td>7.83</td>\n    </tr>\n    <tr>\n      <th>...</th>\n      <td>...</td>\n      <td>...</td>\n      <td>...</td>\n      <td>...</td>\n      <td>...</td>\n      <td>...</td>\n      <td>...</td>\n      <td>...</td>\n      <td>...</td>\n      <td>...</td>\n      <td>...</td>\n      <td>...</td>\n      <td>...</td>\n      <td>...</td>\n      <td>...</td>\n      <td>...</td>\n      <td>...</td>\n      <td>...</td>\n      <td>...</td>\n      <td>...</td>\n      <td>...</td>\n    </tr>\n    <tr>\n      <th>322555</th>\n      <td>-0.097608</td>\n      <td>-0.062015</td>\n      <td>-0.151092</td>\n      <td>0.013060</td>\n      <td>-0.046585</td>\n      <td>-0.060403</td>\n      <td>0.149920</td>\n      <td>0.000826</td>\n      <td>0.214036</td>\n      <td>-0.050429</td>\n      <td>...</td>\n      <td>0.027177</td>\n      <td>0.028145</td>\n      <td>0.059504</td>\n      <td>0.046749</td>\n      <td>-0.010698</td>\n      <td>0.186422</td>\n      <td>5.10</td>\n      <td>7.12</td>\n      <td>6.17</td>\n      <td>5.97</td>\n    </tr>\n    <tr>\n      <th>322556</th>\n      <td>-0.097608</td>\n      <td>-0.062015</td>\n      <td>-0.151092</td>\n      <td>0.013060</td>\n      <td>-0.046585</td>\n      <td>-0.060403</td>\n      <td>0.149920</td>\n      <td>0.000826</td>\n      <td>0.215036</td>\n      <td>-0.050429</td>\n      <td>...</td>\n      <td>0.028177</td>\n      <td>0.028145</td>\n      <td>0.059504</td>\n      <td>0.046749</td>\n      <td>-0.010698</td>\n      <td>0.186422</td>\n      <td>5.10</td>\n      <td>7.12</td>\n      <td>6.17</td>\n      <td>5.97</td>\n    </tr>\n    <tr>\n      <th>322557</th>\n      <td>-0.097608</td>\n      <td>-0.062015</td>\n      <td>-0.151092</td>\n      <td>0.013060</td>\n      <td>-0.046585</td>\n      <td>-0.060403</td>\n      <td>0.149920</td>\n      <td>0.000826</td>\n      <td>0.215036</td>\n      <td>-0.050429</td>\n      <td>...</td>\n      <td>0.028177</td>\n      <td>0.028145</td>\n      <td>0.059504</td>\n      <td>0.046749</td>\n      <td>-0.010698</td>\n      <td>0.186422</td>\n      <td>5.10</td>\n      <td>7.12</td>\n      <td>6.17</td>\n      <td>5.97</td>\n    </tr>\n    <tr>\n      <th>322558</th>\n      <td>-0.097608</td>\n      <td>-0.062015</td>\n      <td>-0.151092</td>\n      <td>0.013060</td>\n      <td>-0.046585</td>\n      <td>-0.060403</td>\n      <td>0.149920</td>\n      <td>0.000826</td>\n      <td>0.214036</td>\n      <td>-0.050429</td>\n      <td>...</td>\n      <td>0.028177</td>\n      <td>0.028145</td>\n      <td>0.059504</td>\n      <td>0.046749</td>\n      <td>-0.010698</td>\n      <td>0.186422</td>\n      <td>5.10</td>\n      <td>7.12</td>\n      <td>6.17</td>\n      <td>5.97</td>\n    </tr>\n    <tr>\n      <th>322559</th>\n      <td>-0.097608</td>\n      <td>-0.062015</td>\n      <td>-0.151092</td>\n      <td>0.013060</td>\n      <td>-0.046585</td>\n      <td>-0.060403</td>\n      <td>0.149920</td>\n      <td>0.000826</td>\n      <td>0.215036</td>\n      <td>-0.050429</td>\n      <td>...</td>\n      <td>0.028177</td>\n      <td>0.028145</td>\n      <td>0.059504</td>\n      <td>0.046749</td>\n      <td>-0.010698</td>\n      <td>0.186422</td>\n      <td>5.10</td>\n      <td>7.12</td>\n      <td>6.17</td>\n      <td>5.97</td>\n    </tr>\n  </tbody>\n</table>\n<p>322560 rows × 44 columns</p>\n</div>"
     },
     "metadata": {},
     "execution_count": 3
    }
   ],
   "source": [
    "import pandas as pd\n",
    "import numpy as np\n",
    "import matplotlib.pyplot as plt\n",
    "import os\n",
    "import pickle\n",
    "\n",
    "files = os.listdir('d\\\\')\n",
    "\n",
    "list_of_dfs = []\n",
    "for file in files:\n",
    "    with open(os.path.join('d\\\\',file), 'rb') as pickle_file:\n",
    "        dictRaw = pd.read_pickle(pickle_file) \n",
    "        labels = dictRaw.get('labels')\n",
    "        data = dictRaw.get('data')\n",
    "        \n",
    "        dfLabels = pd.DataFrame(data=labels, columns=[\"valence\", \"arousal\", \"dominance\", \"liking\"])\n",
    "\n",
    "        a,b,c = data.shape\n",
    "        E = data.reshape(40, 322560)\n",
    "        allData = pd.DataFrame(E).transpose()\n",
    "        rows = list()\n",
    "        for _,row in dfLabels.iterrows():\n",
    "            rows += [row]*8064\n",
    "        aux = pd.DataFrame(rows).reset_index(drop=True)\n",
    "        allData = allData.merge(aux, left_index=True, right_index=True)\n",
    "        \n",
    "        list_of_dfs.append(allData)\n",
    "big_df = pd.concat(list_of_dfs, ignore_index=True)#ignore_index to reset index of big_df\n",
    "\n",
    "\n",
    "big_df.columns = ['FP1','AF3','F7','F3','FC1','FC5','T7','C3','CP1','CP5','P7','P3','Pz','PO3','O1','Oz','O2','PO4','P4','P8','CP6','CP2','C4','T8','FC6','FC2','F4','F8','AF4','Fp2','Fz','Cz','hEOG','vEOG','zEMG','tEMG','GSR','Respiration','PLethy','Temperature','valence', 'arousal', 'dominance', 'liking']\n",
    "\n",
    "big_df"
   ]
  },
  {
   "cell_type": "code",
   "execution_count": 4,
   "metadata": {},
   "outputs": [
    {
     "output_type": "execute_result",
     "data": {
      "text/plain": [
       "             FP1        AF3        F7        F3       FC1        FC5  \\\n",
       "0       0.948232  10.260175  1.013050 -7.658428 -1.811108  11.011411   \n",
       "1       1.653335  12.795443 -1.067832 -3.267558 -4.783876   7.402976   \n",
       "2       3.013726  10.426192  3.908249  0.701542 -0.522649   1.120469   \n",
       "3       1.495061   8.229207  6.094405  2.959722  1.299854  -0.832024   \n",
       "4      -1.264836   3.751782  4.145906  3.459897 -0.916779  -0.784404   \n",
       "...          ...        ...       ...       ...       ...        ...   \n",
       "322555 -0.097608  -0.062015 -0.151092  0.013060 -0.046585  -0.060403   \n",
       "322556 -0.097608  -0.062015 -0.151092  0.013060 -0.046585  -0.060403   \n",
       "322557 -0.097608  -0.062015 -0.151092  0.013060 -0.046585  -0.060403   \n",
       "322558 -0.097608  -0.062015 -0.151092  0.013060 -0.046585  -0.060403   \n",
       "322559 -0.097608  -0.062015 -0.151092  0.013060 -0.046585  -0.060403   \n",
       "\n",
       "              T7        C3       CP1        CP5  ...        F4        F8  \\\n",
       "0       3.026008 -2.380048  3.978952  -9.657708  ...  4.239575  4.888393   \n",
       "1       2.676232 -3.614201 -1.434440  -0.906298  ...  4.557239  6.007259   \n",
       "2       2.046996 -4.286566 -6.174767   9.408599  ...  0.636801  2.921478   \n",
       "3       2.192056 -5.170547 -6.571542  14.101073  ... -2.965047 -0.679860   \n",
       "4      -4.694002 -5.332026 -7.793136  16.284187  ...  3.248115 -1.103246   \n",
       "...          ...       ...       ...        ...  ...       ...       ...   \n",
       "322555  0.149920  0.000826  0.214036  -0.050429  ... -0.101962  0.036677   \n",
       "322556  0.149920  0.000826  0.215036  -0.050429  ... -0.101962  0.036677   \n",
       "322557  0.149920  0.000826  0.215036  -0.050429  ... -0.101962  0.036677   \n",
       "322558  0.149920  0.000826  0.214036  -0.050429  ... -0.101962  0.036677   \n",
       "322559  0.149920  0.000826  0.215036  -0.050429  ... -0.101962  0.036677   \n",
       "\n",
       "             AF4       Fp2        Fz         Cz  valence  arousal  dominance  \\\n",
       "0       0.596471  0.589618 -2.276449  -0.109300     7.71     7.60       6.90   \n",
       "1      -1.881391 -4.831903 -1.739787  -6.518661     7.71     7.60       6.90   \n",
       "2      -4.484906 -8.186728  0.555901 -11.727187     7.71     7.60       6.90   \n",
       "3      -4.483488 -7.905437 -1.168129  -9.051847     7.71     7.60       6.90   \n",
       "4      -2.547386 -4.419073 -1.319219  -4.072682     7.71     7.60       6.90   \n",
       "...          ...       ...       ...        ...      ...      ...        ...   \n",
       "322555 -0.007930  0.081379 -0.081538  -0.009341     5.10     7.12       6.17   \n",
       "322556 -0.007930  0.081379 -0.081538  -0.009341     5.10     7.12       6.17   \n",
       "322557 -0.007930  0.081379 -0.082538  -0.009341     5.10     7.12       6.17   \n",
       "322558 -0.007930  0.081379 -0.081538  -0.009341     5.10     7.12       6.17   \n",
       "322559 -0.007930  0.081379 -0.082538  -0.009341     5.10     7.12       6.17   \n",
       "\n",
       "        liking  \n",
       "0         7.83  \n",
       "1         7.83  \n",
       "2         7.83  \n",
       "3         7.83  \n",
       "4         7.83  \n",
       "...        ...  \n",
       "322555    5.97  \n",
       "322556    5.97  \n",
       "322557    5.97  \n",
       "322558    5.97  \n",
       "322559    5.97  \n",
       "\n",
       "[322560 rows x 36 columns]"
      ],
      "text/html": "<div>\n<style scoped>\n    .dataframe tbody tr th:only-of-type {\n        vertical-align: middle;\n    }\n\n    .dataframe tbody tr th {\n        vertical-align: top;\n    }\n\n    .dataframe thead th {\n        text-align: right;\n    }\n</style>\n<table border=\"1\" class=\"dataframe\">\n  <thead>\n    <tr style=\"text-align: right;\">\n      <th></th>\n      <th>FP1</th>\n      <th>AF3</th>\n      <th>F7</th>\n      <th>F3</th>\n      <th>FC1</th>\n      <th>FC5</th>\n      <th>T7</th>\n      <th>C3</th>\n      <th>CP1</th>\n      <th>CP5</th>\n      <th>...</th>\n      <th>F4</th>\n      <th>F8</th>\n      <th>AF4</th>\n      <th>Fp2</th>\n      <th>Fz</th>\n      <th>Cz</th>\n      <th>valence</th>\n      <th>arousal</th>\n      <th>dominance</th>\n      <th>liking</th>\n    </tr>\n  </thead>\n  <tbody>\n    <tr>\n      <th>0</th>\n      <td>0.948232</td>\n      <td>10.260175</td>\n      <td>1.013050</td>\n      <td>-7.658428</td>\n      <td>-1.811108</td>\n      <td>11.011411</td>\n      <td>3.026008</td>\n      <td>-2.380048</td>\n      <td>3.978952</td>\n      <td>-9.657708</td>\n      <td>...</td>\n      <td>4.239575</td>\n      <td>4.888393</td>\n      <td>0.596471</td>\n      <td>0.589618</td>\n      <td>-2.276449</td>\n      <td>-0.109300</td>\n      <td>7.71</td>\n      <td>7.60</td>\n      <td>6.90</td>\n      <td>7.83</td>\n    </tr>\n    <tr>\n      <th>1</th>\n      <td>1.653335</td>\n      <td>12.795443</td>\n      <td>-1.067832</td>\n      <td>-3.267558</td>\n      <td>-4.783876</td>\n      <td>7.402976</td>\n      <td>2.676232</td>\n      <td>-3.614201</td>\n      <td>-1.434440</td>\n      <td>-0.906298</td>\n      <td>...</td>\n      <td>4.557239</td>\n      <td>6.007259</td>\n      <td>-1.881391</td>\n      <td>-4.831903</td>\n      <td>-1.739787</td>\n      <td>-6.518661</td>\n      <td>7.71</td>\n      <td>7.60</td>\n      <td>6.90</td>\n      <td>7.83</td>\n    </tr>\n    <tr>\n      <th>2</th>\n      <td>3.013726</td>\n      <td>10.426192</td>\n      <td>3.908249</td>\n      <td>0.701542</td>\n      <td>-0.522649</td>\n      <td>1.120469</td>\n      <td>2.046996</td>\n      <td>-4.286566</td>\n      <td>-6.174767</td>\n      <td>9.408599</td>\n      <td>...</td>\n      <td>0.636801</td>\n      <td>2.921478</td>\n      <td>-4.484906</td>\n      <td>-8.186728</td>\n      <td>0.555901</td>\n      <td>-11.727187</td>\n      <td>7.71</td>\n      <td>7.60</td>\n      <td>6.90</td>\n      <td>7.83</td>\n    </tr>\n    <tr>\n      <th>3</th>\n      <td>1.495061</td>\n      <td>8.229207</td>\n      <td>6.094405</td>\n      <td>2.959722</td>\n      <td>1.299854</td>\n      <td>-0.832024</td>\n      <td>2.192056</td>\n      <td>-5.170547</td>\n      <td>-6.571542</td>\n      <td>14.101073</td>\n      <td>...</td>\n      <td>-2.965047</td>\n      <td>-0.679860</td>\n      <td>-4.483488</td>\n      <td>-7.905437</td>\n      <td>-1.168129</td>\n      <td>-9.051847</td>\n      <td>7.71</td>\n      <td>7.60</td>\n      <td>6.90</td>\n      <td>7.83</td>\n    </tr>\n    <tr>\n      <th>4</th>\n      <td>-1.264836</td>\n      <td>3.751782</td>\n      <td>4.145906</td>\n      <td>3.459897</td>\n      <td>-0.916779</td>\n      <td>-0.784404</td>\n      <td>-4.694002</td>\n      <td>-5.332026</td>\n      <td>-7.793136</td>\n      <td>16.284187</td>\n      <td>...</td>\n      <td>3.248115</td>\n      <td>-1.103246</td>\n      <td>-2.547386</td>\n      <td>-4.419073</td>\n      <td>-1.319219</td>\n      <td>-4.072682</td>\n      <td>7.71</td>\n      <td>7.60</td>\n      <td>6.90</td>\n      <td>7.83</td>\n    </tr>\n    <tr>\n      <th>...</th>\n      <td>...</td>\n      <td>...</td>\n      <td>...</td>\n      <td>...</td>\n      <td>...</td>\n      <td>...</td>\n      <td>...</td>\n      <td>...</td>\n      <td>...</td>\n      <td>...</td>\n      <td>...</td>\n      <td>...</td>\n      <td>...</td>\n      <td>...</td>\n      <td>...</td>\n      <td>...</td>\n      <td>...</td>\n      <td>...</td>\n      <td>...</td>\n      <td>...</td>\n      <td>...</td>\n    </tr>\n    <tr>\n      <th>322555</th>\n      <td>-0.097608</td>\n      <td>-0.062015</td>\n      <td>-0.151092</td>\n      <td>0.013060</td>\n      <td>-0.046585</td>\n      <td>-0.060403</td>\n      <td>0.149920</td>\n      <td>0.000826</td>\n      <td>0.214036</td>\n      <td>-0.050429</td>\n      <td>...</td>\n      <td>-0.101962</td>\n      <td>0.036677</td>\n      <td>-0.007930</td>\n      <td>0.081379</td>\n      <td>-0.081538</td>\n      <td>-0.009341</td>\n      <td>5.10</td>\n      <td>7.12</td>\n      <td>6.17</td>\n      <td>5.97</td>\n    </tr>\n    <tr>\n      <th>322556</th>\n      <td>-0.097608</td>\n      <td>-0.062015</td>\n      <td>-0.151092</td>\n      <td>0.013060</td>\n      <td>-0.046585</td>\n      <td>-0.060403</td>\n      <td>0.149920</td>\n      <td>0.000826</td>\n      <td>0.215036</td>\n      <td>-0.050429</td>\n      <td>...</td>\n      <td>-0.101962</td>\n      <td>0.036677</td>\n      <td>-0.007930</td>\n      <td>0.081379</td>\n      <td>-0.081538</td>\n      <td>-0.009341</td>\n      <td>5.10</td>\n      <td>7.12</td>\n      <td>6.17</td>\n      <td>5.97</td>\n    </tr>\n    <tr>\n      <th>322557</th>\n      <td>-0.097608</td>\n      <td>-0.062015</td>\n      <td>-0.151092</td>\n      <td>0.013060</td>\n      <td>-0.046585</td>\n      <td>-0.060403</td>\n      <td>0.149920</td>\n      <td>0.000826</td>\n      <td>0.215036</td>\n      <td>-0.050429</td>\n      <td>...</td>\n      <td>-0.101962</td>\n      <td>0.036677</td>\n      <td>-0.007930</td>\n      <td>0.081379</td>\n      <td>-0.082538</td>\n      <td>-0.009341</td>\n      <td>5.10</td>\n      <td>7.12</td>\n      <td>6.17</td>\n      <td>5.97</td>\n    </tr>\n    <tr>\n      <th>322558</th>\n      <td>-0.097608</td>\n      <td>-0.062015</td>\n      <td>-0.151092</td>\n      <td>0.013060</td>\n      <td>-0.046585</td>\n      <td>-0.060403</td>\n      <td>0.149920</td>\n      <td>0.000826</td>\n      <td>0.214036</td>\n      <td>-0.050429</td>\n      <td>...</td>\n      <td>-0.101962</td>\n      <td>0.036677</td>\n      <td>-0.007930</td>\n      <td>0.081379</td>\n      <td>-0.081538</td>\n      <td>-0.009341</td>\n      <td>5.10</td>\n      <td>7.12</td>\n      <td>6.17</td>\n      <td>5.97</td>\n    </tr>\n    <tr>\n      <th>322559</th>\n      <td>-0.097608</td>\n      <td>-0.062015</td>\n      <td>-0.151092</td>\n      <td>0.013060</td>\n      <td>-0.046585</td>\n      <td>-0.060403</td>\n      <td>0.149920</td>\n      <td>0.000826</td>\n      <td>0.215036</td>\n      <td>-0.050429</td>\n      <td>...</td>\n      <td>-0.101962</td>\n      <td>0.036677</td>\n      <td>-0.007930</td>\n      <td>0.081379</td>\n      <td>-0.082538</td>\n      <td>-0.009341</td>\n      <td>5.10</td>\n      <td>7.12</td>\n      <td>6.17</td>\n      <td>5.97</td>\n    </tr>\n  </tbody>\n</table>\n<p>322560 rows × 36 columns</p>\n</div>"
     },
     "metadata": {},
     "execution_count": 4
    }
   ],
   "source": [
    "big_df.drop(['hEOG','vEOG','zEMG','tEMG','GSR','Respiration','PLethy','Temperature'],axis = 'columns', inplace=True)\n",
    "big_df"
   ]
  },
  {
   "source": [
    "# REGRESSION"
   ],
   "cell_type": "markdown",
   "metadata": {}
  },
  {
   "cell_type": "code",
   "execution_count": 26,
   "metadata": {},
   "outputs": [
    {
     "output_type": "execute_result",
     "data": {
      "text/plain": [
       "array([[5.25838171, 5.59610861, 5.90911369, 6.87436983],\n",
       "       [5.25699007, 5.59707262, 5.90931626, 6.87377288],\n",
       "       [5.25506965, 5.59834133, 5.90920977, 6.8727828 ],\n",
       "       ...,\n",
       "       [5.2566968 , 5.5970094 , 5.90935979, 6.87292762],\n",
       "       [5.25669681, 5.59700942, 5.90935981, 6.87292764],\n",
       "       [5.2566968 , 5.5970094 , 5.90935979, 6.87292762]])"
      ]
     },
     "metadata": {},
     "execution_count": 26
    }
   ],
   "source": [
    "# Linear regressor\n",
    "\n",
    "from sklearn.linear_model import LinearRegression\n",
    "\n",
    "lin_reg = LinearRegression()\n",
    "data = big_df.iloc[:,0:32]\n",
    "labels = big_df.iloc[:,32:36]\n",
    "\n",
    "lin_reg.fit(data, labels)\n",
    "\n",
    "linear_predictor = lin_reg.predict(data)\n",
    "linear_predictor"
   ]
  },
  {
   "cell_type": "code",
   "execution_count": 27,
   "metadata": {},
   "outputs": [
    {
     "output_type": "execute_result",
     "data": {
      "text/plain": [
       "        valence  arousal  dominance  liking\n",
       "0          7.71     7.60       6.90    7.83\n",
       "1          7.71     7.60       6.90    7.83\n",
       "2          7.71     7.60       6.90    7.83\n",
       "3          7.71     7.60       6.90    7.83\n",
       "4          7.71     7.60       6.90    7.83\n",
       "...         ...      ...        ...     ...\n",
       "322555     5.10     7.12       6.17    5.97\n",
       "322556     5.10     7.12       6.17    5.97\n",
       "322557     5.10     7.12       6.17    5.97\n",
       "322558     5.10     7.12       6.17    5.97\n",
       "322559     5.10     7.12       6.17    5.97\n",
       "\n",
       "[322560 rows x 4 columns]"
      ],
      "text/html": "<div>\n<style scoped>\n    .dataframe tbody tr th:only-of-type {\n        vertical-align: middle;\n    }\n\n    .dataframe tbody tr th {\n        vertical-align: top;\n    }\n\n    .dataframe thead th {\n        text-align: right;\n    }\n</style>\n<table border=\"1\" class=\"dataframe\">\n  <thead>\n    <tr style=\"text-align: right;\">\n      <th></th>\n      <th>valence</th>\n      <th>arousal</th>\n      <th>dominance</th>\n      <th>liking</th>\n    </tr>\n  </thead>\n  <tbody>\n    <tr>\n      <th>0</th>\n      <td>7.71</td>\n      <td>7.60</td>\n      <td>6.90</td>\n      <td>7.83</td>\n    </tr>\n    <tr>\n      <th>1</th>\n      <td>7.71</td>\n      <td>7.60</td>\n      <td>6.90</td>\n      <td>7.83</td>\n    </tr>\n    <tr>\n      <th>2</th>\n      <td>7.71</td>\n      <td>7.60</td>\n      <td>6.90</td>\n      <td>7.83</td>\n    </tr>\n    <tr>\n      <th>3</th>\n      <td>7.71</td>\n      <td>7.60</td>\n      <td>6.90</td>\n      <td>7.83</td>\n    </tr>\n    <tr>\n      <th>4</th>\n      <td>7.71</td>\n      <td>7.60</td>\n      <td>6.90</td>\n      <td>7.83</td>\n    </tr>\n    <tr>\n      <th>...</th>\n      <td>...</td>\n      <td>...</td>\n      <td>...</td>\n      <td>...</td>\n    </tr>\n    <tr>\n      <th>322555</th>\n      <td>5.10</td>\n      <td>7.12</td>\n      <td>6.17</td>\n      <td>5.97</td>\n    </tr>\n    <tr>\n      <th>322556</th>\n      <td>5.10</td>\n      <td>7.12</td>\n      <td>6.17</td>\n      <td>5.97</td>\n    </tr>\n    <tr>\n      <th>322557</th>\n      <td>5.10</td>\n      <td>7.12</td>\n      <td>6.17</td>\n      <td>5.97</td>\n    </tr>\n    <tr>\n      <th>322558</th>\n      <td>5.10</td>\n      <td>7.12</td>\n      <td>6.17</td>\n      <td>5.97</td>\n    </tr>\n    <tr>\n      <th>322559</th>\n      <td>5.10</td>\n      <td>7.12</td>\n      <td>6.17</td>\n      <td>5.97</td>\n    </tr>\n  </tbody>\n</table>\n<p>322560 rows × 4 columns</p>\n</div>"
     },
     "metadata": {},
     "execution_count": 27
    }
   ],
   "source": [
    "labels"
   ]
  },
  {
   "cell_type": "code",
   "execution_count": 28,
   "metadata": {},
   "outputs": [
    {
     "output_type": "execute_result",
     "data": {
      "text/plain": [
       "1.982190887189638"
      ]
     },
     "metadata": {},
     "execution_count": 28
    }
   ],
   "source": [
    "from sklearn.metrics import mean_squared_error\n",
    "\n",
    "lin_mse = mean_squared_error(labels, linear_predictor)\n",
    "lin_mrse = np.sqrt(lin_mse)\n",
    "lin_mrse\n",
    "\n",
    "# Error medio del predictor : 1.982190887189638"
   ]
  },
  {
   "cell_type": "code",
   "execution_count": 29,
   "metadata": {},
   "outputs": [
    {
     "output_type": "execute_result",
     "data": {
      "text/plain": [
       "1.9425473088601025e-13"
      ]
     },
     "metadata": {},
     "execution_count": 29
    }
   ],
   "source": [
    "# Decission Tree Regressor\n",
    "# This is a powerful model, capable of finding complex nonlinear relationships in the data\n",
    "\n",
    "from sklearn.tree import DecisionTreeRegressor\n",
    "\n",
    "tree_reg = DecisionTreeRegressor()\n",
    "tree_reg.fit(data, labels)\n",
    "tree_predictions = tree_reg.predict(data)\n",
    "tree_mse = mean_squared_error(labels, tree_predictions)\n",
    "tree_rmse = np.sqrt(tree_mse)\n",
    "tree_rmse\n",
    "\n",
    "# Error medio del predictor : 1.878413644294006e-13\n",
    "# Error bajísimo, \"the model has badly overfit the data\""
   ]
  },
  {
   "cell_type": "code",
   "execution_count": 30,
   "metadata": {},
   "outputs": [],
   "source": [
    "# K-fold cross-validation feature\n",
    "\n",
    "# With tree decisor\n",
    "from sklearn.model_selection import cross_val_score\n",
    "\n",
    "scores = cross_val_score(tree_reg, data, labels, scoring=\"neg_mean_squared_error\", cv=10)\n",
    "tree_rmse_scores = np.sqrt(-scores)\n",
    "\n",
    "def display_scores(scores):\n",
    "    print(\"Scores:\", scores)\n",
    "    print(\"Mean:\", scores.mean())\n",
    "    print(\"Standard deviation:\", scores.std())\n",
    "\n",
    "\n",
    "\n"
   ]
  },
  {
   "cell_type": "code",
   "execution_count": 31,
   "metadata": {},
   "outputs": [
    {
     "output_type": "stream",
     "name": "stdout",
     "text": [
      "Scores: [2.88444308 2.6924784  3.25659122 3.09775397 2.91981709 2.93200716\n 2.76263384 3.4728686  1.96863798 2.1112571 ]\nMean: 2.809848843654733\nStandard deviation: 0.44343144923821176\n"
     ]
    }
   ],
   "source": [
    "display_scores(tree_rmse_scores)\n",
    "\n",
    "##############################################\n",
    "# NO ENTIENDO MUY BIEN ESTOS VALORES DE MEDIA Y DESVIACIÓN TÍPICA, DISTAN MUCHO DE LO QUE DEBERÍAN\n",
    "##############################################"
   ]
  },
  {
   "cell_type": "code",
   "execution_count": 32,
   "metadata": {},
   "outputs": [
    {
     "output_type": "stream",
     "name": "stdout",
     "text": [
      "Scores: [  1.98704937   1.89037368   2.4939853    2.37306445   1.89885236\n   2.30325901   1.89853493   2.85537378   2.13526026 149.24104334]\nMean: 16.907679647809513\nStandard deviation: 44.11212254550436\n"
     ]
    }
   ],
   "source": [
    "# With linear regression\n",
    "\n",
    "lin_scores = cross_val_score(lin_reg, data, labels, scoring=\"neg_mean_squared_error\", cv=10)\n",
    "lin_rmse_scores = np.sqrt(-lin_scores)\n",
    "display_scores(lin_rmse_scores)"
   ]
  },
  {
   "cell_type": "code",
   "execution_count": 33,
   "metadata": {},
   "outputs": [],
   "source": [
    "# RandomForest Regressor\n",
    "'''\n",
    "from sklearn.ensemble import RandomForestRegressor\n",
    "\n",
    "forest_reg = RandomForestRegressor()\n",
    "forest_reg.fit(data, labels)\n",
    "forest_scores = cross_val_score(forest_reg, data, labels, scoring=\"neg_mean_squared_error\", cv=10)\n",
    "forest_rmse_scores = np.sqrt(-forest_scores)\n",
    "display_scores(forest_rmse_scores)\n",
    "'''"
   ]
  },
  {
   "cell_type": "code",
   "execution_count": 34,
   "metadata": {},
   "outputs": [],
   "source": [
    "from sklearn.model_selection import GridSearchCV\n",
    "\n",
    "# No me cuadra lo que dice en el libro de combinaciones con lo que hay en el código\n",
    "# Pone que primero prueba 12 combinaciones (3x4), pero yo entiendo que son 3x2 (s_stimators x max_features)\n",
    "#param_grid = [\n",
    "#    {'n_stimators': [3,10,30], 'max_features': [2,4,6,8]},\n",
    "#    {'bootstrap': [False], 'n_stimators': [3,10], 'max_features': [2,3,4]}\n",
    "#]\n",
    "\n",
    "# Cross-Validation de 5, el total de combinaciones será cv * la suma de las combinaciones de param_grid\n",
    "#grid_search = GridSearchCV(forest_reg, param_grid, cv=5, scoring='neg_mean_squared_error', return_train_score=True)\n",
    "#grid_search.fit(data, labels)"
   ]
  },
  {
   "cell_type": "code",
   "execution_count": 35,
   "metadata": {},
   "outputs": [],
   "source": [
    "#grid_search.best_estimator_\n",
    "\n",
    "# No entiendo el siguiente paso de obtener los resultados\n",
    "# Se tiene que mirar el valor de los parámetros de todos los resultados del RMSE y comprobar cuáles se corresponden con los del mejor estimador???"
   ]
  },
  {
   "cell_type": "code",
   "execution_count": 36,
   "metadata": {},
   "outputs": [],
   "source": [
    "#cvres = grid_search.cv_results_\n",
    "#for mean_score, params in zip (cvres['mean_test_score'], cvres['params']):\n",
    "#    print(np.sqrt(-mean_score), params)"
   ]
  },
  {
   "cell_type": "code",
   "execution_count": 37,
   "metadata": {},
   "outputs": [],
   "source": [
    "# RandomizedSearchCV : No entiendo los parámetros que hay que seleccionar\n",
    "\n",
    "#########################################\n",
    "# Buscar documentación para ver cómo se seleccionan\n",
    "#########################################\n",
    "\n",
    "##########################################\n",
    "# De la parte de analizar los modelos y sus errores, no entiendo cómo se construye, pero creo que puede ser útil para eliminar features que no sean relevantes, como dice en el texto\n",
    "##########################################"
   ]
  },
  {
   "source": [
    "# CLASSIFICATION"
   ],
   "cell_type": "markdown",
   "metadata": {}
  },
  {
   "cell_type": "code",
   "execution_count": 6,
   "metadata": {},
   "outputs": [
    {
     "output_type": "stream",
     "name": "stderr",
     "text": [
      "<ipython-input-6-f9151dc22ef9>:23: DataConversionWarning: A column-vector y was passed when a 1d array was expected. Please change the shape of y to (n_samples,), for example using ravel().\n",
      "  clf.fit(xTrain, yTrain)\n",
      "[Parallel(n_jobs=5)]: Using backend ThreadingBackend with 5 concurrent workers.\n",
      "[Parallel(n_jobs=5)]: Done  40 tasks      | elapsed:    4.9s\n",
      "[Parallel(n_jobs=5)]: Done 100 out of 100 | elapsed:   11.9s finished\n",
      "[Parallel(n_jobs=5)]: Using backend ThreadingBackend with 5 concurrent workers.\n",
      "[Parallel(n_jobs=5)]: Done  40 tasks      | elapsed:    0.0s\n",
      "[Parallel(n_jobs=5)]: Done 100 out of 100 | elapsed:    0.1s finished\n",
      "ACCURACY : 0.9716951884920635\n"
     ]
    }
   ],
   "source": [
    "# Clasificar por \"liking\" sin tener nada en cuenta\n",
    "# OJO! Sólo estamos teniendo en cuenta el experimento sobre el primer sujeto (primer fichero)\n",
    "\n",
    "from sklearn.ensemble import RandomForestClassifier\n",
    "from sklearn.model_selection import train_test_split\n",
    "from sklearn.metrics import accuracy_score\n",
    "\n",
    "data_copy = big_df\n",
    "labels_copy = labels\n",
    "\n",
    "data2 = data_copy.drop(['valence', 'arousal', 'dominance'], axis=1)\n",
    "data2['liking'] = np.where(data_copy['liking'] <4, 'unlike', 'like')\n",
    "\n",
    "copia =data2.copy()\n",
    "\n",
    "y = copia[['liking']]\n",
    "\n",
    "x = copia.drop(columns=['liking'])\n",
    "\n",
    "xTrain, xTest, yTrain, yTest = train_test_split(x,y, test_size = 0.2, random_state = 1)\n",
    "\n",
    "clf = RandomForestClassifier(max_depth=2, random_state=0, verbose=1, n_jobs=5)\n",
    "clf.fit(xTrain, yTrain)\n",
    "\n",
    "predict = clf.predict(xTest)\n",
    "\n",
    "print(\"ACCURACY : \" + str(accuracy_score(yTest, predict)))"
   ]
  },
  {
   "cell_type": "code",
   "execution_count": 7,
   "metadata": {},
   "outputs": [
    {
     "output_type": "execute_result",
     "data": {
      "text/plain": [
       "array([ True,  True,  True, ...,  True,  True,  True])"
      ]
     },
     "metadata": {},
     "execution_count": 7
    }
   ],
   "source": [
    "# Training a Binary Classifier\n",
    "from sklearn.linear_model import SGDClassifier\n",
    "from sklearn.model_selection import cross_val_score\n",
    "from sklearn.metrics import precision_score, recall_score\n",
    "from sklearn.model_selection import cross_val_predict\n",
    "\n",
    "data2_copy = big_df\n",
    "d = data2_copy.drop(['valence', 'arousal', 'dominance'], axis=1)\n",
    "\n",
    "y = d['liking']\n",
    "x = d.drop(columns=['liking'])\n",
    "\n",
    "x_train, x_test, y_train, y_test = train_test_split(x,y, test_size = 0.2, random_state = 1)\n",
    "\n",
    "y_train_like = (y_train > 4)\n",
    "y_test_like = (y_test > 4)\n",
    "\n",
    "sgd_clf = SGDClassifier(random_state = 42)\n",
    "sgd_clf.fit(x_train, y_train_like)\n",
    "\n",
    "sgd_clf.predict(x_test)"
   ]
  },
  {
   "cell_type": "code",
   "execution_count": 8,
   "metadata": {},
   "outputs": [
    {
     "output_type": "execute_result",
     "data": {
      "text/plain": [
       "array([0.95183454, 0.95735677, 0.9656343 ])"
      ]
     },
     "metadata": {},
     "execution_count": 8
    }
   ],
   "source": [
    "y_train_pred = cross_val_predict(sgd_clf, x_train, y_train_like, cv=3)\n",
    "\n",
    "cross_val_score(sgd_clf, x_train, y_train_like, cv=3, scoring=\"accuracy\")"
   ]
  },
  {
   "cell_type": "code",
   "execution_count": 9,
   "metadata": {},
   "outputs": [
    {
     "output_type": "execute_result",
     "data": {
      "text/plain": [
       "0.9700745529430165"
      ]
     },
     "metadata": {},
     "execution_count": 9
    }
   ],
   "source": [
    "precision_score(y_train_like, y_train_pred)"
   ]
  },
  {
   "cell_type": "code",
   "execution_count": 10,
   "metadata": {},
   "outputs": [
    {
     "output_type": "execute_result",
     "data": {
      "text/plain": [
       "0.9865209872917993"
      ]
     },
     "metadata": {},
     "execution_count": 10
    }
   ],
   "source": [
    "recall_score(y_train_like, y_train_pred)"
   ]
  },
  {
   "cell_type": "code",
   "execution_count": 11,
   "metadata": {},
   "outputs": [
    {
     "output_type": "execute_result",
     "data": {
      "text/plain": [
       "0.9782286487284375"
      ]
     },
     "metadata": {},
     "execution_count": 11
    }
   ],
   "source": [
    "from sklearn.metrics import f1_score\n",
    "\n",
    "f1_score(y_train_like, y_train_pred)"
   ]
  },
  {
   "cell_type": "code",
   "execution_count": 13,
   "metadata": {},
   "outputs": [
    {
     "output_type": "error",
     "ename": "KeyError",
     "evalue": "\"None of [Int64Index([ 86005,  86006,  86007,  86008,  86009,  86010,  86012,  86013,\\n             86014,  86015,\\n            ...\\n            258038, 258039, 258040, 258041, 258042, 258043, 258044, 258045,\\n            258046, 258047],\\n           dtype='int64', length=172032)] are in the [columns]\"",
     "traceback": [
      "\u001b[1;31m---------------------------------------------------------------------------\u001b[0m",
      "\u001b[1;31mKeyError\u001b[0m                                  Traceback (most recent call last)",
      "\u001b[1;32m<ipython-input-13-447a0a6947fd>\u001b[0m in \u001b[0;36m<module>\u001b[1;34m\u001b[0m\n\u001b[0;32m      8\u001b[0m \u001b[1;32mfor\u001b[0m \u001b[0mtrain_index\u001b[0m\u001b[1;33m,\u001b[0m \u001b[0mtest_index\u001b[0m \u001b[1;32min\u001b[0m \u001b[0mskfolds\u001b[0m\u001b[1;33m.\u001b[0m\u001b[0msplit\u001b[0m\u001b[1;33m(\u001b[0m\u001b[0mx_train\u001b[0m\u001b[1;33m,\u001b[0m \u001b[0my_train_like\u001b[0m\u001b[1;33m)\u001b[0m\u001b[1;33m:\u001b[0m\u001b[1;33m\u001b[0m\u001b[1;33m\u001b[0m\u001b[0m\n\u001b[0;32m      9\u001b[0m     \u001b[0mclone_clf\u001b[0m \u001b[1;33m=\u001b[0m \u001b[0mclone\u001b[0m\u001b[1;33m(\u001b[0m\u001b[0msgd_clf\u001b[0m\u001b[1;33m)\u001b[0m\u001b[1;33m\u001b[0m\u001b[1;33m\u001b[0m\u001b[0m\n\u001b[1;32m---> 10\u001b[1;33m     \u001b[0mX_train_folds\u001b[0m \u001b[1;33m=\u001b[0m \u001b[0mx_train\u001b[0m\u001b[1;33m[\u001b[0m\u001b[0mtrain_index\u001b[0m\u001b[1;33m]\u001b[0m\u001b[1;33m\u001b[0m\u001b[1;33m\u001b[0m\u001b[0m\n\u001b[0m\u001b[0;32m     11\u001b[0m     \u001b[0my_train_folds\u001b[0m \u001b[1;33m=\u001b[0m \u001b[0my_train_like\u001b[0m\u001b[1;33m[\u001b[0m\u001b[0mtrain_index\u001b[0m\u001b[1;33m]\u001b[0m\u001b[1;33m\u001b[0m\u001b[1;33m\u001b[0m\u001b[0m\n\u001b[0;32m     12\u001b[0m     \u001b[0mX_test_fold\u001b[0m \u001b[1;33m=\u001b[0m \u001b[0mx_train\u001b[0m\u001b[1;33m[\u001b[0m\u001b[0mtest_index\u001b[0m\u001b[1;33m]\u001b[0m\u001b[1;33m\u001b[0m\u001b[1;33m\u001b[0m\u001b[0m\n",
      "\u001b[1;32mC:\\Python39\\lib\\site-packages\\pandas\\core\\frame.py\u001b[0m in \u001b[0;36m__getitem__\u001b[1;34m(self, key)\u001b[0m\n\u001b[0;32m   3028\u001b[0m             \u001b[1;32mif\u001b[0m \u001b[0mis_iterator\u001b[0m\u001b[1;33m(\u001b[0m\u001b[0mkey\u001b[0m\u001b[1;33m)\u001b[0m\u001b[1;33m:\u001b[0m\u001b[1;33m\u001b[0m\u001b[1;33m\u001b[0m\u001b[0m\n\u001b[0;32m   3029\u001b[0m                 \u001b[0mkey\u001b[0m \u001b[1;33m=\u001b[0m \u001b[0mlist\u001b[0m\u001b[1;33m(\u001b[0m\u001b[0mkey\u001b[0m\u001b[1;33m)\u001b[0m\u001b[1;33m\u001b[0m\u001b[1;33m\u001b[0m\u001b[0m\n\u001b[1;32m-> 3030\u001b[1;33m             \u001b[0mindexer\u001b[0m \u001b[1;33m=\u001b[0m \u001b[0mself\u001b[0m\u001b[1;33m.\u001b[0m\u001b[0mloc\u001b[0m\u001b[1;33m.\u001b[0m\u001b[0m_get_listlike_indexer\u001b[0m\u001b[1;33m(\u001b[0m\u001b[0mkey\u001b[0m\u001b[1;33m,\u001b[0m \u001b[0maxis\u001b[0m\u001b[1;33m=\u001b[0m\u001b[1;36m1\u001b[0m\u001b[1;33m,\u001b[0m \u001b[0mraise_missing\u001b[0m\u001b[1;33m=\u001b[0m\u001b[1;32mTrue\u001b[0m\u001b[1;33m)\u001b[0m\u001b[1;33m[\u001b[0m\u001b[1;36m1\u001b[0m\u001b[1;33m]\u001b[0m\u001b[1;33m\u001b[0m\u001b[1;33m\u001b[0m\u001b[0m\n\u001b[0m\u001b[0;32m   3031\u001b[0m \u001b[1;33m\u001b[0m\u001b[0m\n\u001b[0;32m   3032\u001b[0m         \u001b[1;31m# take() does not accept boolean indexers\u001b[0m\u001b[1;33m\u001b[0m\u001b[1;33m\u001b[0m\u001b[1;33m\u001b[0m\u001b[0m\n",
      "\u001b[1;32mC:\\Python39\\lib\\site-packages\\pandas\\core\\indexing.py\u001b[0m in \u001b[0;36m_get_listlike_indexer\u001b[1;34m(self, key, axis, raise_missing)\u001b[0m\n\u001b[0;32m   1264\u001b[0m             \u001b[0mkeyarr\u001b[0m\u001b[1;33m,\u001b[0m \u001b[0mindexer\u001b[0m\u001b[1;33m,\u001b[0m \u001b[0mnew_indexer\u001b[0m \u001b[1;33m=\u001b[0m \u001b[0max\u001b[0m\u001b[1;33m.\u001b[0m\u001b[0m_reindex_non_unique\u001b[0m\u001b[1;33m(\u001b[0m\u001b[0mkeyarr\u001b[0m\u001b[1;33m)\u001b[0m\u001b[1;33m\u001b[0m\u001b[1;33m\u001b[0m\u001b[0m\n\u001b[0;32m   1265\u001b[0m \u001b[1;33m\u001b[0m\u001b[0m\n\u001b[1;32m-> 1266\u001b[1;33m         \u001b[0mself\u001b[0m\u001b[1;33m.\u001b[0m\u001b[0m_validate_read_indexer\u001b[0m\u001b[1;33m(\u001b[0m\u001b[0mkeyarr\u001b[0m\u001b[1;33m,\u001b[0m \u001b[0mindexer\u001b[0m\u001b[1;33m,\u001b[0m \u001b[0maxis\u001b[0m\u001b[1;33m,\u001b[0m \u001b[0mraise_missing\u001b[0m\u001b[1;33m=\u001b[0m\u001b[0mraise_missing\u001b[0m\u001b[1;33m)\u001b[0m\u001b[1;33m\u001b[0m\u001b[1;33m\u001b[0m\u001b[0m\n\u001b[0m\u001b[0;32m   1267\u001b[0m         \u001b[1;32mreturn\u001b[0m \u001b[0mkeyarr\u001b[0m\u001b[1;33m,\u001b[0m \u001b[0mindexer\u001b[0m\u001b[1;33m\u001b[0m\u001b[1;33m\u001b[0m\u001b[0m\n\u001b[0;32m   1268\u001b[0m \u001b[1;33m\u001b[0m\u001b[0m\n",
      "\u001b[1;32mC:\\Python39\\lib\\site-packages\\pandas\\core\\indexing.py\u001b[0m in \u001b[0;36m_validate_read_indexer\u001b[1;34m(self, key, indexer, axis, raise_missing)\u001b[0m\n\u001b[0;32m   1306\u001b[0m             \u001b[1;32mif\u001b[0m \u001b[0mmissing\u001b[0m \u001b[1;33m==\u001b[0m \u001b[0mlen\u001b[0m\u001b[1;33m(\u001b[0m\u001b[0mindexer\u001b[0m\u001b[1;33m)\u001b[0m\u001b[1;33m:\u001b[0m\u001b[1;33m\u001b[0m\u001b[1;33m\u001b[0m\u001b[0m\n\u001b[0;32m   1307\u001b[0m                 \u001b[0maxis_name\u001b[0m \u001b[1;33m=\u001b[0m \u001b[0mself\u001b[0m\u001b[1;33m.\u001b[0m\u001b[0mobj\u001b[0m\u001b[1;33m.\u001b[0m\u001b[0m_get_axis_name\u001b[0m\u001b[1;33m(\u001b[0m\u001b[0maxis\u001b[0m\u001b[1;33m)\u001b[0m\u001b[1;33m\u001b[0m\u001b[1;33m\u001b[0m\u001b[0m\n\u001b[1;32m-> 1308\u001b[1;33m                 \u001b[1;32mraise\u001b[0m \u001b[0mKeyError\u001b[0m\u001b[1;33m(\u001b[0m\u001b[1;34mf\"None of [{key}] are in the [{axis_name}]\"\u001b[0m\u001b[1;33m)\u001b[0m\u001b[1;33m\u001b[0m\u001b[1;33m\u001b[0m\u001b[0m\n\u001b[0m\u001b[0;32m   1309\u001b[0m \u001b[1;33m\u001b[0m\u001b[0m\n\u001b[0;32m   1310\u001b[0m             \u001b[0max\u001b[0m \u001b[1;33m=\u001b[0m \u001b[0mself\u001b[0m\u001b[1;33m.\u001b[0m\u001b[0mobj\u001b[0m\u001b[1;33m.\u001b[0m\u001b[0m_get_axis\u001b[0m\u001b[1;33m(\u001b[0m\u001b[0maxis\u001b[0m\u001b[1;33m)\u001b[0m\u001b[1;33m\u001b[0m\u001b[1;33m\u001b[0m\u001b[0m\n",
      "\u001b[1;31mKeyError\u001b[0m: \"None of [Int64Index([ 86005,  86006,  86007,  86008,  86009,  86010,  86012,  86013,\\n             86014,  86015,\\n            ...\\n            258038, 258039, 258040, 258041, 258042, 258043, 258044, 258045,\\n            258046, 258047],\\n           dtype='int64', length=172032)] are in the [columns]\""
     ]
    }
   ],
   "source": [
    "# Measuring accuracy using CV\n",
    "'''\n",
    "from sklearn.model_selection import StratifiedKFold\n",
    "from sklearn.base import clone\n",
    "\n",
    "skfolds = StratifiedKFold(n_splits=3)\n",
    "\n",
    "for train_index, test_index in skfolds.split(x_train, y_train_like):\n",
    "    clone_clf = clone(sgd_clf)\n",
    "    X_train_folds = x_train[train_index]\n",
    "    y_train_folds = y_train_like[train_index]\n",
    "    X_test_fold = x_train[test_index]\n",
    "    y_test_fold = y_train_like[test_index]\n",
    "    \n",
    "    clone_clf.fit(X_train_folds, y_train_folds)\n",
    "    y_pred = clone_clf.predict(X_test_fold)\n",
    "    n_correct = sum(y_pred == y_test_fold)\n",
    "    print(n_correct / len(y_pred))\n",
    "'''"
   ]
  },
  {
   "cell_type": "code",
   "execution_count": null,
   "metadata": {},
   "outputs": [],
   "source": []
  }
 ]
}