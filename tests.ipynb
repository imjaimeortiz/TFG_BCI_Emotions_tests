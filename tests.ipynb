{
 "metadata": {
  "language_info": {
   "codemirror_mode": {
    "name": "ipython",
    "version": 3
   },
   "file_extension": ".py",
   "mimetype": "text/x-python",
   "name": "python",
   "nbconvert_exporter": "python",
   "pygments_lexer": "ipython3",
   "version": "3.9.0"
  },
  "orig_nbformat": 2,
  "kernelspec": {
   "name": "python3",
   "display_name": "Python 3.9.0 64-bit"
  },
  "metadata": {
   "interpreter": {
    "hash": "63fd5069d213b44bf678585dea6b12cceca9941eaf7f819626cde1f2670de90d"
   }
  },
  "interpreter": {
   "hash": "63fd5069d213b44bf678585dea6b12cceca9941eaf7f819626cde1f2670de90d"
  }
 },
 "nbformat": 4,
 "nbformat_minor": 2,
 "cells": [
  {
   "source": [
    "# Adquisición y preprocesamiento"
   ],
   "cell_type": "markdown",
   "metadata": {}
  },
  {
   "cell_type": "code",
   "execution_count": 15,
   "metadata": {},
   "outputs": [
    {
     "output_type": "execute_result",
     "data": {
      "text/plain": [
       "             FP1        AF3        F7        F3       FC1        FC5  \\\n",
       "0       0.948232  10.260175  1.013050 -7.658428 -1.811108  11.011411   \n",
       "1       1.653335  12.795443 -1.067832 -3.267558 -4.783876   7.402976   \n",
       "2       3.013726  10.426192  3.908249  0.701542 -0.522649   1.120469   \n",
       "3       1.495061   8.229207  6.094405  2.959722  1.299854  -0.832024   \n",
       "4      -1.264836   3.751782  4.145906  3.459897 -0.916779  -0.784404   \n",
       "...          ...        ...       ...       ...       ...        ...   \n",
       "322555 -0.097608  -0.062015 -0.151092  0.013060 -0.046585  -0.060403   \n",
       "322556 -0.097608  -0.062015 -0.151092  0.013060 -0.046585  -0.060403   \n",
       "322557 -0.097608  -0.062015 -0.151092  0.013060 -0.046585  -0.060403   \n",
       "322558 -0.097608  -0.062015 -0.151092  0.013060 -0.046585  -0.060403   \n",
       "322559 -0.097608  -0.062015 -0.151092  0.013060 -0.046585  -0.060403   \n",
       "\n",
       "              T7        C3       CP1        CP5  ...        F4        F8  \\\n",
       "0       3.026008 -2.380048  3.978952  -9.657708  ...  4.239575  4.888393   \n",
       "1       2.676232 -3.614201 -1.434440  -0.906298  ...  4.557239  6.007259   \n",
       "2       2.046996 -4.286566 -6.174767   9.408599  ...  0.636801  2.921478   \n",
       "3       2.192056 -5.170547 -6.571542  14.101073  ... -2.965047 -0.679860   \n",
       "4      -4.694002 -5.332026 -7.793136  16.284187  ...  3.248115 -1.103246   \n",
       "...          ...       ...       ...        ...  ...       ...       ...   \n",
       "322555  0.149920  0.000826  0.214036  -0.050429  ... -0.101962  0.036677   \n",
       "322556  0.149920  0.000826  0.215036  -0.050429  ... -0.101962  0.036677   \n",
       "322557  0.149920  0.000826  0.215036  -0.050429  ... -0.101962  0.036677   \n",
       "322558  0.149920  0.000826  0.214036  -0.050429  ... -0.101962  0.036677   \n",
       "322559  0.149920  0.000826  0.215036  -0.050429  ... -0.101962  0.036677   \n",
       "\n",
       "             AF4       Fp2        Fz         Cz  valence  arousal  dominance  \\\n",
       "0       0.596471  0.589618 -2.276449  -0.109300     7.71     7.60       6.90   \n",
       "1      -1.881391 -4.831903 -1.739787  -6.518661     7.71     7.60       6.90   \n",
       "2      -4.484906 -8.186728  0.555901 -11.727187     7.71     7.60       6.90   \n",
       "3      -4.483488 -7.905437 -1.168129  -9.051847     7.71     7.60       6.90   \n",
       "4      -2.547386 -4.419073 -1.319219  -4.072682     7.71     7.60       6.90   \n",
       "...          ...       ...       ...        ...      ...      ...        ...   \n",
       "322555 -0.007930  0.081379 -0.081538  -0.009341     5.10     7.12       6.17   \n",
       "322556 -0.007930  0.081379 -0.081538  -0.009341     5.10     7.12       6.17   \n",
       "322557 -0.007930  0.081379 -0.082538  -0.009341     5.10     7.12       6.17   \n",
       "322558 -0.007930  0.081379 -0.081538  -0.009341     5.10     7.12       6.17   \n",
       "322559 -0.007930  0.081379 -0.082538  -0.009341     5.10     7.12       6.17   \n",
       "\n",
       "        liking  \n",
       "0         7.83  \n",
       "1         7.83  \n",
       "2         7.83  \n",
       "3         7.83  \n",
       "4         7.83  \n",
       "...        ...  \n",
       "322555    5.97  \n",
       "322556    5.97  \n",
       "322557    5.97  \n",
       "322558    5.97  \n",
       "322559    5.97  \n",
       "\n",
       "[322560 rows x 36 columns]"
      ],
      "text/html": "<div>\n<style scoped>\n    .dataframe tbody tr th:only-of-type {\n        vertical-align: middle;\n    }\n\n    .dataframe tbody tr th {\n        vertical-align: top;\n    }\n\n    .dataframe thead th {\n        text-align: right;\n    }\n</style>\n<table border=\"1\" class=\"dataframe\">\n  <thead>\n    <tr style=\"text-align: right;\">\n      <th></th>\n      <th>FP1</th>\n      <th>AF3</th>\n      <th>F7</th>\n      <th>F3</th>\n      <th>FC1</th>\n      <th>FC5</th>\n      <th>T7</th>\n      <th>C3</th>\n      <th>CP1</th>\n      <th>CP5</th>\n      <th>...</th>\n      <th>F4</th>\n      <th>F8</th>\n      <th>AF4</th>\n      <th>Fp2</th>\n      <th>Fz</th>\n      <th>Cz</th>\n      <th>valence</th>\n      <th>arousal</th>\n      <th>dominance</th>\n      <th>liking</th>\n    </tr>\n  </thead>\n  <tbody>\n    <tr>\n      <th>0</th>\n      <td>0.948232</td>\n      <td>10.260175</td>\n      <td>1.013050</td>\n      <td>-7.658428</td>\n      <td>-1.811108</td>\n      <td>11.011411</td>\n      <td>3.026008</td>\n      <td>-2.380048</td>\n      <td>3.978952</td>\n      <td>-9.657708</td>\n      <td>...</td>\n      <td>4.239575</td>\n      <td>4.888393</td>\n      <td>0.596471</td>\n      <td>0.589618</td>\n      <td>-2.276449</td>\n      <td>-0.109300</td>\n      <td>7.71</td>\n      <td>7.60</td>\n      <td>6.90</td>\n      <td>7.83</td>\n    </tr>\n    <tr>\n      <th>1</th>\n      <td>1.653335</td>\n      <td>12.795443</td>\n      <td>-1.067832</td>\n      <td>-3.267558</td>\n      <td>-4.783876</td>\n      <td>7.402976</td>\n      <td>2.676232</td>\n      <td>-3.614201</td>\n      <td>-1.434440</td>\n      <td>-0.906298</td>\n      <td>...</td>\n      <td>4.557239</td>\n      <td>6.007259</td>\n      <td>-1.881391</td>\n      <td>-4.831903</td>\n      <td>-1.739787</td>\n      <td>-6.518661</td>\n      <td>7.71</td>\n      <td>7.60</td>\n      <td>6.90</td>\n      <td>7.83</td>\n    </tr>\n    <tr>\n      <th>2</th>\n      <td>3.013726</td>\n      <td>10.426192</td>\n      <td>3.908249</td>\n      <td>0.701542</td>\n      <td>-0.522649</td>\n      <td>1.120469</td>\n      <td>2.046996</td>\n      <td>-4.286566</td>\n      <td>-6.174767</td>\n      <td>9.408599</td>\n      <td>...</td>\n      <td>0.636801</td>\n      <td>2.921478</td>\n      <td>-4.484906</td>\n      <td>-8.186728</td>\n      <td>0.555901</td>\n      <td>-11.727187</td>\n      <td>7.71</td>\n      <td>7.60</td>\n      <td>6.90</td>\n      <td>7.83</td>\n    </tr>\n    <tr>\n      <th>3</th>\n      <td>1.495061</td>\n      <td>8.229207</td>\n      <td>6.094405</td>\n      <td>2.959722</td>\n      <td>1.299854</td>\n      <td>-0.832024</td>\n      <td>2.192056</td>\n      <td>-5.170547</td>\n      <td>-6.571542</td>\n      <td>14.101073</td>\n      <td>...</td>\n      <td>-2.965047</td>\n      <td>-0.679860</td>\n      <td>-4.483488</td>\n      <td>-7.905437</td>\n      <td>-1.168129</td>\n      <td>-9.051847</td>\n      <td>7.71</td>\n      <td>7.60</td>\n      <td>6.90</td>\n      <td>7.83</td>\n    </tr>\n    <tr>\n      <th>4</th>\n      <td>-1.264836</td>\n      <td>3.751782</td>\n      <td>4.145906</td>\n      <td>3.459897</td>\n      <td>-0.916779</td>\n      <td>-0.784404</td>\n      <td>-4.694002</td>\n      <td>-5.332026</td>\n      <td>-7.793136</td>\n      <td>16.284187</td>\n      <td>...</td>\n      <td>3.248115</td>\n      <td>-1.103246</td>\n      <td>-2.547386</td>\n      <td>-4.419073</td>\n      <td>-1.319219</td>\n      <td>-4.072682</td>\n      <td>7.71</td>\n      <td>7.60</td>\n      <td>6.90</td>\n      <td>7.83</td>\n    </tr>\n    <tr>\n      <th>...</th>\n      <td>...</td>\n      <td>...</td>\n      <td>...</td>\n      <td>...</td>\n      <td>...</td>\n      <td>...</td>\n      <td>...</td>\n      <td>...</td>\n      <td>...</td>\n      <td>...</td>\n      <td>...</td>\n      <td>...</td>\n      <td>...</td>\n      <td>...</td>\n      <td>...</td>\n      <td>...</td>\n      <td>...</td>\n      <td>...</td>\n      <td>...</td>\n      <td>...</td>\n      <td>...</td>\n    </tr>\n    <tr>\n      <th>322555</th>\n      <td>-0.097608</td>\n      <td>-0.062015</td>\n      <td>-0.151092</td>\n      <td>0.013060</td>\n      <td>-0.046585</td>\n      <td>-0.060403</td>\n      <td>0.149920</td>\n      <td>0.000826</td>\n      <td>0.214036</td>\n      <td>-0.050429</td>\n      <td>...</td>\n      <td>-0.101962</td>\n      <td>0.036677</td>\n      <td>-0.007930</td>\n      <td>0.081379</td>\n      <td>-0.081538</td>\n      <td>-0.009341</td>\n      <td>5.10</td>\n      <td>7.12</td>\n      <td>6.17</td>\n      <td>5.97</td>\n    </tr>\n    <tr>\n      <th>322556</th>\n      <td>-0.097608</td>\n      <td>-0.062015</td>\n      <td>-0.151092</td>\n      <td>0.013060</td>\n      <td>-0.046585</td>\n      <td>-0.060403</td>\n      <td>0.149920</td>\n      <td>0.000826</td>\n      <td>0.215036</td>\n      <td>-0.050429</td>\n      <td>...</td>\n      <td>-0.101962</td>\n      <td>0.036677</td>\n      <td>-0.007930</td>\n      <td>0.081379</td>\n      <td>-0.081538</td>\n      <td>-0.009341</td>\n      <td>5.10</td>\n      <td>7.12</td>\n      <td>6.17</td>\n      <td>5.97</td>\n    </tr>\n    <tr>\n      <th>322557</th>\n      <td>-0.097608</td>\n      <td>-0.062015</td>\n      <td>-0.151092</td>\n      <td>0.013060</td>\n      <td>-0.046585</td>\n      <td>-0.060403</td>\n      <td>0.149920</td>\n      <td>0.000826</td>\n      <td>0.215036</td>\n      <td>-0.050429</td>\n      <td>...</td>\n      <td>-0.101962</td>\n      <td>0.036677</td>\n      <td>-0.007930</td>\n      <td>0.081379</td>\n      <td>-0.082538</td>\n      <td>-0.009341</td>\n      <td>5.10</td>\n      <td>7.12</td>\n      <td>6.17</td>\n      <td>5.97</td>\n    </tr>\n    <tr>\n      <th>322558</th>\n      <td>-0.097608</td>\n      <td>-0.062015</td>\n      <td>-0.151092</td>\n      <td>0.013060</td>\n      <td>-0.046585</td>\n      <td>-0.060403</td>\n      <td>0.149920</td>\n      <td>0.000826</td>\n      <td>0.214036</td>\n      <td>-0.050429</td>\n      <td>...</td>\n      <td>-0.101962</td>\n      <td>0.036677</td>\n      <td>-0.007930</td>\n      <td>0.081379</td>\n      <td>-0.081538</td>\n      <td>-0.009341</td>\n      <td>5.10</td>\n      <td>7.12</td>\n      <td>6.17</td>\n      <td>5.97</td>\n    </tr>\n    <tr>\n      <th>322559</th>\n      <td>-0.097608</td>\n      <td>-0.062015</td>\n      <td>-0.151092</td>\n      <td>0.013060</td>\n      <td>-0.046585</td>\n      <td>-0.060403</td>\n      <td>0.149920</td>\n      <td>0.000826</td>\n      <td>0.215036</td>\n      <td>-0.050429</td>\n      <td>...</td>\n      <td>-0.101962</td>\n      <td>0.036677</td>\n      <td>-0.007930</td>\n      <td>0.081379</td>\n      <td>-0.082538</td>\n      <td>-0.009341</td>\n      <td>5.10</td>\n      <td>7.12</td>\n      <td>6.17</td>\n      <td>5.97</td>\n    </tr>\n  </tbody>\n</table>\n<p>322560 rows × 36 columns</p>\n</div>"
     },
     "metadata": {},
     "execution_count": 15
    }
   ],
   "source": [
    "import pandas as pd\n",
    "import numpy as np\n",
    "import matplotlib.pyplot as plt\n",
    "import os\n",
    "import pickle\n",
    "\n",
    "files = os.listdir('d\\\\')\n",
    "\n",
    "list_of_dfs = []\n",
    "for file in files:\n",
    "    with open(os.path.join('d\\\\',file), 'rb') as pickle_file:\n",
    "        dictRaw = pd.read_pickle(pickle_file) \n",
    "        labels = dictRaw.get('labels')\n",
    "        data = dictRaw.get('data')\n",
    "        \n",
    "        dfLabels = pd.DataFrame(data=labels, columns=[\"valence\", \"arousal\", \"dominance\", \"liking\"])\n",
    "\n",
    "        a,b,c = data.shape\n",
    "        E = data.reshape(40, 322560)\n",
    "        allData = pd.DataFrame(E).transpose()\n",
    "        rows = list()\n",
    "        for _,row in dfLabels.iterrows():\n",
    "            rows += [row]*8064\n",
    "        aux = pd.DataFrame(rows).reset_index(drop=True)\n",
    "        allData = allData.merge(aux, left_index=True, right_index=True)\n",
    "        \n",
    "        list_of_dfs.append(allData)\n",
    "data = pd.concat(list_of_dfs, ignore_index=True)\n",
    "\n",
    "data.columns = ['FP1','AF3','F7','F3','FC1','FC5','T7','C3','CP1','CP5','P7','P3','Pz','PO3','O1','Oz','O2','PO4','P4','P8','CP6','CP2','C4','T8','FC6','FC2','F4','F8','AF4','Fp2','Fz','Cz','hEOG','vEOG','zEMG','tEMG','GSR','Respiration','PLethy','Temperature','valence', 'arousal', 'dominance', 'liking']\n",
    "\n",
    "data.drop(['hEOG','vEOG','zEMG','tEMG','GSR','Respiration','PLethy','Temperature'],axis = 'columns', inplace=True)\n",
    "\n",
    "data\n",
    "# En data tenemos la información de todos los sujetos"
   ]
  },
  {
   "source": [
    "# Extracción de características"
   ],
   "cell_type": "markdown",
   "metadata": {}
  },
  {
   "cell_type": "code",
   "execution_count": 16,
   "metadata": {},
   "outputs": [],
   "source": [
    "import pandas as pd\n",
    "import numpy as np\n",
    "import matplotlib.pyplot as plt\n",
    "\n",
    "#def select_file(file):\n",
    "    #Lectura mediante pandas\n",
    "dictRaw = pd.read_pickle('d\\\\s01.dat')\n",
    "\n",
    "labels = dictRaw.get('labels')\n",
    "\n",
    "dfLabels = pd.DataFrame(data=labels, columns=[\"valence\", \"arousal\", \"dominance\", \"liking\"])\n",
    "\n",
    "data = dictRaw.get('data')\n",
    "\n",
    "df_videos = {}\n",
    "    #Recorrido de cada una de las columnas de la tabla 3d, y guardado en una una lista de dataframes para cada uno de los videos.\n",
    "for i in range(40):\n",
    "    df_videos[i] = pd.DataFrame(data[i])\n",
    "    df_videos[i] = df_videos[i].transpose()\n",
    "    df_videos[i].columns = ['FP1','AF3','F7','F3','FC1','FC5','T7','C3','CP1','CP5','P7','P3','Pz','PO3','O1','Oz','O2','PO4','P4','P8','CP6','CP2','C4','T8','FC6','FC2','F4','F8','AF4','Fp2','Fz','Cz','hEOG','vEOG','zEMG','tEMG','GSR','Respiration','PLethy','Temperature']\n",
    "    df_videos[i].drop(['hEOG','vEOG','zEMG','tEMG','GSR','Respiration','PLethy','Temperature'],axis = 'columns', inplace=True)\n",
    "    \n",
    "#    return df_videos\n"
   ]
  },
  {
   "cell_type": "code",
   "execution_count": 17,
   "metadata": {},
   "outputs": [],
   "source": [
    "# Array de 40 dataframes : los 40 videos\n",
    "# df_videos"
   ]
  },
  {
   "cell_type": "code",
   "execution_count": 18,
   "metadata": {},
   "outputs": [],
   "source": [
    "    # Frecuencia de muestreo\n",
    "    fs = 128\n",
    "    # Window\n",
    "    window = \"hann\"\n",
    "    # Length of each segment\n",
    "    # nperseg = 256 por defecto\n",
    "    # noverlap\n",
    "    # Por defecto a None, if None : noverlap = nperseg / 2\n",
    "    # [...]\n",
    "\n",
    "    # Definicion de bandas\n",
    "    eeg_bands = {'Delta': (1, 4),\n",
    "                'Theta': (4, 8),\n",
    "                'Alpha': (8, 14),\n",
    "                'Beta': (14, 31),\n",
    "                'Gamma': (31, 50)}\n",
    "\n"
   ]
  },
  {
   "cell_type": "code",
   "execution_count": 19,
   "metadata": {},
   "outputs": [],
   "source": [
    "# FOURIER\n",
    "import scipy\n",
    "from scipy import signal\n",
    "\n",
    "# SE COGE EL PRIMER VÍDEOS, Df_VIDEOS[0]\n",
    "def do_stft(video, channel):\n",
    "    # Array \n",
    "    x = df_videos[video][channel]\n",
    "\n",
    "    # Array of the sample frequency, Array of the segment times, STFT of x\n",
    "    f, t , Zxx = scipy.signal.stft(x, fs, window)\n",
    "\n",
    "    #print(np.abs(Zxx))\n",
    "    '''\n",
    "    plt.pcolormesh(t, f, np.abs(Zxx), vmin=0, shading='gouraud')\n",
    "    plt.ylabel('Frequency [Hz]')\n",
    "    plt.xlabel('Time [sec]')\n",
    "    plt.show()\n",
    "    '''\n",
    "    return Zxx\n"
   ]
  },
  {
   "cell_type": "code",
   "execution_count": 20,
   "metadata": {},
   "outputs": [
    {
     "output_type": "execute_result",
     "data": {
      "text/plain": [
       "\"f, t , Sxx = scipy.signal.spectrogram(x, fs, window)\\n\\nplt.pcolormesh(t, f, np.abs(Sxx), vmin=0, shading='gouraud')\\nplt.ylabel('Frequency [Hz]')\\nplt.xlabel('Time [sec]')\\nplt.show()\""
      ]
     },
     "metadata": {},
     "execution_count": 20
    }
   ],
   "source": [
    "# Array of the sample frequency, Array of the segment times, Spectogram of x\n",
    "'''f, t , Sxx = scipy.signal.spectrogram(x, fs, window)\n",
    "\n",
    "plt.pcolormesh(t, f, np.abs(Sxx), vmin=0, shading='gouraud')\n",
    "plt.ylabel('Frequency [Hz]')\n",
    "plt.xlabel('Time [sec]')\n",
    "plt.show()'''"
   ]
  },
  {
   "cell_type": "code",
   "execution_count": 21,
   "metadata": {},
   "outputs": [],
   "source": [
    "#np.abs(Sxx)"
   ]
  },
  {
   "cell_type": "code",
   "execution_count": 22,
   "metadata": {},
   "outputs": [],
   "source": [
    "#SEPARACION EN LAS DISTINTAS BANDAS DE FRECUENCIA\n",
    "\n",
    "def make_bands(Zxx):\n",
    "    #Obtener valores reales de STFT, solo positivos.\n",
    "    values = np.absolute(Zxx)\n",
    "\n",
    "    # Get frequencies for amplitudes in Hz\n",
    "    fft_freq = np.fft.rfftfreq(len(data), 1.0/fs)\n",
    "    #print(fft_freq)\n",
    "\n",
    "    # Obtención de cada una de las bandas de frecuencia\n",
    "    eeg_band_fft = dict()\n",
    "    for band in eeg_bands:  \n",
    "        freq_ix = np.where((fft_freq >= eeg_bands[band][0]) & (fft_freq <= eeg_bands[band][1]))[0]\n",
    "        eeg_band_fft[band] = values[freq_ix]\n",
    "\n",
    "    #print(eeg_band_fft)\n",
    "    '''\n",
    "    eeg_band_fft_means = dict()\n",
    "    for band in eeg_bands:  \n",
    "        freq_ix = np.where((fft_freq >= eeg_bands[band][0]) & (fft_freq <= eeg_bands[band][1]))[0]\n",
    "        eeg_band_fft_means[band] = np.mean(values[freq_ix])\n",
    "\n",
    "    #print(eeg_band_fft_means)\n",
    "\n",
    "    #Graficación de las medias de los datos\n",
    "    df = pd.DataFrame(columns=['band', 'val'])\n",
    "    df['band'] = eeg_bands.keys()\n",
    "    df['val'] = [eeg_band_fft_means[band] for band in eeg_bands]\n",
    "    ax = df.plot.bar(x='band', y='val', legend=False)\n",
    "    ax.set_xlabel(\"EEG band\")\n",
    "    ax.set_ylabel(\"Mean band Amplitude\")\n",
    "    '''\n",
    "    #print(df)\n",
    "\n",
    "    #print(\"\\n\\n\")\n",
    "\n",
    "    '''\n",
    "    print(\"Shape de Zxx: \", Zxx.shape)\n",
    "    print(\"Shape de Delta: \", eeg_band_fft['Delta'].shape)\n",
    "    print(\"Shape de Theta: \", eeg_band_fft['Theta'].shape)\n",
    "    print(\"Shape de Alpha: \", eeg_band_fft['Alpha'].shape)\n",
    "    print(\"Shape de Beta: \", eeg_band_fft['Beta'].shape)\n",
    "    print(\"Shape de Gamma: \", eeg_band_fft['Gamma'].shape)\n",
    "    '''\n",
    "    return eeg_band_fft\n"
   ]
  },
  {
   "cell_type": "code",
   "execution_count": 23,
   "metadata": {
    "tags": []
   },
   "outputs": [],
   "source": [
    "# Ahora hay que hacer las medias sobre cada banda de frecuencia. La media entre cada una de las posiciones de los bloques. Hacer la media entre todas las posiciones 0, 1, 2... 63 de cada uno de los bloques\n",
    "import numpy as np\n",
    "\n",
    "def channel_freq(eeg_band_fft):\n",
    "        \n",
    "        freq = np.zeros((5, 64))        # 5 bandas, 64 posiciones de los datos\n",
    "\n",
    "        # Se va a recorrer {Delta, Theta, Alpha, Beta, Gamma}\n",
    "        for band in eeg_bands:\n",
    "\n",
    "                # Para cada una de las 64 posiciones del array\n",
    "                for j in range (0, 64):\n",
    "                        \n",
    "                        val = []\n",
    "                        # Se va a recorrer cada uno de los arrays que hay en cada una de las bandas\n",
    "                        for i in range (0, len(eeg_band_fft[band])):\n",
    "                                val.append(eeg_band_fft[band][i][j])\n",
    "                                # Ejemplo : eeg_band_fft['Delta'][0][0*0 + 0]\n",
    "                        if (band == \"Delta\"):\n",
    "                                freq[0][j] = np.mean(val)\n",
    "                        elif (band == \"Theta\"):\n",
    "                                freq[1][j] = np.mean(val)\n",
    "                        elif (band == \"Alpha\"):\n",
    "                                freq[2][j] = np.mean(val)\n",
    "                        elif (band == \"Beta\"):\n",
    "                                freq[3][j] = np.mean(val)\n",
    "                        elif (band == \"Gamma\"):\n",
    "                                freq[4][j] = np.mean(val)\n",
    "        return(freq)     # En freq tenemos las frecuencias medias de cada una de las bandas\n",
    "\n",
    "# Recordamos : Estamos tratando los datos relativos al video 0, un canal concreto de un sujeto concreto"
   ]
  },
  {
   "cell_type": "code",
   "execution_count": 24,
   "metadata": {
    "tags": []
   },
   "outputs": [
    {
     "output_type": "error",
     "ename": "TypeError",
     "evalue": "do_stft() missing 1 required positional argument: 'channel'",
     "traceback": [
      "\u001b[1;31m---------------------------------------------------------------------------\u001b[0m",
      "\u001b[1;31mTypeError\u001b[0m                                 Traceback (most recent call last)",
      "\u001b[1;32m<ipython-input-24-2d58e180b762>\u001b[0m in \u001b[0;36m<module>\u001b[1;34m\u001b[0m\n\u001b[0;32m      9\u001b[0m \u001b[1;33m\u001b[0m\u001b[0m\n\u001b[0;32m     10\u001b[0m     \u001b[1;32mfor\u001b[0m \u001b[0mchannel\u001b[0m \u001b[1;32min\u001b[0m \u001b[1;33m[\u001b[0m\u001b[1;34m'FP1'\u001b[0m\u001b[1;33m,\u001b[0m\u001b[1;34m'AF3'\u001b[0m\u001b[1;33m,\u001b[0m\u001b[1;34m'F7'\u001b[0m\u001b[1;33m,\u001b[0m\u001b[1;34m'F3'\u001b[0m\u001b[1;33m,\u001b[0m\u001b[1;34m'FC1'\u001b[0m\u001b[1;33m,\u001b[0m\u001b[1;34m'FC5'\u001b[0m\u001b[1;33m,\u001b[0m\u001b[1;34m'T7'\u001b[0m\u001b[1;33m,\u001b[0m\u001b[1;34m'C3'\u001b[0m\u001b[1;33m,\u001b[0m\u001b[1;34m'CP1'\u001b[0m\u001b[1;33m,\u001b[0m\u001b[1;34m'CP5'\u001b[0m\u001b[1;33m,\u001b[0m\u001b[1;34m'P7'\u001b[0m\u001b[1;33m,\u001b[0m\u001b[1;34m'P3'\u001b[0m\u001b[1;33m,\u001b[0m\u001b[1;34m'Pz'\u001b[0m\u001b[1;33m,\u001b[0m\u001b[1;34m'PO3'\u001b[0m\u001b[1;33m,\u001b[0m\u001b[1;34m'O1'\u001b[0m\u001b[1;33m,\u001b[0m\u001b[1;34m'Oz'\u001b[0m\u001b[1;33m,\u001b[0m\u001b[1;34m'O2'\u001b[0m\u001b[1;33m,\u001b[0m\u001b[1;34m'PO4'\u001b[0m\u001b[1;33m,\u001b[0m\u001b[1;34m'P4'\u001b[0m\u001b[1;33m,\u001b[0m\u001b[1;34m'P8'\u001b[0m\u001b[1;33m,\u001b[0m\u001b[1;34m'CP6'\u001b[0m\u001b[1;33m,\u001b[0m\u001b[1;34m'CP2'\u001b[0m\u001b[1;33m,\u001b[0m\u001b[1;34m'C4'\u001b[0m\u001b[1;33m,\u001b[0m\u001b[1;34m'T8'\u001b[0m\u001b[1;33m,\u001b[0m\u001b[1;34m'FC6'\u001b[0m\u001b[1;33m,\u001b[0m\u001b[1;34m'FC2'\u001b[0m\u001b[1;33m,\u001b[0m\u001b[1;34m'F4'\u001b[0m\u001b[1;33m,\u001b[0m\u001b[1;34m'F8'\u001b[0m\u001b[1;33m,\u001b[0m\u001b[1;34m'AF4'\u001b[0m\u001b[1;33m,\u001b[0m\u001b[1;34m'Fp2'\u001b[0m\u001b[1;33m,\u001b[0m\u001b[1;34m'Fz'\u001b[0m\u001b[1;33m,\u001b[0m\u001b[1;34m'Cz'\u001b[0m\u001b[1;33m]\u001b[0m\u001b[1;33m:\u001b[0m\u001b[1;33m\u001b[0m\u001b[1;33m\u001b[0m\u001b[0m\n\u001b[1;32m---> 11\u001b[1;33m         \u001b[0mZxx\u001b[0m \u001b[1;33m=\u001b[0m \u001b[0mdo_stft\u001b[0m\u001b[1;33m(\u001b[0m\u001b[0mvideo\u001b[0m\u001b[1;33m,\u001b[0m \u001b[0mchannel\u001b[0m\u001b[1;33m)\u001b[0m\u001b[1;33m\u001b[0m\u001b[1;33m\u001b[0m\u001b[0m\n\u001b[0m\u001b[0;32m     12\u001b[0m         \u001b[0meeg_band_fft\u001b[0m \u001b[1;33m=\u001b[0m \u001b[0mmake_bands\u001b[0m\u001b[1;33m(\u001b[0m\u001b[0mZxx\u001b[0m\u001b[1;33m)\u001b[0m\u001b[1;33m\u001b[0m\u001b[1;33m\u001b[0m\u001b[0m\n\u001b[0;32m     13\u001b[0m         \u001b[0mprint\u001b[0m\u001b[1;33m(\u001b[0m\u001b[0mvideo\u001b[0m\u001b[1;33m)\u001b[0m\u001b[1;33m\u001b[0m\u001b[1;33m\u001b[0m\u001b[0m\n",
      "\u001b[1;31mTypeError\u001b[0m: do_stft() missing 1 required positional argument: 'channel'"
     ]
    }
   ],
   "source": [
    "#df_file_videos = select_file('d\\\\s01.dat')\n",
    "# Obtener la división por bandas de frecuencia de cada uno de los canales del video 0\n",
    "for video in range(0, 40):\n",
    "    delta_bands = []\n",
    "    theta_bands = []\n",
    "    beta_bands = []\n",
    "    alpha_bands = []\n",
    "    gamma_bands = []\n",
    "\n",
    "    for channel in ['FP1','AF3','F7','F3','FC1','FC5','T7','C3','CP1','CP5','P7','P3','Pz','PO3','O1','Oz','O2','PO4','P4','P8','CP6','CP2','C4','T8','FC6','FC2','F4','F8','AF4','Fp2','Fz','Cz']:\n",
    "        Zxx = do_stft(video, channel)\n",
    "        eeg_band_fft = make_bands(Zxx)\n",
    "        print(video)\n",
    "        print(\"\\n\")\n",
    "        print(channel)\n",
    "        freq = channel_freq(eeg_band_fft)\n",
    "\n",
    "        delta_bands.append(freq[0])\n",
    "        theta_bands.append(freq[1])\n",
    "        alpha_bands.append(freq[2])\n",
    "        beta_bands.append(freq[3])\n",
    "        gamma_bands.append(freq[4])\n",
    "        \n",
    "        print(freq[0])\n",
    "        print(\"\\n\\n\")\n",
    "    # En freq tenemos la media de todas las bandas de frecuencia de cada uno de los canales del vídeo 0"
   ]
  },
  {
   "cell_type": "code",
   "execution_count": 11,
   "metadata": {},
   "outputs": [
    {
     "output_type": "execute_result",
     "data": {
      "text/plain": [
       "           FP1       AF3        F7        F3       FC1       FC5        T7  \\\n",
       "0     0.023039  0.024048  0.028811  0.032106  0.044012  0.048092  0.016513   \n",
       "1     0.023039  0.024048  0.028811  0.032106  0.044012  0.048092  0.016513   \n",
       "2     0.023039  0.024048  0.028811  0.032106  0.044012  0.048092  0.016513   \n",
       "3     0.023039  0.024048  0.028811  0.032106  0.044012  0.048092  0.016513   \n",
       "4     0.023039  0.024048  0.028811  0.032106  0.044012  0.048092  0.016513   \n",
       "...        ...       ...       ...       ...       ...       ...       ...   \n",
       "2555  0.025769  0.026977  0.056836  0.010858  0.015764  0.051700  0.006908   \n",
       "2556  0.025769  0.026977  0.056836  0.010858  0.015764  0.051700  0.006908   \n",
       "2557  0.025769  0.026977  0.056836  0.010858  0.015764  0.051700  0.006908   \n",
       "2558  0.025769  0.026977  0.056836  0.010858  0.015764  0.051700  0.006908   \n",
       "2559  0.025769  0.026977  0.056836  0.010858  0.015764  0.051700  0.006908   \n",
       "\n",
       "            C3       CP1       CP5  ...        C4        T8       FC6  \\\n",
       "0     0.050341  0.035829  0.011347  ...  0.072781  0.022990  0.019260   \n",
       "1     0.050341  0.035829  0.011347  ...  0.072781  0.022990  0.019260   \n",
       "2     0.050341  0.035829  0.011347  ...  0.072781  0.022990  0.019260   \n",
       "3     0.050341  0.035829  0.011347  ...  0.072781  0.022990  0.019260   \n",
       "4     0.050341  0.035829  0.011347  ...  0.072781  0.022990  0.019260   \n",
       "...        ...       ...       ...  ...       ...       ...       ...   \n",
       "2555  0.011550  0.038232  0.034416  ...  0.012704  0.008985  0.026565   \n",
       "2556  0.011550  0.038232  0.034416  ...  0.012704  0.008985  0.026565   \n",
       "2557  0.011550  0.038232  0.034416  ...  0.012704  0.008985  0.026565   \n",
       "2558  0.011550  0.038232  0.034416  ...  0.012704  0.008985  0.026565   \n",
       "2559  0.011550  0.038232  0.034416  ...  0.012704  0.008985  0.026565   \n",
       "\n",
       "           FC2        F4        F8       AF4       Fp2        Fz        Cz  \n",
       "0     0.010448  0.021503  0.038031  0.035371  0.003149  0.029362  0.033688  \n",
       "1     0.010448  0.021503  0.038031  0.035371  0.003149  0.029362  0.033688  \n",
       "2     0.010448  0.021503  0.038031  0.035371  0.003149  0.029362  0.033688  \n",
       "3     0.010448  0.021503  0.038031  0.035371  0.003149  0.029362  0.033688  \n",
       "4     0.010448  0.021503  0.038031  0.035371  0.003149  0.029362  0.033688  \n",
       "...        ...       ...       ...       ...       ...       ...       ...  \n",
       "2555  0.012750  0.029309  0.025757  0.056188  0.026164  0.045488  0.014212  \n",
       "2556  0.012750  0.029309  0.025757  0.056188  0.026164  0.045488  0.014212  \n",
       "2557  0.012750  0.029309  0.025757  0.056188  0.026164  0.045488  0.014212  \n",
       "2558  0.012750  0.029309  0.025757  0.056188  0.026164  0.045488  0.014212  \n",
       "2559  0.012750  0.029309  0.025757  0.056188  0.026164  0.045488  0.014212  \n",
       "\n",
       "[2560 rows x 32 columns]"
      ],
      "text/html": "<div>\n<style scoped>\n    .dataframe tbody tr th:only-of-type {\n        vertical-align: middle;\n    }\n\n    .dataframe tbody tr th {\n        vertical-align: top;\n    }\n\n    .dataframe thead th {\n        text-align: right;\n    }\n</style>\n<table border=\"1\" class=\"dataframe\">\n  <thead>\n    <tr style=\"text-align: right;\">\n      <th></th>\n      <th>FP1</th>\n      <th>AF3</th>\n      <th>F7</th>\n      <th>F3</th>\n      <th>FC1</th>\n      <th>FC5</th>\n      <th>T7</th>\n      <th>C3</th>\n      <th>CP1</th>\n      <th>CP5</th>\n      <th>...</th>\n      <th>C4</th>\n      <th>T8</th>\n      <th>FC6</th>\n      <th>FC2</th>\n      <th>F4</th>\n      <th>F8</th>\n      <th>AF4</th>\n      <th>Fp2</th>\n      <th>Fz</th>\n      <th>Cz</th>\n    </tr>\n  </thead>\n  <tbody>\n    <tr>\n      <th>0</th>\n      <td>0.023039</td>\n      <td>0.024048</td>\n      <td>0.028811</td>\n      <td>0.032106</td>\n      <td>0.044012</td>\n      <td>0.048092</td>\n      <td>0.016513</td>\n      <td>0.050341</td>\n      <td>0.035829</td>\n      <td>0.011347</td>\n      <td>...</td>\n      <td>0.072781</td>\n      <td>0.022990</td>\n      <td>0.019260</td>\n      <td>0.010448</td>\n      <td>0.021503</td>\n      <td>0.038031</td>\n      <td>0.035371</td>\n      <td>0.003149</td>\n      <td>0.029362</td>\n      <td>0.033688</td>\n    </tr>\n    <tr>\n      <th>1</th>\n      <td>0.023039</td>\n      <td>0.024048</td>\n      <td>0.028811</td>\n      <td>0.032106</td>\n      <td>0.044012</td>\n      <td>0.048092</td>\n      <td>0.016513</td>\n      <td>0.050341</td>\n      <td>0.035829</td>\n      <td>0.011347</td>\n      <td>...</td>\n      <td>0.072781</td>\n      <td>0.022990</td>\n      <td>0.019260</td>\n      <td>0.010448</td>\n      <td>0.021503</td>\n      <td>0.038031</td>\n      <td>0.035371</td>\n      <td>0.003149</td>\n      <td>0.029362</td>\n      <td>0.033688</td>\n    </tr>\n    <tr>\n      <th>2</th>\n      <td>0.023039</td>\n      <td>0.024048</td>\n      <td>0.028811</td>\n      <td>0.032106</td>\n      <td>0.044012</td>\n      <td>0.048092</td>\n      <td>0.016513</td>\n      <td>0.050341</td>\n      <td>0.035829</td>\n      <td>0.011347</td>\n      <td>...</td>\n      <td>0.072781</td>\n      <td>0.022990</td>\n      <td>0.019260</td>\n      <td>0.010448</td>\n      <td>0.021503</td>\n      <td>0.038031</td>\n      <td>0.035371</td>\n      <td>0.003149</td>\n      <td>0.029362</td>\n      <td>0.033688</td>\n    </tr>\n    <tr>\n      <th>3</th>\n      <td>0.023039</td>\n      <td>0.024048</td>\n      <td>0.028811</td>\n      <td>0.032106</td>\n      <td>0.044012</td>\n      <td>0.048092</td>\n      <td>0.016513</td>\n      <td>0.050341</td>\n      <td>0.035829</td>\n      <td>0.011347</td>\n      <td>...</td>\n      <td>0.072781</td>\n      <td>0.022990</td>\n      <td>0.019260</td>\n      <td>0.010448</td>\n      <td>0.021503</td>\n      <td>0.038031</td>\n      <td>0.035371</td>\n      <td>0.003149</td>\n      <td>0.029362</td>\n      <td>0.033688</td>\n    </tr>\n    <tr>\n      <th>4</th>\n      <td>0.023039</td>\n      <td>0.024048</td>\n      <td>0.028811</td>\n      <td>0.032106</td>\n      <td>0.044012</td>\n      <td>0.048092</td>\n      <td>0.016513</td>\n      <td>0.050341</td>\n      <td>0.035829</td>\n      <td>0.011347</td>\n      <td>...</td>\n      <td>0.072781</td>\n      <td>0.022990</td>\n      <td>0.019260</td>\n      <td>0.010448</td>\n      <td>0.021503</td>\n      <td>0.038031</td>\n      <td>0.035371</td>\n      <td>0.003149</td>\n      <td>0.029362</td>\n      <td>0.033688</td>\n    </tr>\n    <tr>\n      <th>...</th>\n      <td>...</td>\n      <td>...</td>\n      <td>...</td>\n      <td>...</td>\n      <td>...</td>\n      <td>...</td>\n      <td>...</td>\n      <td>...</td>\n      <td>...</td>\n      <td>...</td>\n      <td>...</td>\n      <td>...</td>\n      <td>...</td>\n      <td>...</td>\n      <td>...</td>\n      <td>...</td>\n      <td>...</td>\n      <td>...</td>\n      <td>...</td>\n      <td>...</td>\n      <td>...</td>\n    </tr>\n    <tr>\n      <th>2555</th>\n      <td>0.025769</td>\n      <td>0.026977</td>\n      <td>0.056836</td>\n      <td>0.010858</td>\n      <td>0.015764</td>\n      <td>0.051700</td>\n      <td>0.006908</td>\n      <td>0.011550</td>\n      <td>0.038232</td>\n      <td>0.034416</td>\n      <td>...</td>\n      <td>0.012704</td>\n      <td>0.008985</td>\n      <td>0.026565</td>\n      <td>0.012750</td>\n      <td>0.029309</td>\n      <td>0.025757</td>\n      <td>0.056188</td>\n      <td>0.026164</td>\n      <td>0.045488</td>\n      <td>0.014212</td>\n    </tr>\n    <tr>\n      <th>2556</th>\n      <td>0.025769</td>\n      <td>0.026977</td>\n      <td>0.056836</td>\n      <td>0.010858</td>\n      <td>0.015764</td>\n      <td>0.051700</td>\n      <td>0.006908</td>\n      <td>0.011550</td>\n      <td>0.038232</td>\n      <td>0.034416</td>\n      <td>...</td>\n      <td>0.012704</td>\n      <td>0.008985</td>\n      <td>0.026565</td>\n      <td>0.012750</td>\n      <td>0.029309</td>\n      <td>0.025757</td>\n      <td>0.056188</td>\n      <td>0.026164</td>\n      <td>0.045488</td>\n      <td>0.014212</td>\n    </tr>\n    <tr>\n      <th>2557</th>\n      <td>0.025769</td>\n      <td>0.026977</td>\n      <td>0.056836</td>\n      <td>0.010858</td>\n      <td>0.015764</td>\n      <td>0.051700</td>\n      <td>0.006908</td>\n      <td>0.011550</td>\n      <td>0.038232</td>\n      <td>0.034416</td>\n      <td>...</td>\n      <td>0.012704</td>\n      <td>0.008985</td>\n      <td>0.026565</td>\n      <td>0.012750</td>\n      <td>0.029309</td>\n      <td>0.025757</td>\n      <td>0.056188</td>\n      <td>0.026164</td>\n      <td>0.045488</td>\n      <td>0.014212</td>\n    </tr>\n    <tr>\n      <th>2558</th>\n      <td>0.025769</td>\n      <td>0.026977</td>\n      <td>0.056836</td>\n      <td>0.010858</td>\n      <td>0.015764</td>\n      <td>0.051700</td>\n      <td>0.006908</td>\n      <td>0.011550</td>\n      <td>0.038232</td>\n      <td>0.034416</td>\n      <td>...</td>\n      <td>0.012704</td>\n      <td>0.008985</td>\n      <td>0.026565</td>\n      <td>0.012750</td>\n      <td>0.029309</td>\n      <td>0.025757</td>\n      <td>0.056188</td>\n      <td>0.026164</td>\n      <td>0.045488</td>\n      <td>0.014212</td>\n    </tr>\n    <tr>\n      <th>2559</th>\n      <td>0.025769</td>\n      <td>0.026977</td>\n      <td>0.056836</td>\n      <td>0.010858</td>\n      <td>0.015764</td>\n      <td>0.051700</td>\n      <td>0.006908</td>\n      <td>0.011550</td>\n      <td>0.038232</td>\n      <td>0.034416</td>\n      <td>...</td>\n      <td>0.012704</td>\n      <td>0.008985</td>\n      <td>0.026565</td>\n      <td>0.012750</td>\n      <td>0.029309</td>\n      <td>0.025757</td>\n      <td>0.056188</td>\n      <td>0.026164</td>\n      <td>0.045488</td>\n      <td>0.014212</td>\n    </tr>\n  </tbody>\n</table>\n<p>2560 rows × 32 columns</p>\n</div>"
     },
     "metadata": {},
     "execution_count": 11
    }
   ],
   "source": [
    "# Banda delta\r\n",
    "df = pd.DataFrame(delta_bands)\r\n",
    "delta_df = df.transpose()\r\n",
    "delta_df.columns = ['FP1','AF3','F7','F3','FC1','FC5','T7','C3','CP1','CP5','P7','P3','Pz','PO3','O1','Oz','O2','PO4','P4','P8','CP6','CP2','C4','T8','FC6','FC2','F4','F8','AF4','Fp2','Fz','Cz']\r\n",
    "delta_df\r\n",
    "\r\n",
    "rows = list()\r\n",
    "for _,row in delta_df.iterrows():\r\n",
    "    rows += [row]*40\r\n",
    "aux_delta = pd.DataFrame(rows).reset_index(drop=True)\r\n",
    "\r\n",
    "aux_delta"
   ]
  },
  {
   "cell_type": "code",
   "execution_count": 12,
   "metadata": {},
   "outputs": [
    {
     "output_type": "execute_result",
     "data": {
      "text/plain": [
       "           FP1       AF3        F7        F3       FC1       FC5        T7  \\\n",
       "0     0.023039  0.024048  0.028811  0.032106  0.044012  0.048092  0.016513   \n",
       "1     0.023039  0.024048  0.028811  0.032106  0.044012  0.048092  0.016513   \n",
       "2     0.023039  0.024048  0.028811  0.032106  0.044012  0.048092  0.016513   \n",
       "3     0.023039  0.024048  0.028811  0.032106  0.044012  0.048092  0.016513   \n",
       "4     0.023039  0.024048  0.028811  0.032106  0.044012  0.048092  0.016513   \n",
       "...        ...       ...       ...       ...       ...       ...       ...   \n",
       "2555  0.025769  0.026977  0.056836  0.010858  0.015764  0.051700  0.006908   \n",
       "2556  0.025769  0.026977  0.056836  0.010858  0.015764  0.051700  0.006908   \n",
       "2557  0.025769  0.026977  0.056836  0.010858  0.015764  0.051700  0.006908   \n",
       "2558  0.025769  0.026977  0.056836  0.010858  0.015764  0.051700  0.006908   \n",
       "2559  0.025769  0.026977  0.056836  0.010858  0.015764  0.051700  0.006908   \n",
       "\n",
       "            C3       CP1       CP5  ...        C4        T8       FC6  \\\n",
       "0     0.050341  0.035829  0.011347  ...  0.072781  0.022990  0.019260   \n",
       "1     0.050341  0.035829  0.011347  ...  0.072781  0.022990  0.019260   \n",
       "2     0.050341  0.035829  0.011347  ...  0.072781  0.022990  0.019260   \n",
       "3     0.050341  0.035829  0.011347  ...  0.072781  0.022990  0.019260   \n",
       "4     0.050341  0.035829  0.011347  ...  0.072781  0.022990  0.019260   \n",
       "...        ...       ...       ...  ...       ...       ...       ...   \n",
       "2555  0.011550  0.038232  0.034416  ...  0.012704  0.008985  0.026565   \n",
       "2556  0.011550  0.038232  0.034416  ...  0.012704  0.008985  0.026565   \n",
       "2557  0.011550  0.038232  0.034416  ...  0.012704  0.008985  0.026565   \n",
       "2558  0.011550  0.038232  0.034416  ...  0.012704  0.008985  0.026565   \n",
       "2559  0.011550  0.038232  0.034416  ...  0.012704  0.008985  0.026565   \n",
       "\n",
       "           FC2        F4        F8       AF4       Fp2        Fz        Cz  \n",
       "0     0.010448  0.021503  0.038031  0.035371  0.003149  0.029362  0.033688  \n",
       "1     0.010448  0.021503  0.038031  0.035371  0.003149  0.029362  0.033688  \n",
       "2     0.010448  0.021503  0.038031  0.035371  0.003149  0.029362  0.033688  \n",
       "3     0.010448  0.021503  0.038031  0.035371  0.003149  0.029362  0.033688  \n",
       "4     0.010448  0.021503  0.038031  0.035371  0.003149  0.029362  0.033688  \n",
       "...        ...       ...       ...       ...       ...       ...       ...  \n",
       "2555  0.012750  0.029309  0.025757  0.056188  0.026164  0.045488  0.014212  \n",
       "2556  0.012750  0.029309  0.025757  0.056188  0.026164  0.045488  0.014212  \n",
       "2557  0.012750  0.029309  0.025757  0.056188  0.026164  0.045488  0.014212  \n",
       "2558  0.012750  0.029309  0.025757  0.056188  0.026164  0.045488  0.014212  \n",
       "2559  0.012750  0.029309  0.025757  0.056188  0.026164  0.045488  0.014212  \n",
       "\n",
       "[2560 rows x 32 columns]"
      ],
      "text/html": "<div>\n<style scoped>\n    .dataframe tbody tr th:only-of-type {\n        vertical-align: middle;\n    }\n\n    .dataframe tbody tr th {\n        vertical-align: top;\n    }\n\n    .dataframe thead th {\n        text-align: right;\n    }\n</style>\n<table border=\"1\" class=\"dataframe\">\n  <thead>\n    <tr style=\"text-align: right;\">\n      <th></th>\n      <th>FP1</th>\n      <th>AF3</th>\n      <th>F7</th>\n      <th>F3</th>\n      <th>FC1</th>\n      <th>FC5</th>\n      <th>T7</th>\n      <th>C3</th>\n      <th>CP1</th>\n      <th>CP5</th>\n      <th>...</th>\n      <th>C4</th>\n      <th>T8</th>\n      <th>FC6</th>\n      <th>FC2</th>\n      <th>F4</th>\n      <th>F8</th>\n      <th>AF4</th>\n      <th>Fp2</th>\n      <th>Fz</th>\n      <th>Cz</th>\n    </tr>\n  </thead>\n  <tbody>\n    <tr>\n      <th>0</th>\n      <td>0.023039</td>\n      <td>0.024048</td>\n      <td>0.028811</td>\n      <td>0.032106</td>\n      <td>0.044012</td>\n      <td>0.048092</td>\n      <td>0.016513</td>\n      <td>0.050341</td>\n      <td>0.035829</td>\n      <td>0.011347</td>\n      <td>...</td>\n      <td>0.072781</td>\n      <td>0.022990</td>\n      <td>0.019260</td>\n      <td>0.010448</td>\n      <td>0.021503</td>\n      <td>0.038031</td>\n      <td>0.035371</td>\n      <td>0.003149</td>\n      <td>0.029362</td>\n      <td>0.033688</td>\n    </tr>\n    <tr>\n      <th>1</th>\n      <td>0.023039</td>\n      <td>0.024048</td>\n      <td>0.028811</td>\n      <td>0.032106</td>\n      <td>0.044012</td>\n      <td>0.048092</td>\n      <td>0.016513</td>\n      <td>0.050341</td>\n      <td>0.035829</td>\n      <td>0.011347</td>\n      <td>...</td>\n      <td>0.072781</td>\n      <td>0.022990</td>\n      <td>0.019260</td>\n      <td>0.010448</td>\n      <td>0.021503</td>\n      <td>0.038031</td>\n      <td>0.035371</td>\n      <td>0.003149</td>\n      <td>0.029362</td>\n      <td>0.033688</td>\n    </tr>\n    <tr>\n      <th>2</th>\n      <td>0.023039</td>\n      <td>0.024048</td>\n      <td>0.028811</td>\n      <td>0.032106</td>\n      <td>0.044012</td>\n      <td>0.048092</td>\n      <td>0.016513</td>\n      <td>0.050341</td>\n      <td>0.035829</td>\n      <td>0.011347</td>\n      <td>...</td>\n      <td>0.072781</td>\n      <td>0.022990</td>\n      <td>0.019260</td>\n      <td>0.010448</td>\n      <td>0.021503</td>\n      <td>0.038031</td>\n      <td>0.035371</td>\n      <td>0.003149</td>\n      <td>0.029362</td>\n      <td>0.033688</td>\n    </tr>\n    <tr>\n      <th>3</th>\n      <td>0.023039</td>\n      <td>0.024048</td>\n      <td>0.028811</td>\n      <td>0.032106</td>\n      <td>0.044012</td>\n      <td>0.048092</td>\n      <td>0.016513</td>\n      <td>0.050341</td>\n      <td>0.035829</td>\n      <td>0.011347</td>\n      <td>...</td>\n      <td>0.072781</td>\n      <td>0.022990</td>\n      <td>0.019260</td>\n      <td>0.010448</td>\n      <td>0.021503</td>\n      <td>0.038031</td>\n      <td>0.035371</td>\n      <td>0.003149</td>\n      <td>0.029362</td>\n      <td>0.033688</td>\n    </tr>\n    <tr>\n      <th>4</th>\n      <td>0.023039</td>\n      <td>0.024048</td>\n      <td>0.028811</td>\n      <td>0.032106</td>\n      <td>0.044012</td>\n      <td>0.048092</td>\n      <td>0.016513</td>\n      <td>0.050341</td>\n      <td>0.035829</td>\n      <td>0.011347</td>\n      <td>...</td>\n      <td>0.072781</td>\n      <td>0.022990</td>\n      <td>0.019260</td>\n      <td>0.010448</td>\n      <td>0.021503</td>\n      <td>0.038031</td>\n      <td>0.035371</td>\n      <td>0.003149</td>\n      <td>0.029362</td>\n      <td>0.033688</td>\n    </tr>\n    <tr>\n      <th>...</th>\n      <td>...</td>\n      <td>...</td>\n      <td>...</td>\n      <td>...</td>\n      <td>...</td>\n      <td>...</td>\n      <td>...</td>\n      <td>...</td>\n      <td>...</td>\n      <td>...</td>\n      <td>...</td>\n      <td>...</td>\n      <td>...</td>\n      <td>...</td>\n      <td>...</td>\n      <td>...</td>\n      <td>...</td>\n      <td>...</td>\n      <td>...</td>\n      <td>...</td>\n      <td>...</td>\n    </tr>\n    <tr>\n      <th>2555</th>\n      <td>0.025769</td>\n      <td>0.026977</td>\n      <td>0.056836</td>\n      <td>0.010858</td>\n      <td>0.015764</td>\n      <td>0.051700</td>\n      <td>0.006908</td>\n      <td>0.011550</td>\n      <td>0.038232</td>\n      <td>0.034416</td>\n      <td>...</td>\n      <td>0.012704</td>\n      <td>0.008985</td>\n      <td>0.026565</td>\n      <td>0.012750</td>\n      <td>0.029309</td>\n      <td>0.025757</td>\n      <td>0.056188</td>\n      <td>0.026164</td>\n      <td>0.045488</td>\n      <td>0.014212</td>\n    </tr>\n    <tr>\n      <th>2556</th>\n      <td>0.025769</td>\n      <td>0.026977</td>\n      <td>0.056836</td>\n      <td>0.010858</td>\n      <td>0.015764</td>\n      <td>0.051700</td>\n      <td>0.006908</td>\n      <td>0.011550</td>\n      <td>0.038232</td>\n      <td>0.034416</td>\n      <td>...</td>\n      <td>0.012704</td>\n      <td>0.008985</td>\n      <td>0.026565</td>\n      <td>0.012750</td>\n      <td>0.029309</td>\n      <td>0.025757</td>\n      <td>0.056188</td>\n      <td>0.026164</td>\n      <td>0.045488</td>\n      <td>0.014212</td>\n    </tr>\n    <tr>\n      <th>2557</th>\n      <td>0.025769</td>\n      <td>0.026977</td>\n      <td>0.056836</td>\n      <td>0.010858</td>\n      <td>0.015764</td>\n      <td>0.051700</td>\n      <td>0.006908</td>\n      <td>0.011550</td>\n      <td>0.038232</td>\n      <td>0.034416</td>\n      <td>...</td>\n      <td>0.012704</td>\n      <td>0.008985</td>\n      <td>0.026565</td>\n      <td>0.012750</td>\n      <td>0.029309</td>\n      <td>0.025757</td>\n      <td>0.056188</td>\n      <td>0.026164</td>\n      <td>0.045488</td>\n      <td>0.014212</td>\n    </tr>\n    <tr>\n      <th>2558</th>\n      <td>0.025769</td>\n      <td>0.026977</td>\n      <td>0.056836</td>\n      <td>0.010858</td>\n      <td>0.015764</td>\n      <td>0.051700</td>\n      <td>0.006908</td>\n      <td>0.011550</td>\n      <td>0.038232</td>\n      <td>0.034416</td>\n      <td>...</td>\n      <td>0.012704</td>\n      <td>0.008985</td>\n      <td>0.026565</td>\n      <td>0.012750</td>\n      <td>0.029309</td>\n      <td>0.025757</td>\n      <td>0.056188</td>\n      <td>0.026164</td>\n      <td>0.045488</td>\n      <td>0.014212</td>\n    </tr>\n    <tr>\n      <th>2559</th>\n      <td>0.025769</td>\n      <td>0.026977</td>\n      <td>0.056836</td>\n      <td>0.010858</td>\n      <td>0.015764</td>\n      <td>0.051700</td>\n      <td>0.006908</td>\n      <td>0.011550</td>\n      <td>0.038232</td>\n      <td>0.034416</td>\n      <td>...</td>\n      <td>0.012704</td>\n      <td>0.008985</td>\n      <td>0.026565</td>\n      <td>0.012750</td>\n      <td>0.029309</td>\n      <td>0.025757</td>\n      <td>0.056188</td>\n      <td>0.026164</td>\n      <td>0.045488</td>\n      <td>0.014212</td>\n    </tr>\n  </tbody>\n</table>\n<p>2560 rows × 32 columns</p>\n</div>"
     },
     "metadata": {},
     "execution_count": 12
    }
   ],
   "source": [
    "# Banda theta\n",
    "df = pd.DataFrame(theta_bands)\n",
    "theta_df = df.transpose()\n",
    "theta_df.columns = ['FP1','AF3','F7','F3','FC1','FC5','T7','C3','CP1','CP5','P7','P3','Pz','PO3','O1','Oz','O2','PO4','P4','P8','CP6','CP2','C4','T8','FC6','FC2','F4','F8','AF4','Fp2','Fz','Cz']\n",
    "theta_df\n",
    "\n",
    "rows = list()\n",
    "for _,row in delta_df.iterrows():\n",
    "    rows += [row]*40\n",
    "aux_theta = pd.DataFrame(rows).reset_index(drop=True)\n",
    "\n",
    "aux_theta"
   ]
  },
  {
   "cell_type": "code",
   "execution_count": 13,
   "metadata": {},
   "outputs": [
    {
     "output_type": "execute_result",
     "data": {
      "text/plain": [
       "           FP1       AF3        F7        F3       FC1       FC5        T7  \\\n",
       "0     0.023039  0.024048  0.028811  0.032106  0.044012  0.048092  0.016513   \n",
       "1     0.023039  0.024048  0.028811  0.032106  0.044012  0.048092  0.016513   \n",
       "2     0.023039  0.024048  0.028811  0.032106  0.044012  0.048092  0.016513   \n",
       "3     0.023039  0.024048  0.028811  0.032106  0.044012  0.048092  0.016513   \n",
       "4     0.023039  0.024048  0.028811  0.032106  0.044012  0.048092  0.016513   \n",
       "...        ...       ...       ...       ...       ...       ...       ...   \n",
       "2555  0.025769  0.026977  0.056836  0.010858  0.015764  0.051700  0.006908   \n",
       "2556  0.025769  0.026977  0.056836  0.010858  0.015764  0.051700  0.006908   \n",
       "2557  0.025769  0.026977  0.056836  0.010858  0.015764  0.051700  0.006908   \n",
       "2558  0.025769  0.026977  0.056836  0.010858  0.015764  0.051700  0.006908   \n",
       "2559  0.025769  0.026977  0.056836  0.010858  0.015764  0.051700  0.006908   \n",
       "\n",
       "            C3       CP1       CP5  ...        C4        T8       FC6  \\\n",
       "0     0.050341  0.035829  0.011347  ...  0.072781  0.022990  0.019260   \n",
       "1     0.050341  0.035829  0.011347  ...  0.072781  0.022990  0.019260   \n",
       "2     0.050341  0.035829  0.011347  ...  0.072781  0.022990  0.019260   \n",
       "3     0.050341  0.035829  0.011347  ...  0.072781  0.022990  0.019260   \n",
       "4     0.050341  0.035829  0.011347  ...  0.072781  0.022990  0.019260   \n",
       "...        ...       ...       ...  ...       ...       ...       ...   \n",
       "2555  0.011550  0.038232  0.034416  ...  0.012704  0.008985  0.026565   \n",
       "2556  0.011550  0.038232  0.034416  ...  0.012704  0.008985  0.026565   \n",
       "2557  0.011550  0.038232  0.034416  ...  0.012704  0.008985  0.026565   \n",
       "2558  0.011550  0.038232  0.034416  ...  0.012704  0.008985  0.026565   \n",
       "2559  0.011550  0.038232  0.034416  ...  0.012704  0.008985  0.026565   \n",
       "\n",
       "           FC2        F4        F8       AF4       Fp2        Fz        Cz  \n",
       "0     0.010448  0.021503  0.038031  0.035371  0.003149  0.029362  0.033688  \n",
       "1     0.010448  0.021503  0.038031  0.035371  0.003149  0.029362  0.033688  \n",
       "2     0.010448  0.021503  0.038031  0.035371  0.003149  0.029362  0.033688  \n",
       "3     0.010448  0.021503  0.038031  0.035371  0.003149  0.029362  0.033688  \n",
       "4     0.010448  0.021503  0.038031  0.035371  0.003149  0.029362  0.033688  \n",
       "...        ...       ...       ...       ...       ...       ...       ...  \n",
       "2555  0.012750  0.029309  0.025757  0.056188  0.026164  0.045488  0.014212  \n",
       "2556  0.012750  0.029309  0.025757  0.056188  0.026164  0.045488  0.014212  \n",
       "2557  0.012750  0.029309  0.025757  0.056188  0.026164  0.045488  0.014212  \n",
       "2558  0.012750  0.029309  0.025757  0.056188  0.026164  0.045488  0.014212  \n",
       "2559  0.012750  0.029309  0.025757  0.056188  0.026164  0.045488  0.014212  \n",
       "\n",
       "[2560 rows x 32 columns]"
      ],
      "text/html": "<div>\n<style scoped>\n    .dataframe tbody tr th:only-of-type {\n        vertical-align: middle;\n    }\n\n    .dataframe tbody tr th {\n        vertical-align: top;\n    }\n\n    .dataframe thead th {\n        text-align: right;\n    }\n</style>\n<table border=\"1\" class=\"dataframe\">\n  <thead>\n    <tr style=\"text-align: right;\">\n      <th></th>\n      <th>FP1</th>\n      <th>AF3</th>\n      <th>F7</th>\n      <th>F3</th>\n      <th>FC1</th>\n      <th>FC5</th>\n      <th>T7</th>\n      <th>C3</th>\n      <th>CP1</th>\n      <th>CP5</th>\n      <th>...</th>\n      <th>C4</th>\n      <th>T8</th>\n      <th>FC6</th>\n      <th>FC2</th>\n      <th>F4</th>\n      <th>F8</th>\n      <th>AF4</th>\n      <th>Fp2</th>\n      <th>Fz</th>\n      <th>Cz</th>\n    </tr>\n  </thead>\n  <tbody>\n    <tr>\n      <th>0</th>\n      <td>0.023039</td>\n      <td>0.024048</td>\n      <td>0.028811</td>\n      <td>0.032106</td>\n      <td>0.044012</td>\n      <td>0.048092</td>\n      <td>0.016513</td>\n      <td>0.050341</td>\n      <td>0.035829</td>\n      <td>0.011347</td>\n      <td>...</td>\n      <td>0.072781</td>\n      <td>0.022990</td>\n      <td>0.019260</td>\n      <td>0.010448</td>\n      <td>0.021503</td>\n      <td>0.038031</td>\n      <td>0.035371</td>\n      <td>0.003149</td>\n      <td>0.029362</td>\n      <td>0.033688</td>\n    </tr>\n    <tr>\n      <th>1</th>\n      <td>0.023039</td>\n      <td>0.024048</td>\n      <td>0.028811</td>\n      <td>0.032106</td>\n      <td>0.044012</td>\n      <td>0.048092</td>\n      <td>0.016513</td>\n      <td>0.050341</td>\n      <td>0.035829</td>\n      <td>0.011347</td>\n      <td>...</td>\n      <td>0.072781</td>\n      <td>0.022990</td>\n      <td>0.019260</td>\n      <td>0.010448</td>\n      <td>0.021503</td>\n      <td>0.038031</td>\n      <td>0.035371</td>\n      <td>0.003149</td>\n      <td>0.029362</td>\n      <td>0.033688</td>\n    </tr>\n    <tr>\n      <th>2</th>\n      <td>0.023039</td>\n      <td>0.024048</td>\n      <td>0.028811</td>\n      <td>0.032106</td>\n      <td>0.044012</td>\n      <td>0.048092</td>\n      <td>0.016513</td>\n      <td>0.050341</td>\n      <td>0.035829</td>\n      <td>0.011347</td>\n      <td>...</td>\n      <td>0.072781</td>\n      <td>0.022990</td>\n      <td>0.019260</td>\n      <td>0.010448</td>\n      <td>0.021503</td>\n      <td>0.038031</td>\n      <td>0.035371</td>\n      <td>0.003149</td>\n      <td>0.029362</td>\n      <td>0.033688</td>\n    </tr>\n    <tr>\n      <th>3</th>\n      <td>0.023039</td>\n      <td>0.024048</td>\n      <td>0.028811</td>\n      <td>0.032106</td>\n      <td>0.044012</td>\n      <td>0.048092</td>\n      <td>0.016513</td>\n      <td>0.050341</td>\n      <td>0.035829</td>\n      <td>0.011347</td>\n      <td>...</td>\n      <td>0.072781</td>\n      <td>0.022990</td>\n      <td>0.019260</td>\n      <td>0.010448</td>\n      <td>0.021503</td>\n      <td>0.038031</td>\n      <td>0.035371</td>\n      <td>0.003149</td>\n      <td>0.029362</td>\n      <td>0.033688</td>\n    </tr>\n    <tr>\n      <th>4</th>\n      <td>0.023039</td>\n      <td>0.024048</td>\n      <td>0.028811</td>\n      <td>0.032106</td>\n      <td>0.044012</td>\n      <td>0.048092</td>\n      <td>0.016513</td>\n      <td>0.050341</td>\n      <td>0.035829</td>\n      <td>0.011347</td>\n      <td>...</td>\n      <td>0.072781</td>\n      <td>0.022990</td>\n      <td>0.019260</td>\n      <td>0.010448</td>\n      <td>0.021503</td>\n      <td>0.038031</td>\n      <td>0.035371</td>\n      <td>0.003149</td>\n      <td>0.029362</td>\n      <td>0.033688</td>\n    </tr>\n    <tr>\n      <th>...</th>\n      <td>...</td>\n      <td>...</td>\n      <td>...</td>\n      <td>...</td>\n      <td>...</td>\n      <td>...</td>\n      <td>...</td>\n      <td>...</td>\n      <td>...</td>\n      <td>...</td>\n      <td>...</td>\n      <td>...</td>\n      <td>...</td>\n      <td>...</td>\n      <td>...</td>\n      <td>...</td>\n      <td>...</td>\n      <td>...</td>\n      <td>...</td>\n      <td>...</td>\n      <td>...</td>\n    </tr>\n    <tr>\n      <th>2555</th>\n      <td>0.025769</td>\n      <td>0.026977</td>\n      <td>0.056836</td>\n      <td>0.010858</td>\n      <td>0.015764</td>\n      <td>0.051700</td>\n      <td>0.006908</td>\n      <td>0.011550</td>\n      <td>0.038232</td>\n      <td>0.034416</td>\n      <td>...</td>\n      <td>0.012704</td>\n      <td>0.008985</td>\n      <td>0.026565</td>\n      <td>0.012750</td>\n      <td>0.029309</td>\n      <td>0.025757</td>\n      <td>0.056188</td>\n      <td>0.026164</td>\n      <td>0.045488</td>\n      <td>0.014212</td>\n    </tr>\n    <tr>\n      <th>2556</th>\n      <td>0.025769</td>\n      <td>0.026977</td>\n      <td>0.056836</td>\n      <td>0.010858</td>\n      <td>0.015764</td>\n      <td>0.051700</td>\n      <td>0.006908</td>\n      <td>0.011550</td>\n      <td>0.038232</td>\n      <td>0.034416</td>\n      <td>...</td>\n      <td>0.012704</td>\n      <td>0.008985</td>\n      <td>0.026565</td>\n      <td>0.012750</td>\n      <td>0.029309</td>\n      <td>0.025757</td>\n      <td>0.056188</td>\n      <td>0.026164</td>\n      <td>0.045488</td>\n      <td>0.014212</td>\n    </tr>\n    <tr>\n      <th>2557</th>\n      <td>0.025769</td>\n      <td>0.026977</td>\n      <td>0.056836</td>\n      <td>0.010858</td>\n      <td>0.015764</td>\n      <td>0.051700</td>\n      <td>0.006908</td>\n      <td>0.011550</td>\n      <td>0.038232</td>\n      <td>0.034416</td>\n      <td>...</td>\n      <td>0.012704</td>\n      <td>0.008985</td>\n      <td>0.026565</td>\n      <td>0.012750</td>\n      <td>0.029309</td>\n      <td>0.025757</td>\n      <td>0.056188</td>\n      <td>0.026164</td>\n      <td>0.045488</td>\n      <td>0.014212</td>\n    </tr>\n    <tr>\n      <th>2558</th>\n      <td>0.025769</td>\n      <td>0.026977</td>\n      <td>0.056836</td>\n      <td>0.010858</td>\n      <td>0.015764</td>\n      <td>0.051700</td>\n      <td>0.006908</td>\n      <td>0.011550</td>\n      <td>0.038232</td>\n      <td>0.034416</td>\n      <td>...</td>\n      <td>0.012704</td>\n      <td>0.008985</td>\n      <td>0.026565</td>\n      <td>0.012750</td>\n      <td>0.029309</td>\n      <td>0.025757</td>\n      <td>0.056188</td>\n      <td>0.026164</td>\n      <td>0.045488</td>\n      <td>0.014212</td>\n    </tr>\n    <tr>\n      <th>2559</th>\n      <td>0.025769</td>\n      <td>0.026977</td>\n      <td>0.056836</td>\n      <td>0.010858</td>\n      <td>0.015764</td>\n      <td>0.051700</td>\n      <td>0.006908</td>\n      <td>0.011550</td>\n      <td>0.038232</td>\n      <td>0.034416</td>\n      <td>...</td>\n      <td>0.012704</td>\n      <td>0.008985</td>\n      <td>0.026565</td>\n      <td>0.012750</td>\n      <td>0.029309</td>\n      <td>0.025757</td>\n      <td>0.056188</td>\n      <td>0.026164</td>\n      <td>0.045488</td>\n      <td>0.014212</td>\n    </tr>\n  </tbody>\n</table>\n<p>2560 rows × 32 columns</p>\n</div>"
     },
     "metadata": {},
     "execution_count": 13
    }
   ],
   "source": [
    "#Bnada alpha\n",
    "df = pd.DataFrame(alpha_bands)\n",
    "alpha_df = df.transpose()\n",
    "alpha_df.columns = ['FP1','AF3','F7','F3','FC1','FC5','T7','C3','CP1','CP5','P7','P3','Pz','PO3','O1','Oz','O2','PO4','P4','P8','CP6','CP2','C4','T8','FC6','FC2','F4','F8','AF4','Fp2','Fz','Cz']\n",
    "alpha_df\n",
    "\n",
    "rows = list()\n",
    "for _,row in delta_df.iterrows():\n",
    "    rows += [row]*40\n",
    "aux_alpha = pd.DataFrame(rows).reset_index(drop=True)\n",
    "\n",
    "aux_alpha"
   ]
  },
  {
   "cell_type": "code",
   "execution_count": 14,
   "metadata": {},
   "outputs": [
    {
     "output_type": "execute_result",
     "data": {
      "text/plain": [
       "           FP1       AF3        F7        F3       FC1       FC5        T7  \\\n",
       "0     0.023039  0.024048  0.028811  0.032106  0.044012  0.048092  0.016513   \n",
       "1     0.023039  0.024048  0.028811  0.032106  0.044012  0.048092  0.016513   \n",
       "2     0.023039  0.024048  0.028811  0.032106  0.044012  0.048092  0.016513   \n",
       "3     0.023039  0.024048  0.028811  0.032106  0.044012  0.048092  0.016513   \n",
       "4     0.023039  0.024048  0.028811  0.032106  0.044012  0.048092  0.016513   \n",
       "...        ...       ...       ...       ...       ...       ...       ...   \n",
       "2555  0.025769  0.026977  0.056836  0.010858  0.015764  0.051700  0.006908   \n",
       "2556  0.025769  0.026977  0.056836  0.010858  0.015764  0.051700  0.006908   \n",
       "2557  0.025769  0.026977  0.056836  0.010858  0.015764  0.051700  0.006908   \n",
       "2558  0.025769  0.026977  0.056836  0.010858  0.015764  0.051700  0.006908   \n",
       "2559  0.025769  0.026977  0.056836  0.010858  0.015764  0.051700  0.006908   \n",
       "\n",
       "            C3       CP1       CP5  ...        C4        T8       FC6  \\\n",
       "0     0.050341  0.035829  0.011347  ...  0.072781  0.022990  0.019260   \n",
       "1     0.050341  0.035829  0.011347  ...  0.072781  0.022990  0.019260   \n",
       "2     0.050341  0.035829  0.011347  ...  0.072781  0.022990  0.019260   \n",
       "3     0.050341  0.035829  0.011347  ...  0.072781  0.022990  0.019260   \n",
       "4     0.050341  0.035829  0.011347  ...  0.072781  0.022990  0.019260   \n",
       "...        ...       ...       ...  ...       ...       ...       ...   \n",
       "2555  0.011550  0.038232  0.034416  ...  0.012704  0.008985  0.026565   \n",
       "2556  0.011550  0.038232  0.034416  ...  0.012704  0.008985  0.026565   \n",
       "2557  0.011550  0.038232  0.034416  ...  0.012704  0.008985  0.026565   \n",
       "2558  0.011550  0.038232  0.034416  ...  0.012704  0.008985  0.026565   \n",
       "2559  0.011550  0.038232  0.034416  ...  0.012704  0.008985  0.026565   \n",
       "\n",
       "           FC2        F4        F8       AF4       Fp2        Fz        Cz  \n",
       "0     0.010448  0.021503  0.038031  0.035371  0.003149  0.029362  0.033688  \n",
       "1     0.010448  0.021503  0.038031  0.035371  0.003149  0.029362  0.033688  \n",
       "2     0.010448  0.021503  0.038031  0.035371  0.003149  0.029362  0.033688  \n",
       "3     0.010448  0.021503  0.038031  0.035371  0.003149  0.029362  0.033688  \n",
       "4     0.010448  0.021503  0.038031  0.035371  0.003149  0.029362  0.033688  \n",
       "...        ...       ...       ...       ...       ...       ...       ...  \n",
       "2555  0.012750  0.029309  0.025757  0.056188  0.026164  0.045488  0.014212  \n",
       "2556  0.012750  0.029309  0.025757  0.056188  0.026164  0.045488  0.014212  \n",
       "2557  0.012750  0.029309  0.025757  0.056188  0.026164  0.045488  0.014212  \n",
       "2558  0.012750  0.029309  0.025757  0.056188  0.026164  0.045488  0.014212  \n",
       "2559  0.012750  0.029309  0.025757  0.056188  0.026164  0.045488  0.014212  \n",
       "\n",
       "[2560 rows x 32 columns]"
      ],
      "text/html": "<div>\n<style scoped>\n    .dataframe tbody tr th:only-of-type {\n        vertical-align: middle;\n    }\n\n    .dataframe tbody tr th {\n        vertical-align: top;\n    }\n\n    .dataframe thead th {\n        text-align: right;\n    }\n</style>\n<table border=\"1\" class=\"dataframe\">\n  <thead>\n    <tr style=\"text-align: right;\">\n      <th></th>\n      <th>FP1</th>\n      <th>AF3</th>\n      <th>F7</th>\n      <th>F3</th>\n      <th>FC1</th>\n      <th>FC5</th>\n      <th>T7</th>\n      <th>C3</th>\n      <th>CP1</th>\n      <th>CP5</th>\n      <th>...</th>\n      <th>C4</th>\n      <th>T8</th>\n      <th>FC6</th>\n      <th>FC2</th>\n      <th>F4</th>\n      <th>F8</th>\n      <th>AF4</th>\n      <th>Fp2</th>\n      <th>Fz</th>\n      <th>Cz</th>\n    </tr>\n  </thead>\n  <tbody>\n    <tr>\n      <th>0</th>\n      <td>0.023039</td>\n      <td>0.024048</td>\n      <td>0.028811</td>\n      <td>0.032106</td>\n      <td>0.044012</td>\n      <td>0.048092</td>\n      <td>0.016513</td>\n      <td>0.050341</td>\n      <td>0.035829</td>\n      <td>0.011347</td>\n      <td>...</td>\n      <td>0.072781</td>\n      <td>0.022990</td>\n      <td>0.019260</td>\n      <td>0.010448</td>\n      <td>0.021503</td>\n      <td>0.038031</td>\n      <td>0.035371</td>\n      <td>0.003149</td>\n      <td>0.029362</td>\n      <td>0.033688</td>\n    </tr>\n    <tr>\n      <th>1</th>\n      <td>0.023039</td>\n      <td>0.024048</td>\n      <td>0.028811</td>\n      <td>0.032106</td>\n      <td>0.044012</td>\n      <td>0.048092</td>\n      <td>0.016513</td>\n      <td>0.050341</td>\n      <td>0.035829</td>\n      <td>0.011347</td>\n      <td>...</td>\n      <td>0.072781</td>\n      <td>0.022990</td>\n      <td>0.019260</td>\n      <td>0.010448</td>\n      <td>0.021503</td>\n      <td>0.038031</td>\n      <td>0.035371</td>\n      <td>0.003149</td>\n      <td>0.029362</td>\n      <td>0.033688</td>\n    </tr>\n    <tr>\n      <th>2</th>\n      <td>0.023039</td>\n      <td>0.024048</td>\n      <td>0.028811</td>\n      <td>0.032106</td>\n      <td>0.044012</td>\n      <td>0.048092</td>\n      <td>0.016513</td>\n      <td>0.050341</td>\n      <td>0.035829</td>\n      <td>0.011347</td>\n      <td>...</td>\n      <td>0.072781</td>\n      <td>0.022990</td>\n      <td>0.019260</td>\n      <td>0.010448</td>\n      <td>0.021503</td>\n      <td>0.038031</td>\n      <td>0.035371</td>\n      <td>0.003149</td>\n      <td>0.029362</td>\n      <td>0.033688</td>\n    </tr>\n    <tr>\n      <th>3</th>\n      <td>0.023039</td>\n      <td>0.024048</td>\n      <td>0.028811</td>\n      <td>0.032106</td>\n      <td>0.044012</td>\n      <td>0.048092</td>\n      <td>0.016513</td>\n      <td>0.050341</td>\n      <td>0.035829</td>\n      <td>0.011347</td>\n      <td>...</td>\n      <td>0.072781</td>\n      <td>0.022990</td>\n      <td>0.019260</td>\n      <td>0.010448</td>\n      <td>0.021503</td>\n      <td>0.038031</td>\n      <td>0.035371</td>\n      <td>0.003149</td>\n      <td>0.029362</td>\n      <td>0.033688</td>\n    </tr>\n    <tr>\n      <th>4</th>\n      <td>0.023039</td>\n      <td>0.024048</td>\n      <td>0.028811</td>\n      <td>0.032106</td>\n      <td>0.044012</td>\n      <td>0.048092</td>\n      <td>0.016513</td>\n      <td>0.050341</td>\n      <td>0.035829</td>\n      <td>0.011347</td>\n      <td>...</td>\n      <td>0.072781</td>\n      <td>0.022990</td>\n      <td>0.019260</td>\n      <td>0.010448</td>\n      <td>0.021503</td>\n      <td>0.038031</td>\n      <td>0.035371</td>\n      <td>0.003149</td>\n      <td>0.029362</td>\n      <td>0.033688</td>\n    </tr>\n    <tr>\n      <th>...</th>\n      <td>...</td>\n      <td>...</td>\n      <td>...</td>\n      <td>...</td>\n      <td>...</td>\n      <td>...</td>\n      <td>...</td>\n      <td>...</td>\n      <td>...</td>\n      <td>...</td>\n      <td>...</td>\n      <td>...</td>\n      <td>...</td>\n      <td>...</td>\n      <td>...</td>\n      <td>...</td>\n      <td>...</td>\n      <td>...</td>\n      <td>...</td>\n      <td>...</td>\n      <td>...</td>\n    </tr>\n    <tr>\n      <th>2555</th>\n      <td>0.025769</td>\n      <td>0.026977</td>\n      <td>0.056836</td>\n      <td>0.010858</td>\n      <td>0.015764</td>\n      <td>0.051700</td>\n      <td>0.006908</td>\n      <td>0.011550</td>\n      <td>0.038232</td>\n      <td>0.034416</td>\n      <td>...</td>\n      <td>0.012704</td>\n      <td>0.008985</td>\n      <td>0.026565</td>\n      <td>0.012750</td>\n      <td>0.029309</td>\n      <td>0.025757</td>\n      <td>0.056188</td>\n      <td>0.026164</td>\n      <td>0.045488</td>\n      <td>0.014212</td>\n    </tr>\n    <tr>\n      <th>2556</th>\n      <td>0.025769</td>\n      <td>0.026977</td>\n      <td>0.056836</td>\n      <td>0.010858</td>\n      <td>0.015764</td>\n      <td>0.051700</td>\n      <td>0.006908</td>\n      <td>0.011550</td>\n      <td>0.038232</td>\n      <td>0.034416</td>\n      <td>...</td>\n      <td>0.012704</td>\n      <td>0.008985</td>\n      <td>0.026565</td>\n      <td>0.012750</td>\n      <td>0.029309</td>\n      <td>0.025757</td>\n      <td>0.056188</td>\n      <td>0.026164</td>\n      <td>0.045488</td>\n      <td>0.014212</td>\n    </tr>\n    <tr>\n      <th>2557</th>\n      <td>0.025769</td>\n      <td>0.026977</td>\n      <td>0.056836</td>\n      <td>0.010858</td>\n      <td>0.015764</td>\n      <td>0.051700</td>\n      <td>0.006908</td>\n      <td>0.011550</td>\n      <td>0.038232</td>\n      <td>0.034416</td>\n      <td>...</td>\n      <td>0.012704</td>\n      <td>0.008985</td>\n      <td>0.026565</td>\n      <td>0.012750</td>\n      <td>0.029309</td>\n      <td>0.025757</td>\n      <td>0.056188</td>\n      <td>0.026164</td>\n      <td>0.045488</td>\n      <td>0.014212</td>\n    </tr>\n    <tr>\n      <th>2558</th>\n      <td>0.025769</td>\n      <td>0.026977</td>\n      <td>0.056836</td>\n      <td>0.010858</td>\n      <td>0.015764</td>\n      <td>0.051700</td>\n      <td>0.006908</td>\n      <td>0.011550</td>\n      <td>0.038232</td>\n      <td>0.034416</td>\n      <td>...</td>\n      <td>0.012704</td>\n      <td>0.008985</td>\n      <td>0.026565</td>\n      <td>0.012750</td>\n      <td>0.029309</td>\n      <td>0.025757</td>\n      <td>0.056188</td>\n      <td>0.026164</td>\n      <td>0.045488</td>\n      <td>0.014212</td>\n    </tr>\n    <tr>\n      <th>2559</th>\n      <td>0.025769</td>\n      <td>0.026977</td>\n      <td>0.056836</td>\n      <td>0.010858</td>\n      <td>0.015764</td>\n      <td>0.051700</td>\n      <td>0.006908</td>\n      <td>0.011550</td>\n      <td>0.038232</td>\n      <td>0.034416</td>\n      <td>...</td>\n      <td>0.012704</td>\n      <td>0.008985</td>\n      <td>0.026565</td>\n      <td>0.012750</td>\n      <td>0.029309</td>\n      <td>0.025757</td>\n      <td>0.056188</td>\n      <td>0.026164</td>\n      <td>0.045488</td>\n      <td>0.014212</td>\n    </tr>\n  </tbody>\n</table>\n<p>2560 rows × 32 columns</p>\n</div>"
     },
     "metadata": {},
     "execution_count": 14
    }
   ],
   "source": [
    "# Banda beta\n",
    "df = pd.DataFrame(beta_bands)\n",
    "beta_df = df.transpose()\n",
    "beta_df.columns = ['FP1','AF3','F7','F3','FC1','FC5','T7','C3','CP1','CP5','P7','P3','Pz','PO3','O1','Oz','O2','PO4','P4','P8','CP6','CP2','C4','T8','FC6','FC2','F4','F8','AF4','Fp2','Fz','Cz']\n",
    "beta_df\n",
    "\n",
    "rows = list()\n",
    "for _,row in delta_df.iterrows():\n",
    "    rows += [row]*40\n",
    "aux_beta = pd.DataFrame(rows).reset_index(drop=True)\n",
    "\n",
    "aux_beta"
   ]
  },
  {
   "cell_type": "code",
   "execution_count": 15,
   "metadata": {},
   "outputs": [
    {
     "output_type": "execute_result",
     "data": {
      "text/plain": [
       "           FP1       AF3        F7        F3       FC1       FC5        T7  \\\n",
       "0     0.023039  0.024048  0.028811  0.032106  0.044012  0.048092  0.016513   \n",
       "1     0.023039  0.024048  0.028811  0.032106  0.044012  0.048092  0.016513   \n",
       "2     0.023039  0.024048  0.028811  0.032106  0.044012  0.048092  0.016513   \n",
       "3     0.023039  0.024048  0.028811  0.032106  0.044012  0.048092  0.016513   \n",
       "4     0.023039  0.024048  0.028811  0.032106  0.044012  0.048092  0.016513   \n",
       "...        ...       ...       ...       ...       ...       ...       ...   \n",
       "2555  0.025769  0.026977  0.056836  0.010858  0.015764  0.051700  0.006908   \n",
       "2556  0.025769  0.026977  0.056836  0.010858  0.015764  0.051700  0.006908   \n",
       "2557  0.025769  0.026977  0.056836  0.010858  0.015764  0.051700  0.006908   \n",
       "2558  0.025769  0.026977  0.056836  0.010858  0.015764  0.051700  0.006908   \n",
       "2559  0.025769  0.026977  0.056836  0.010858  0.015764  0.051700  0.006908   \n",
       "\n",
       "            C3       CP1       CP5  ...        C4        T8       FC6  \\\n",
       "0     0.050341  0.035829  0.011347  ...  0.072781  0.022990  0.019260   \n",
       "1     0.050341  0.035829  0.011347  ...  0.072781  0.022990  0.019260   \n",
       "2     0.050341  0.035829  0.011347  ...  0.072781  0.022990  0.019260   \n",
       "3     0.050341  0.035829  0.011347  ...  0.072781  0.022990  0.019260   \n",
       "4     0.050341  0.035829  0.011347  ...  0.072781  0.022990  0.019260   \n",
       "...        ...       ...       ...  ...       ...       ...       ...   \n",
       "2555  0.011550  0.038232  0.034416  ...  0.012704  0.008985  0.026565   \n",
       "2556  0.011550  0.038232  0.034416  ...  0.012704  0.008985  0.026565   \n",
       "2557  0.011550  0.038232  0.034416  ...  0.012704  0.008985  0.026565   \n",
       "2558  0.011550  0.038232  0.034416  ...  0.012704  0.008985  0.026565   \n",
       "2559  0.011550  0.038232  0.034416  ...  0.012704  0.008985  0.026565   \n",
       "\n",
       "           FC2        F4        F8       AF4       Fp2        Fz        Cz  \n",
       "0     0.010448  0.021503  0.038031  0.035371  0.003149  0.029362  0.033688  \n",
       "1     0.010448  0.021503  0.038031  0.035371  0.003149  0.029362  0.033688  \n",
       "2     0.010448  0.021503  0.038031  0.035371  0.003149  0.029362  0.033688  \n",
       "3     0.010448  0.021503  0.038031  0.035371  0.003149  0.029362  0.033688  \n",
       "4     0.010448  0.021503  0.038031  0.035371  0.003149  0.029362  0.033688  \n",
       "...        ...       ...       ...       ...       ...       ...       ...  \n",
       "2555  0.012750  0.029309  0.025757  0.056188  0.026164  0.045488  0.014212  \n",
       "2556  0.012750  0.029309  0.025757  0.056188  0.026164  0.045488  0.014212  \n",
       "2557  0.012750  0.029309  0.025757  0.056188  0.026164  0.045488  0.014212  \n",
       "2558  0.012750  0.029309  0.025757  0.056188  0.026164  0.045488  0.014212  \n",
       "2559  0.012750  0.029309  0.025757  0.056188  0.026164  0.045488  0.014212  \n",
       "\n",
       "[2560 rows x 32 columns]"
      ],
      "text/html": "<div>\n<style scoped>\n    .dataframe tbody tr th:only-of-type {\n        vertical-align: middle;\n    }\n\n    .dataframe tbody tr th {\n        vertical-align: top;\n    }\n\n    .dataframe thead th {\n        text-align: right;\n    }\n</style>\n<table border=\"1\" class=\"dataframe\">\n  <thead>\n    <tr style=\"text-align: right;\">\n      <th></th>\n      <th>FP1</th>\n      <th>AF3</th>\n      <th>F7</th>\n      <th>F3</th>\n      <th>FC1</th>\n      <th>FC5</th>\n      <th>T7</th>\n      <th>C3</th>\n      <th>CP1</th>\n      <th>CP5</th>\n      <th>...</th>\n      <th>C4</th>\n      <th>T8</th>\n      <th>FC6</th>\n      <th>FC2</th>\n      <th>F4</th>\n      <th>F8</th>\n      <th>AF4</th>\n      <th>Fp2</th>\n      <th>Fz</th>\n      <th>Cz</th>\n    </tr>\n  </thead>\n  <tbody>\n    <tr>\n      <th>0</th>\n      <td>0.023039</td>\n      <td>0.024048</td>\n      <td>0.028811</td>\n      <td>0.032106</td>\n      <td>0.044012</td>\n      <td>0.048092</td>\n      <td>0.016513</td>\n      <td>0.050341</td>\n      <td>0.035829</td>\n      <td>0.011347</td>\n      <td>...</td>\n      <td>0.072781</td>\n      <td>0.022990</td>\n      <td>0.019260</td>\n      <td>0.010448</td>\n      <td>0.021503</td>\n      <td>0.038031</td>\n      <td>0.035371</td>\n      <td>0.003149</td>\n      <td>0.029362</td>\n      <td>0.033688</td>\n    </tr>\n    <tr>\n      <th>1</th>\n      <td>0.023039</td>\n      <td>0.024048</td>\n      <td>0.028811</td>\n      <td>0.032106</td>\n      <td>0.044012</td>\n      <td>0.048092</td>\n      <td>0.016513</td>\n      <td>0.050341</td>\n      <td>0.035829</td>\n      <td>0.011347</td>\n      <td>...</td>\n      <td>0.072781</td>\n      <td>0.022990</td>\n      <td>0.019260</td>\n      <td>0.010448</td>\n      <td>0.021503</td>\n      <td>0.038031</td>\n      <td>0.035371</td>\n      <td>0.003149</td>\n      <td>0.029362</td>\n      <td>0.033688</td>\n    </tr>\n    <tr>\n      <th>2</th>\n      <td>0.023039</td>\n      <td>0.024048</td>\n      <td>0.028811</td>\n      <td>0.032106</td>\n      <td>0.044012</td>\n      <td>0.048092</td>\n      <td>0.016513</td>\n      <td>0.050341</td>\n      <td>0.035829</td>\n      <td>0.011347</td>\n      <td>...</td>\n      <td>0.072781</td>\n      <td>0.022990</td>\n      <td>0.019260</td>\n      <td>0.010448</td>\n      <td>0.021503</td>\n      <td>0.038031</td>\n      <td>0.035371</td>\n      <td>0.003149</td>\n      <td>0.029362</td>\n      <td>0.033688</td>\n    </tr>\n    <tr>\n      <th>3</th>\n      <td>0.023039</td>\n      <td>0.024048</td>\n      <td>0.028811</td>\n      <td>0.032106</td>\n      <td>0.044012</td>\n      <td>0.048092</td>\n      <td>0.016513</td>\n      <td>0.050341</td>\n      <td>0.035829</td>\n      <td>0.011347</td>\n      <td>...</td>\n      <td>0.072781</td>\n      <td>0.022990</td>\n      <td>0.019260</td>\n      <td>0.010448</td>\n      <td>0.021503</td>\n      <td>0.038031</td>\n      <td>0.035371</td>\n      <td>0.003149</td>\n      <td>0.029362</td>\n      <td>0.033688</td>\n    </tr>\n    <tr>\n      <th>4</th>\n      <td>0.023039</td>\n      <td>0.024048</td>\n      <td>0.028811</td>\n      <td>0.032106</td>\n      <td>0.044012</td>\n      <td>0.048092</td>\n      <td>0.016513</td>\n      <td>0.050341</td>\n      <td>0.035829</td>\n      <td>0.011347</td>\n      <td>...</td>\n      <td>0.072781</td>\n      <td>0.022990</td>\n      <td>0.019260</td>\n      <td>0.010448</td>\n      <td>0.021503</td>\n      <td>0.038031</td>\n      <td>0.035371</td>\n      <td>0.003149</td>\n      <td>0.029362</td>\n      <td>0.033688</td>\n    </tr>\n    <tr>\n      <th>...</th>\n      <td>...</td>\n      <td>...</td>\n      <td>...</td>\n      <td>...</td>\n      <td>...</td>\n      <td>...</td>\n      <td>...</td>\n      <td>...</td>\n      <td>...</td>\n      <td>...</td>\n      <td>...</td>\n      <td>...</td>\n      <td>...</td>\n      <td>...</td>\n      <td>...</td>\n      <td>...</td>\n      <td>...</td>\n      <td>...</td>\n      <td>...</td>\n      <td>...</td>\n      <td>...</td>\n    </tr>\n    <tr>\n      <th>2555</th>\n      <td>0.025769</td>\n      <td>0.026977</td>\n      <td>0.056836</td>\n      <td>0.010858</td>\n      <td>0.015764</td>\n      <td>0.051700</td>\n      <td>0.006908</td>\n      <td>0.011550</td>\n      <td>0.038232</td>\n      <td>0.034416</td>\n      <td>...</td>\n      <td>0.012704</td>\n      <td>0.008985</td>\n      <td>0.026565</td>\n      <td>0.012750</td>\n      <td>0.029309</td>\n      <td>0.025757</td>\n      <td>0.056188</td>\n      <td>0.026164</td>\n      <td>0.045488</td>\n      <td>0.014212</td>\n    </tr>\n    <tr>\n      <th>2556</th>\n      <td>0.025769</td>\n      <td>0.026977</td>\n      <td>0.056836</td>\n      <td>0.010858</td>\n      <td>0.015764</td>\n      <td>0.051700</td>\n      <td>0.006908</td>\n      <td>0.011550</td>\n      <td>0.038232</td>\n      <td>0.034416</td>\n      <td>...</td>\n      <td>0.012704</td>\n      <td>0.008985</td>\n      <td>0.026565</td>\n      <td>0.012750</td>\n      <td>0.029309</td>\n      <td>0.025757</td>\n      <td>0.056188</td>\n      <td>0.026164</td>\n      <td>0.045488</td>\n      <td>0.014212</td>\n    </tr>\n    <tr>\n      <th>2557</th>\n      <td>0.025769</td>\n      <td>0.026977</td>\n      <td>0.056836</td>\n      <td>0.010858</td>\n      <td>0.015764</td>\n      <td>0.051700</td>\n      <td>0.006908</td>\n      <td>0.011550</td>\n      <td>0.038232</td>\n      <td>0.034416</td>\n      <td>...</td>\n      <td>0.012704</td>\n      <td>0.008985</td>\n      <td>0.026565</td>\n      <td>0.012750</td>\n      <td>0.029309</td>\n      <td>0.025757</td>\n      <td>0.056188</td>\n      <td>0.026164</td>\n      <td>0.045488</td>\n      <td>0.014212</td>\n    </tr>\n    <tr>\n      <th>2558</th>\n      <td>0.025769</td>\n      <td>0.026977</td>\n      <td>0.056836</td>\n      <td>0.010858</td>\n      <td>0.015764</td>\n      <td>0.051700</td>\n      <td>0.006908</td>\n      <td>0.011550</td>\n      <td>0.038232</td>\n      <td>0.034416</td>\n      <td>...</td>\n      <td>0.012704</td>\n      <td>0.008985</td>\n      <td>0.026565</td>\n      <td>0.012750</td>\n      <td>0.029309</td>\n      <td>0.025757</td>\n      <td>0.056188</td>\n      <td>0.026164</td>\n      <td>0.045488</td>\n      <td>0.014212</td>\n    </tr>\n    <tr>\n      <th>2559</th>\n      <td>0.025769</td>\n      <td>0.026977</td>\n      <td>0.056836</td>\n      <td>0.010858</td>\n      <td>0.015764</td>\n      <td>0.051700</td>\n      <td>0.006908</td>\n      <td>0.011550</td>\n      <td>0.038232</td>\n      <td>0.034416</td>\n      <td>...</td>\n      <td>0.012704</td>\n      <td>0.008985</td>\n      <td>0.026565</td>\n      <td>0.012750</td>\n      <td>0.029309</td>\n      <td>0.025757</td>\n      <td>0.056188</td>\n      <td>0.026164</td>\n      <td>0.045488</td>\n      <td>0.014212</td>\n    </tr>\n  </tbody>\n</table>\n<p>2560 rows × 32 columns</p>\n</div>"
     },
     "metadata": {},
     "execution_count": 15
    }
   ],
   "source": [
    "# Banda gamma\n",
    "df = pd.DataFrame(gamma_bands)\n",
    "gamma_df = df.transpose()\n",
    "gamma_df.columns = ['FP1','AF3','F7','F3','FC1','FC5','T7','C3','CP1','CP5','P7','P3','Pz','PO3','O1','Oz','O2','PO4','P4','P8','CP6','CP2','C4','T8','FC6','FC2','F4','F8','AF4','Fp2','Fz','Cz']\n",
    "gamma_df\n",
    "\n",
    "rows = list()\n",
    "for _,row in delta_df.iterrows():\n",
    "    rows += [row]*40\n",
    "aux_gamma = pd.DataFrame(rows).reset_index(drop=True)\n",
    "\n",
    "aux_gamma"
   ]
  },
  {
   "cell_type": "code",
   "execution_count": 16,
   "metadata": {},
   "outputs": [
    {
     "output_type": "execute_result",
     "data": {
      "text/plain": [
       "      valence  arousal  dominance  liking\n",
       "0        7.71     7.60       6.90    7.83\n",
       "1        7.71     7.60       6.90    7.83\n",
       "2        7.71     7.60       6.90    7.83\n",
       "3        7.71     7.60       6.90    7.83\n",
       "4        7.71     7.60       6.90    7.83\n",
       "...       ...      ...        ...     ...\n",
       "2555     5.10     7.12       6.17    5.97\n",
       "2556     5.10     7.12       6.17    5.97\n",
       "2557     5.10     7.12       6.17    5.97\n",
       "2558     5.10     7.12       6.17    5.97\n",
       "2559     5.10     7.12       6.17    5.97\n",
       "\n",
       "[2560 rows x 4 columns]"
      ],
      "text/html": "<div>\n<style scoped>\n    .dataframe tbody tr th:only-of-type {\n        vertical-align: middle;\n    }\n\n    .dataframe tbody tr th {\n        vertical-align: top;\n    }\n\n    .dataframe thead th {\n        text-align: right;\n    }\n</style>\n<table border=\"1\" class=\"dataframe\">\n  <thead>\n    <tr style=\"text-align: right;\">\n      <th></th>\n      <th>valence</th>\n      <th>arousal</th>\n      <th>dominance</th>\n      <th>liking</th>\n    </tr>\n  </thead>\n  <tbody>\n    <tr>\n      <th>0</th>\n      <td>7.71</td>\n      <td>7.60</td>\n      <td>6.90</td>\n      <td>7.83</td>\n    </tr>\n    <tr>\n      <th>1</th>\n      <td>7.71</td>\n      <td>7.60</td>\n      <td>6.90</td>\n      <td>7.83</td>\n    </tr>\n    <tr>\n      <th>2</th>\n      <td>7.71</td>\n      <td>7.60</td>\n      <td>6.90</td>\n      <td>7.83</td>\n    </tr>\n    <tr>\n      <th>3</th>\n      <td>7.71</td>\n      <td>7.60</td>\n      <td>6.90</td>\n      <td>7.83</td>\n    </tr>\n    <tr>\n      <th>4</th>\n      <td>7.71</td>\n      <td>7.60</td>\n      <td>6.90</td>\n      <td>7.83</td>\n    </tr>\n    <tr>\n      <th>...</th>\n      <td>...</td>\n      <td>...</td>\n      <td>...</td>\n      <td>...</td>\n    </tr>\n    <tr>\n      <th>2555</th>\n      <td>5.10</td>\n      <td>7.12</td>\n      <td>6.17</td>\n      <td>5.97</td>\n    </tr>\n    <tr>\n      <th>2556</th>\n      <td>5.10</td>\n      <td>7.12</td>\n      <td>6.17</td>\n      <td>5.97</td>\n    </tr>\n    <tr>\n      <th>2557</th>\n      <td>5.10</td>\n      <td>7.12</td>\n      <td>6.17</td>\n      <td>5.97</td>\n    </tr>\n    <tr>\n      <th>2558</th>\n      <td>5.10</td>\n      <td>7.12</td>\n      <td>6.17</td>\n      <td>5.97</td>\n    </tr>\n    <tr>\n      <th>2559</th>\n      <td>5.10</td>\n      <td>7.12</td>\n      <td>6.17</td>\n      <td>5.97</td>\n    </tr>\n  </tbody>\n</table>\n<p>2560 rows × 4 columns</p>\n</div>"
     },
     "metadata": {},
     "execution_count": 16
    }
   ],
   "source": [
    "df_labels = pd.DataFrame(data=labels, columns=[\"valence\", \"arousal\", \"dominance\", \"liking\"])\n",
    "rows = list()\n",
    "for _,row in dfLabels.iterrows():\n",
    "    rows += [row]*64\n",
    "aux_labels = pd.DataFrame(rows).reset_index(drop=True)\n",
    "\n",
    "aux_labels"
   ]
  },
  {
   "source": [
    "# En este punto lo que hemos hecho ha sido reducir de una matriz (40 videos x 40 canales x 8064) datos que teníamos al principio a (40 videos x 32 canales x 64 datos) para cada una de las bandas"
   ],
   "cell_type": "markdown",
   "metadata": {}
  },
  {
   "cell_type": "code",
   "execution_count": 17,
   "metadata": {},
   "outputs": [],
   "source": [
    "data_delta = aux_delta.merge(aux_labels, left_index=True, right_index=True)\n",
    "data_theta = aux_theta.merge(aux_labels, left_index=True, right_index=True)\n",
    "data_alpha = aux_alpha.merge(aux_labels, left_index=True, right_index=True)\n",
    "data_beta = aux_beta.merge(aux_labels, left_index=True, right_index=True)\n",
    "data_gamma = aux_gamma.merge(aux_labels, left_index=True, right_index=True)"
   ]
  },
  {
   "cell_type": "code",
   "execution_count": 18,
   "metadata": {},
   "outputs": [
    {
     "output_type": "execute_result",
     "data": {
      "text/plain": [
       "           FP1       AF3        F7        F3       FC1       FC5        T7  \\\n",
       "0     0.023039  0.024048  0.028811  0.032106  0.044012  0.048092  0.016513   \n",
       "1     0.023039  0.024048  0.028811  0.032106  0.044012  0.048092  0.016513   \n",
       "2     0.023039  0.024048  0.028811  0.032106  0.044012  0.048092  0.016513   \n",
       "3     0.023039  0.024048  0.028811  0.032106  0.044012  0.048092  0.016513   \n",
       "4     0.023039  0.024048  0.028811  0.032106  0.044012  0.048092  0.016513   \n",
       "...        ...       ...       ...       ...       ...       ...       ...   \n",
       "2555  0.025769  0.026977  0.056836  0.010858  0.015764  0.051700  0.006908   \n",
       "2556  0.025769  0.026977  0.056836  0.010858  0.015764  0.051700  0.006908   \n",
       "2557  0.025769  0.026977  0.056836  0.010858  0.015764  0.051700  0.006908   \n",
       "2558  0.025769  0.026977  0.056836  0.010858  0.015764  0.051700  0.006908   \n",
       "2559  0.025769  0.026977  0.056836  0.010858  0.015764  0.051700  0.006908   \n",
       "\n",
       "            C3       CP1       CP5  ...        F4        F8       AF4  \\\n",
       "0     0.050341  0.035829  0.011347  ...  0.021503  0.038031  0.035371   \n",
       "1     0.050341  0.035829  0.011347  ...  0.021503  0.038031  0.035371   \n",
       "2     0.050341  0.035829  0.011347  ...  0.021503  0.038031  0.035371   \n",
       "3     0.050341  0.035829  0.011347  ...  0.021503  0.038031  0.035371   \n",
       "4     0.050341  0.035829  0.011347  ...  0.021503  0.038031  0.035371   \n",
       "...        ...       ...       ...  ...       ...       ...       ...   \n",
       "2555  0.011550  0.038232  0.034416  ...  0.029309  0.025757  0.056188   \n",
       "2556  0.011550  0.038232  0.034416  ...  0.029309  0.025757  0.056188   \n",
       "2557  0.011550  0.038232  0.034416  ...  0.029309  0.025757  0.056188   \n",
       "2558  0.011550  0.038232  0.034416  ...  0.029309  0.025757  0.056188   \n",
       "2559  0.011550  0.038232  0.034416  ...  0.029309  0.025757  0.056188   \n",
       "\n",
       "           Fp2        Fz        Cz  valence  arousal  dominance  liking  \n",
       "0     0.003149  0.029362  0.033688     7.71     7.60       6.90    7.83  \n",
       "1     0.003149  0.029362  0.033688     7.71     7.60       6.90    7.83  \n",
       "2     0.003149  0.029362  0.033688     7.71     7.60       6.90    7.83  \n",
       "3     0.003149  0.029362  0.033688     7.71     7.60       6.90    7.83  \n",
       "4     0.003149  0.029362  0.033688     7.71     7.60       6.90    7.83  \n",
       "...        ...       ...       ...      ...      ...        ...     ...  \n",
       "2555  0.026164  0.045488  0.014212     5.10     7.12       6.17    5.97  \n",
       "2556  0.026164  0.045488  0.014212     5.10     7.12       6.17    5.97  \n",
       "2557  0.026164  0.045488  0.014212     5.10     7.12       6.17    5.97  \n",
       "2558  0.026164  0.045488  0.014212     5.10     7.12       6.17    5.97  \n",
       "2559  0.026164  0.045488  0.014212     5.10     7.12       6.17    5.97  \n",
       "\n",
       "[2560 rows x 36 columns]"
      ],
      "text/html": "<div>\n<style scoped>\n    .dataframe tbody tr th:only-of-type {\n        vertical-align: middle;\n    }\n\n    .dataframe tbody tr th {\n        vertical-align: top;\n    }\n\n    .dataframe thead th {\n        text-align: right;\n    }\n</style>\n<table border=\"1\" class=\"dataframe\">\n  <thead>\n    <tr style=\"text-align: right;\">\n      <th></th>\n      <th>FP1</th>\n      <th>AF3</th>\n      <th>F7</th>\n      <th>F3</th>\n      <th>FC1</th>\n      <th>FC5</th>\n      <th>T7</th>\n      <th>C3</th>\n      <th>CP1</th>\n      <th>CP5</th>\n      <th>...</th>\n      <th>F4</th>\n      <th>F8</th>\n      <th>AF4</th>\n      <th>Fp2</th>\n      <th>Fz</th>\n      <th>Cz</th>\n      <th>valence</th>\n      <th>arousal</th>\n      <th>dominance</th>\n      <th>liking</th>\n    </tr>\n  </thead>\n  <tbody>\n    <tr>\n      <th>0</th>\n      <td>0.023039</td>\n      <td>0.024048</td>\n      <td>0.028811</td>\n      <td>0.032106</td>\n      <td>0.044012</td>\n      <td>0.048092</td>\n      <td>0.016513</td>\n      <td>0.050341</td>\n      <td>0.035829</td>\n      <td>0.011347</td>\n      <td>...</td>\n      <td>0.021503</td>\n      <td>0.038031</td>\n      <td>0.035371</td>\n      <td>0.003149</td>\n      <td>0.029362</td>\n      <td>0.033688</td>\n      <td>7.71</td>\n      <td>7.60</td>\n      <td>6.90</td>\n      <td>7.83</td>\n    </tr>\n    <tr>\n      <th>1</th>\n      <td>0.023039</td>\n      <td>0.024048</td>\n      <td>0.028811</td>\n      <td>0.032106</td>\n      <td>0.044012</td>\n      <td>0.048092</td>\n      <td>0.016513</td>\n      <td>0.050341</td>\n      <td>0.035829</td>\n      <td>0.011347</td>\n      <td>...</td>\n      <td>0.021503</td>\n      <td>0.038031</td>\n      <td>0.035371</td>\n      <td>0.003149</td>\n      <td>0.029362</td>\n      <td>0.033688</td>\n      <td>7.71</td>\n      <td>7.60</td>\n      <td>6.90</td>\n      <td>7.83</td>\n    </tr>\n    <tr>\n      <th>2</th>\n      <td>0.023039</td>\n      <td>0.024048</td>\n      <td>0.028811</td>\n      <td>0.032106</td>\n      <td>0.044012</td>\n      <td>0.048092</td>\n      <td>0.016513</td>\n      <td>0.050341</td>\n      <td>0.035829</td>\n      <td>0.011347</td>\n      <td>...</td>\n      <td>0.021503</td>\n      <td>0.038031</td>\n      <td>0.035371</td>\n      <td>0.003149</td>\n      <td>0.029362</td>\n      <td>0.033688</td>\n      <td>7.71</td>\n      <td>7.60</td>\n      <td>6.90</td>\n      <td>7.83</td>\n    </tr>\n    <tr>\n      <th>3</th>\n      <td>0.023039</td>\n      <td>0.024048</td>\n      <td>0.028811</td>\n      <td>0.032106</td>\n      <td>0.044012</td>\n      <td>0.048092</td>\n      <td>0.016513</td>\n      <td>0.050341</td>\n      <td>0.035829</td>\n      <td>0.011347</td>\n      <td>...</td>\n      <td>0.021503</td>\n      <td>0.038031</td>\n      <td>0.035371</td>\n      <td>0.003149</td>\n      <td>0.029362</td>\n      <td>0.033688</td>\n      <td>7.71</td>\n      <td>7.60</td>\n      <td>6.90</td>\n      <td>7.83</td>\n    </tr>\n    <tr>\n      <th>4</th>\n      <td>0.023039</td>\n      <td>0.024048</td>\n      <td>0.028811</td>\n      <td>0.032106</td>\n      <td>0.044012</td>\n      <td>0.048092</td>\n      <td>0.016513</td>\n      <td>0.050341</td>\n      <td>0.035829</td>\n      <td>0.011347</td>\n      <td>...</td>\n      <td>0.021503</td>\n      <td>0.038031</td>\n      <td>0.035371</td>\n      <td>0.003149</td>\n      <td>0.029362</td>\n      <td>0.033688</td>\n      <td>7.71</td>\n      <td>7.60</td>\n      <td>6.90</td>\n      <td>7.83</td>\n    </tr>\n    <tr>\n      <th>...</th>\n      <td>...</td>\n      <td>...</td>\n      <td>...</td>\n      <td>...</td>\n      <td>...</td>\n      <td>...</td>\n      <td>...</td>\n      <td>...</td>\n      <td>...</td>\n      <td>...</td>\n      <td>...</td>\n      <td>...</td>\n      <td>...</td>\n      <td>...</td>\n      <td>...</td>\n      <td>...</td>\n      <td>...</td>\n      <td>...</td>\n      <td>...</td>\n      <td>...</td>\n      <td>...</td>\n    </tr>\n    <tr>\n      <th>2555</th>\n      <td>0.025769</td>\n      <td>0.026977</td>\n      <td>0.056836</td>\n      <td>0.010858</td>\n      <td>0.015764</td>\n      <td>0.051700</td>\n      <td>0.006908</td>\n      <td>0.011550</td>\n      <td>0.038232</td>\n      <td>0.034416</td>\n      <td>...</td>\n      <td>0.029309</td>\n      <td>0.025757</td>\n      <td>0.056188</td>\n      <td>0.026164</td>\n      <td>0.045488</td>\n      <td>0.014212</td>\n      <td>5.10</td>\n      <td>7.12</td>\n      <td>6.17</td>\n      <td>5.97</td>\n    </tr>\n    <tr>\n      <th>2556</th>\n      <td>0.025769</td>\n      <td>0.026977</td>\n      <td>0.056836</td>\n      <td>0.010858</td>\n      <td>0.015764</td>\n      <td>0.051700</td>\n      <td>0.006908</td>\n      <td>0.011550</td>\n      <td>0.038232</td>\n      <td>0.034416</td>\n      <td>...</td>\n      <td>0.029309</td>\n      <td>0.025757</td>\n      <td>0.056188</td>\n      <td>0.026164</td>\n      <td>0.045488</td>\n      <td>0.014212</td>\n      <td>5.10</td>\n      <td>7.12</td>\n      <td>6.17</td>\n      <td>5.97</td>\n    </tr>\n    <tr>\n      <th>2557</th>\n      <td>0.025769</td>\n      <td>0.026977</td>\n      <td>0.056836</td>\n      <td>0.010858</td>\n      <td>0.015764</td>\n      <td>0.051700</td>\n      <td>0.006908</td>\n      <td>0.011550</td>\n      <td>0.038232</td>\n      <td>0.034416</td>\n      <td>...</td>\n      <td>0.029309</td>\n      <td>0.025757</td>\n      <td>0.056188</td>\n      <td>0.026164</td>\n      <td>0.045488</td>\n      <td>0.014212</td>\n      <td>5.10</td>\n      <td>7.12</td>\n      <td>6.17</td>\n      <td>5.97</td>\n    </tr>\n    <tr>\n      <th>2558</th>\n      <td>0.025769</td>\n      <td>0.026977</td>\n      <td>0.056836</td>\n      <td>0.010858</td>\n      <td>0.015764</td>\n      <td>0.051700</td>\n      <td>0.006908</td>\n      <td>0.011550</td>\n      <td>0.038232</td>\n      <td>0.034416</td>\n      <td>...</td>\n      <td>0.029309</td>\n      <td>0.025757</td>\n      <td>0.056188</td>\n      <td>0.026164</td>\n      <td>0.045488</td>\n      <td>0.014212</td>\n      <td>5.10</td>\n      <td>7.12</td>\n      <td>6.17</td>\n      <td>5.97</td>\n    </tr>\n    <tr>\n      <th>2559</th>\n      <td>0.025769</td>\n      <td>0.026977</td>\n      <td>0.056836</td>\n      <td>0.010858</td>\n      <td>0.015764</td>\n      <td>0.051700</td>\n      <td>0.006908</td>\n      <td>0.011550</td>\n      <td>0.038232</td>\n      <td>0.034416</td>\n      <td>...</td>\n      <td>0.029309</td>\n      <td>0.025757</td>\n      <td>0.056188</td>\n      <td>0.026164</td>\n      <td>0.045488</td>\n      <td>0.014212</td>\n      <td>5.10</td>\n      <td>7.12</td>\n      <td>6.17</td>\n      <td>5.97</td>\n    </tr>\n  </tbody>\n</table>\n<p>2560 rows × 36 columns</p>\n</div>"
     },
     "metadata": {},
     "execution_count": 18
    }
   ],
   "source": [
    "data_delta"
   ]
  },
  {
   "source": [
    "# Vamos a analizar la columna de valence para cada una de las bandas"
   ],
   "cell_type": "markdown",
   "metadata": {}
  },
  {
   "cell_type": "code",
   "execution_count": 19,
   "metadata": {},
   "outputs": [
    {
     "output_type": "stream",
     "name": "stderr",
     "text": [
      "<ipython-input-19-a5da34c7504a>:21: DataConversionWarning: A column-vector y was passed when a 1d array was expected. Please change the shape of y to (n_samples,), for example using ravel().\n",
      "  clf.fit(xTrain, yTrain)\n",
      "[Parallel(n_jobs=5)]: Using backend ThreadingBackend with 5 concurrent workers.\n",
      "[Parallel(n_jobs=5)]: Done  40 tasks      | elapsed:    0.0s\n",
      "[Parallel(n_jobs=5)]: Done 100 out of 100 | elapsed:    0.1s finished\n",
      "[Parallel(n_jobs=5)]: Using backend ThreadingBackend with 5 concurrent workers.\n",
      "[Parallel(n_jobs=5)]: Done  40 tasks      | elapsed:    0.0s\n",
      "[Parallel(n_jobs=5)]: Done 100 out of 100 | elapsed:    0.0s finished\n"
     ]
    },
    {
     "output_type": "execute_result",
     "data": {
      "text/plain": [
       "83.3984375"
      ]
     },
     "metadata": {},
     "execution_count": 19
    }
   ],
   "source": [
    "    data = data_delta.drop(['arousal', 'dominance', 'liking'], axis=1)\n",
    "    data['valence'] = np.where(data['valence'] >5, 'happy', 'sad')\n",
    "\n",
    "    data.columns = ['FP1','AF3','F7','F3','FC1','FC5','T7','C3','CP1','CP5','P7','P3','Pz','PO3','O1','Oz','O2','PO4','P4','P8','CP6','CP2','C4','T8','FC6','FC2','F4','F8','AF4','Fp2','Fz','Cz','valence']\n",
    "\n",
    "    from sklearn.model_selection import train_test_split\n",
    "\n",
    "    copia = data.copy()\n",
    "\n",
    "    y = copia[['valence']]\n",
    "\n",
    "    x = copia.drop(columns=['valence'])\n",
    "\n",
    "    # test_size = 0.2 --> 80% datos para entrenamiento, 20% para test\n",
    "    # max_depth --> The deeper the tree, the more splits it has and it captures more information about the data. En este modelo, valores altos de max_depths tienden a 'overfit' los datos, lo comprobamos en el siguiente bloque\n",
    "    xTrain, xTest, yTrain, yTest = train_test_split(x,y, test_size = 0.2, random_state = 1)\n",
    "\n",
    "    from sklearn.ensemble import RandomForestClassifier\n",
    "\n",
    "    clf = RandomForestClassifier(max_depth=2, random_state=0, verbose=1, n_jobs=5)\n",
    "    clf.fit(xTrain, yTrain)\n",
    "\n",
    "    predict = clf.predict(xTest)\n",
    "\n",
    "    from sklearn.metrics import accuracy_score\n",
    "\n",
    "    acc1 = accuracy_score(yTest, predict)*100\n",
    "    acc1"
   ]
  },
  {
   "cell_type": "code",
   "execution_count": 20,
   "metadata": {},
   "outputs": [
    {
     "output_type": "stream",
     "name": "stderr",
     "text": [
      "<ipython-input-20-8acca9389fd7>:19: DataConversionWarning: A column-vector y was passed when a 1d array was expected. Please change the shape of y to (n_samples,), for example using ravel().\n",
      "  clf.fit(xTrain, yTrain)\n",
      "[Parallel(n_jobs=5)]: Using backend ThreadingBackend with 5 concurrent workers.\n",
      "[Parallel(n_jobs=5)]: Done  40 tasks      | elapsed:    0.0s\n",
      "[Parallel(n_jobs=5)]: Done 100 out of 100 | elapsed:    0.1s finished\n",
      "[Parallel(n_jobs=5)]: Using backend ThreadingBackend with 5 concurrent workers.\n",
      "[Parallel(n_jobs=5)]: Done  40 tasks      | elapsed:    0.0s\n",
      "[Parallel(n_jobs=5)]: Done 100 out of 100 | elapsed:    0.0s finished\n"
     ]
    },
    {
     "output_type": "execute_result",
     "data": {
      "text/plain": [
       "0.8046875"
      ]
     },
     "metadata": {},
     "execution_count": 20
    }
   ],
   "source": [
    "    data = data_theta.drop(['arousal', 'dominance', 'liking'], axis=1)\n",
    "    data['valence'] = np.where(data['valence'] >5, 'happy', 'sad')\n",
    "\n",
    "    data.columns = ['FP1','AF3','F7','F3','FC1','FC5','T7','C3','CP1','CP5','P7','P3','Pz','PO3','O1','Oz','O2','PO4','P4','P8','CP6','CP2','C4','T8','FC6','FC2','F4','F8','AF4','Fp2','Fz','Cz','valence']\n",
    "\n",
    "    from sklearn.model_selection import train_test_split\n",
    "\n",
    "    copia = data.copy()\n",
    "\n",
    "    y = copia[['valence']]\n",
    "\n",
    "    x = copia.drop(columns=['valence'])\n",
    "\n",
    "    xTrain, xTest, yTrain, yTest = train_test_split(x,y, test_size = 0.1, random_state = 1)\n",
    "\n",
    "    from sklearn.ensemble import RandomForestClassifier\n",
    "\n",
    "    clf = RandomForestClassifier(max_depth=2, random_state=0, verbose=1, n_jobs=5)\n",
    "    clf.fit(xTrain, yTrain)\n",
    "\n",
    "    predict = clf.predict(xTest)\n",
    "\n",
    "    from sklearn.metrics import accuracy_score\n",
    "\n",
    "    accuracy_score(yTest, predict)"
   ]
  },
  {
   "cell_type": "code",
   "execution_count": 21,
   "metadata": {},
   "outputs": [
    {
     "output_type": "stream",
     "name": "stderr",
     "text": [
      "<ipython-input-21-4a3bcd7e4120>:19: DataConversionWarning: A column-vector y was passed when a 1d array was expected. Please change the shape of y to (n_samples,), for example using ravel().\n",
      "  clf.fit(xTrain, yTrain)\n",
      "[Parallel(n_jobs=5)]: Using backend ThreadingBackend with 5 concurrent workers.\n",
      "[Parallel(n_jobs=5)]: Done  40 tasks      | elapsed:    0.0s\n",
      "[Parallel(n_jobs=5)]: Done 100 out of 100 | elapsed:    0.2s finished\n",
      "[Parallel(n_jobs=5)]: Using backend ThreadingBackend with 5 concurrent workers.\n",
      "[Parallel(n_jobs=5)]: Done  40 tasks      | elapsed:    0.0s\n",
      "[Parallel(n_jobs=5)]: Done 100 out of 100 | elapsed:    0.0s finished\n"
     ]
    },
    {
     "output_type": "execute_result",
     "data": {
      "text/plain": [
       "0.8411458333333334"
      ]
     },
     "metadata": {},
     "execution_count": 21
    }
   ],
   "source": [
    "    data = data_alpha.drop(['arousal', 'dominance', 'liking'], axis=1)\n",
    "    data['valence'] = np.where(data['valence'] >5, 'happy', 'sad')\n",
    "\n",
    "    data.columns = ['FP1','AF3','F7','F3','FC1','FC5','T7','C3','CP1','CP5','P7','P3','Pz','PO3','O1','Oz','O2','PO4','P4','P8','CP6','CP2','C4','T8','FC6','FC2','F4','F8','AF4','Fp2','Fz','Cz','valence']\n",
    "\n",
    "    from sklearn.model_selection import train_test_split\n",
    "\n",
    "    copia = data.copy()\n",
    "\n",
    "    y = copia[['valence']]\n",
    "\n",
    "    x = copia.drop(columns=['valence'])\n",
    "\n",
    "    xTrain, xTest, yTrain, yTest = train_test_split(x,y, test_size = 0.15, random_state = 1)\n",
    "\n",
    "    from sklearn.ensemble import RandomForestClassifier\n",
    "\n",
    "    clf = RandomForestClassifier(max_depth=2, random_state=0, verbose=1, n_jobs=5)\n",
    "    clf.fit(xTrain, yTrain)\n",
    "\n",
    "    predict = clf.predict(xTest)\n",
    "\n",
    "    from sklearn.metrics import accuracy_score\n",
    "\n",
    "    accuracy_score(yTest, predict)"
   ]
  },
  {
   "cell_type": "code",
   "execution_count": 22,
   "metadata": {},
   "outputs": [
    {
     "output_type": "stream",
     "name": "stderr",
     "text": [
      "<ipython-input-22-f8a53dc6e7f0>:19: DataConversionWarning: A column-vector y was passed when a 1d array was expected. Please change the shape of y to (n_samples,), for example using ravel().\n",
      "  clf.fit(xTrain, yTrain)\n",
      "[Parallel(n_jobs=5)]: Using backend ThreadingBackend with 5 concurrent workers.\n",
      "[Parallel(n_jobs=5)]: Done  40 tasks      | elapsed:    0.0s\n",
      "[Parallel(n_jobs=5)]: Done 100 out of 100 | elapsed:    0.1s finished\n",
      "[Parallel(n_jobs=5)]: Using backend ThreadingBackend with 5 concurrent workers.\n",
      "[Parallel(n_jobs=5)]: Done  40 tasks      | elapsed:    0.0s\n",
      "[Parallel(n_jobs=5)]: Done 100 out of 100 | elapsed:    0.0s finished\n"
     ]
    },
    {
     "output_type": "execute_result",
     "data": {
      "text/plain": [
       "0.8171875"
      ]
     },
     "metadata": {},
     "execution_count": 22
    }
   ],
   "source": [
    "    data = data_beta.drop(['arousal', 'dominance', 'liking'], axis=1)\n",
    "    data['valence'] = np.where(data['valence'] >5, 'happy', 'sad')\n",
    "\n",
    "    data.columns = ['FP1','AF3','F7','F3','FC1','FC5','T7','C3','CP1','CP5','P7','P3','Pz','PO3','O1','Oz','O2','PO4','P4','P8','CP6','CP2','C4','T8','FC6','FC2','F4','F8','AF4','Fp2','Fz','Cz','valence']\n",
    "\n",
    "    from sklearn.model_selection import train_test_split\n",
    "\n",
    "    copia = data.copy()\n",
    "\n",
    "    y = copia[['valence']]\n",
    "\n",
    "    x = copia.drop(columns=['valence'])\n",
    "\n",
    "    xTrain, xTest, yTrain, yTest = train_test_split(x,y, test_size = 0.25, random_state = 1)\n",
    "\n",
    "    from sklearn.ensemble import RandomForestClassifier\n",
    "\n",
    "    clf = RandomForestClassifier(max_depth=2, random_state=0, verbose=1, n_jobs=5)\n",
    "    clf.fit(xTrain, yTrain)\n",
    "\n",
    "    predict = clf.predict(xTest)\n",
    "\n",
    "    from sklearn.metrics import accuracy_score\n",
    "\n",
    "    accuracy_score(yTest, predict)"
   ]
  },
  {
   "cell_type": "code",
   "execution_count": 23,
   "metadata": {},
   "outputs": [
    {
     "output_type": "stream",
     "name": "stderr",
     "text": [
      "<ipython-input-23-0c7fe522ef71>:19: DataConversionWarning: A column-vector y was passed when a 1d array was expected. Please change the shape of y to (n_samples,), for example using ravel().\n",
      "  clf.fit(xTrain, yTrain)\n",
      "[Parallel(n_jobs=5)]: Using backend ThreadingBackend with 5 concurrent workers.\n",
      "[Parallel(n_jobs=5)]: Done  40 tasks      | elapsed:    0.0s\n",
      "[Parallel(n_jobs=5)]: Done 100 out of 100 | elapsed:    0.1s finished\n",
      "[Parallel(n_jobs=5)]: Using backend ThreadingBackend with 5 concurrent workers.\n",
      "[Parallel(n_jobs=5)]: Done  40 tasks      | elapsed:    0.0s\n",
      "[Parallel(n_jobs=5)]: Done 100 out of 100 | elapsed:    0.0s finished\n"
     ]
    },
    {
     "output_type": "execute_result",
     "data": {
      "text/plain": [
       "0.8502604166666666"
      ]
     },
     "metadata": {},
     "execution_count": 23
    }
   ],
   "source": [
    "    data = data_gamma.drop(['arousal', 'dominance', 'liking'], axis=1)\n",
    "    data['valence'] = np.where(data['valence'] >5, 'happy', 'sad')\n",
    "\n",
    "    data.columns = ['FP1','AF3','F7','F3','FC1','FC5','T7','C3','CP1','CP5','P7','P3','Pz','PO3','O1','Oz','O2','PO4','P4','P8','CP6','CP2','C4','T8','FC6','FC2','F4','F8','AF4','Fp2','Fz','Cz','valence']\n",
    "\n",
    "    from sklearn.model_selection import train_test_split\n",
    "\n",
    "    copia = data.copy()\n",
    "\n",
    "    y = copia[['valence']]\n",
    "\n",
    "    x = copia.drop(columns=['valence'])\n",
    "\n",
    "    xTrain, xTest, yTrain, yTest = train_test_split(x,y, test_size = 0.3, random_state = 1)\n",
    "\n",
    "    from sklearn.ensemble import RandomForestClassifier\n",
    "\n",
    "    clf = RandomForestClassifier(max_depth=2, random_state=0, verbose=1, n_jobs=5)\n",
    "    clf.fit(xTrain, yTrain)\n",
    "\n",
    "    predict = clf.predict(xTest)\n",
    "\n",
    "    from sklearn.metrics import accuracy_score\n",
    "\n",
    "    accuracy_score(yTest, predict)"
   ]
  },
  {
   "source": [
    "# HACER UNA SELECCIÓN DE CARACTER´SITICAS, EN CONCRETO HAY QUE VER QUÉ CANALES SON LOS IMPORTANTES Y CUALES NO"
   ],
   "cell_type": "markdown",
   "metadata": {}
  },
  {
   "source": [
    "# Se puede observar que de todas las pruebas, lo mejor ha sido usar el 80% de los datos para entrenamiento y 20% para tests\n"
   ],
   "cell_type": "markdown",
   "metadata": {}
  },
  {
   "cell_type": "code",
   "execution_count": 24,
   "metadata": {},
   "outputs": [
    {
     "output_type": "stream",
     "name": "stdout",
     "text": [
      "[0.01911041 0.02035532 0.00795851 0.00570219 0.02718679 0.06998955\n 0.06204718 0.00595934 0.01627164 0.11781858 0.07004104 0.01237145\n 0.01199571 0.01245817 0.01072447 0.01289303 0.0119776  0.01170585\n 0.00869853 0.00718246 0.         0.02891888 0.0693944  0.00577302\n 0.02097962 0.01278617 0.12136411 0.02571093 0.10376858 0.01331343\n 0.07385882 0.00168421]\n"
     ]
    },
    {
     "output_type": "execute_result",
     "data": {
      "text/plain": [
       "<BarContainer object of 32 artists>"
      ]
     },
     "metadata": {},
     "execution_count": 24
    },
    {
     "output_type": "display_data",
     "data": {
      "text/plain": "<Figure size 432x288 with 1 Axes>",
      "image/svg+xml": "<?xml version=\"1.0\" encoding=\"utf-8\" standalone=\"no\"?>\r\n<!DOCTYPE svg PUBLIC \"-//W3C//DTD SVG 1.1//EN\"\r\n  \"http://www.w3.org/Graphics/SVG/1.1/DTD/svg11.dtd\">\r\n<svg height=\"248.518125pt\" version=\"1.1\" viewBox=\"0 0 376.464062 248.518125\" width=\"376.464062pt\" xmlns=\"http://www.w3.org/2000/svg\" xmlns:xlink=\"http://www.w3.org/1999/xlink\">\r\n <metadata>\r\n  <rdf:RDF xmlns:cc=\"http://creativecommons.org/ns#\" xmlns:dc=\"http://purl.org/dc/elements/1.1/\" xmlns:rdf=\"http://www.w3.org/1999/02/22-rdf-syntax-ns#\">\r\n   <cc:Work>\r\n    <dc:type rdf:resource=\"http://purl.org/dc/dcmitype/StillImage\"/>\r\n    <dc:date>2021-06-21T09:03:24.873035</dc:date>\r\n    <dc:format>image/svg+xml</dc:format>\r\n    <dc:creator>\r\n     <cc:Agent>\r\n      <dc:title>Matplotlib v3.4.1, https://matplotlib.org/</dc:title>\r\n     </cc:Agent>\r\n    </dc:creator>\r\n   </cc:Work>\r\n  </rdf:RDF>\r\n </metadata>\r\n <defs>\r\n  <style type=\"text/css\">*{stroke-linecap:butt;stroke-linejoin:round;}</style>\r\n </defs>\r\n <g id=\"figure_1\">\r\n  <g id=\"patch_1\">\r\n   <path d=\"M 0 248.518125 \r\nL 376.464062 248.518125 \r\nL 376.464062 0 \r\nL 0 0 \r\nz\r\n\" style=\"fill:none;\"/>\r\n  </g>\r\n  <g id=\"axes_1\">\r\n   <g id=\"patch_2\">\r\n    <path d=\"M 34.464062 224.64 \r\nL 369.264063 224.64 \r\nL 369.264063 7.2 \r\nL 34.464062 7.2 \r\nz\r\n\" style=\"fill:#ffffff;\"/>\r\n   </g>\r\n   <g id=\"patch_3\">\r\n    <path clip-path=\"url(#p906e5c65eb)\" d=\"M 34.464062 214.756364 \r\nL 84.672406 214.756364 \r\nL 84.672406 209.783465 \r\nL 34.464062 209.783465 \r\nz\r\n\" style=\"fill:#1f77b4;\"/>\r\n   </g>\r\n   <g id=\"patch_4\">\r\n    <path clip-path=\"url(#p906e5c65eb)\" d=\"M 34.464062 208.54024 \r\nL 87.94313 208.54024 \r\nL 87.94313 203.567341 \r\nL 34.464062 203.567341 \r\nz\r\n\" style=\"fill:#1f77b4;\"/>\r\n   </g>\r\n   <g id=\"patch_5\">\r\n    <path clip-path=\"url(#p906e5c65eb)\" d=\"M 34.464062 202.324117 \r\nL 55.373268 202.324117 \r\nL 55.373268 197.351218 \r\nL 34.464062 197.351218 \r\nz\r\n\" style=\"fill:#1f77b4;\"/>\r\n   </g>\r\n   <g id=\"patch_6\">\r\n    <path clip-path=\"url(#p906e5c65eb)\" d=\"M 34.464062 196.107993 \r\nL 49.445287 196.107993 \r\nL 49.445287 191.135094 \r\nL 34.464062 191.135094 \r\nz\r\n\" style=\"fill:#1f77b4;\"/>\r\n   </g>\r\n   <g id=\"patch_7\">\r\n    <path clip-path=\"url(#p906e5c65eb)\" d=\"M 34.464062 189.89187 \r\nL 105.891304 189.89187 \r\nL 105.891304 184.918971 \r\nL 34.464062 184.918971 \r\nz\r\n\" style=\"fill:#1f77b4;\"/>\r\n   </g>\r\n   <g id=\"patch_8\">\r\n    <path clip-path=\"url(#p906e5c65eb)\" d=\"M 34.464062 183.675746 \r\nL 218.345994 183.675746 \r\nL 218.345994 178.702847 \r\nL 34.464062 178.702847 \r\nz\r\n\" style=\"fill:#1f77b4;\"/>\r\n   </g>\r\n   <g id=\"patch_9\">\r\n    <path clip-path=\"url(#p906e5c65eb)\" d=\"M 34.464062 177.459623 \r\nL 197.479206 177.459623 \r\nL 197.479206 172.486724 \r\nL 34.464062 172.486724 \r\nz\r\n\" style=\"fill:#1f77b4;\"/>\r\n   </g>\r\n   <g id=\"patch_10\">\r\n    <path clip-path=\"url(#p906e5c65eb)\" d=\"M 34.464062 171.243499 \r\nL 50.120903 171.243499 \r\nL 50.120903 166.2706 \r\nL 34.464062 166.2706 \r\nz\r\n\" style=\"fill:#1f77b4;\"/>\r\n   </g>\r\n   <g id=\"patch_11\">\r\n    <path clip-path=\"url(#p906e5c65eb)\" d=\"M 34.464062 165.027376 \r\nL 77.214176 165.027376 \r\nL 77.214176 160.054477 \r\nL 34.464062 160.054477 \r\nz\r\n\" style=\"fill:#1f77b4;\"/>\r\n   </g>\r\n   <g id=\"patch_12\">\r\n    <path clip-path=\"url(#p906e5c65eb)\" d=\"M 34.464062 158.811252 \r\nL 344.006113 158.811252 \r\nL 344.006113 153.838353 \r\nL 34.464062 153.838353 \r\nz\r\n\" style=\"fill:#1f77b4;\"/>\r\n   </g>\r\n   <g id=\"patch_13\">\r\n    <path clip-path=\"url(#p906e5c65eb)\" d=\"M 34.464062 152.595129 \r\nL 218.481273 152.595129 \r\nL 218.481273 147.62223 \r\nL 34.464062 147.62223 \r\nz\r\n\" style=\"fill:#1f77b4;\"/>\r\n   </g>\r\n   <g id=\"patch_14\">\r\n    <path clip-path=\"url(#p906e5c65eb)\" d=\"M 34.464062 146.379005 \r\nL 66.967302 146.379005 \r\nL 66.967302 141.406106 \r\nL 34.464062 141.406106 \r\nz\r\n\" style=\"fill:#1f77b4;\"/>\r\n   </g>\r\n   <g id=\"patch_15\">\r\n    <path clip-path=\"url(#p906e5c65eb)\" d=\"M 34.464062 140.162882 \r\nL 65.980108 140.162882 \r\nL 65.980108 135.189983 \r\nL 34.464062 135.189983 \r\nz\r\n\" style=\"fill:#1f77b4;\"/>\r\n   </g>\r\n   <g id=\"patch_16\">\r\n    <path clip-path=\"url(#p906e5c65eb)\" d=\"M 34.464062 133.946758 \r\nL 67.195114 133.946758 \r\nL 67.195114 128.973859 \r\nL 34.464062 128.973859 \r\nz\r\n\" style=\"fill:#1f77b4;\"/>\r\n   </g>\r\n   <g id=\"patch_17\">\r\n    <path clip-path=\"url(#p906e5c65eb)\" d=\"M 34.464062 127.730635 \r\nL 62.640223 127.730635 \r\nL 62.640223 122.757736 \r\nL 34.464062 122.757736 \r\nz\r\n\" style=\"fill:#1f77b4;\"/>\r\n   </g>\r\n   <g id=\"patch_18\">\r\n    <path clip-path=\"url(#p906e5c65eb)\" d=\"M 34.464062 121.514511 \r\nL 68.337614 121.514511 \r\nL 68.337614 116.541612 \r\nL 34.464062 116.541612 \r\nz\r\n\" style=\"fill:#1f77b4;\"/>\r\n   </g>\r\n   <g id=\"patch_19\">\r\n    <path clip-path=\"url(#p906e5c65eb)\" d=\"M 34.464062 115.298388 \r\nL 65.932528 115.298388 \r\nL 65.932528 110.325489 \r\nL 34.464062 110.325489 \r\nz\r\n\" style=\"fill:#1f77b4;\"/>\r\n   </g>\r\n   <g id=\"patch_20\">\r\n    <path clip-path=\"url(#p906e5c65eb)\" d=\"M 34.464062 109.082264 \r\nL 65.218585 109.082264 \r\nL 65.218585 104.109365 \r\nL 34.464062 104.109365 \r\nz\r\n\" style=\"fill:#1f77b4;\"/>\r\n   </g>\r\n   <g id=\"patch_21\">\r\n    <path clip-path=\"url(#p906e5c65eb)\" d=\"M 34.464062 102.866141 \r\nL 57.317521 102.866141 \r\nL 57.317521 97.893242 \r\nL 34.464062 97.893242 \r\nz\r\n\" style=\"fill:#1f77b4;\"/>\r\n   </g>\r\n   <g id=\"patch_22\">\r\n    <path clip-path=\"url(#p906e5c65eb)\" d=\"M 34.464062 96.650017 \r\nL 53.334372 96.650017 \r\nL 53.334372 91.677118 \r\nL 34.464062 91.677118 \r\nz\r\n\" style=\"fill:#1f77b4;\"/>\r\n   </g>\r\n   <g id=\"patch_23\">\r\n    <path clip-path=\"url(#p906e5c65eb)\" d=\"M 34.464062 90.433894 \r\nL 34.464062 90.433894 \r\nL 34.464062 85.460995 \r\nL 34.464062 85.460995 \r\nz\r\n\" style=\"fill:#1f77b4;\"/>\r\n   </g>\r\n   <g id=\"patch_24\">\r\n    <path clip-path=\"url(#p906e5c65eb)\" d=\"M 34.464062 84.21777 \r\nL 110.44198 84.21777 \r\nL 110.44198 79.244871 \r\nL 34.464062 79.244871 \r\nz\r\n\" style=\"fill:#1f77b4;\"/>\r\n   </g>\r\n   <g id=\"patch_25\">\r\n    <path clip-path=\"url(#p906e5c65eb)\" d=\"M 34.464062 78.001647 \r\nL 216.782366 78.001647 \r\nL 216.782366 73.028748 \r\nL 34.464062 73.028748 \r\nz\r\n\" style=\"fill:#1f77b4;\"/>\r\n   </g>\r\n   <g id=\"patch_26\">\r\n    <path clip-path=\"url(#p906e5c65eb)\" d=\"M 34.464062 71.785523 \r\nL 49.631385 71.785523 \r\nL 49.631385 66.812624 \r\nL 34.464062 66.812624 \r\nz\r\n\" style=\"fill:#1f77b4;\"/>\r\n   </g>\r\n   <g id=\"patch_27\">\r\n    <path clip-path=\"url(#p906e5c65eb)\" d=\"M 34.464062 65.5694 \r\nL 89.583348 65.5694 \r\nL 89.583348 60.596501 \r\nL 34.464062 60.596501 \r\nz\r\n\" style=\"fill:#1f77b4;\"/>\r\n   </g>\r\n   <g id=\"patch_28\">\r\n    <path clip-path=\"url(#p906e5c65eb)\" d=\"M 34.464062 59.353276 \r\nL 68.056886 59.353276 \r\nL 68.056886 54.380377 \r\nL 34.464062 54.380377 \r\nz\r\n\" style=\"fill:#1f77b4;\"/>\r\n   </g>\r\n   <g id=\"patch_29\">\r\n    <path clip-path=\"url(#p906e5c65eb)\" d=\"M 34.464062 53.137153 \r\nL 353.321205 53.137153 \r\nL 353.321205 48.164254 \r\nL 34.464062 48.164254 \r\nz\r\n\" style=\"fill:#1f77b4;\"/>\r\n   </g>\r\n   <g id=\"patch_30\">\r\n    <path clip-path=\"url(#p906e5c65eb)\" d=\"M 34.464062 46.921029 \r\nL 102.0138 46.921029 \r\nL 102.0138 41.94813 \r\nL 34.464062 41.94813 \r\nz\r\n\" style=\"fill:#1f77b4;\"/>\r\n   </g>\r\n   <g id=\"patch_31\">\r\n    <path clip-path=\"url(#p906e5c65eb)\" d=\"M 34.464062 40.704906 \r\nL 307.092871 40.704906 \r\nL 307.092871 35.732007 \r\nL 34.464062 35.732007 \r\nz\r\n\" style=\"fill:#1f77b4;\"/>\r\n   </g>\r\n   <g id=\"patch_32\">\r\n    <path clip-path=\"url(#p906e5c65eb)\" d=\"M 34.464062 34.488782 \r\nL 69.442139 34.488782 \r\nL 69.442139 29.515883 \r\nL 34.464062 29.515883 \r\nz\r\n\" style=\"fill:#1f77b4;\"/>\r\n   </g>\r\n   <g id=\"patch_33\">\r\n    <path clip-path=\"url(#p906e5c65eb)\" d=\"M 34.464062 28.272659 \r\nL 228.511644 28.272659 \r\nL 228.511644 23.29976 \r\nL 34.464062 23.29976 \r\nz\r\n\" style=\"fill:#1f77b4;\"/>\r\n   </g>\r\n   <g id=\"patch_34\">\r\n    <path clip-path=\"url(#p906e5c65eb)\" d=\"M 34.464062 22.056535 \r\nL 38.888943 22.056535 \r\nL 38.888943 17.083636 \r\nL 34.464062 17.083636 \r\nz\r\n\" style=\"fill:#1f77b4;\"/>\r\n   </g>\r\n   <g id=\"matplotlib.axis_1\">\r\n    <g id=\"xtick_1\">\r\n     <g id=\"line2d_1\">\r\n      <defs>\r\n       <path d=\"M 0 0 \r\nL 0 3.5 \r\n\" id=\"m9c8e089958\" style=\"stroke:#000000;stroke-width:0.8;\"/>\r\n      </defs>\r\n      <g>\r\n       <use style=\"stroke:#000000;stroke-width:0.8;\" x=\"34.464062\" xlink:href=\"#m9c8e089958\" y=\"224.64\"/>\r\n      </g>\r\n     </g>\r\n     <g id=\"text_1\">\r\n      <!-- 0.00 -->\r\n      <g transform=\"translate(23.33125 239.238437)scale(0.1 -0.1)\">\r\n       <defs>\r\n        <path d=\"M 2034 4250 \r\nQ 1547 4250 1301 3770 \r\nQ 1056 3291 1056 2328 \r\nQ 1056 1369 1301 889 \r\nQ 1547 409 2034 409 \r\nQ 2525 409 2770 889 \r\nQ 3016 1369 3016 2328 \r\nQ 3016 3291 2770 3770 \r\nQ 2525 4250 2034 4250 \r\nz\r\nM 2034 4750 \r\nQ 2819 4750 3233 4129 \r\nQ 3647 3509 3647 2328 \r\nQ 3647 1150 3233 529 \r\nQ 2819 -91 2034 -91 \r\nQ 1250 -91 836 529 \r\nQ 422 1150 422 2328 \r\nQ 422 3509 836 4129 \r\nQ 1250 4750 2034 4750 \r\nz\r\n\" id=\"DejaVuSans-30\" transform=\"scale(0.015625)\"/>\r\n        <path d=\"M 684 794 \r\nL 1344 794 \r\nL 1344 0 \r\nL 684 0 \r\nL 684 794 \r\nz\r\n\" id=\"DejaVuSans-2e\" transform=\"scale(0.015625)\"/>\r\n       </defs>\r\n       <use xlink:href=\"#DejaVuSans-30\"/>\r\n       <use x=\"63.623047\" xlink:href=\"#DejaVuSans-2e\"/>\r\n       <use x=\"95.410156\" xlink:href=\"#DejaVuSans-30\"/>\r\n       <use x=\"159.033203\" xlink:href=\"#DejaVuSans-30\"/>\r\n      </g>\r\n     </g>\r\n    </g>\r\n    <g id=\"xtick_2\">\r\n     <g id=\"line2d_2\">\r\n      <g>\r\n       <use style=\"stroke:#000000;stroke-width:0.8;\" x=\"87.009604\" xlink:href=\"#m9c8e089958\" y=\"224.64\"/>\r\n      </g>\r\n     </g>\r\n     <g id=\"text_2\">\r\n      <!-- 0.02 -->\r\n      <g transform=\"translate(75.876791 239.238437)scale(0.1 -0.1)\">\r\n       <defs>\r\n        <path d=\"M 1228 531 \r\nL 3431 531 \r\nL 3431 0 \r\nL 469 0 \r\nL 469 531 \r\nQ 828 903 1448 1529 \r\nQ 2069 2156 2228 2338 \r\nQ 2531 2678 2651 2914 \r\nQ 2772 3150 2772 3378 \r\nQ 2772 3750 2511 3984 \r\nQ 2250 4219 1831 4219 \r\nQ 1534 4219 1204 4116 \r\nQ 875 4013 500 3803 \r\nL 500 4441 \r\nQ 881 4594 1212 4672 \r\nQ 1544 4750 1819 4750 \r\nQ 2544 4750 2975 4387 \r\nQ 3406 4025 3406 3419 \r\nQ 3406 3131 3298 2873 \r\nQ 3191 2616 2906 2266 \r\nQ 2828 2175 2409 1742 \r\nQ 1991 1309 1228 531 \r\nz\r\n\" id=\"DejaVuSans-32\" transform=\"scale(0.015625)\"/>\r\n       </defs>\r\n       <use xlink:href=\"#DejaVuSans-30\"/>\r\n       <use x=\"63.623047\" xlink:href=\"#DejaVuSans-2e\"/>\r\n       <use x=\"95.410156\" xlink:href=\"#DejaVuSans-30\"/>\r\n       <use x=\"159.033203\" xlink:href=\"#DejaVuSans-32\"/>\r\n      </g>\r\n     </g>\r\n    </g>\r\n    <g id=\"xtick_3\">\r\n     <g id=\"line2d_3\">\r\n      <g>\r\n       <use style=\"stroke:#000000;stroke-width:0.8;\" x=\"139.555145\" xlink:href=\"#m9c8e089958\" y=\"224.64\"/>\r\n      </g>\r\n     </g>\r\n     <g id=\"text_3\">\r\n      <!-- 0.04 -->\r\n      <g transform=\"translate(128.422332 239.238437)scale(0.1 -0.1)\">\r\n       <defs>\r\n        <path d=\"M 2419 4116 \r\nL 825 1625 \r\nL 2419 1625 \r\nL 2419 4116 \r\nz\r\nM 2253 4666 \r\nL 3047 4666 \r\nL 3047 1625 \r\nL 3713 1625 \r\nL 3713 1100 \r\nL 3047 1100 \r\nL 3047 0 \r\nL 2419 0 \r\nL 2419 1100 \r\nL 313 1100 \r\nL 313 1709 \r\nL 2253 4666 \r\nz\r\n\" id=\"DejaVuSans-34\" transform=\"scale(0.015625)\"/>\r\n       </defs>\r\n       <use xlink:href=\"#DejaVuSans-30\"/>\r\n       <use x=\"63.623047\" xlink:href=\"#DejaVuSans-2e\"/>\r\n       <use x=\"95.410156\" xlink:href=\"#DejaVuSans-30\"/>\r\n       <use x=\"159.033203\" xlink:href=\"#DejaVuSans-34\"/>\r\n      </g>\r\n     </g>\r\n    </g>\r\n    <g id=\"xtick_4\">\r\n     <g id=\"line2d_4\">\r\n      <g>\r\n       <use style=\"stroke:#000000;stroke-width:0.8;\" x=\"192.100686\" xlink:href=\"#m9c8e089958\" y=\"224.64\"/>\r\n      </g>\r\n     </g>\r\n     <g id=\"text_4\">\r\n      <!-- 0.06 -->\r\n      <g transform=\"translate(180.967874 239.238437)scale(0.1 -0.1)\">\r\n       <defs>\r\n        <path d=\"M 2113 2584 \r\nQ 1688 2584 1439 2293 \r\nQ 1191 2003 1191 1497 \r\nQ 1191 994 1439 701 \r\nQ 1688 409 2113 409 \r\nQ 2538 409 2786 701 \r\nQ 3034 994 3034 1497 \r\nQ 3034 2003 2786 2293 \r\nQ 2538 2584 2113 2584 \r\nz\r\nM 3366 4563 \r\nL 3366 3988 \r\nQ 3128 4100 2886 4159 \r\nQ 2644 4219 2406 4219 \r\nQ 1781 4219 1451 3797 \r\nQ 1122 3375 1075 2522 \r\nQ 1259 2794 1537 2939 \r\nQ 1816 3084 2150 3084 \r\nQ 2853 3084 3261 2657 \r\nQ 3669 2231 3669 1497 \r\nQ 3669 778 3244 343 \r\nQ 2819 -91 2113 -91 \r\nQ 1303 -91 875 529 \r\nQ 447 1150 447 2328 \r\nQ 447 3434 972 4092 \r\nQ 1497 4750 2381 4750 \r\nQ 2619 4750 2861 4703 \r\nQ 3103 4656 3366 4563 \r\nz\r\n\" id=\"DejaVuSans-36\" transform=\"scale(0.015625)\"/>\r\n       </defs>\r\n       <use xlink:href=\"#DejaVuSans-30\"/>\r\n       <use x=\"63.623047\" xlink:href=\"#DejaVuSans-2e\"/>\r\n       <use x=\"95.410156\" xlink:href=\"#DejaVuSans-30\"/>\r\n       <use x=\"159.033203\" xlink:href=\"#DejaVuSans-36\"/>\r\n      </g>\r\n     </g>\r\n    </g>\r\n    <g id=\"xtick_5\">\r\n     <g id=\"line2d_5\">\r\n      <g>\r\n       <use style=\"stroke:#000000;stroke-width:0.8;\" x=\"244.646227\" xlink:href=\"#m9c8e089958\" y=\"224.64\"/>\r\n      </g>\r\n     </g>\r\n     <g id=\"text_5\">\r\n      <!-- 0.08 -->\r\n      <g transform=\"translate(233.513415 239.238437)scale(0.1 -0.1)\">\r\n       <defs>\r\n        <path d=\"M 2034 2216 \r\nQ 1584 2216 1326 1975 \r\nQ 1069 1734 1069 1313 \r\nQ 1069 891 1326 650 \r\nQ 1584 409 2034 409 \r\nQ 2484 409 2743 651 \r\nQ 3003 894 3003 1313 \r\nQ 3003 1734 2745 1975 \r\nQ 2488 2216 2034 2216 \r\nz\r\nM 1403 2484 \r\nQ 997 2584 770 2862 \r\nQ 544 3141 544 3541 \r\nQ 544 4100 942 4425 \r\nQ 1341 4750 2034 4750 \r\nQ 2731 4750 3128 4425 \r\nQ 3525 4100 3525 3541 \r\nQ 3525 3141 3298 2862 \r\nQ 3072 2584 2669 2484 \r\nQ 3125 2378 3379 2068 \r\nQ 3634 1759 3634 1313 \r\nQ 3634 634 3220 271 \r\nQ 2806 -91 2034 -91 \r\nQ 1263 -91 848 271 \r\nQ 434 634 434 1313 \r\nQ 434 1759 690 2068 \r\nQ 947 2378 1403 2484 \r\nz\r\nM 1172 3481 \r\nQ 1172 3119 1398 2916 \r\nQ 1625 2713 2034 2713 \r\nQ 2441 2713 2670 2916 \r\nQ 2900 3119 2900 3481 \r\nQ 2900 3844 2670 4047 \r\nQ 2441 4250 2034 4250 \r\nQ 1625 4250 1398 4047 \r\nQ 1172 3844 1172 3481 \r\nz\r\n\" id=\"DejaVuSans-38\" transform=\"scale(0.015625)\"/>\r\n       </defs>\r\n       <use xlink:href=\"#DejaVuSans-30\"/>\r\n       <use x=\"63.623047\" xlink:href=\"#DejaVuSans-2e\"/>\r\n       <use x=\"95.410156\" xlink:href=\"#DejaVuSans-30\"/>\r\n       <use x=\"159.033203\" xlink:href=\"#DejaVuSans-38\"/>\r\n      </g>\r\n     </g>\r\n    </g>\r\n    <g id=\"xtick_6\">\r\n     <g id=\"line2d_6\">\r\n      <g>\r\n       <use style=\"stroke:#000000;stroke-width:0.8;\" x=\"297.191768\" xlink:href=\"#m9c8e089958\" y=\"224.64\"/>\r\n      </g>\r\n     </g>\r\n     <g id=\"text_6\">\r\n      <!-- 0.10 -->\r\n      <g transform=\"translate(286.058956 239.238437)scale(0.1 -0.1)\">\r\n       <defs>\r\n        <path d=\"M 794 531 \r\nL 1825 531 \r\nL 1825 4091 \r\nL 703 3866 \r\nL 703 4441 \r\nL 1819 4666 \r\nL 2450 4666 \r\nL 2450 531 \r\nL 3481 531 \r\nL 3481 0 \r\nL 794 0 \r\nL 794 531 \r\nz\r\n\" id=\"DejaVuSans-31\" transform=\"scale(0.015625)\"/>\r\n       </defs>\r\n       <use xlink:href=\"#DejaVuSans-30\"/>\r\n       <use x=\"63.623047\" xlink:href=\"#DejaVuSans-2e\"/>\r\n       <use x=\"95.410156\" xlink:href=\"#DejaVuSans-31\"/>\r\n       <use x=\"159.033203\" xlink:href=\"#DejaVuSans-30\"/>\r\n      </g>\r\n     </g>\r\n    </g>\r\n    <g id=\"xtick_7\">\r\n     <g id=\"line2d_7\">\r\n      <g>\r\n       <use style=\"stroke:#000000;stroke-width:0.8;\" x=\"349.73731\" xlink:href=\"#m9c8e089958\" y=\"224.64\"/>\r\n      </g>\r\n     </g>\r\n     <g id=\"text_7\">\r\n      <!-- 0.12 -->\r\n      <g transform=\"translate(338.604497 239.238437)scale(0.1 -0.1)\">\r\n       <use xlink:href=\"#DejaVuSans-30\"/>\r\n       <use x=\"63.623047\" xlink:href=\"#DejaVuSans-2e\"/>\r\n       <use x=\"95.410156\" xlink:href=\"#DejaVuSans-31\"/>\r\n       <use x=\"159.033203\" xlink:href=\"#DejaVuSans-32\"/>\r\n      </g>\r\n     </g>\r\n    </g>\r\n   </g>\r\n   <g id=\"matplotlib.axis_2\">\r\n    <g id=\"ytick_1\">\r\n     <g id=\"line2d_8\">\r\n      <defs>\r\n       <path d=\"M 0 0 \r\nL -3.5 0 \r\n\" id=\"m4e34d8a935\" style=\"stroke:#000000;stroke-width:0.8;\"/>\r\n      </defs>\r\n      <g>\r\n       <use style=\"stroke:#000000;stroke-width:0.8;\" x=\"34.464062\" xlink:href=\"#m4e34d8a935\" y=\"212.269914\"/>\r\n      </g>\r\n     </g>\r\n     <g id=\"text_8\">\r\n      <!-- FP1 -->\r\n      <g transform=\"translate(9.320312 216.069133)scale(0.1 -0.1)\">\r\n       <defs>\r\n        <path d=\"M 628 4666 \r\nL 3309 4666 \r\nL 3309 4134 \r\nL 1259 4134 \r\nL 1259 2759 \r\nL 3109 2759 \r\nL 3109 2228 \r\nL 1259 2228 \r\nL 1259 0 \r\nL 628 0 \r\nL 628 4666 \r\nz\r\n\" id=\"DejaVuSans-46\" transform=\"scale(0.015625)\"/>\r\n        <path d=\"M 1259 4147 \r\nL 1259 2394 \r\nL 2053 2394 \r\nQ 2494 2394 2734 2622 \r\nQ 2975 2850 2975 3272 \r\nQ 2975 3691 2734 3919 \r\nQ 2494 4147 2053 4147 \r\nL 1259 4147 \r\nz\r\nM 628 4666 \r\nL 2053 4666 \r\nQ 2838 4666 3239 4311 \r\nQ 3641 3956 3641 3272 \r\nQ 3641 2581 3239 2228 \r\nQ 2838 1875 2053 1875 \r\nL 1259 1875 \r\nL 1259 0 \r\nL 628 0 \r\nL 628 4666 \r\nz\r\n\" id=\"DejaVuSans-50\" transform=\"scale(0.015625)\"/>\r\n       </defs>\r\n       <use xlink:href=\"#DejaVuSans-46\"/>\r\n       <use x=\"57.519531\" xlink:href=\"#DejaVuSans-50\"/>\r\n       <use x=\"117.822266\" xlink:href=\"#DejaVuSans-31\"/>\r\n      </g>\r\n     </g>\r\n    </g>\r\n    <g id=\"ytick_2\">\r\n     <g id=\"line2d_9\">\r\n      <g>\r\n       <use style=\"stroke:#000000;stroke-width:0.8;\" x=\"34.464062\" xlink:href=\"#m4e34d8a935\" y=\"206.053791\"/>\r\n      </g>\r\n     </g>\r\n     <g id=\"text_9\">\r\n      <!-- AF3 -->\r\n      <g transform=\"translate(8.509375 209.853009)scale(0.1 -0.1)\">\r\n       <defs>\r\n        <path d=\"M 2188 4044 \r\nL 1331 1722 \r\nL 3047 1722 \r\nL 2188 4044 \r\nz\r\nM 1831 4666 \r\nL 2547 4666 \r\nL 4325 0 \r\nL 3669 0 \r\nL 3244 1197 \r\nL 1141 1197 \r\nL 716 0 \r\nL 50 0 \r\nL 1831 4666 \r\nz\r\n\" id=\"DejaVuSans-41\" transform=\"scale(0.015625)\"/>\r\n        <path d=\"M 2597 2516 \r\nQ 3050 2419 3304 2112 \r\nQ 3559 1806 3559 1356 \r\nQ 3559 666 3084 287 \r\nQ 2609 -91 1734 -91 \r\nQ 1441 -91 1130 -33 \r\nQ 819 25 488 141 \r\nL 488 750 \r\nQ 750 597 1062 519 \r\nQ 1375 441 1716 441 \r\nQ 2309 441 2620 675 \r\nQ 2931 909 2931 1356 \r\nQ 2931 1769 2642 2001 \r\nQ 2353 2234 1838 2234 \r\nL 1294 2234 \r\nL 1294 2753 \r\nL 1863 2753 \r\nQ 2328 2753 2575 2939 \r\nQ 2822 3125 2822 3475 \r\nQ 2822 3834 2567 4026 \r\nQ 2313 4219 1838 4219 \r\nQ 1578 4219 1281 4162 \r\nQ 984 4106 628 3988 \r\nL 628 4550 \r\nQ 988 4650 1302 4700 \r\nQ 1616 4750 1894 4750 \r\nQ 2613 4750 3031 4423 \r\nQ 3450 4097 3450 3541 \r\nQ 3450 3153 3228 2886 \r\nQ 3006 2619 2597 2516 \r\nz\r\n\" id=\"DejaVuSans-33\" transform=\"scale(0.015625)\"/>\r\n       </defs>\r\n       <use xlink:href=\"#DejaVuSans-41\"/>\r\n       <use x=\"68.408203\" xlink:href=\"#DejaVuSans-46\"/>\r\n       <use x=\"125.927734\" xlink:href=\"#DejaVuSans-33\"/>\r\n      </g>\r\n     </g>\r\n    </g>\r\n    <g id=\"ytick_3\">\r\n     <g id=\"line2d_10\">\r\n      <g>\r\n       <use style=\"stroke:#000000;stroke-width:0.8;\" x=\"34.464062\" xlink:href=\"#m4e34d8a935\" y=\"199.837667\"/>\r\n      </g>\r\n     </g>\r\n     <g id=\"text_10\">\r\n      <!-- F7 -->\r\n      <g transform=\"translate(15.35 203.636886)scale(0.1 -0.1)\">\r\n       <defs>\r\n        <path d=\"M 525 4666 \r\nL 3525 4666 \r\nL 3525 4397 \r\nL 1831 0 \r\nL 1172 0 \r\nL 2766 4134 \r\nL 525 4134 \r\nL 525 4666 \r\nz\r\n\" id=\"DejaVuSans-37\" transform=\"scale(0.015625)\"/>\r\n       </defs>\r\n       <use xlink:href=\"#DejaVuSans-46\"/>\r\n       <use x=\"57.519531\" xlink:href=\"#DejaVuSans-37\"/>\r\n      </g>\r\n     </g>\r\n    </g>\r\n    <g id=\"ytick_4\">\r\n     <g id=\"line2d_11\">\r\n      <g>\r\n       <use style=\"stroke:#000000;stroke-width:0.8;\" x=\"34.464062\" xlink:href=\"#m4e34d8a935\" y=\"193.621544\"/>\r\n      </g>\r\n     </g>\r\n     <g id=\"text_11\">\r\n      <!-- F3 -->\r\n      <g transform=\"translate(15.35 197.420762)scale(0.1 -0.1)\">\r\n       <use xlink:href=\"#DejaVuSans-46\"/>\r\n       <use x=\"57.519531\" xlink:href=\"#DejaVuSans-33\"/>\r\n      </g>\r\n     </g>\r\n    </g>\r\n    <g id=\"ytick_5\">\r\n     <g id=\"line2d_12\">\r\n      <g>\r\n       <use style=\"stroke:#000000;stroke-width:0.8;\" x=\"34.464062\" xlink:href=\"#m4e34d8a935\" y=\"187.40542\"/>\r\n      </g>\r\n     </g>\r\n     <g id=\"text_12\">\r\n      <!-- FC1 -->\r\n      <g transform=\"translate(8.367187 191.204639)scale(0.1 -0.1)\">\r\n       <defs>\r\n        <path d=\"M 4122 4306 \r\nL 4122 3641 \r\nQ 3803 3938 3442 4084 \r\nQ 3081 4231 2675 4231 \r\nQ 1875 4231 1450 3742 \r\nQ 1025 3253 1025 2328 \r\nQ 1025 1406 1450 917 \r\nQ 1875 428 2675 428 \r\nQ 3081 428 3442 575 \r\nQ 3803 722 4122 1019 \r\nL 4122 359 \r\nQ 3791 134 3420 21 \r\nQ 3050 -91 2638 -91 \r\nQ 1578 -91 968 557 \r\nQ 359 1206 359 2328 \r\nQ 359 3453 968 4101 \r\nQ 1578 4750 2638 4750 \r\nQ 3056 4750 3426 4639 \r\nQ 3797 4528 4122 4306 \r\nz\r\n\" id=\"DejaVuSans-43\" transform=\"scale(0.015625)\"/>\r\n       </defs>\r\n       <use xlink:href=\"#DejaVuSans-46\"/>\r\n       <use x=\"57.519531\" xlink:href=\"#DejaVuSans-43\"/>\r\n       <use x=\"127.34375\" xlink:href=\"#DejaVuSans-31\"/>\r\n      </g>\r\n     </g>\r\n    </g>\r\n    <g id=\"ytick_6\">\r\n     <g id=\"line2d_13\">\r\n      <g>\r\n       <use style=\"stroke:#000000;stroke-width:0.8;\" x=\"34.464062\" xlink:href=\"#m4e34d8a935\" y=\"181.189297\"/>\r\n      </g>\r\n     </g>\r\n     <g id=\"text_13\">\r\n      <!-- FC5 -->\r\n      <g transform=\"translate(8.367187 184.988515)scale(0.1 -0.1)\">\r\n       <defs>\r\n        <path d=\"M 691 4666 \r\nL 3169 4666 \r\nL 3169 4134 \r\nL 1269 4134 \r\nL 1269 2991 \r\nQ 1406 3038 1543 3061 \r\nQ 1681 3084 1819 3084 \r\nQ 2600 3084 3056 2656 \r\nQ 3513 2228 3513 1497 \r\nQ 3513 744 3044 326 \r\nQ 2575 -91 1722 -91 \r\nQ 1428 -91 1123 -41 \r\nQ 819 9 494 109 \r\nL 494 744 \r\nQ 775 591 1075 516 \r\nQ 1375 441 1709 441 \r\nQ 2250 441 2565 725 \r\nQ 2881 1009 2881 1497 \r\nQ 2881 1984 2565 2268 \r\nQ 2250 2553 1709 2553 \r\nQ 1456 2553 1204 2497 \r\nQ 953 2441 691 2322 \r\nL 691 4666 \r\nz\r\n\" id=\"DejaVuSans-35\" transform=\"scale(0.015625)\"/>\r\n       </defs>\r\n       <use xlink:href=\"#DejaVuSans-46\"/>\r\n       <use x=\"57.519531\" xlink:href=\"#DejaVuSans-43\"/>\r\n       <use x=\"127.34375\" xlink:href=\"#DejaVuSans-35\"/>\r\n      </g>\r\n     </g>\r\n    </g>\r\n    <g id=\"ytick_7\">\r\n     <g id=\"line2d_14\">\r\n      <g>\r\n       <use style=\"stroke:#000000;stroke-width:0.8;\" x=\"34.464062\" xlink:href=\"#m4e34d8a935\" y=\"174.973173\"/>\r\n      </g>\r\n     </g>\r\n     <g id=\"text_14\">\r\n      <!-- T7 -->\r\n      <g transform=\"translate(14.99375 178.772392)scale(0.1 -0.1)\">\r\n       <defs>\r\n        <path d=\"M -19 4666 \r\nL 3928 4666 \r\nL 3928 4134 \r\nL 2272 4134 \r\nL 2272 0 \r\nL 1638 0 \r\nL 1638 4134 \r\nL -19 4134 \r\nL -19 4666 \r\nz\r\n\" id=\"DejaVuSans-54\" transform=\"scale(0.015625)\"/>\r\n       </defs>\r\n       <use xlink:href=\"#DejaVuSans-54\"/>\r\n       <use x=\"61.083984\" xlink:href=\"#DejaVuSans-37\"/>\r\n      </g>\r\n     </g>\r\n    </g>\r\n    <g id=\"ytick_8\">\r\n     <g id=\"line2d_15\">\r\n      <g>\r\n       <use style=\"stroke:#000000;stroke-width:0.8;\" x=\"34.464062\" xlink:href=\"#m4e34d8a935\" y=\"168.75705\"/>\r\n      </g>\r\n     </g>\r\n     <g id=\"text_15\">\r\n      <!-- C3 -->\r\n      <g transform=\"translate(14.11875 172.556268)scale(0.1 -0.1)\">\r\n       <use xlink:href=\"#DejaVuSans-43\"/>\r\n       <use x=\"69.824219\" xlink:href=\"#DejaVuSans-33\"/>\r\n      </g>\r\n     </g>\r\n    </g>\r\n    <g id=\"ytick_9\">\r\n     <g id=\"line2d_16\">\r\n      <g>\r\n       <use style=\"stroke:#000000;stroke-width:0.8;\" x=\"34.464062\" xlink:href=\"#m4e34d8a935\" y=\"162.540926\"/>\r\n      </g>\r\n     </g>\r\n     <g id=\"text_16\">\r\n      <!-- CP1 -->\r\n      <g transform=\"translate(8.089062 166.340145)scale(0.1 -0.1)\">\r\n       <use xlink:href=\"#DejaVuSans-43\"/>\r\n       <use x=\"69.824219\" xlink:href=\"#DejaVuSans-50\"/>\r\n       <use x=\"130.126953\" xlink:href=\"#DejaVuSans-31\"/>\r\n      </g>\r\n     </g>\r\n    </g>\r\n    <g id=\"ytick_10\">\r\n     <g id=\"line2d_17\">\r\n      <g>\r\n       <use style=\"stroke:#000000;stroke-width:0.8;\" x=\"34.464062\" xlink:href=\"#m4e34d8a935\" y=\"156.324803\"/>\r\n      </g>\r\n     </g>\r\n     <g id=\"text_17\">\r\n      <!-- CP5 -->\r\n      <g transform=\"translate(8.089062 160.124021)scale(0.1 -0.1)\">\r\n       <use xlink:href=\"#DejaVuSans-43\"/>\r\n       <use x=\"69.824219\" xlink:href=\"#DejaVuSans-50\"/>\r\n       <use x=\"130.126953\" xlink:href=\"#DejaVuSans-35\"/>\r\n      </g>\r\n     </g>\r\n    </g>\r\n    <g id=\"ytick_11\">\r\n     <g id=\"line2d_18\">\r\n      <g>\r\n       <use style=\"stroke:#000000;stroke-width:0.8;\" x=\"34.464062\" xlink:href=\"#m4e34d8a935\" y=\"150.108679\"/>\r\n      </g>\r\n     </g>\r\n     <g id=\"text_18\">\r\n      <!-- P7 -->\r\n      <g transform=\"translate(15.071875 153.907898)scale(0.1 -0.1)\">\r\n       <use xlink:href=\"#DejaVuSans-50\"/>\r\n       <use x=\"60.302734\" xlink:href=\"#DejaVuSans-37\"/>\r\n      </g>\r\n     </g>\r\n    </g>\r\n    <g id=\"ytick_12\">\r\n     <g id=\"line2d_19\">\r\n      <g>\r\n       <use style=\"stroke:#000000;stroke-width:0.8;\" x=\"34.464062\" xlink:href=\"#m4e34d8a935\" y=\"143.892556\"/>\r\n      </g>\r\n     </g>\r\n     <g id=\"text_19\">\r\n      <!-- P3 -->\r\n      <g transform=\"translate(15.071875 147.691774)scale(0.1 -0.1)\">\r\n       <use xlink:href=\"#DejaVuSans-50\"/>\r\n       <use x=\"60.302734\" xlink:href=\"#DejaVuSans-33\"/>\r\n      </g>\r\n     </g>\r\n    </g>\r\n    <g id=\"ytick_13\">\r\n     <g id=\"line2d_20\">\r\n      <g>\r\n       <use style=\"stroke:#000000;stroke-width:0.8;\" x=\"34.464062\" xlink:href=\"#m4e34d8a935\" y=\"137.676432\"/>\r\n      </g>\r\n     </g>\r\n     <g id=\"text_20\">\r\n      <!-- Pz -->\r\n      <g transform=\"translate(16.185937 141.475651)scale(0.1 -0.1)\">\r\n       <defs>\r\n        <path d=\"M 353 3500 \r\nL 3084 3500 \r\nL 3084 2975 \r\nL 922 459 \r\nL 3084 459 \r\nL 3084 0 \r\nL 275 0 \r\nL 275 525 \r\nL 2438 3041 \r\nL 353 3041 \r\nL 353 3500 \r\nz\r\n\" id=\"DejaVuSans-7a\" transform=\"scale(0.015625)\"/>\r\n       </defs>\r\n       <use xlink:href=\"#DejaVuSans-50\"/>\r\n       <use x=\"60.302734\" xlink:href=\"#DejaVuSans-7a\"/>\r\n      </g>\r\n     </g>\r\n    </g>\r\n    <g id=\"ytick_14\">\r\n     <g id=\"line2d_21\">\r\n      <g>\r\n       <use style=\"stroke:#000000;stroke-width:0.8;\" x=\"34.464062\" xlink:href=\"#m4e34d8a935\" y=\"131.460309\"/>\r\n      </g>\r\n     </g>\r\n     <g id=\"text_21\">\r\n      <!-- PO3 -->\r\n      <g transform=\"translate(7.2 135.259527)scale(0.1 -0.1)\">\r\n       <defs>\r\n        <path d=\"M 2522 4238 \r\nQ 1834 4238 1429 3725 \r\nQ 1025 3213 1025 2328 \r\nQ 1025 1447 1429 934 \r\nQ 1834 422 2522 422 \r\nQ 3209 422 3611 934 \r\nQ 4013 1447 4013 2328 \r\nQ 4013 3213 3611 3725 \r\nQ 3209 4238 2522 4238 \r\nz\r\nM 2522 4750 \r\nQ 3503 4750 4090 4092 \r\nQ 4678 3434 4678 2328 \r\nQ 4678 1225 4090 567 \r\nQ 3503 -91 2522 -91 \r\nQ 1538 -91 948 565 \r\nQ 359 1222 359 2328 \r\nQ 359 3434 948 4092 \r\nQ 1538 4750 2522 4750 \r\nz\r\n\" id=\"DejaVuSans-4f\" transform=\"scale(0.015625)\"/>\r\n       </defs>\r\n       <use xlink:href=\"#DejaVuSans-50\"/>\r\n       <use x=\"60.302734\" xlink:href=\"#DejaVuSans-4f\"/>\r\n       <use x=\"139.013672\" xlink:href=\"#DejaVuSans-33\"/>\r\n      </g>\r\n     </g>\r\n    </g>\r\n    <g id=\"ytick_15\">\r\n     <g id=\"line2d_22\">\r\n      <g>\r\n       <use style=\"stroke:#000000;stroke-width:0.8;\" x=\"34.464062\" xlink:href=\"#m4e34d8a935\" y=\"125.244185\"/>\r\n      </g>\r\n     </g>\r\n     <g id=\"text_22\">\r\n      <!-- O1 -->\r\n      <g transform=\"translate(13.229687 129.043404)scale(0.1 -0.1)\">\r\n       <use xlink:href=\"#DejaVuSans-4f\"/>\r\n       <use x=\"78.710938\" xlink:href=\"#DejaVuSans-31\"/>\r\n      </g>\r\n     </g>\r\n    </g>\r\n    <g id=\"ytick_16\">\r\n     <g id=\"line2d_23\">\r\n      <g>\r\n       <use style=\"stroke:#000000;stroke-width:0.8;\" x=\"34.464062\" xlink:href=\"#m4e34d8a935\" y=\"119.028062\"/>\r\n      </g>\r\n     </g>\r\n     <g id=\"text_23\">\r\n      <!-- Oz -->\r\n      <g transform=\"translate(14.34375 122.82728)scale(0.1 -0.1)\">\r\n       <use xlink:href=\"#DejaVuSans-4f\"/>\r\n       <use x=\"78.710938\" xlink:href=\"#DejaVuSans-7a\"/>\r\n      </g>\r\n     </g>\r\n    </g>\r\n    <g id=\"ytick_17\">\r\n     <g id=\"line2d_24\">\r\n      <g>\r\n       <use style=\"stroke:#000000;stroke-width:0.8;\" x=\"34.464062\" xlink:href=\"#m4e34d8a935\" y=\"112.811938\"/>\r\n      </g>\r\n     </g>\r\n     <g id=\"text_24\">\r\n      <!-- O2 -->\r\n      <g transform=\"translate(13.229687 116.611157)scale(0.1 -0.1)\">\r\n       <use xlink:href=\"#DejaVuSans-4f\"/>\r\n       <use x=\"78.710938\" xlink:href=\"#DejaVuSans-32\"/>\r\n      </g>\r\n     </g>\r\n    </g>\r\n    <g id=\"ytick_18\">\r\n     <g id=\"line2d_25\">\r\n      <g>\r\n       <use style=\"stroke:#000000;stroke-width:0.8;\" x=\"34.464062\" xlink:href=\"#m4e34d8a935\" y=\"106.595815\"/>\r\n      </g>\r\n     </g>\r\n     <g id=\"text_25\">\r\n      <!-- PO4 -->\r\n      <g transform=\"translate(7.2 110.395034)scale(0.1 -0.1)\">\r\n       <use xlink:href=\"#DejaVuSans-50\"/>\r\n       <use x=\"60.302734\" xlink:href=\"#DejaVuSans-4f\"/>\r\n       <use x=\"139.013672\" xlink:href=\"#DejaVuSans-34\"/>\r\n      </g>\r\n     </g>\r\n    </g>\r\n    <g id=\"ytick_19\">\r\n     <g id=\"line2d_26\">\r\n      <g>\r\n       <use style=\"stroke:#000000;stroke-width:0.8;\" x=\"34.464062\" xlink:href=\"#m4e34d8a935\" y=\"100.379691\"/>\r\n      </g>\r\n     </g>\r\n     <g id=\"text_26\">\r\n      <!-- P4 -->\r\n      <g transform=\"translate(15.071875 104.17891)scale(0.1 -0.1)\">\r\n       <use xlink:href=\"#DejaVuSans-50\"/>\r\n       <use x=\"60.302734\" xlink:href=\"#DejaVuSans-34\"/>\r\n      </g>\r\n     </g>\r\n    </g>\r\n    <g id=\"ytick_20\">\r\n     <g id=\"line2d_27\">\r\n      <g>\r\n       <use style=\"stroke:#000000;stroke-width:0.8;\" x=\"34.464062\" xlink:href=\"#m4e34d8a935\" y=\"94.163568\"/>\r\n      </g>\r\n     </g>\r\n     <g id=\"text_27\">\r\n      <!-- P8 -->\r\n      <g transform=\"translate(15.071875 97.962787)scale(0.1 -0.1)\">\r\n       <use xlink:href=\"#DejaVuSans-50\"/>\r\n       <use x=\"60.302734\" xlink:href=\"#DejaVuSans-38\"/>\r\n      </g>\r\n     </g>\r\n    </g>\r\n    <g id=\"ytick_21\">\r\n     <g id=\"line2d_28\">\r\n      <g>\r\n       <use style=\"stroke:#000000;stroke-width:0.8;\" x=\"34.464062\" xlink:href=\"#m4e34d8a935\" y=\"87.947444\"/>\r\n      </g>\r\n     </g>\r\n     <g id=\"text_28\">\r\n      <!-- CP6 -->\r\n      <g transform=\"translate(8.089062 91.746663)scale(0.1 -0.1)\">\r\n       <use xlink:href=\"#DejaVuSans-43\"/>\r\n       <use x=\"69.824219\" xlink:href=\"#DejaVuSans-50\"/>\r\n       <use x=\"130.126953\" xlink:href=\"#DejaVuSans-36\"/>\r\n      </g>\r\n     </g>\r\n    </g>\r\n    <g id=\"ytick_22\">\r\n     <g id=\"line2d_29\">\r\n      <g>\r\n       <use style=\"stroke:#000000;stroke-width:0.8;\" x=\"34.464062\" xlink:href=\"#m4e34d8a935\" y=\"81.731321\"/>\r\n      </g>\r\n     </g>\r\n     <g id=\"text_29\">\r\n      <!-- CP2 -->\r\n      <g transform=\"translate(8.089062 85.53054)scale(0.1 -0.1)\">\r\n       <use xlink:href=\"#DejaVuSans-43\"/>\r\n       <use x=\"69.824219\" xlink:href=\"#DejaVuSans-50\"/>\r\n       <use x=\"130.126953\" xlink:href=\"#DejaVuSans-32\"/>\r\n      </g>\r\n     </g>\r\n    </g>\r\n    <g id=\"ytick_23\">\r\n     <g id=\"line2d_30\">\r\n      <g>\r\n       <use style=\"stroke:#000000;stroke-width:0.8;\" x=\"34.464062\" xlink:href=\"#m4e34d8a935\" y=\"75.515197\"/>\r\n      </g>\r\n     </g>\r\n     <g id=\"text_30\">\r\n      <!-- C4 -->\r\n      <g transform=\"translate(14.11875 79.314416)scale(0.1 -0.1)\">\r\n       <use xlink:href=\"#DejaVuSans-43\"/>\r\n       <use x=\"69.824219\" xlink:href=\"#DejaVuSans-34\"/>\r\n      </g>\r\n     </g>\r\n    </g>\r\n    <g id=\"ytick_24\">\r\n     <g id=\"line2d_31\">\r\n      <g>\r\n       <use style=\"stroke:#000000;stroke-width:0.8;\" x=\"34.464062\" xlink:href=\"#m4e34d8a935\" y=\"69.299074\"/>\r\n      </g>\r\n     </g>\r\n     <g id=\"text_31\">\r\n      <!-- T8 -->\r\n      <g transform=\"translate(14.99375 73.098293)scale(0.1 -0.1)\">\r\n       <use xlink:href=\"#DejaVuSans-54\"/>\r\n       <use x=\"61.083984\" xlink:href=\"#DejaVuSans-38\"/>\r\n      </g>\r\n     </g>\r\n    </g>\r\n    <g id=\"ytick_25\">\r\n     <g id=\"line2d_32\">\r\n      <g>\r\n       <use style=\"stroke:#000000;stroke-width:0.8;\" x=\"34.464062\" xlink:href=\"#m4e34d8a935\" y=\"63.08295\"/>\r\n      </g>\r\n     </g>\r\n     <g id=\"text_32\">\r\n      <!-- FC6 -->\r\n      <g transform=\"translate(8.367187 66.882169)scale(0.1 -0.1)\">\r\n       <use xlink:href=\"#DejaVuSans-46\"/>\r\n       <use x=\"57.519531\" xlink:href=\"#DejaVuSans-43\"/>\r\n       <use x=\"127.34375\" xlink:href=\"#DejaVuSans-36\"/>\r\n      </g>\r\n     </g>\r\n    </g>\r\n    <g id=\"ytick_26\">\r\n     <g id=\"line2d_33\">\r\n      <g>\r\n       <use style=\"stroke:#000000;stroke-width:0.8;\" x=\"34.464062\" xlink:href=\"#m4e34d8a935\" y=\"56.866827\"/>\r\n      </g>\r\n     </g>\r\n     <g id=\"text_33\">\r\n      <!-- FC2 -->\r\n      <g transform=\"translate(8.367187 60.666046)scale(0.1 -0.1)\">\r\n       <use xlink:href=\"#DejaVuSans-46\"/>\r\n       <use x=\"57.519531\" xlink:href=\"#DejaVuSans-43\"/>\r\n       <use x=\"127.34375\" xlink:href=\"#DejaVuSans-32\"/>\r\n      </g>\r\n     </g>\r\n    </g>\r\n    <g id=\"ytick_27\">\r\n     <g id=\"line2d_34\">\r\n      <g>\r\n       <use style=\"stroke:#000000;stroke-width:0.8;\" x=\"34.464062\" xlink:href=\"#m4e34d8a935\" y=\"50.650703\"/>\r\n      </g>\r\n     </g>\r\n     <g id=\"text_34\">\r\n      <!-- F4 -->\r\n      <g transform=\"translate(15.35 54.449922)scale(0.1 -0.1)\">\r\n       <use xlink:href=\"#DejaVuSans-46\"/>\r\n       <use x=\"57.519531\" xlink:href=\"#DejaVuSans-34\"/>\r\n      </g>\r\n     </g>\r\n    </g>\r\n    <g id=\"ytick_28\">\r\n     <g id=\"line2d_35\">\r\n      <g>\r\n       <use style=\"stroke:#000000;stroke-width:0.8;\" x=\"34.464062\" xlink:href=\"#m4e34d8a935\" y=\"44.43458\"/>\r\n      </g>\r\n     </g>\r\n     <g id=\"text_35\">\r\n      <!-- F8 -->\r\n      <g transform=\"translate(15.35 48.233799)scale(0.1 -0.1)\">\r\n       <use xlink:href=\"#DejaVuSans-46\"/>\r\n       <use x=\"57.519531\" xlink:href=\"#DejaVuSans-38\"/>\r\n      </g>\r\n     </g>\r\n    </g>\r\n    <g id=\"ytick_29\">\r\n     <g id=\"line2d_36\">\r\n      <g>\r\n       <use style=\"stroke:#000000;stroke-width:0.8;\" x=\"34.464062\" xlink:href=\"#m4e34d8a935\" y=\"38.218456\"/>\r\n      </g>\r\n     </g>\r\n     <g id=\"text_36\">\r\n      <!-- AF4 -->\r\n      <g transform=\"translate(8.509375 42.017675)scale(0.1 -0.1)\">\r\n       <use xlink:href=\"#DejaVuSans-41\"/>\r\n       <use x=\"68.408203\" xlink:href=\"#DejaVuSans-46\"/>\r\n       <use x=\"125.927734\" xlink:href=\"#DejaVuSans-34\"/>\r\n      </g>\r\n     </g>\r\n    </g>\r\n    <g id=\"ytick_30\">\r\n     <g id=\"line2d_37\">\r\n      <g>\r\n       <use style=\"stroke:#000000;stroke-width:0.8;\" x=\"34.464062\" xlink:href=\"#m4e34d8a935\" y=\"32.002333\"/>\r\n      </g>\r\n     </g>\r\n     <g id=\"text_37\">\r\n      <!-- Fp2 -->\r\n      <g transform=\"translate(9.001562 35.801552)scale(0.1 -0.1)\">\r\n       <defs>\r\n        <path d=\"M 1159 525 \r\nL 1159 -1331 \r\nL 581 -1331 \r\nL 581 3500 \r\nL 1159 3500 \r\nL 1159 2969 \r\nQ 1341 3281 1617 3432 \r\nQ 1894 3584 2278 3584 \r\nQ 2916 3584 3314 3078 \r\nQ 3713 2572 3713 1747 \r\nQ 3713 922 3314 415 \r\nQ 2916 -91 2278 -91 \r\nQ 1894 -91 1617 61 \r\nQ 1341 213 1159 525 \r\nz\r\nM 3116 1747 \r\nQ 3116 2381 2855 2742 \r\nQ 2594 3103 2138 3103 \r\nQ 1681 3103 1420 2742 \r\nQ 1159 2381 1159 1747 \r\nQ 1159 1113 1420 752 \r\nQ 1681 391 2138 391 \r\nQ 2594 391 2855 752 \r\nQ 3116 1113 3116 1747 \r\nz\r\n\" id=\"DejaVuSans-70\" transform=\"scale(0.015625)\"/>\r\n       </defs>\r\n       <use xlink:href=\"#DejaVuSans-46\"/>\r\n       <use x=\"57.519531\" xlink:href=\"#DejaVuSans-70\"/>\r\n       <use x=\"120.996094\" xlink:href=\"#DejaVuSans-32\"/>\r\n      </g>\r\n     </g>\r\n    </g>\r\n    <g id=\"ytick_31\">\r\n     <g id=\"line2d_38\">\r\n      <g>\r\n       <use style=\"stroke:#000000;stroke-width:0.8;\" x=\"34.464062\" xlink:href=\"#m4e34d8a935\" y=\"25.786209\"/>\r\n      </g>\r\n     </g>\r\n     <g id=\"text_38\">\r\n      <!-- Fz -->\r\n      <g transform=\"translate(16.464062 29.585428)scale(0.1 -0.1)\">\r\n       <use xlink:href=\"#DejaVuSans-46\"/>\r\n       <use x=\"57.519531\" xlink:href=\"#DejaVuSans-7a\"/>\r\n      </g>\r\n     </g>\r\n    </g>\r\n    <g id=\"ytick_32\">\r\n     <g id=\"line2d_39\">\r\n      <g>\r\n       <use style=\"stroke:#000000;stroke-width:0.8;\" x=\"34.464062\" xlink:href=\"#m4e34d8a935\" y=\"19.570086\"/>\r\n      </g>\r\n     </g>\r\n     <g id=\"text_39\">\r\n      <!-- Cz -->\r\n      <g transform=\"translate(15.232812 23.369305)scale(0.1 -0.1)\">\r\n       <use xlink:href=\"#DejaVuSans-43\"/>\r\n       <use x=\"69.824219\" xlink:href=\"#DejaVuSans-7a\"/>\r\n      </g>\r\n     </g>\r\n    </g>\r\n   </g>\r\n   <g id=\"patch_35\">\r\n    <path d=\"M 34.464062 224.64 \r\nL 34.464062 7.2 \r\n\" style=\"fill:none;stroke:#000000;stroke-linecap:square;stroke-linejoin:miter;stroke-width:0.8;\"/>\r\n   </g>\r\n   <g id=\"patch_36\">\r\n    <path d=\"M 369.264063 224.64 \r\nL 369.264063 7.2 \r\n\" style=\"fill:none;stroke:#000000;stroke-linecap:square;stroke-linejoin:miter;stroke-width:0.8;\"/>\r\n   </g>\r\n   <g id=\"patch_37\">\r\n    <path d=\"M 34.464062 224.64 \r\nL 369.264063 224.64 \r\n\" style=\"fill:none;stroke:#000000;stroke-linecap:square;stroke-linejoin:miter;stroke-width:0.8;\"/>\r\n   </g>\r\n   <g id=\"patch_38\">\r\n    <path d=\"M 34.464062 7.2 \r\nL 369.264063 7.2 \r\n\" style=\"fill:none;stroke:#000000;stroke-linecap:square;stroke-linejoin:miter;stroke-width:0.8;\"/>\r\n   </g>\r\n  </g>\r\n </g>\r\n <defs>\r\n  <clipPath id=\"p906e5c65eb\">\r\n   <rect height=\"217.44\" width=\"334.8\" x=\"34.464062\" y=\"7.2\"/>\r\n  </clipPath>\r\n </defs>\r\n</svg>\r\n",
      "image/png": "[encoded data removed]"
     },
     "metadata": {
      "needs_background": "light"
     }
    }
   ],
   "source": [
    "print(clf.feature_importances_)\n",
    "plt.barh(['FP1','AF3','F7','F3','FC1','FC5','T7','C3','CP1','CP5','P7','P3','Pz','PO3','O1','Oz','O2','PO4','P4','P8','CP6','CP2','C4','T8','FC6','FC2','F4','F8','AF4','Fp2','Fz','Cz'], clf.feature_importances_)"
   ]
  },
  {
   "cell_type": "code",
   "execution_count": 25,
   "metadata": {},
   "outputs": [],
   "source": [
    "importances = clf.feature_importances_\n",
    "df_importances = pd.DataFrame(importances, ['FP1','AF3','F7','F3','FC1','FC5','T7','C3','CP1','CP5','P7','P3','Pz','PO3','O1','Oz','O2','PO4','P4','P8','CP6','CP2','C4','T8','FC6','FC2','F4','F8','AF4','Fp2','Fz','Cz'])\n",
    "df_importances.columns = ['eeg']"
   ]
  },
  {
   "cell_type": "code",
   "execution_count": 26,
   "metadata": {},
   "outputs": [
    {
     "output_type": "execute_result",
     "data": {
      "text/plain": [
       "Index(['F4', 'CP5', 'AF4', 'Fz', 'P7', 'FC5', 'C4', 'T7'], dtype='object')"
      ]
     },
     "metadata": {},
     "execution_count": 26
    }
   ],
   "source": [
    "res = df_importances.nlargest(8, 'eeg').index\n",
    "res"
   ]
  },
  {
   "source": [
    "#  Construímos un DF con los canales que tienen más peso en el algoritmo de RandomForest"
   ],
   "cell_type": "markdown",
   "metadata": {}
  },
  {
   "cell_type": "code",
   "execution_count": 27,
   "metadata": {},
   "outputs": [
    {
     "output_type": "execute_result",
     "data": {
      "text/plain": [
       "            T8       CP1        T7       FC5       CP6       CP2       AF4  \\\n",
       "0     0.022990  0.035829  0.016513  0.048092  0.072331  0.039226  0.035371   \n",
       "1     0.022990  0.035829  0.016513  0.048092  0.072331  0.039226  0.035371   \n",
       "2     0.022990  0.035829  0.016513  0.048092  0.072331  0.039226  0.035371   \n",
       "3     0.022990  0.035829  0.016513  0.048092  0.072331  0.039226  0.035371   \n",
       "4     0.022990  0.035829  0.016513  0.048092  0.072331  0.039226  0.035371   \n",
       "...        ...       ...       ...       ...       ...       ...       ...   \n",
       "2555  0.008985  0.038232  0.006908  0.051700  0.010121  0.004297  0.056188   \n",
       "2556  0.008985  0.038232  0.006908  0.051700  0.010121  0.004297  0.056188   \n",
       "2557  0.008985  0.038232  0.006908  0.051700  0.010121  0.004297  0.056188   \n",
       "2558  0.008985  0.038232  0.006908  0.051700  0.010121  0.004297  0.056188   \n",
       "2559  0.008985  0.038232  0.006908  0.051700  0.010121  0.004297  0.056188   \n",
       "\n",
       "            P4  valence  \n",
       "0     0.025074     7.71  \n",
       "1     0.025074     7.71  \n",
       "2     0.025074     7.71  \n",
       "3     0.025074     7.71  \n",
       "4     0.025074     7.71  \n",
       "...        ...      ...  \n",
       "2555  0.050412     5.10  \n",
       "2556  0.050412     5.10  \n",
       "2557  0.050412     5.10  \n",
       "2558  0.050412     5.10  \n",
       "2559  0.050412     5.10  \n",
       "\n",
       "[2560 rows x 9 columns]"
      ],
      "text/html": "<div>\n<style scoped>\n    .dataframe tbody tr th:only-of-type {\n        vertical-align: middle;\n    }\n\n    .dataframe tbody tr th {\n        vertical-align: top;\n    }\n\n    .dataframe thead th {\n        text-align: right;\n    }\n</style>\n<table border=\"1\" class=\"dataframe\">\n  <thead>\n    <tr style=\"text-align: right;\">\n      <th></th>\n      <th>T8</th>\n      <th>CP1</th>\n      <th>T7</th>\n      <th>FC5</th>\n      <th>CP6</th>\n      <th>CP2</th>\n      <th>AF4</th>\n      <th>P4</th>\n      <th>valence</th>\n    </tr>\n  </thead>\n  <tbody>\n    <tr>\n      <th>0</th>\n      <td>0.022990</td>\n      <td>0.035829</td>\n      <td>0.016513</td>\n      <td>0.048092</td>\n      <td>0.072331</td>\n      <td>0.039226</td>\n      <td>0.035371</td>\n      <td>0.025074</td>\n      <td>7.71</td>\n    </tr>\n    <tr>\n      <th>1</th>\n      <td>0.022990</td>\n      <td>0.035829</td>\n      <td>0.016513</td>\n      <td>0.048092</td>\n      <td>0.072331</td>\n      <td>0.039226</td>\n      <td>0.035371</td>\n      <td>0.025074</td>\n      <td>7.71</td>\n    </tr>\n    <tr>\n      <th>2</th>\n      <td>0.022990</td>\n      <td>0.035829</td>\n      <td>0.016513</td>\n      <td>0.048092</td>\n      <td>0.072331</td>\n      <td>0.039226</td>\n      <td>0.035371</td>\n      <td>0.025074</td>\n      <td>7.71</td>\n    </tr>\n    <tr>\n      <th>3</th>\n      <td>0.022990</td>\n      <td>0.035829</td>\n      <td>0.016513</td>\n      <td>0.048092</td>\n      <td>0.072331</td>\n      <td>0.039226</td>\n      <td>0.035371</td>\n      <td>0.025074</td>\n      <td>7.71</td>\n    </tr>\n    <tr>\n      <th>4</th>\n      <td>0.022990</td>\n      <td>0.035829</td>\n      <td>0.016513</td>\n      <td>0.048092</td>\n      <td>0.072331</td>\n      <td>0.039226</td>\n      <td>0.035371</td>\n      <td>0.025074</td>\n      <td>7.71</td>\n    </tr>\n    <tr>\n      <th>...</th>\n      <td>...</td>\n      <td>...</td>\n      <td>...</td>\n      <td>...</td>\n      <td>...</td>\n      <td>...</td>\n      <td>...</td>\n      <td>...</td>\n      <td>...</td>\n    </tr>\n    <tr>\n      <th>2555</th>\n      <td>0.008985</td>\n      <td>0.038232</td>\n      <td>0.006908</td>\n      <td>0.051700</td>\n      <td>0.010121</td>\n      <td>0.004297</td>\n      <td>0.056188</td>\n      <td>0.050412</td>\n      <td>5.10</td>\n    </tr>\n    <tr>\n      <th>2556</th>\n      <td>0.008985</td>\n      <td>0.038232</td>\n      <td>0.006908</td>\n      <td>0.051700</td>\n      <td>0.010121</td>\n      <td>0.004297</td>\n      <td>0.056188</td>\n      <td>0.050412</td>\n      <td>5.10</td>\n    </tr>\n    <tr>\n      <th>2557</th>\n      <td>0.008985</td>\n      <td>0.038232</td>\n      <td>0.006908</td>\n      <td>0.051700</td>\n      <td>0.010121</td>\n      <td>0.004297</td>\n      <td>0.056188</td>\n      <td>0.050412</td>\n      <td>5.10</td>\n    </tr>\n    <tr>\n      <th>2558</th>\n      <td>0.008985</td>\n      <td>0.038232</td>\n      <td>0.006908</td>\n      <td>0.051700</td>\n      <td>0.010121</td>\n      <td>0.004297</td>\n      <td>0.056188</td>\n      <td>0.050412</td>\n      <td>5.10</td>\n    </tr>\n    <tr>\n      <th>2559</th>\n      <td>0.008985</td>\n      <td>0.038232</td>\n      <td>0.006908</td>\n      <td>0.051700</td>\n      <td>0.010121</td>\n      <td>0.004297</td>\n      <td>0.056188</td>\n      <td>0.050412</td>\n      <td>5.10</td>\n    </tr>\n  </tbody>\n</table>\n<p>2560 rows × 9 columns</p>\n</div>"
     },
     "metadata": {},
     "execution_count": 27
    }
   ],
   "source": [
    "main_eeg = pd.DataFrame(data=data_delta, columns=['T8', 'CP1', 'T7', 'FC5', 'CP6', 'CP2', 'AF4', 'P4', 'valence'])\n",
    "main_eeg"
   ]
  },
  {
   "cell_type": "code",
   "execution_count": 28,
   "metadata": {},
   "outputs": [
    {
     "output_type": "stream",
     "name": "stderr",
     "text": [
      "<ipython-input-28-345efb67eada>:16: DataConversionWarning: A column-vector y was passed when a 1d array was expected. Please change the shape of y to (n_samples,), for example using ravel().\n",
      "  clf.fit(xTrain, yTrain)\n",
      "[Parallel(n_jobs=5)]: Using backend ThreadingBackend with 5 concurrent workers.\n",
      "[Parallel(n_jobs=5)]: Done  40 tasks      | elapsed:    0.0s\n",
      "[Parallel(n_jobs=5)]: Done 100 out of 100 | elapsed:    0.1s finished\n",
      "[Parallel(n_jobs=5)]: Using backend ThreadingBackend with 5 concurrent workers.\n",
      "[Parallel(n_jobs=5)]: Done  40 tasks      | elapsed:    0.0s\n",
      "[Parallel(n_jobs=5)]: Done 100 out of 100 | elapsed:    0.0s finished\n"
     ]
    },
    {
     "output_type": "execute_result",
     "data": {
      "text/plain": [
       "77.1484375"
      ]
     },
     "metadata": {},
     "execution_count": 28
    }
   ],
   "source": [
    "    main_eeg['valence'] = np.where(main_eeg['valence'] >5, 'happy', 'sad')\n",
    "\n",
    "    from sklearn.model_selection import train_test_split\n",
    "\n",
    "    copia = main_eeg.copy()\n",
    "\n",
    "    y = copia[['valence']]\n",
    "\n",
    "    x = copia.drop(columns=['valence'])\n",
    "\n",
    "    xTrain, xTest, yTrain, yTest = train_test_split(x,y, test_size = 0.2, random_state = 1)\n",
    "\n",
    "    from sklearn.ensemble import RandomForestClassifier\n",
    "\n",
    "    clf = RandomForestClassifier(max_depth=2, random_state=0, verbose=1, n_jobs=5)\n",
    "    clf.fit(xTrain, yTrain)\n",
    "\n",
    "    predict = clf.predict(xTest)\n",
    "\n",
    "    from sklearn.metrics import accuracy_score\n",
    "    \n",
    "    acc2 = accuracy_score(yTest, predict)*100\n",
    "    acc2"
   ]
  },
  {
   "cell_type": "code",
   "execution_count": 29,
   "metadata": {},
   "outputs": [
    {
     "output_type": "execute_result",
     "data": {
      "text/plain": [
       "6.25"
      ]
     },
     "metadata": {},
     "execution_count": 29
    }
   ],
   "source": [
    "acc1 - acc2"
   ]
  },
  {
   "source": [
    "# Observamos que con 8 canales sólo, la precisión disminuye en un 1.95%, cuando maxdepth = 2\n",
    "# Cuando maxdepth == 3, la diferencia aumenta a un 3.52%, desde 87.109375 hasta 83.59375"
   ],
   "cell_type": "markdown",
   "metadata": {}
  },
  {
   "cell_type": "code",
   "execution_count": null,
   "metadata": {},
   "outputs": [],
   "source": [
    "- Probar otros clasificadores (SVM)\n",
    "- Parametros de los clasificadores : https://medium.com/all-things-ai/in-depth-parameter-tuning-for-random-forest-d67bb7e920d\n",
    "- Resumen, extended abstract (2000 palabras en inglés: un poco más de la introducción), estado del arte (BCI, emociones fisiológicamente... SAML, estado del arte de lo que se ha hecho general, estado del arte específicamente), análisis (objetivos y metodología), solución del trabajo (he seleccionado esta bd... resultados), experimentos\n",
    "- Experimentos : canales preprocesados solo, por bandas, disitntos algoritmos, para un video todas las bandas, seleccion de canales, selección de características (canales, bandas... con distintos algotritmos), si hay tiempo probar también con otras etiquetas"
   ]
  }
 ]
}